{
 "cells": [
  {
   "cell_type": "markdown",
   "source": [
    "# Introduction to Regression with Neural Network in TensorFlow"
   ],
   "metadata": {
    "collapsed": false,
    "pycharm": {
     "name": "#%% md\n"
    }
   }
  },
  {
   "cell_type": "code",
   "execution_count": 1,
   "metadata": {
    "collapsed": true,
    "pycharm": {
     "name": "#%%\n"
    }
   },
   "outputs": [
    {
     "name": "stdout",
     "output_type": "stream",
     "text": [
      "2.10.0\n"
     ]
    }
   ],
   "source": [
    "import tensorflow as tf\n",
    "print(tf.__version__)"
   ]
  },
  {
   "cell_type": "markdown",
   "source": [
    "# Create some data to view and fit"
   ],
   "metadata": {
    "collapsed": false,
    "pycharm": {
     "name": "#%% md\n"
    }
   }
  },
  {
   "cell_type": "code",
   "execution_count": 2,
   "outputs": [
    {
     "data": {
      "text/plain": "<matplotlib.collections.PathCollection at 0x231b31c7ca0>"
     },
     "execution_count": 2,
     "metadata": {},
     "output_type": "execute_result"
    },
    {
     "data": {
      "text/plain": "<Figure size 640x480 with 1 Axes>",
      "image/png": "[encoded data removed]"
     },
     "metadata": {},
     "output_type": "display_data"
    }
   ],
   "source": [
    "import numpy as np\n",
    "import matplotlib.pyplot as plt\n",
    "\n",
    "# Create features\n",
    "X = np.array([-7.0, -4.0, -1.0, 2.0, 5.0, 8.0, 11.0, 14.0])\n",
    "\n",
    "# Create labels\n",
    "y = np.array([3.0, 6.0, 9.0, 12.0, 15.0, 18.0, 21.0, 24.0])\n",
    "\n",
    "# Visualize it\n",
    "\n",
    "plt.scatter(X, y)"
   ],
   "metadata": {
    "collapsed": false,
    "pycharm": {
     "name": "#%%\n"
    }
   }
  },
  {
   "cell_type": "code",
   "execution_count": 3,
   "outputs": [
    {
     "data": {
      "text/plain": "array([ True,  True,  True,  True,  True,  True,  True,  True])"
     },
     "execution_count": 3,
     "metadata": {},
     "output_type": "execute_result"
    }
   ],
   "source": [
    "y == X + 10"
   ],
   "metadata": {
    "collapsed": false,
    "pycharm": {
     "name": "#%%\n"
    }
   }
  },
  {
   "cell_type": "markdown",
   "source": [
    "# Input and output shapes"
   ],
   "metadata": {
    "collapsed": false,
    "pycharm": {
     "name": "#%% md\n"
    }
   }
  },
  {
   "cell_type": "code",
   "execution_count": 4,
   "outputs": [
    {
     "data": {
      "text/plain": "(<tf.Tensor: shape=(3,), dtype=string, numpy=array([b'bedroom', b'bathroom', b'garage'], dtype=object)>,\n <tf.Tensor: shape=(1,), dtype=int32, numpy=array([939700])>)"
     },
     "execution_count": 4,
     "metadata": {},
     "output_type": "execute_result"
    }
   ],
   "source": [
    "# Create a demo tensor for our housing price prediction problem\n",
    "house_info = tf.constant([\"bedroom\", \"bathroom\", \"garage\"])\n",
    "house_price = tf.constant([939700])\n",
    "house_info, house_price"
   ],
   "metadata": {
    "collapsed": false,
    "pycharm": {
     "name": "#%%\n"
    }
   }
  },
  {
   "cell_type": "code",
   "execution_count": 5,
   "outputs": [
    {
     "data": {
      "text/plain": "((8,), (8,))"
     },
     "execution_count": 5,
     "metadata": {},
     "output_type": "execute_result"
    }
   ],
   "source": [
    "input_shape = X.shape\n",
    "output_shape = y.shape\n",
    "input_shape, output_shape"
   ],
   "metadata": {
    "collapsed": false,
    "pycharm": {
     "name": "#%%\n"
    }
   }
  },
  {
   "cell_type": "code",
   "execution_count": 6,
   "outputs": [],
   "source": [
    "# Turn our NumPy arrays into Tensors with dtype float32\n",
    "X = tf.cast(tf.constant(X), dtype=tf.float32)\n",
    "y = tf.cast(tf.constant(y), dtype=tf.float32)"
   ],
   "metadata": {
    "collapsed": false,
    "pycharm": {
     "name": "#%%\n"
    }
   }
  },
  {
   "cell_type": "markdown",
   "source": [
    "# Steps in modelling with TensorFlow\n",
    "1. **Creating a model** - define the input and output layers, as well as the hidden layers of a deep learning model\n",
    "2. **Compiling a model** - define the loss function (in other words, the function which tells our model how wrong it is) and the optimizer (tells our model how to improve the patterns its learning) and evaluation metrics (what we can use to interpret the performance of our model).\n",
    "3. **Fitting a model** - letting the model try to find patterns between X & y (features and labels).\n",
    "4. **Evaluating a model** - use a model's predictions to evaluate its performance."
   ],
   "metadata": {
    "collapsed": false,
    "pycharm": {
     "name": "#%% md\n"
    }
   }
  },
  {
   "cell_type": "code",
   "execution_count": 7,
   "outputs": [
    {
     "data": {
      "text/plain": "<tf.Tensor: shape=(8, 1), dtype=float32, numpy=\narray([[-7.],\n       [-4.],\n       [-1.],\n       [ 2.],\n       [ 5.],\n       [ 8.],\n       [11.],\n       [14.]], dtype=float32)>"
     },
     "execution_count": 7,
     "metadata": {},
     "output_type": "execute_result"
    }
   ],
   "source": [
    "tf.expand_dims(X, axis=-1)"
   ],
   "metadata": {
    "collapsed": false,
    "pycharm": {
     "name": "#%%\n"
    }
   }
  },
  {
   "cell_type": "code",
   "execution_count": 8,
   "outputs": [
    {
     "name": "stdout",
     "output_type": "stream",
     "text": [
      "Epoch 1/5\n",
      "1/1 [==============================] - 1s 828ms/step - loss: 16.2682 - mae: 16.2682\n",
      "Epoch 2/5\n",
      "1/1 [==============================] - 0s 4ms/step - loss: 15.9870 - mae: 15.9870\n",
      "Epoch 3/5\n",
      "1/1 [==============================] - 0s 5ms/step - loss: 15.7057 - mae: 15.7057\n",
      "Epoch 4/5\n",
      "1/1 [==============================] - 0s 5ms/step - loss: 15.4245 - mae: 15.4245\n",
      "Epoch 5/5\n",
      "1/1 [==============================] - 0s 4ms/step - loss: 15.1432 - mae: 15.1432\n"
     ]
    },
    {
     "data": {
      "text/plain": "<keras.callbacks.History at 0x231b5476a00>"
     },
     "execution_count": 8,
     "metadata": {},
     "output_type": "execute_result"
    }
   ],
   "source": [
    "# Set random seed\n",
    "tf.random.set_seed(42)\n",
    "# 1. Create a model using the Sequential API\n",
    "model = tf.keras.Sequential()\n",
    "model.add(tf.keras.layers.Dense(1))\n",
    "\n",
    "# 2. Compile the model\n",
    "model.compile(loss=tf.keras.losses.mae, # mean absolute error\n",
    "              optimizer=tf.keras.optimizers.SGD(), # stochastic gradient descent\n",
    "              metrics=[\"mae\"])\n",
    "\n",
    "# 3. Fit the model\n",
    "model.fit(tf.expand_dims(X, axis=-1), y, epochs=5)"
   ],
   "metadata": {
    "collapsed": false,
    "pycharm": {
     "name": "#%%\n"
    }
   }
  },
  {
   "cell_type": "code",
   "execution_count": 9,
   "outputs": [
    {
     "data": {
      "text/plain": "(<tf.Tensor: shape=(8,), dtype=float32, numpy=array([-7., -4., -1.,  2.,  5.,  8., 11., 14.], dtype=float32)>,\n <tf.Tensor: shape=(8,), dtype=float32, numpy=array([ 3.,  6.,  9., 12., 15., 18., 21., 24.], dtype=float32)>)"
     },
     "execution_count": 9,
     "metadata": {},
     "output_type": "execute_result"
    }
   ],
   "source": [
    "# Check out X and y\n",
    "X, y"
   ],
   "metadata": {
    "collapsed": false,
    "pycharm": {
     "name": "#%%\n"
    }
   }
  },
  {
   "cell_type": "code",
   "execution_count": 10,
   "outputs": [
    {
     "name": "stdout",
     "output_type": "stream",
     "text": [
      "1/1 [==============================] - 0s 82ms/step\n"
     ]
    },
    {
     "data": {
      "text/plain": "array([[-6.892404]], dtype=float32)"
     },
     "execution_count": 10,
     "metadata": {},
     "output_type": "execute_result"
    }
   ],
   "source": [
    "# Try and make a prediction using our model\n",
    "y_pred = model.predict([17.0])\n",
    "y_pred"
   ],
   "metadata": {
    "collapsed": false,
    "pycharm": {
     "name": "#%%\n"
    }
   }
  },
  {
   "cell_type": "markdown",
   "source": [
    "## Improving our model\n",
    "We can improve our model, by altering the steps we took to create a model.\n",
    "1. **Creating a model** - here we might add more layers, increase the number of hidden units (also called neurons) within each of the hidden layers, change the activation function of each layer.\n",
    "2. **Compiling a model** - here we might change the optimization function or perhaps the **learning rate** of the optimization function.\n",
    "3. **Fitting a model** - here we might fit a model for more **epochs** (leave it training for longer) or on more data (give the model more examples to learn from)."
   ],
   "metadata": {
    "collapsed": false,
    "pycharm": {
     "name": "#%% md\n"
    }
   }
  },
  {
   "cell_type": "code",
   "execution_count": 11,
   "outputs": [
    {
     "name": "stdout",
     "output_type": "stream",
     "text": [
      "Epoch 1/100\n",
      "1/1 [==============================] - 0s 236ms/step - loss: 15.2255 - mae: 15.2255\n",
      "Epoch 2/100\n",
      "1/1 [==============================] - 0s 5ms/step - loss: 14.9591 - mae: 14.9591\n",
      "Epoch 3/100\n",
      "1/1 [==============================] - 0s 5ms/step - loss: 14.8266 - mae: 14.8266\n",
      "Epoch 4/100\n",
      "1/1 [==============================] - 0s 4ms/step - loss: 14.6941 - mae: 14.6941\n",
      "Epoch 5/100\n",
      "1/1 [==============================] - 0s 5ms/step - loss: 14.5616 - mae: 14.5616\n",
      "Epoch 6/100\n",
      "1/1 [==============================] - 0s 6ms/step - loss: 14.4291 - mae: 14.4291\n",
      "Epoch 7/100\n",
      "1/1 [==============================] - 0s 6ms/step - loss: 14.2966 - mae: 14.2966\n",
      "Epoch 8/100\n",
      "1/1 [==============================] - 0s 5ms/step - loss: 14.1641 - mae: 14.1641\n",
      "Epoch 9/100\n",
      "1/1 [==============================] - 0s 6ms/step - loss: 14.0316 - mae: 14.0316\n",
      "Epoch 10/100\n",
      "1/1 [==============================] - 0s 5ms/step - loss: 13.8991 - mae: 13.8991\n",
      "Epoch 11/100\n",
      "1/1 [==============================] - 0s 7ms/step - loss: 13.7666 - mae: 13.7666\n",
      "Epoch 12/100\n",
      "1/1 [==============================] - 0s 5ms/step - loss: 13.6341 - mae: 13.6341\n",
      "Epoch 13/100\n",
      "1/1 [==============================] - 0s 4ms/step - loss: 13.5016 - mae: 13.5016\n",
      "Epoch 14/100\n",
      "1/1 [==============================] - 0s 5ms/step - loss: 13.3691 - mae: 13.3691\n",
      "Epoch 15/100\n",
      "1/1 [==============================] - 0s 5ms/step - loss: 13.2366 - mae: 13.2366\n",
      "Epoch 16/100\n",
      "1/1 [==============================] - 0s 4ms/step - loss: 13.1041 - mae: 13.1041\n",
      "Epoch 17/100\n",
      "1/1 [==============================] - 0s 4ms/step - loss: 12.9716 - mae: 12.9716\n",
      "Epoch 18/100\n",
      "1/1 [==============================] - 0s 4ms/step - loss: 12.8391 - mae: 12.8391\n",
      "Epoch 19/100\n",
      "1/1 [==============================] - 0s 5ms/step - loss: 12.7066 - mae: 12.7066\n",
      "Epoch 20/100\n",
      "1/1 [==============================] - 0s 4ms/step - loss: 12.5741 - mae: 12.5741\n",
      "Epoch 21/100\n",
      "1/1 [==============================] - 0s 4ms/step - loss: 12.4416 - mae: 12.4416\n",
      "Epoch 22/100\n",
      "1/1 [==============================] - 0s 4ms/step - loss: 12.3091 - mae: 12.3091\n",
      "Epoch 23/100\n",
      "1/1 [==============================] - 0s 5ms/step - loss: 12.1766 - mae: 12.1766\n",
      "Epoch 24/100\n",
      "1/1 [==============================] - 0s 5ms/step - loss: 12.0441 - mae: 12.0441\n",
      "Epoch 25/100\n",
      "1/1 [==============================] - 0s 4ms/step - loss: 11.9116 - mae: 11.9116\n",
      "Epoch 26/100\n",
      "1/1 [==============================] - 0s 4ms/step - loss: 11.7791 - mae: 11.7791\n",
      "Epoch 27/100\n",
      "1/1 [==============================] - 0s 4ms/step - loss: 11.6466 - mae: 11.6466\n",
      "Epoch 28/100\n",
      "1/1 [==============================] - 0s 5ms/step - loss: 11.5141 - mae: 11.5141\n",
      "Epoch 29/100\n",
      "1/1 [==============================] - 0s 5ms/step - loss: 11.3816 - mae: 11.3816\n",
      "Epoch 30/100\n",
      "1/1 [==============================] - 0s 5ms/step - loss: 11.2491 - mae: 11.2491\n",
      "Epoch 31/100\n",
      "1/1 [==============================] - 0s 4ms/step - loss: 11.1166 - mae: 11.1166\n",
      "Epoch 32/100\n",
      "1/1 [==============================] - 0s 6ms/step - loss: 10.9841 - mae: 10.9841\n",
      "Epoch 33/100\n",
      "1/1 [==============================] - 0s 4ms/step - loss: 10.8516 - mae: 10.8516\n",
      "Epoch 34/100\n",
      "1/1 [==============================] - 0s 6ms/step - loss: 10.7191 - mae: 10.7191\n",
      "Epoch 35/100\n",
      "1/1 [==============================] - 0s 4ms/step - loss: 10.5866 - mae: 10.5866\n",
      "Epoch 36/100\n",
      "1/1 [==============================] - 0s 4ms/step - loss: 10.4541 - mae: 10.4541\n",
      "Epoch 37/100\n",
      "1/1 [==============================] - 0s 4ms/step - loss: 10.3216 - mae: 10.3216\n",
      "Epoch 38/100\n",
      "1/1 [==============================] - 0s 5ms/step - loss: 10.1891 - mae: 10.1891\n",
      "Epoch 39/100\n",
      "1/1 [==============================] - 0s 6ms/step - loss: 10.0566 - mae: 10.0566\n",
      "Epoch 40/100\n",
      "1/1 [==============================] - 0s 4ms/step - loss: 9.9241 - mae: 9.9241\n",
      "Epoch 41/100\n",
      "1/1 [==============================] - 0s 4ms/step - loss: 9.7916 - mae: 9.7916\n",
      "Epoch 42/100\n",
      "1/1 [==============================] - 0s 4ms/step - loss: 9.6591 - mae: 9.6591\n",
      "Epoch 43/100\n",
      "1/1 [==============================] - 0s 4ms/step - loss: 9.5266 - mae: 9.5266\n",
      "Epoch 44/100\n",
      "1/1 [==============================] - 0s 5ms/step - loss: 9.3941 - mae: 9.3941\n",
      "Epoch 45/100\n",
      "1/1 [==============================] - 0s 4ms/step - loss: 9.2616 - mae: 9.2616\n",
      "Epoch 46/100\n",
      "1/1 [==============================] - 0s 5ms/step - loss: 9.1291 - mae: 9.1291\n",
      "Epoch 47/100\n",
      "1/1 [==============================] - 0s 5ms/step - loss: 8.9966 - mae: 8.9966\n",
      "Epoch 48/100\n",
      "1/1 [==============================] - 0s 4ms/step - loss: 8.8641 - mae: 8.8641\n",
      "Epoch 49/100\n",
      "1/1 [==============================] - 0s 6ms/step - loss: 8.7316 - mae: 8.7316\n",
      "Epoch 50/100\n",
      "1/1 [==============================] - 0s 3ms/step - loss: 8.5991 - mae: 8.5991\n",
      "Epoch 51/100\n",
      "1/1 [==============================] - 0s 4ms/step - loss: 8.4666 - mae: 8.4666\n",
      "Epoch 52/100\n",
      "1/1 [==============================] - 0s 4ms/step - loss: 8.3341 - mae: 8.3341\n",
      "Epoch 53/100\n",
      "1/1 [==============================] - 0s 3ms/step - loss: 8.2016 - mae: 8.2016\n",
      "Epoch 54/100\n",
      "1/1 [==============================] - 0s 4ms/step - loss: 8.0691 - mae: 8.0691\n",
      "Epoch 55/100\n",
      "1/1 [==============================] - 0s 5ms/step - loss: 7.9366 - mae: 7.9366\n",
      "Epoch 56/100\n",
      "1/1 [==============================] - 0s 4ms/step - loss: 7.8041 - mae: 7.8041\n",
      "Epoch 57/100\n",
      "1/1 [==============================] - 0s 5ms/step - loss: 7.6716 - mae: 7.6716\n",
      "Epoch 58/100\n",
      "1/1 [==============================] - 0s 5ms/step - loss: 7.5391 - mae: 7.5391\n",
      "Epoch 59/100\n",
      "1/1 [==============================] - 0s 4ms/step - loss: 7.4066 - mae: 7.4066\n",
      "Epoch 60/100\n",
      "1/1 [==============================] - 0s 5ms/step - loss: 7.2741 - mae: 7.2741\n",
      "Epoch 61/100\n",
      "1/1 [==============================] - 0s 4ms/step - loss: 7.1416 - mae: 7.1416\n",
      "Epoch 62/100\n",
      "1/1 [==============================] - 0s 5ms/step - loss: 7.0444 - mae: 7.0444\n",
      "Epoch 63/100\n",
      "1/1 [==============================] - 0s 4ms/step - loss: 7.0387 - mae: 7.0387\n",
      "Epoch 64/100\n",
      "1/1 [==============================] - 0s 5ms/step - loss: 7.0331 - mae: 7.0331\n",
      "Epoch 65/100\n",
      "1/1 [==============================] - 0s 4ms/step - loss: 7.0275 - mae: 7.0275\n",
      "Epoch 66/100\n",
      "1/1 [==============================] - 0s 4ms/step - loss: 7.0219 - mae: 7.0219\n",
      "Epoch 67/100\n",
      "1/1 [==============================] - 0s 5ms/step - loss: 7.0163 - mae: 7.0163\n",
      "Epoch 68/100\n",
      "1/1 [==============================] - 0s 4ms/step - loss: 7.0106 - mae: 7.0106\n",
      "Epoch 69/100\n",
      "1/1 [==============================] - 0s 3ms/step - loss: 7.0050 - mae: 7.0050\n",
      "Epoch 70/100\n",
      "1/1 [==============================] - 0s 5ms/step - loss: 6.9994 - mae: 6.9994\n",
      "Epoch 71/100\n",
      "1/1 [==============================] - 0s 3ms/step - loss: 6.9938 - mae: 6.9938\n",
      "Epoch 72/100\n",
      "1/1 [==============================] - 0s 5ms/step - loss: 6.9881 - mae: 6.9881\n",
      "Epoch 73/100\n",
      "1/1 [==============================] - 0s 4ms/step - loss: 6.9825 - mae: 6.9825\n",
      "Epoch 74/100\n",
      "1/1 [==============================] - 0s 5ms/step - loss: 6.9769 - mae: 6.9769\n",
      "Epoch 75/100\n",
      "1/1 [==============================] - 0s 4ms/step - loss: 6.9713 - mae: 6.9713\n",
      "Epoch 76/100\n",
      "1/1 [==============================] - 0s 5ms/step - loss: 6.9656 - mae: 6.9656\n",
      "Epoch 77/100\n",
      "1/1 [==============================] - 0s 3ms/step - loss: 6.9600 - mae: 6.9600\n",
      "Epoch 78/100\n",
      "1/1 [==============================] - 0s 4ms/step - loss: 6.9544 - mae: 6.9544\n",
      "Epoch 79/100\n",
      "1/1 [==============================] - 0s 5ms/step - loss: 6.9488 - mae: 6.9488\n",
      "Epoch 80/100\n",
      "1/1 [==============================] - 0s 5ms/step - loss: 6.9431 - mae: 6.9431\n",
      "Epoch 81/100\n",
      "1/1 [==============================] - 0s 4ms/step - loss: 6.9375 - mae: 6.9375\n",
      "Epoch 82/100\n",
      "1/1 [==============================] - 0s 5ms/step - loss: 6.9319 - mae: 6.9319\n",
      "Epoch 83/100\n",
      "1/1 [==============================] - 0s 3ms/step - loss: 6.9263 - mae: 6.9263\n",
      "Epoch 84/100\n",
      "1/1 [==============================] - 0s 4ms/step - loss: 6.9206 - mae: 6.9206\n",
      "Epoch 85/100\n",
      "1/1 [==============================] - 0s 5ms/step - loss: 6.9150 - mae: 6.9150\n",
      "Epoch 86/100\n",
      "1/1 [==============================] - 0s 3ms/step - loss: 6.9094 - mae: 6.9094\n",
      "Epoch 87/100\n",
      "1/1 [==============================] - 0s 5ms/step - loss: 6.9038 - mae: 6.9038\n",
      "Epoch 88/100\n",
      "1/1 [==============================] - 0s 5ms/step - loss: 6.8981 - mae: 6.8981\n",
      "Epoch 89/100\n",
      "1/1 [==============================] - 0s 4ms/step - loss: 6.8925 - mae: 6.8925\n",
      "Epoch 90/100\n",
      "1/1 [==============================] - 0s 5ms/step - loss: 6.8869 - mae: 6.8869\n",
      "Epoch 91/100\n",
      "1/1 [==============================] - 0s 6ms/step - loss: 6.8813 - mae: 6.8813\n",
      "Epoch 92/100\n",
      "1/1 [==============================] - 0s 5ms/step - loss: 6.8756 - mae: 6.8756\n",
      "Epoch 93/100\n",
      "1/1 [==============================] - 0s 4ms/step - loss: 6.8700 - mae: 6.8700\n",
      "Epoch 94/100\n",
      "1/1 [==============================] - 0s 5ms/step - loss: 6.8644 - mae: 6.8644\n",
      "Epoch 95/100\n",
      "1/1 [==============================] - 0s 4ms/step - loss: 6.8588 - mae: 6.8588\n",
      "Epoch 96/100\n",
      "1/1 [==============================] - 0s 5ms/step - loss: 6.8531 - mae: 6.8531\n",
      "Epoch 97/100\n",
      "1/1 [==============================] - 0s 4ms/step - loss: 6.8475 - mae: 6.8475\n",
      "Epoch 98/100\n",
      "1/1 [==============================] - 0s 4ms/step - loss: 6.8419 - mae: 6.8419\n",
      "Epoch 99/100\n",
      "1/1 [==============================] - 0s 5ms/step - loss: 6.8363 - mae: 6.8363\n",
      "Epoch 100/100\n",
      "1/1 [==============================] - 0s 4ms/step - loss: 6.8306 - mae: 6.8306\n"
     ]
    },
    {
     "data": {
      "text/plain": "<keras.callbacks.History at 0x231b5548370>"
     },
     "execution_count": 11,
     "metadata": {},
     "output_type": "execute_result"
    }
   ],
   "source": [
    "# Let's rebuild our model\n",
    "# 1. Create the model\n",
    "model = tf.keras.Sequential()\n",
    "model.add(tf.keras.layers.Dense(1))\n",
    "\n",
    "# 2. Compile the model\n",
    "model.compile(loss=tf.keras.losses.mae,\n",
    "              optimizer=tf.keras.optimizers.SGD(),\n",
    "              metrics=[\"mae\"])\n",
    "# 3. Fit the model\n",
    "model.fit(tf.expand_dims(X, axis=-1), y, epochs=100)"
   ],
   "metadata": {
    "collapsed": false,
    "pycharm": {
     "name": "#%%\n"
    }
   }
  },
  {
   "cell_type": "code",
   "execution_count": 12,
   "outputs": [
    {
     "data": {
      "text/plain": "(<tf.Tensor: shape=(8,), dtype=float32, numpy=array([-7., -4., -1.,  2.,  5.,  8., 11., 14.], dtype=float32)>,\n <tf.Tensor: shape=(8,), dtype=float32, numpy=array([ 3.,  6.,  9., 12., 15., 18., 21., 24.], dtype=float32)>)"
     },
     "execution_count": 12,
     "metadata": {},
     "output_type": "execute_result"
    }
   ],
   "source": [
    "# Remind ourselves of the data\n",
    "X, y"
   ],
   "metadata": {
    "collapsed": false,
    "pycharm": {
     "name": "#%%\n"
    }
   }
  },
  {
   "cell_type": "code",
   "execution_count": 13,
   "outputs": [
    {
     "name": "stdout",
     "output_type": "stream",
     "text": [
      "1/1 [==============================] - 0s 55ms/step\n"
     ]
    },
    {
     "data": {
      "text/plain": "array([[29.476553]], dtype=float32)"
     },
     "execution_count": 13,
     "metadata": {},
     "output_type": "execute_result"
    }
   ],
   "source": [
    "# Let's see if our model's prediction has improved...\n",
    "model.predict([17.0])"
   ],
   "metadata": {
    "collapsed": false,
    "pycharm": {
     "name": "#%%\n"
    }
   }
  },
  {
   "cell_type": "markdown",
   "source": [
    "# Experimenting 1 to improve our model"
   ],
   "metadata": {
    "collapsed": false,
    "pycharm": {
     "name": "#%% md\n"
    }
   }
  },
  {
   "cell_type": "code",
   "execution_count": 14,
   "outputs": [
    {
     "name": "stdout",
     "output_type": "stream",
     "text": [
      "Epoch 1/100\n",
      "1/1 [==============================] - 0s 312ms/step - loss: 13.8955 - mae: 13.8955\n",
      "Epoch 2/100\n",
      "1/1 [==============================] - 0s 5ms/step - loss: 13.4554 - mae: 13.4554\n",
      "Epoch 3/100\n",
      "1/1 [==============================] - 0s 6ms/step - loss: 13.0189 - mae: 13.0189\n",
      "Epoch 4/100\n",
      "1/1 [==============================] - 0s 5ms/step - loss: 12.5851 - mae: 12.5851\n",
      "Epoch 5/100\n",
      "1/1 [==============================] - 0s 4ms/step - loss: 12.1525 - mae: 12.1525\n",
      "Epoch 6/100\n",
      "1/1 [==============================] - 0s 8ms/step - loss: 11.7204 - mae: 11.7204\n",
      "Epoch 7/100\n",
      "1/1 [==============================] - 0s 4ms/step - loss: 11.2883 - mae: 11.2883\n",
      "Epoch 8/100\n",
      "1/1 [==============================] - 0s 5ms/step - loss: 10.8559 - mae: 10.8559\n",
      "Epoch 9/100\n",
      "1/1 [==============================] - 0s 4ms/step - loss: 10.4226 - mae: 10.4226\n",
      "Epoch 10/100\n",
      "1/1 [==============================] - 0s 6ms/step - loss: 9.9877 - mae: 9.9877\n",
      "Epoch 11/100\n",
      "1/1 [==============================] - 0s 5ms/step - loss: 9.5507 - mae: 9.5507\n",
      "Epoch 12/100\n",
      "1/1 [==============================] - 0s 4ms/step - loss: 9.1106 - mae: 9.1106\n",
      "Epoch 13/100\n",
      "1/1 [==============================] - 0s 4ms/step - loss: 8.6664 - mae: 8.6664\n",
      "Epoch 14/100\n",
      "1/1 [==============================] - 0s 5ms/step - loss: 8.2171 - mae: 8.2171\n",
      "Epoch 15/100\n",
      "1/1 [==============================] - 0s 7ms/step - loss: 7.7615 - mae: 7.7615\n",
      "Epoch 16/100\n",
      "1/1 [==============================] - 0s 5ms/step - loss: 7.2985 - mae: 7.2985\n",
      "Epoch 17/100\n",
      "1/1 [==============================] - 0s 6ms/step - loss: 6.8268 - mae: 6.8268\n",
      "Epoch 18/100\n",
      "1/1 [==============================] - 0s 6ms/step - loss: 6.5683 - mae: 6.5683\n",
      "Epoch 19/100\n",
      "1/1 [==============================] - 0s 6ms/step - loss: 6.5196 - mae: 6.5196\n",
      "Epoch 20/100\n",
      "1/1 [==============================] - 0s 4ms/step - loss: 6.7050 - mae: 6.7050\n",
      "Epoch 21/100\n",
      "1/1 [==============================] - 0s 6ms/step - loss: 6.8359 - mae: 6.8359\n",
      "Epoch 22/100\n",
      "1/1 [==============================] - 0s 5ms/step - loss: 6.9175 - mae: 6.9175\n",
      "Epoch 23/100\n",
      "1/1 [==============================] - 0s 5ms/step - loss: 6.9551 - mae: 6.9551\n",
      "Epoch 24/100\n",
      "1/1 [==============================] - 0s 4ms/step - loss: 6.9536 - mae: 6.9536\n",
      "Epoch 25/100\n",
      "1/1 [==============================] - 0s 5ms/step - loss: 6.9176 - mae: 6.9176\n",
      "Epoch 26/100\n",
      "1/1 [==============================] - 0s 6ms/step - loss: 6.8515 - mae: 6.8515\n",
      "Epoch 27/100\n",
      "1/1 [==============================] - 0s 3ms/step - loss: 6.7593 - mae: 6.7593\n",
      "Epoch 28/100\n",
      "1/1 [==============================] - 0s 4ms/step - loss: 6.6446 - mae: 6.6446\n",
      "Epoch 29/100\n",
      "1/1 [==============================] - 0s 5ms/step - loss: 6.5107 - mae: 6.5107\n",
      "Epoch 30/100\n",
      "1/1 [==============================] - 0s 3ms/step - loss: 6.3606 - mae: 6.3606\n",
      "Epoch 31/100\n",
      "1/1 [==============================] - 0s 4ms/step - loss: 6.1969 - mae: 6.1969\n",
      "Epoch 32/100\n",
      "1/1 [==============================] - 0s 5ms/step - loss: 6.0219 - mae: 6.0219\n",
      "Epoch 33/100\n",
      "1/1 [==============================] - 0s 5ms/step - loss: 5.8719 - mae: 5.8719\n",
      "Epoch 34/100\n",
      "1/1 [==============================] - 0s 5ms/step - loss: 5.8361 - mae: 5.8361\n",
      "Epoch 35/100\n",
      "1/1 [==============================] - 0s 4ms/step - loss: 5.7968 - mae: 5.7968\n",
      "Epoch 36/100\n",
      "1/1 [==============================] - 0s 5ms/step - loss: 5.7542 - mae: 5.7542\n",
      "Epoch 37/100\n",
      "1/1 [==============================] - 0s 5ms/step - loss: 5.7777 - mae: 5.7777\n",
      "Epoch 38/100\n",
      "1/1 [==============================] - 0s 5ms/step - loss: 5.7686 - mae: 5.7686\n",
      "Epoch 39/100\n",
      "1/1 [==============================] - 0s 4ms/step - loss: 5.6947 - mae: 5.6947\n",
      "Epoch 40/100\n",
      "1/1 [==============================] - 0s 4ms/step - loss: 5.5630 - mae: 5.5630\n",
      "Epoch 41/100\n",
      "1/1 [==============================] - 0s 5ms/step - loss: 5.4477 - mae: 5.4477\n",
      "Epoch 42/100\n",
      "1/1 [==============================] - 0s 5ms/step - loss: 5.3704 - mae: 5.3704\n",
      "Epoch 43/100\n",
      "1/1 [==============================] - 0s 6ms/step - loss: 5.2914 - mae: 5.2914\n",
      "Epoch 44/100\n",
      "1/1 [==============================] - 0s 4ms/step - loss: 5.2105 - mae: 5.2105\n",
      "Epoch 45/100\n",
      "1/1 [==============================] - 0s 6ms/step - loss: 5.1369 - mae: 5.1369\n",
      "Epoch 46/100\n",
      "1/1 [==============================] - 0s 4ms/step - loss: 5.1064 - mae: 5.1064\n",
      "Epoch 47/100\n",
      "1/1 [==============================] - 0s 4ms/step - loss: 5.0466 - mae: 5.0466\n",
      "Epoch 48/100\n",
      "1/1 [==============================] - 0s 6ms/step - loss: 4.9600 - mae: 4.9600\n",
      "Epoch 49/100\n",
      "1/1 [==============================] - 0s 5ms/step - loss: 4.8487 - mae: 4.8487\n",
      "Epoch 50/100\n",
      "1/1 [==============================] - 0s 5ms/step - loss: 4.7614 - mae: 4.7614\n",
      "Epoch 51/100\n",
      "1/1 [==============================] - 0s 4ms/step - loss: 4.6891 - mae: 4.6891\n",
      "Epoch 52/100\n",
      "1/1 [==============================] - 0s 5ms/step - loss: 4.6125 - mae: 4.6125\n",
      "Epoch 53/100\n",
      "1/1 [==============================] - 0s 5ms/step - loss: 4.5318 - mae: 4.5318\n",
      "Epoch 54/100\n",
      "1/1 [==============================] - 0s 5ms/step - loss: 4.4468 - mae: 4.4468\n",
      "Epoch 55/100\n",
      "1/1 [==============================] - 0s 4ms/step - loss: 4.3577 - mae: 4.3577\n",
      "Epoch 56/100\n",
      "1/1 [==============================] - 0s 5ms/step - loss: 4.2644 - mae: 4.2644\n",
      "Epoch 57/100\n",
      "1/1 [==============================] - 0s 5ms/step - loss: 4.1669 - mae: 4.1669\n",
      "Epoch 58/100\n",
      "1/1 [==============================] - 0s 4ms/step - loss: 4.0653 - mae: 4.0653\n",
      "Epoch 59/100\n",
      "1/1 [==============================] - 0s 5ms/step - loss: 3.9595 - mae: 3.9595\n",
      "Epoch 60/100\n",
      "1/1 [==============================] - 0s 4ms/step - loss: 3.8494 - mae: 3.8494\n",
      "Epoch 61/100\n",
      "1/1 [==============================] - 0s 4ms/step - loss: 3.7351 - mae: 3.7351\n",
      "Epoch 62/100\n",
      "1/1 [==============================] - 0s 6ms/step - loss: 3.6165 - mae: 3.6165\n",
      "Epoch 63/100\n",
      "1/1 [==============================] - 0s 4ms/step - loss: 3.4935 - mae: 3.4935\n",
      "Epoch 64/100\n",
      "1/1 [==============================] - 0s 5ms/step - loss: 3.3661 - mae: 3.3661\n",
      "Epoch 65/100\n",
      "1/1 [==============================] - 0s 4ms/step - loss: 3.2342 - mae: 3.2342\n",
      "Epoch 66/100\n",
      "1/1 [==============================] - 0s 7ms/step - loss: 3.1021 - mae: 3.1021\n",
      "Epoch 67/100\n",
      "1/1 [==============================] - 0s 5ms/step - loss: 2.9660 - mae: 2.9660\n",
      "Epoch 68/100\n",
      "1/1 [==============================] - 0s 4ms/step - loss: 2.8340 - mae: 2.8340\n",
      "Epoch 69/100\n",
      "1/1 [==============================] - 0s 6ms/step - loss: 2.6975 - mae: 2.6975\n",
      "Epoch 70/100\n",
      "1/1 [==============================] - 0s 5ms/step - loss: 2.5551 - mae: 2.5551\n",
      "Epoch 71/100\n",
      "1/1 [==============================] - 0s 5ms/step - loss: 2.4067 - mae: 2.4067\n",
      "Epoch 72/100\n",
      "1/1 [==============================] - 0s 4ms/step - loss: 2.2525 - mae: 2.2525\n",
      "Epoch 73/100\n",
      "1/1 [==============================] - 0s 6ms/step - loss: 2.0924 - mae: 2.0924\n",
      "Epoch 74/100\n",
      "1/1 [==============================] - 0s 4ms/step - loss: 1.9264 - mae: 1.9264\n",
      "Epoch 75/100\n",
      "1/1 [==============================] - 0s 4ms/step - loss: 1.7545 - mae: 1.7545\n",
      "Epoch 76/100\n",
      "1/1 [==============================] - 0s 6ms/step - loss: 1.5767 - mae: 1.5767\n",
      "Epoch 77/100\n",
      "1/1 [==============================] - 0s 4ms/step - loss: 1.3930 - mae: 1.3930\n",
      "Epoch 78/100\n",
      "1/1 [==============================] - 0s 6ms/step - loss: 1.2034 - mae: 1.2034\n",
      "Epoch 79/100\n",
      "1/1 [==============================] - 0s 4ms/step - loss: 1.0199 - mae: 1.0199\n",
      "Epoch 80/100\n",
      "1/1 [==============================] - 0s 4ms/step - loss: 0.8150 - mae: 0.8150\n",
      "Epoch 81/100\n",
      "1/1 [==============================] - 0s 5ms/step - loss: 0.6154 - mae: 0.6154\n",
      "Epoch 82/100\n",
      "1/1 [==============================] - 0s 4ms/step - loss: 0.4291 - mae: 0.4291\n",
      "Epoch 83/100\n",
      "1/1 [==============================] - 0s 5ms/step - loss: 0.2694 - mae: 0.2694\n",
      "Epoch 84/100\n",
      "1/1 [==============================] - 0s 4ms/step - loss: 0.0618 - mae: 0.0618\n",
      "Epoch 85/100\n",
      "1/1 [==============================] - 0s 3ms/step - loss: 0.4634 - mae: 0.4634\n",
      "Epoch 86/100\n",
      "1/1 [==============================] - 0s 5ms/step - loss: 0.5978 - mae: 0.5978\n",
      "Epoch 87/100\n",
      "1/1 [==============================] - 0s 4ms/step - loss: 0.5223 - mae: 0.5223\n",
      "Epoch 88/100\n",
      "1/1 [==============================] - 0s 4ms/step - loss: 0.7133 - mae: 0.7133\n",
      "Epoch 89/100\n",
      "1/1 [==============================] - 0s 4ms/step - loss: 0.8406 - mae: 0.8406\n",
      "Epoch 90/100\n",
      "1/1 [==============================] - 0s 6ms/step - loss: 0.8049 - mae: 0.8049\n",
      "Epoch 91/100\n",
      "1/1 [==============================] - 0s 4ms/step - loss: 0.6446 - mae: 0.6446\n",
      "Epoch 92/100\n",
      "1/1 [==============================] - 0s 5ms/step - loss: 0.6871 - mae: 0.6871\n",
      "Epoch 93/100\n",
      "1/1 [==============================] - 0s 5ms/step - loss: 0.6551 - mae: 0.6551\n",
      "Epoch 94/100\n",
      "1/1 [==============================] - 0s 4ms/step - loss: 0.4973 - mae: 0.4973\n",
      "Epoch 95/100\n",
      "1/1 [==============================] - 0s 6ms/step - loss: 0.5122 - mae: 0.5122\n",
      "Epoch 96/100\n",
      "1/1 [==============================] - 0s 4ms/step - loss: 0.4576 - mae: 0.4576\n",
      "Epoch 97/100\n",
      "1/1 [==============================] - 0s 4ms/step - loss: 0.2782 - mae: 0.2782\n",
      "Epoch 98/100\n",
      "1/1 [==============================] - 0s 5ms/step - loss: 0.1550 - mae: 0.1550\n",
      "Epoch 99/100\n",
      "1/1 [==============================] - 0s 5ms/step - loss: 0.1269 - mae: 0.1269\n",
      "Epoch 100/100\n",
      "1/1 [==============================] - 0s 6ms/step - loss: 0.1940 - mae: 0.1940\n"
     ]
    },
    {
     "data": {
      "text/plain": "<keras.callbacks.History at 0x231c8318430>"
     },
     "execution_count": 14,
     "metadata": {},
     "output_type": "execute_result"
    }
   ],
   "source": [
    "# Let's rebuild our model\n",
    "# 1. Create the model\n",
    "model = tf.keras.Sequential()\n",
    "model.add(tf.keras.layers.Dense(20))\n",
    "model.add(tf.keras.layers.Dense(1))\n",
    "\n",
    "# 2. Compile the model\n",
    "model.compile(loss=tf.keras.losses.mae,\n",
    "              optimizer=tf.keras.optimizers.Adam(learning_rate=0.01),\n",
    "              metrics=[\"mae\"])\n",
    "# 3. Fit the model\n",
    "model.fit(tf.expand_dims(X, axis=-1), y, epochs=100)"
   ],
   "metadata": {
    "collapsed": false,
    "pycharm": {
     "name": "#%%\n"
    }
   }
  },
  {
   "cell_type": "code",
   "execution_count": 15,
   "outputs": [
    {
     "name": "stdout",
     "output_type": "stream",
     "text": [
      "1/1 [==============================] - 0s 59ms/step\n"
     ]
    },
    {
     "data": {
      "text/plain": "array([[27.41536]], dtype=float32)"
     },
     "execution_count": 15,
     "metadata": {},
     "output_type": "execute_result"
    }
   ],
   "source": [
    "model.predict([17.0])"
   ],
   "metadata": {
    "collapsed": false,
    "pycharm": {
     "name": "#%%\n"
    }
   }
  },
  {
   "cell_type": "markdown",
   "source": [
    "## Evaluate our model\n",
    "\n",
    "In practice, a typical workflow you'll go through when building neural networks is:\n",
    "```\n",
    "Build a model -> fit it -> evaluate it -> tweak a model -> fit it -> evaluate it -> tweak a model -> fit it -> evaluate it -> ...\n",
    "```"
   ],
   "metadata": {
    "collapsed": false,
    "pycharm": {
     "name": "#%% md\n"
    }
   }
  },
  {
   "cell_type": "markdown",
   "source": [
    "When it comes to evaluation... there are 3 words you should memorize:\n",
    "> \"Visualize, visualize, visualize.\"\n",
    "\n",
    "It's a good idea to visualize:\n",
    "* The data - what data are we working with? What does it look like?\n",
    "* The model itself - what does our model look like?\n",
    "* The training of a model - how does a model perform while it learns?\n",
    "* The predictions of the model - how do the predictions of a model line up against the ground truth (the original labels)."
   ],
   "metadata": {
    "collapsed": false,
    "pycharm": {
     "name": "#%% md\n"
    }
   }
  },
  {
   "cell_type": "code",
   "execution_count": 16,
   "outputs": [
    {
     "data": {
      "text/plain": "<tf.Tensor: shape=(50,), dtype=int32, numpy=\narray([-100,  -96,  -92,  -88,  -84,  -80,  -76,  -72,  -68,  -64,  -60,\n        -56,  -52,  -48,  -44,  -40,  -36,  -32,  -28,  -24,  -20,  -16,\n        -12,   -8,   -4,    0,    4,    8,   12,   16,   20,   24,   28,\n         32,   36,   40,   44,   48,   52,   56,   60,   64,   68,   72,\n         76,   80,   84,   88,   92,   96])>"
     },
     "execution_count": 16,
     "metadata": {},
     "output_type": "execute_result"
    }
   ],
   "source": [
    "# Make a bigger dataset\n",
    "X = tf.range(-100, 100, 4)\n",
    "X"
   ],
   "metadata": {
    "collapsed": false,
    "pycharm": {
     "name": "#%%\n"
    }
   }
  },
  {
   "cell_type": "code",
   "execution_count": 17,
   "outputs": [
    {
     "data": {
      "text/plain": "<tf.Tensor: shape=(50,), dtype=int32, numpy=\narray([-90, -86, -82, -78, -74, -70, -66, -62, -58, -54, -50, -46, -42,\n       -38, -34, -30, -26, -22, -18, -14, -10,  -6,  -2,   2,   6,  10,\n        14,  18,  22,  26,  30,  34,  38,  42,  46,  50,  54,  58,  62,\n        66,  70,  74,  78,  82,  86,  90,  94,  98, 102, 106])>"
     },
     "execution_count": 17,
     "metadata": {},
     "output_type": "execute_result"
    }
   ],
   "source": [
    "y = X + 10\n",
    "y"
   ],
   "metadata": {
    "collapsed": false,
    "pycharm": {
     "name": "#%%\n"
    }
   }
  },
  {
   "cell_type": "code",
   "execution_count": 18,
   "outputs": [
    {
     "data": {
      "text/plain": "<Figure size 640x480 with 1 Axes>",
      "image/png": "[encoded data removed]"
     },
     "metadata": {},
     "output_type": "display_data"
    }
   ],
   "source": [
    "# Visualize the data\n",
    "plt.scatter(X, y);"
   ],
   "metadata": {
    "collapsed": false,
    "pycharm": {
     "name": "#%%\n"
    }
   }
  },
  {
   "cell_type": "markdown",
   "source": [
    "# The 3 sets...\n",
    "* **Training set** - the model learns from this data, which is typically 70-80% of the **total data** you have available.\n",
    "* **Validation set** - the model gets tuned on this data, which is typically 10-15% of the **total data** you have available.\n",
    "* **Test set** - the model gets evaluated on this data to test what it has learned, this set is typically 10-15% of the **total data** you have available."
   ],
   "metadata": {
    "collapsed": false,
    "pycharm": {
     "name": "#%% md\n"
    }
   }
  },
  {
   "cell_type": "code",
   "execution_count": 19,
   "outputs": [
    {
     "data": {
      "text/plain": "(50, 50)"
     },
     "execution_count": 19,
     "metadata": {},
     "output_type": "execute_result"
    }
   ],
   "source": [
    "# Check the length of each\n",
    "len(X), len(y)"
   ],
   "metadata": {
    "collapsed": false,
    "pycharm": {
     "name": "#%%\n"
    }
   }
  },
  {
   "cell_type": "code",
   "execution_count": 20,
   "outputs": [
    {
     "data": {
      "text/plain": "(<tf.Tensor: shape=(40,), dtype=int32, numpy=\n array([-100,  -96,  -92,  -88,  -84,  -80,  -76,  -72,  -68,  -64,  -60,\n         -56,  -52,  -48,  -44,  -40,  -36,  -32,  -28,  -24,  -20,  -16,\n         -12,   -8,   -4,    0,    4,    8,   12,   16,   20,   24,   28,\n          32,   36,   40,   44,   48,   52,   56])>,\n <tf.Tensor: shape=(40,), dtype=int32, numpy=\n array([-90, -86, -82, -78, -74, -70, -66, -62, -58, -54, -50, -46, -42,\n        -38, -34, -30, -26, -22, -18, -14, -10,  -6,  -2,   2,   6,  10,\n         14,  18,  22,  26,  30,  34,  38,  42,  46,  50,  54,  58,  62,\n         66])>,\n <tf.Tensor: shape=(10,), dtype=int32, numpy=array([60, 64, 68, 72, 76, 80, 84, 88, 92, 96])>,\n <tf.Tensor: shape=(10,), dtype=int32, numpy=array([ 70,  74,  78,  82,  86,  90,  94,  98, 102, 106])>)"
     },
     "execution_count": 20,
     "metadata": {},
     "output_type": "execute_result"
    }
   ],
   "source": [
    "# Split the data into training and test sets\n",
    "X_train = X[:40] # first 40 examples (80% of the data)\n",
    "y_train = y[:40]\n",
    "X_test = X[40:] # last 10 examples (20% of the data)\n",
    "y_test = y[40:]\n",
    "\n",
    "X_train, y_train, X_test, y_test"
   ],
   "metadata": {
    "collapsed": false,
    "pycharm": {
     "name": "#%%\n"
    }
   }
  },
  {
   "cell_type": "code",
   "execution_count": 21,
   "outputs": [
    {
     "data": {
      "text/plain": "(40, 10, 40, 10)"
     },
     "execution_count": 21,
     "metadata": {},
     "output_type": "execute_result"
    }
   ],
   "source": [
    "len(X_train), len(X_test), len(y_train), len(y_test)"
   ],
   "metadata": {
    "collapsed": false,
    "pycharm": {
     "name": "#%%\n"
    }
   }
  },
  {
   "cell_type": "markdown",
   "source": [
    "# Visualizing the data\n",
    "Now we've got our data in training and test sets, let's visualize it again."
   ],
   "metadata": {
    "collapsed": false,
    "pycharm": {
     "name": "#%% md\n"
    }
   }
  },
  {
   "cell_type": "code",
   "execution_count": 22,
   "outputs": [
    {
     "data": {
      "text/plain": "<Figure size 1000x700 with 1 Axes>",
      "image/png": "[encoded data removed]"
     },
     "metadata": {},
     "output_type": "display_data"
    }
   ],
   "source": [
    "plt.figure(figsize=(10, 7))\n",
    "# Plot training data in blue\n",
    "plt.scatter(X_train, y_train, c=\"b\", label=\"Training data\")\n",
    "# Plot test data in green\n",
    "plt.scatter(X_test, y_test, c=\"g\", label=\"Testing data\")\n",
    "# Show a legend\n",
    "plt.legend();"
   ],
   "metadata": {
    "collapsed": false,
    "pycharm": {
     "name": "#%%\n"
    }
   }
  },
  {
   "cell_type": "code",
   "execution_count": 23,
   "outputs": [],
   "source": [
    "# Let build a model which build automatically by defining the input_shape argument in the first layer\n",
    "tf.random.set_seed(42)\n",
    "# Create the model (same as above)\n",
    "model = tf.keras.Sequential([\n",
    "  tf.keras.layers.Dense(10, input_shape=[1], name=\"input_layer\"),\n",
    "    tf.keras.layers.Dense(1, name=\"output_layer\")\n",
    "], name=\"model_1\")\n",
    "model.compile(loss=tf.keras.losses.mae,\n",
    "              optimizer=tf.keras.optimizers.Adam(learning_rate=0.01),\n",
    "              metrics=[tf.keras.losses.mae])"
   ],
   "metadata": {
    "collapsed": false,
    "pycharm": {
     "name": "#%%\n"
    }
   }
  },
  {
   "cell_type": "code",
   "execution_count": 24,
   "outputs": [
    {
     "name": "stdout",
     "output_type": "stream",
     "text": [
      "Model: \"model_1\"\n",
      "_________________________________________________________________\n",
      " Layer (type)                Output Shape              Param #   \n",
      "=================================================================\n",
      " input_layer (Dense)         (None, 10)                20        \n",
      "                                                                 \n",
      " output_layer (Dense)        (None, 1)                 11        \n",
      "                                                                 \n",
      "=================================================================\n",
      "Total params: 31\n",
      "Trainable params: 31\n",
      "Non-trainable params: 0\n",
      "_________________________________________________________________\n"
     ]
    }
   ],
   "source": [
    "# Visualize the model\n",
    "model.summary()"
   ],
   "metadata": {
    "collapsed": false,
    "pycharm": {
     "name": "#%%\n"
    }
   }
  },
  {
   "cell_type": "markdown",
   "source": [
    "* Total params - total number of parameters in the model.\n",
    "* Trainable params - these are the parameters (patterns) the model can update as it trains.\n",
    "* Non-trainable params - these parameters aren't updated during training (this is typical when you bring in already learn patterns or parameters from other models during **transfer learning**).\n",
    "📖 **Resouce** For a more in-depth overview of the trainable parameters within a layer, check out MIT's 6.S191: Introduction to Deep Learning [video](https://youtu.be/aircAruvnKk) (around 18:00 - 26:00).\n",
    "⚒ **Exercise:** Try playing around with the number of hidden units in the Dense layer, see how that affects the number of trainable parameters (total and trainable) by calling `model.summary()`."
   ],
   "metadata": {
    "collapsed": false,
    "pycharm": {
     "name": "#%% md\n"
    }
   }
  },
  {
   "cell_type": "code",
   "execution_count": 25,
   "outputs": [
    {
     "name": "stdout",
     "output_type": "stream",
     "text": [
      "Model: \"model_1\"\n",
      "_________________________________________________________________\n",
      " Layer (type)                Output Shape              Param #   \n",
      "=================================================================\n",
      " input_layer (Dense)         (None, 10)                20        \n",
      "                                                                 \n",
      " output_layer (Dense)        (None, 1)                 11        \n",
      "                                                                 \n",
      "=================================================================\n",
      "Total params: 31\n",
      "Trainable params: 31\n",
      "Non-trainable params: 0\n",
      "_________________________________________________________________\n"
     ]
    }
   ],
   "source": [
    "# Get a summary of our model\n",
    "model.summary()"
   ],
   "metadata": {
    "collapsed": false,
    "pycharm": {
     "name": "#%%\n"
    }
   }
  },
  {
   "cell_type": "code",
   "execution_count": 26,
   "outputs": [
    {
     "data": {
      "image/png": "[encoded data removed]",
      "text/plain": "<IPython.core.display.Image object>"
     },
     "execution_count": 26,
     "metadata": {},
     "output_type": "execute_result"
    }
   ],
   "source": [
    "from tensorflow.keras.utils import plot_model\n",
    "plot_model(model, show_shapes=True, to_file=\"model.png\")"
   ],
   "metadata": {
    "collapsed": false,
    "pycharm": {
     "name": "#%%\n"
    }
   }
  },
  {
   "cell_type": "code",
   "execution_count": 27,
   "outputs": [
    {
     "name": "stdout",
     "output_type": "stream",
     "text": [
      "Epoch 1/100\n",
      "2/2 [==============================] - 0s 4ms/step - loss: 49.2050 - mean_absolute_error: 49.2050\n",
      "Epoch 2/100\n",
      "2/2 [==============================] - 0s 5ms/step - loss: 43.1106 - mean_absolute_error: 43.1106\n",
      "Epoch 3/100\n",
      "2/2 [==============================] - 0s 4ms/step - loss: 37.3907 - mean_absolute_error: 37.3907\n",
      "Epoch 4/100\n",
      "2/2 [==============================] - 0s 6ms/step - loss: 31.6805 - mean_absolute_error: 31.6805\n",
      "Epoch 5/100\n",
      "2/2 [==============================] - 0s 5ms/step - loss: 26.2604 - mean_absolute_error: 26.2604\n",
      "Epoch 6/100\n",
      "2/2 [==============================] - 0s 5ms/step - loss: 21.0076 - mean_absolute_error: 21.0076\n",
      "Epoch 7/100\n",
      "2/2 [==============================] - 0s 4ms/step - loss: 15.9863 - mean_absolute_error: 15.9863\n",
      "Epoch 8/100\n",
      "2/2 [==============================] - 0s 5ms/step - loss: 11.1674 - mean_absolute_error: 11.1674\n",
      "Epoch 9/100\n",
      "2/2 [==============================] - 0s 4ms/step - loss: 8.0757 - mean_absolute_error: 8.0757\n",
      "Epoch 10/100\n",
      "2/2 [==============================] - 0s 3ms/step - loss: 9.0300 - mean_absolute_error: 9.0300\n",
      "Epoch 11/100\n",
      "2/2 [==============================] - 0s 4ms/step - loss: 11.1873 - mean_absolute_error: 11.1873\n",
      "Epoch 12/100\n",
      "2/2 [==============================] - 0s 5ms/step - loss: 12.0289 - mean_absolute_error: 12.0289\n",
      "Epoch 13/100\n",
      "2/2 [==============================] - 0s 4ms/step - loss: 12.3772 - mean_absolute_error: 12.3772\n",
      "Epoch 14/100\n",
      "2/2 [==============================] - 0s 4ms/step - loss: 12.2249 - mean_absolute_error: 12.2249\n",
      "Epoch 15/100\n",
      "2/2 [==============================] - 0s 4ms/step - loss: 11.7329 - mean_absolute_error: 11.7329\n",
      "Epoch 16/100\n",
      "2/2 [==============================] - 0s 5ms/step - loss: 10.9353 - mean_absolute_error: 10.9353\n",
      "Epoch 17/100\n",
      "2/2 [==============================] - 0s 3ms/step - loss: 10.1336 - mean_absolute_error: 10.1336\n",
      "Epoch 18/100\n",
      "2/2 [==============================] - 0s 3ms/step - loss: 8.8589 - mean_absolute_error: 8.8589\n",
      "Epoch 19/100\n",
      "2/2 [==============================] - 0s 4ms/step - loss: 7.7417 - mean_absolute_error: 7.7417\n",
      "Epoch 20/100\n",
      "2/2 [==============================] - 0s 4ms/step - loss: 7.3479 - mean_absolute_error: 7.3479\n",
      "Epoch 21/100\n",
      "2/2 [==============================] - 0s 5ms/step - loss: 7.8886 - mean_absolute_error: 7.8886\n",
      "Epoch 22/100\n",
      "2/2 [==============================] - 0s 4ms/step - loss: 8.0940 - mean_absolute_error: 8.0940\n",
      "Epoch 23/100\n",
      "2/2 [==============================] - 0s 4ms/step - loss: 7.8957 - mean_absolute_error: 7.8957\n",
      "Epoch 24/100\n",
      "2/2 [==============================] - 0s 3ms/step - loss: 7.3449 - mean_absolute_error: 7.3449\n",
      "Epoch 25/100\n",
      "2/2 [==============================] - 0s 4ms/step - loss: 6.9696 - mean_absolute_error: 6.9696\n",
      "Epoch 26/100\n",
      "2/2 [==============================] - 0s 5ms/step - loss: 7.0139 - mean_absolute_error: 7.0139\n",
      "Epoch 27/100\n",
      "2/2 [==============================] - 0s 4ms/step - loss: 7.1340 - mean_absolute_error: 7.1340\n",
      "Epoch 28/100\n",
      "2/2 [==============================] - 0s 4ms/step - loss: 6.8491 - mean_absolute_error: 6.8491\n",
      "Epoch 29/100\n",
      "2/2 [==============================] - 0s 6ms/step - loss: 6.7235 - mean_absolute_error: 6.7235\n",
      "Epoch 30/100\n",
      "2/2 [==============================] - 0s 4ms/step - loss: 6.8780 - mean_absolute_error: 6.8780\n",
      "Epoch 31/100\n",
      "2/2 [==============================] - 0s 4ms/step - loss: 6.8318 - mean_absolute_error: 6.8318\n",
      "Epoch 32/100\n",
      "2/2 [==============================] - 0s 4ms/step - loss: 6.6484 - mean_absolute_error: 6.6484\n",
      "Epoch 33/100\n",
      "2/2 [==============================] - 0s 3ms/step - loss: 6.4781 - mean_absolute_error: 6.4781\n",
      "Epoch 34/100\n",
      "2/2 [==============================] - 0s 4ms/step - loss: 6.4197 - mean_absolute_error: 6.4197\n",
      "Epoch 35/100\n",
      "2/2 [==============================] - 0s 5ms/step - loss: 6.3807 - mean_absolute_error: 6.3807\n",
      "Epoch 36/100\n",
      "2/2 [==============================] - 0s 4ms/step - loss: 6.2855 - mean_absolute_error: 6.2855\n",
      "Epoch 37/100\n",
      "2/2 [==============================] - 0s 5ms/step - loss: 6.3212 - mean_absolute_error: 6.3212\n",
      "Epoch 38/100\n",
      "2/2 [==============================] - 0s 6ms/step - loss: 6.3494 - mean_absolute_error: 6.3494\n",
      "Epoch 39/100\n",
      "2/2 [==============================] - 0s 4ms/step - loss: 6.2635 - mean_absolute_error: 6.2635\n",
      "Epoch 40/100\n",
      "2/2 [==============================] - 0s 4ms/step - loss: 6.0790 - mean_absolute_error: 6.0790\n",
      "Epoch 41/100\n",
      "2/2 [==============================] - 0s 4ms/step - loss: 5.9954 - mean_absolute_error: 5.9954\n",
      "Epoch 42/100\n",
      "2/2 [==============================] - 0s 4ms/step - loss: 6.0436 - mean_absolute_error: 6.0436\n",
      "Epoch 43/100\n",
      "2/2 [==============================] - 0s 3ms/step - loss: 5.9430 - mean_absolute_error: 5.9430\n",
      "Epoch 44/100\n",
      "2/2 [==============================] - 0s 5ms/step - loss: 5.7830 - mean_absolute_error: 5.7830\n",
      "Epoch 45/100\n",
      "2/2 [==============================] - 0s 4ms/step - loss: 5.8070 - mean_absolute_error: 5.8070\n",
      "Epoch 46/100\n",
      "2/2 [==============================] - 0s 3ms/step - loss: 5.8248 - mean_absolute_error: 5.8248\n",
      "Epoch 47/100\n",
      "2/2 [==============================] - 0s 3ms/step - loss: 5.7313 - mean_absolute_error: 5.7313\n",
      "Epoch 48/100\n",
      "2/2 [==============================] - 0s 4ms/step - loss: 5.6045 - mean_absolute_error: 5.6045\n",
      "Epoch 49/100\n",
      "2/2 [==============================] - 0s 4ms/step - loss: 5.4982 - mean_absolute_error: 5.4982\n",
      "Epoch 50/100\n",
      "2/2 [==============================] - 0s 4ms/step - loss: 5.3889 - mean_absolute_error: 5.3889\n",
      "Epoch 51/100\n",
      "2/2 [==============================] - 0s 4ms/step - loss: 5.3355 - mean_absolute_error: 5.3355\n",
      "Epoch 52/100\n",
      "2/2 [==============================] - 0s 5ms/step - loss: 5.2830 - mean_absolute_error: 5.2830\n",
      "Epoch 53/100\n",
      "2/2 [==============================] - 0s 5ms/step - loss: 5.1648 - mean_absolute_error: 5.1648\n",
      "Epoch 54/100\n",
      "2/2 [==============================] - 0s 4ms/step - loss: 5.1465 - mean_absolute_error: 5.1465\n",
      "Epoch 55/100\n",
      "2/2 [==============================] - 0s 7ms/step - loss: 5.1486 - mean_absolute_error: 5.1486\n",
      "Epoch 56/100\n",
      "2/2 [==============================] - 0s 4ms/step - loss: 4.9521 - mean_absolute_error: 4.9521\n",
      "Epoch 57/100\n",
      "2/2 [==============================] - 0s 4ms/step - loss: 4.9149 - mean_absolute_error: 4.9149\n",
      "Epoch 58/100\n",
      "2/2 [==============================] - 0s 7ms/step - loss: 5.1687 - mean_absolute_error: 5.1687\n",
      "Epoch 59/100\n",
      "2/2 [==============================] - 0s 4ms/step - loss: 4.9244 - mean_absolute_error: 4.9244\n",
      "Epoch 60/100\n",
      "2/2 [==============================] - 0s 5ms/step - loss: 4.6754 - mean_absolute_error: 4.6754\n",
      "Epoch 61/100\n",
      "2/2 [==============================] - 0s 6ms/step - loss: 4.7961 - mean_absolute_error: 4.7961\n",
      "Epoch 62/100\n",
      "2/2 [==============================] - 0s 4ms/step - loss: 4.6323 - mean_absolute_error: 4.6323\n",
      "Epoch 63/100\n",
      "2/2 [==============================] - 0s 4ms/step - loss: 4.4260 - mean_absolute_error: 4.4260\n",
      "Epoch 64/100\n",
      "2/2 [==============================] - 0s 7ms/step - loss: 4.2882 - mean_absolute_error: 4.2882\n",
      "Epoch 65/100\n",
      "2/2 [==============================] - 0s 4ms/step - loss: 4.1471 - mean_absolute_error: 4.1471\n",
      "Epoch 66/100\n",
      "2/2 [==============================] - 0s 4ms/step - loss: 4.0571 - mean_absolute_error: 4.0571\n",
      "Epoch 67/100\n",
      "2/2 [==============================] - 0s 3ms/step - loss: 3.9494 - mean_absolute_error: 3.9494\n",
      "Epoch 68/100\n",
      "2/2 [==============================] - 0s 5ms/step - loss: 3.8401 - mean_absolute_error: 3.8401\n",
      "Epoch 69/100\n",
      "2/2 [==============================] - 0s 3ms/step - loss: 3.7191 - mean_absolute_error: 3.7191\n",
      "Epoch 70/100\n",
      "2/2 [==============================] - 0s 5ms/step - loss: 3.6235 - mean_absolute_error: 3.6235\n",
      "Epoch 71/100\n",
      "2/2 [==============================] - 0s 4ms/step - loss: 3.4754 - mean_absolute_error: 3.4754\n",
      "Epoch 72/100\n",
      "2/2 [==============================] - 0s 8ms/step - loss: 3.6025 - mean_absolute_error: 3.6025\n",
      "Epoch 73/100\n",
      "2/2 [==============================] - 0s 4ms/step - loss: 3.3721 - mean_absolute_error: 3.3721\n",
      "Epoch 74/100\n",
      "2/2 [==============================] - 0s 5ms/step - loss: 3.1073 - mean_absolute_error: 3.1073\n",
      "Epoch 75/100\n",
      "2/2 [==============================] - 0s 5ms/step - loss: 2.9598 - mean_absolute_error: 2.9598\n",
      "Epoch 76/100\n",
      "2/2 [==============================] - 0s 4ms/step - loss: 2.8189 - mean_absolute_error: 2.8189\n",
      "Epoch 77/100\n",
      "2/2 [==============================] - 0s 7ms/step - loss: 2.6672 - mean_absolute_error: 2.6672\n",
      "Epoch 78/100\n",
      "2/2 [==============================] - 0s 5ms/step - loss: 2.4893 - mean_absolute_error: 2.4893\n",
      "Epoch 79/100\n",
      "2/2 [==============================] - 0s 6ms/step - loss: 2.4524 - mean_absolute_error: 2.4524\n",
      "Epoch 80/100\n",
      "2/2 [==============================] - 0s 4ms/step - loss: 2.2453 - mean_absolute_error: 2.2453\n",
      "Epoch 81/100\n",
      "2/2 [==============================] - 0s 5ms/step - loss: 2.0078 - mean_absolute_error: 2.0078\n",
      "Epoch 82/100\n",
      "2/2 [==============================] - 0s 5ms/step - loss: 1.8217 - mean_absolute_error: 1.8217\n",
      "Epoch 83/100\n",
      "2/2 [==============================] - 0s 3ms/step - loss: 1.6303 - mean_absolute_error: 1.6303\n",
      "Epoch 84/100\n",
      "2/2 [==============================] - 0s 4ms/step - loss: 1.4893 - mean_absolute_error: 1.4893\n",
      "Epoch 85/100\n",
      "2/2 [==============================] - 0s 4ms/step - loss: 1.2715 - mean_absolute_error: 1.2715\n",
      "Epoch 86/100\n",
      "2/2 [==============================] - 0s 3ms/step - loss: 1.1216 - mean_absolute_error: 1.1216\n",
      "Epoch 87/100\n",
      "2/2 [==============================] - 0s 6ms/step - loss: 0.8221 - mean_absolute_error: 0.8221\n",
      "Epoch 88/100\n",
      "2/2 [==============================] - 0s 4ms/step - loss: 0.6963 - mean_absolute_error: 0.6963\n",
      "Epoch 89/100\n",
      "2/2 [==============================] - 0s 4ms/step - loss: 0.5894 - mean_absolute_error: 0.5894\n",
      "Epoch 90/100\n",
      "2/2 [==============================] - 0s 5ms/step - loss: 0.4386 - mean_absolute_error: 0.4386\n",
      "Epoch 91/100\n",
      "2/2 [==============================] - 0s 4ms/step - loss: 0.1384 - mean_absolute_error: 0.1384\n",
      "Epoch 92/100\n",
      "2/2 [==============================] - 0s 4ms/step - loss: 0.3550 - mean_absolute_error: 0.3550\n",
      "Epoch 93/100\n",
      "2/2 [==============================] - 0s 5ms/step - loss: 0.7186 - mean_absolute_error: 0.7186\n",
      "Epoch 94/100\n",
      "2/2 [==============================] - 0s 4ms/step - loss: 0.4358 - mean_absolute_error: 0.4358\n",
      "Epoch 95/100\n",
      "2/2 [==============================] - 0s 4ms/step - loss: 0.3574 - mean_absolute_error: 0.3574\n",
      "Epoch 96/100\n",
      "2/2 [==============================] - 0s 4ms/step - loss: 0.2991 - mean_absolute_error: 0.2991\n",
      "Epoch 97/100\n",
      "2/2 [==============================] - 0s 4ms/step - loss: 0.5423 - mean_absolute_error: 0.5423\n",
      "Epoch 98/100\n",
      "2/2 [==============================] - 0s 6ms/step - loss: 0.3177 - mean_absolute_error: 0.3177\n",
      "Epoch 99/100\n",
      "2/2 [==============================] - 0s 3ms/step - loss: 0.4758 - mean_absolute_error: 0.4758\n",
      "Epoch 100/100\n",
      "2/2 [==============================] - 0s 4ms/step - loss: 0.3963 - mean_absolute_error: 0.3963\n"
     ]
    },
    {
     "data": {
      "text/plain": "<keras.callbacks.History at 0x231cfe0de20>"
     },
     "execution_count": 27,
     "metadata": {},
     "output_type": "execute_result"
    }
   ],
   "source": [
    "# Let's fit our model to the training data\n",
    "model.fit(X_train, y_train, epochs=100, verbose=1)"
   ],
   "metadata": {
    "collapsed": false,
    "pycharm": {
     "name": "#%%\n"
    }
   }
  },
  {
   "cell_type": "markdown",
   "source": [
    "## Visualizing our model's predictions\n",
    "To visualize predictions, it's a good idea to plot them against the ground truth labels.\n",
    "Often you'll see this in the form of `y_test` or `y_true` vs. `y_pred` (ground truth vs. your model's predictions)."
   ],
   "metadata": {
    "collapsed": false,
    "pycharm": {
     "name": "#%% md\n"
    }
   }
  },
  {
   "cell_type": "code",
   "execution_count": 28,
   "outputs": [
    {
     "name": "stdout",
     "output_type": "stream",
     "text": [
      "1/1 [==============================] - 0s 43ms/step\n"
     ]
    },
    {
     "data": {
      "text/plain": "(<tf.Tensor: shape=(10,), dtype=int32, numpy=array([ 70,  74,  78,  82,  86,  90,  94,  98, 102, 106])>,\n array([[ 69.55194 ],\n        [ 73.53358 ],\n        [ 77.51521 ],\n        [ 81.49685 ],\n        [ 85.478485],\n        [ 89.460106],\n        [ 93.44174 ],\n        [ 97.423386],\n        [101.405014],\n        [105.38665 ]], dtype=float32))"
     },
     "execution_count": 28,
     "metadata": {},
     "output_type": "execute_result"
    }
   ],
   "source": [
    "# Make some predictions\n",
    "y_pred = model.predict(X_test)\n",
    "y_test, y_pred"
   ],
   "metadata": {
    "collapsed": false,
    "pycharm": {
     "name": "#%%\n"
    }
   }
  },
  {
   "cell_type": "markdown",
   "source": [
    "🔑 **Note:** If you fell like you're going to reuse some kind of functionality in the future, it's a good idea to turn it into a function."
   ],
   "metadata": {
    "collapsed": false,
    "pycharm": {
     "name": "#%% md\n"
    }
   }
  },
  {
   "cell_type": "code",
   "execution_count": 29,
   "outputs": [],
   "source": [
    "# Let's create a plotting function\n",
    "def plot_predictions(train_data,\n",
    "                     train_labels,\n",
    "                     test_data,\n",
    "                     test_labels,\n",
    "                     predictions):\n",
    "  \"\"\"\n",
    "  Plots training data, test data and compares predictions to ground truth labels.\n",
    "  \"\"\"\n",
    "  plt.figure(figsize=(10, 7))\n",
    "  # Plot training data in blue\n",
    "  plt.scatter(train_data, train_labels, c=\"b\", label=\"Training data\")\n",
    "  # Plot test data in green\n",
    "  plt.scatter(test_data, test_labels, c=\"g\", label=\"Testing data\")\n",
    "  # Plot the model's predictions in red\n",
    "  plt.scatter(test_data, predictions, c=\"r\", label=\"Predictions\")\n",
    "  # Show the legend\n",
    "  plt.legend()"
   ],
   "metadata": {
    "collapsed": false,
    "pycharm": {
     "name": "#%%\n"
    }
   }
  },
  {
   "cell_type": "code",
   "execution_count": 30,
   "outputs": [
    {
     "data": {
      "text/plain": "<Figure size 1000x700 with 1 Axes>",
      "image/png": "[encoded data removed]"
     },
     "metadata": {},
     "output_type": "display_data"
    }
   ],
   "source": [
    "plot_predictions(train_data=X_train,\n",
    "                 train_labels=y_train,\n",
    "                 test_data=X_test,\n",
    "                 test_labels=y_test,\n",
    "                 predictions=y_pred)"
   ],
   "metadata": {
    "collapsed": false,
    "pycharm": {
     "name": "#%%\n"
    }
   }
  },
  {
   "cell_type": "markdown",
   "source": [
    "## Evaluating our model's predictions with regression evaluation metrics\n",
    "Depending on the problem you're working on, there will be different evaluation metrics to evaluate your model's performance.\n",
    "\n",
    "Since we're working on a regression problem, two of the main metrics:\n",
    "* **MAE** - mean absolute error, a measure of how wrong each of your model's predictions are on average.\n",
    "* **MSE** - mean squared error, a measure of how wrong each of your model's predictions are squared on average (more popular than MAE)."
   ],
   "metadata": {
    "collapsed": false,
    "pycharm": {
     "name": "#%% md\n"
    }
   }
  },
  {
   "cell_type": "code",
   "execution_count": 31,
   "outputs": [
    {
     "name": "stdout",
     "output_type": "stream",
     "text": [
      "1/1 [==============================] - 0s 119ms/step - loss: 0.5307 - mean_absolute_error: 0.5307\n"
     ]
    },
    {
     "data": {
      "text/plain": "[0.5307037234306335, 0.5307037234306335]"
     },
     "execution_count": 31,
     "metadata": {},
     "output_type": "execute_result"
    }
   ],
   "source": [
    "# Evaluate the model on the test set\n",
    "model.evaluate(X_test, y_test)"
   ],
   "metadata": {
    "collapsed": false,
    "pycharm": {
     "name": "#%%\n"
    }
   }
  },
  {
   "cell_type": "code",
   "execution_count": 32,
   "outputs": [
    {
     "data": {
      "text/plain": "(array([[ 69.55194 ],\n        [ 73.53358 ],\n        [ 77.51521 ],\n        [ 81.49685 ],\n        [ 85.478485],\n        [ 89.460106],\n        [ 93.44174 ],\n        [ 97.423386],\n        [101.405014],\n        [105.38665 ]], dtype=float32),\n <tf.Tensor: shape=(10,), dtype=int32, numpy=array([ 70,  74,  78,  82,  86,  90,  94,  98, 102, 106])>)"
     },
     "execution_count": 32,
     "metadata": {},
     "output_type": "execute_result"
    }
   ],
   "source": [
    "y_pred, y_test"
   ],
   "metadata": {
    "collapsed": false,
    "pycharm": {
     "name": "#%%\n"
    }
   }
  },
  {
   "cell_type": "code",
   "execution_count": 33,
   "outputs": [
    {
     "data": {
      "text/plain": "(<tf.Tensor: shape=(10,), dtype=float32, numpy=\n array([ 69.55194 ,  73.53358 ,  77.51521 ,  81.49685 ,  85.478485,\n         89.460106,  93.44174 ,  97.423386, 101.405014, 105.38665 ],\n       dtype=float32)>,\n <tf.Tensor: shape=(10,), dtype=float32, numpy=\n array([ 70.,  74.,  78.,  82.,  86.,  90.,  94.,  98., 102., 106.],\n       dtype=float32)>)"
     },
     "execution_count": 33,
     "metadata": {},
     "output_type": "execute_result"
    }
   ],
   "source": [
    "# reshape y_pred to the same shape and same type as y_test\n",
    "tf.reshape(y_pred, shape=(10,)) , tf.cast(y_test, dtype=tf.float32)"
   ],
   "metadata": {
    "collapsed": false,
    "pycharm": {
     "name": "#%%\n"
    }
   }
  },
  {
   "cell_type": "markdown",
   "source": [],
   "metadata": {
    "collapsed": false,
    "pycharm": {
     "name": "#%% md\n"
    }
   }
  },
  {
   "cell_type": "code",
   "execution_count": 34,
   "outputs": [
    {
     "data": {
      "text/plain": "(<tf.Tensor: shape=(10,), dtype=float32, numpy=\n array([ 69.55194 ,  73.53358 ,  77.51521 ,  81.49685 ,  85.478485,\n         89.460106,  93.44174 ,  97.423386, 101.405014, 105.38665 ],\n       dtype=float32)>,\n <tf.Tensor: shape=(10,), dtype=float32, numpy=\n array([ 70.,  74.,  78.,  82.,  86.,  90.,  94.,  98., 102., 106.],\n       dtype=float32)>)"
     },
     "execution_count": 34,
     "metadata": {},
     "output_type": "execute_result"
    }
   ],
   "source": [
    "# Squeeze is used to remove the extra dimension into a 1D array\n",
    "tf.squeeze(y_pred), tf.cast(y_test, dtype=tf.float32)"
   ],
   "metadata": {
    "collapsed": false,
    "pycharm": {
     "name": "#%%\n"
    }
   }
  },
  {
   "cell_type": "code",
   "execution_count": 35,
   "outputs": [
    {
     "data": {
      "text/plain": "<tf.Tensor: shape=(), dtype=float32, numpy=0.5307037>"
     },
     "execution_count": 35,
     "metadata": {},
     "output_type": "execute_result"
    }
   ],
   "source": [
    "#　Calculate the mean absolute error\n",
    "mae = tf.metrics.mean_absolute_error(y_true=tf.cast(y_test, dtype=tf.float32),\n",
    "                                     y_pred=tf.squeeze(y_pred))\n",
    "mae"
   ],
   "metadata": {
    "collapsed": false,
    "pycharm": {
     "name": "#%%\n"
    }
   }
  },
  {
   "cell_type": "code",
   "execution_count": 36,
   "outputs": [
    {
     "data": {
      "text/plain": "<tf.Tensor: shape=(), dtype=float32, numpy=0.28442925>"
     },
     "execution_count": 36,
     "metadata": {},
     "output_type": "execute_result"
    }
   ],
   "source": [
    "# Calculate the mean squared error\n",
    "mse = tf.metrics.mean_squared_error(y_true=tf.cast(y_test, dtype=tf.float32),\n",
    "                                    y_pred=tf.squeeze(y_pred))\n",
    "mse"
   ],
   "metadata": {
    "collapsed": false,
    "pycharm": {
     "name": "#%%\n"
    }
   }
  },
  {
   "cell_type": "code",
   "execution_count": 37,
   "outputs": [],
   "source": [
    "# Make some functions to reuse MAE and MSE\n",
    "def mae(y_true, y_pred):\n",
    "    return tf.metrics.mean_absolute_error(y_true=y_true,\n",
    "                                          y_pred=tf.squeeze(y_pred))\n",
    "def mse(y_true, y_pred):\n",
    "    return tf.metrics.mean_squared_error(y_true=y_true,\n",
    "                                         y_pred=tf.squeeze(y_pred))"
   ],
   "metadata": {
    "collapsed": false,
    "pycharm": {
     "name": "#%%\n"
    }
   }
  },
  {
   "cell_type": "markdown",
   "source": [
    "## Running experiments to improve our model\n",
    "\n",
    "1. Get more data - get more examples for your model to train on (more opportunities to learn patterns or relationships between features and labels).\n",
    "2. Make your model larger (use a more complex model) - this might come in the form of more layers or more hidden units in each layer.\n",
    "3. Train for longer - give your model more of a chance to find patterns in the data.\n",
    "\n",
    "Let's do 3 modelling experiments:\n",
    "1. `model_1` - same as the original model, 1 layer, trained for 100 epochs.\n",
    "2. `model_2` - 2 layers, trained for 100 epochs.\n",
    "3. `model_3` - 2 layers, trained for 500 epochs.\n",
    "\n",
    "### Building `model_1`"
   ],
   "metadata": {
    "collapsed": false,
    "pycharm": {
     "name": "#%% md\n"
    }
   }
  },
  {
   "cell_type": "code",
   "execution_count": 38,
   "outputs": [
    {
     "name": "stdout",
     "output_type": "stream",
     "text": [
      "Epoch 1/100\n",
      "2/2 [==============================] - 0s 4ms/step - loss: 99.2960 - mae: 99.2960\n",
      "Epoch 2/100\n",
      "2/2 [==============================] - 0s 3ms/step - loss: 63.8405 - mae: 63.8405\n",
      "Epoch 3/100\n",
      "2/2 [==============================] - 0s 5ms/step - loss: 26.6797 - mae: 26.6797\n",
      "Epoch 4/100\n",
      "2/2 [==============================] - 0s 3ms/step - loss: 11.2350 - mae: 11.2350\n",
      "Epoch 5/100\n",
      "2/2 [==============================] - 0s 4ms/step - loss: 12.4528 - mae: 12.4528\n",
      "Epoch 6/100\n",
      "2/2 [==============================] - 0s 4ms/step - loss: 9.6383 - mae: 9.6383\n",
      "Epoch 7/100\n",
      "2/2 [==============================] - 0s 3ms/step - loss: 8.7482 - mae: 8.7482\n",
      "Epoch 8/100\n",
      "2/2 [==============================] - 0s 4ms/step - loss: 9.0868 - mae: 9.0868\n",
      "Epoch 9/100\n",
      "2/2 [==============================] - 0s 6ms/step - loss: 19.1428 - mae: 19.1428\n",
      "Epoch 10/100\n",
      "2/2 [==============================] - 0s 4ms/step - loss: 10.3524 - mae: 10.3524\n",
      "Epoch 11/100\n",
      "2/2 [==============================] - 0s 3ms/step - loss: 8.5083 - mae: 8.5083\n",
      "Epoch 12/100\n",
      "2/2 [==============================] - 0s 4ms/step - loss: 10.8602 - mae: 10.8602\n",
      "Epoch 13/100\n",
      "2/2 [==============================] - 0s 4ms/step - loss: 9.9123 - mae: 9.9123\n",
      "Epoch 14/100\n",
      "2/2 [==============================] - 0s 5ms/step - loss: 12.1132 - mae: 12.1132\n",
      "Epoch 15/100\n",
      "2/2 [==============================] - 0s 4ms/step - loss: 12.4207 - mae: 12.4207\n",
      "Epoch 16/100\n",
      "2/2 [==============================] - 0s 4ms/step - loss: 8.4465 - mae: 8.4465\n",
      "Epoch 17/100\n",
      "2/2 [==============================] - 0s 3ms/step - loss: 13.3912 - mae: 13.3912\n",
      "Epoch 18/100\n",
      "2/2 [==============================] - 0s 4ms/step - loss: 11.1517 - mae: 11.1517\n",
      "Epoch 19/100\n",
      "2/2 [==============================] - 0s 5ms/step - loss: 18.4421 - mae: 18.4421\n",
      "Epoch 20/100\n",
      "2/2 [==============================] - 0s 5ms/step - loss: 15.1438 - mae: 15.1438\n",
      "Epoch 21/100\n",
      "2/2 [==============================] - 0s 3ms/step - loss: 11.1070 - mae: 11.1070\n",
      "Epoch 22/100\n",
      "2/2 [==============================] - 0s 4ms/step - loss: 8.2384 - mae: 8.2384\n",
      "Epoch 23/100\n",
      "2/2 [==============================] - 0s 4ms/step - loss: 9.4988 - mae: 9.4988\n",
      "Epoch 24/100\n",
      "2/2 [==============================] - 0s 7ms/step - loss: 7.7033 - mae: 7.7033\n",
      "Epoch 25/100\n",
      "2/2 [==============================] - 0s 3ms/step - loss: 13.1015 - mae: 13.1015\n",
      "Epoch 26/100\n",
      "2/2 [==============================] - 0s 9ms/step - loss: 16.5141 - mae: 16.5141\n",
      "Epoch 27/100\n",
      "2/2 [==============================] - 0s 4ms/step - loss: 13.2482 - mae: 13.2482\n",
      "Epoch 28/100\n",
      "2/2 [==============================] - 0s 5ms/step - loss: 14.3561 - mae: 14.3561\n",
      "Epoch 29/100\n",
      "2/2 [==============================] - 0s 4ms/step - loss: 10.1149 - mae: 10.1149\n",
      "Epoch 30/100\n",
      "2/2 [==============================] - 0s 3ms/step - loss: 16.4742 - mae: 16.4742\n",
      "Epoch 31/100\n",
      "2/2 [==============================] - 0s 4ms/step - loss: 23.5439 - mae: 23.5439\n",
      "Epoch 32/100\n",
      "2/2 [==============================] - 0s 5ms/step - loss: 7.6325 - mae: 7.6325\n",
      "Epoch 33/100\n",
      "2/2 [==============================] - 0s 4ms/step - loss: 9.3265 - mae: 9.3265\n",
      "Epoch 34/100\n",
      "2/2 [==============================] - 0s 4ms/step - loss: 13.6748 - mae: 13.6748\n",
      "Epoch 35/100\n",
      "2/2 [==============================] - 0s 5ms/step - loss: 11.2001 - mae: 11.2001\n",
      "Epoch 36/100\n",
      "2/2 [==============================] - 0s 5ms/step - loss: 13.4332 - mae: 13.4332\n",
      "Epoch 37/100\n",
      "2/2 [==============================] - 0s 4ms/step - loss: 9.4680 - mae: 9.4680\n",
      "Epoch 38/100\n",
      "2/2 [==============================] - 0s 4ms/step - loss: 10.1193 - mae: 10.1193\n",
      "Epoch 39/100\n",
      "2/2 [==============================] - 0s 3ms/step - loss: 8.9958 - mae: 8.9958\n",
      "Epoch 40/100\n",
      "2/2 [==============================] - 0s 4ms/step - loss: 9.6243 - mae: 9.6243\n",
      "Epoch 41/100\n",
      "2/2 [==============================] - 0s 3ms/step - loss: 10.5833 - mae: 10.5833\n",
      "Epoch 42/100\n",
      "2/2 [==============================] - 0s 3ms/step - loss: 10.6363 - mae: 10.6363\n",
      "Epoch 43/100\n",
      "2/2 [==============================] - 0s 4ms/step - loss: 7.2382 - mae: 7.2382\n",
      "Epoch 44/100\n",
      "2/2 [==============================] - 0s 3ms/step - loss: 8.0369 - mae: 8.0369\n",
      "Epoch 45/100\n",
      "2/2 [==============================] - 0s 5ms/step - loss: 9.8383 - mae: 9.8383\n",
      "Epoch 46/100\n",
      "2/2 [==============================] - 0s 3ms/step - loss: 8.9164 - mae: 8.9164\n",
      "Epoch 47/100\n",
      "2/2 [==============================] - 0s 3ms/step - loss: 7.5951 - mae: 7.5951\n",
      "Epoch 48/100\n",
      "2/2 [==============================] - 0s 3ms/step - loss: 8.5674 - mae: 8.5674\n",
      "Epoch 49/100\n",
      "2/2 [==============================] - 0s 4ms/step - loss: 10.0486 - mae: 10.0486\n",
      "Epoch 50/100\n",
      "2/2 [==============================] - 0s 4ms/step - loss: 9.0146 - mae: 9.0146\n",
      "Epoch 51/100\n",
      "2/2 [==============================] - 0s 3ms/step - loss: 10.7237 - mae: 10.7237\n",
      "Epoch 52/100\n",
      "2/2 [==============================] - 0s 4ms/step - loss: 15.2910 - mae: 15.2910\n",
      "Epoch 53/100\n",
      "2/2 [==============================] - 0s 3ms/step - loss: 14.3167 - mae: 14.3167\n",
      "Epoch 54/100\n",
      "2/2 [==============================] - 0s 3ms/step - loss: 21.5738 - mae: 21.5738\n",
      "Epoch 55/100\n",
      "2/2 [==============================] - 0s 5ms/step - loss: 16.0476 - mae: 16.0476\n",
      "Epoch 56/100\n",
      "2/2 [==============================] - 0s 4ms/step - loss: 10.2754 - mae: 10.2754\n",
      "Epoch 57/100\n",
      "2/2 [==============================] - 0s 4ms/step - loss: 9.8140 - mae: 9.8140\n",
      "Epoch 58/100\n",
      "2/2 [==============================] - 0s 6ms/step - loss: 9.0980 - mae: 9.0980\n",
      "Epoch 59/100\n",
      "2/2 [==============================] - 0s 4ms/step - loss: 8.2989 - mae: 8.2989\n",
      "Epoch 60/100\n",
      "2/2 [==============================] - 0s 4ms/step - loss: 9.3954 - mae: 9.3954\n",
      "Epoch 61/100\n",
      "2/2 [==============================] - 0s 6ms/step - loss: 11.2198 - mae: 11.2198\n",
      "Epoch 62/100\n",
      "2/2 [==============================] - 0s 4ms/step - loss: 12.0631 - mae: 12.0631\n",
      "Epoch 63/100\n",
      "2/2 [==============================] - 0s 4ms/step - loss: 7.2962 - mae: 7.2962\n",
      "Epoch 64/100\n",
      "2/2 [==============================] - 0s 4ms/step - loss: 12.4750 - mae: 12.4750\n",
      "Epoch 65/100\n",
      "2/2 [==============================] - 0s 7ms/step - loss: 10.5557 - mae: 10.5557\n",
      "Epoch 66/100\n",
      "2/2 [==============================] - 0s 3ms/step - loss: 15.5939 - mae: 15.5939\n",
      "Epoch 67/100\n",
      "2/2 [==============================] - 0s 4ms/step - loss: 10.0091 - mae: 10.0091\n",
      "Epoch 68/100\n",
      "2/2 [==============================] - 0s 10ms/step - loss: 8.7362 - mae: 8.7362\n",
      "Epoch 69/100\n",
      "2/2 [==============================] - 0s 4ms/step - loss: 13.4720 - mae: 13.4720\n",
      "Epoch 70/100\n",
      "2/2 [==============================] - 0s 4ms/step - loss: 7.4959 - mae: 7.4959\n",
      "Epoch 71/100\n",
      "2/2 [==============================] - 0s 9ms/step - loss: 12.2826 - mae: 12.2826\n",
      "Epoch 72/100\n",
      "2/2 [==============================] - 0s 4ms/step - loss: 8.5375 - mae: 8.5375\n",
      "Epoch 73/100\n",
      "2/2 [==============================] - 0s 3ms/step - loss: 7.0626 - mae: 7.0626\n",
      "Epoch 74/100\n",
      "2/2 [==============================] - 0s 3ms/step - loss: 9.9174 - mae: 9.9174\n",
      "Epoch 75/100\n",
      "2/2 [==============================] - 0s 3ms/step - loss: 9.9829 - mae: 9.9829\n",
      "Epoch 76/100\n",
      "2/2 [==============================] - 0s 4ms/step - loss: 10.1441 - mae: 10.1441\n",
      "Epoch 77/100\n",
      "2/2 [==============================] - 0s 3ms/step - loss: 13.0085 - mae: 13.0085\n",
      "Epoch 78/100\n",
      "2/2 [==============================] - 0s 3ms/step - loss: 10.9184 - mae: 10.9184\n",
      "Epoch 79/100\n",
      "2/2 [==============================] - 0s 3ms/step - loss: 15.3955 - mae: 15.3955\n",
      "Epoch 80/100\n",
      "2/2 [==============================] - 0s 4ms/step - loss: 11.7542 - mae: 11.7542\n",
      "Epoch 81/100\n",
      "2/2 [==============================] - 0s 4ms/step - loss: 9.2724 - mae: 9.2724\n",
      "Epoch 82/100\n",
      "2/2 [==============================] - 0s 3ms/step - loss: 12.7494 - mae: 12.7494\n",
      "Epoch 83/100\n",
      "2/2 [==============================] - 0s 4ms/step - loss: 8.3063 - mae: 8.3063\n",
      "Epoch 84/100\n",
      "2/2 [==============================] - 0s 3ms/step - loss: 7.3306 - mae: 7.3306\n",
      "Epoch 85/100\n",
      "2/2 [==============================] - 0s 3ms/step - loss: 10.4893 - mae: 10.4893\n",
      "Epoch 86/100\n",
      "2/2 [==============================] - 0s 3ms/step - loss: 9.1628 - mae: 9.1628\n",
      "Epoch 87/100\n",
      "2/2 [==============================] - 0s 4ms/step - loss: 11.8713 - mae: 11.8713\n",
      "Epoch 88/100\n",
      "2/2 [==============================] - 0s 3ms/step - loss: 10.4819 - mae: 10.4819\n",
      "Epoch 89/100\n",
      "2/2 [==============================] - 0s 3ms/step - loss: 6.9947 - mae: 6.9947\n",
      "Epoch 90/100\n",
      "2/2 [==============================] - 0s 5ms/step - loss: 13.8055 - mae: 13.8055\n",
      "Epoch 91/100\n",
      "2/2 [==============================] - 0s 3ms/step - loss: 7.8900 - mae: 7.8900\n",
      "Epoch 92/100\n",
      "2/2 [==============================] - 0s 5ms/step - loss: 7.9372 - mae: 7.9372\n",
      "Epoch 93/100\n",
      "2/2 [==============================] - 0s 3ms/step - loss: 9.4324 - mae: 9.4324\n",
      "Epoch 94/100\n",
      "2/2 [==============================] - 0s 4ms/step - loss: 8.7537 - mae: 8.7537\n",
      "Epoch 95/100\n",
      "2/2 [==============================] - 0s 3ms/step - loss: 9.8693 - mae: 9.8693\n",
      "Epoch 96/100\n",
      "2/2 [==============================] - 0s 3ms/step - loss: 7.3671 - mae: 7.3671\n",
      "Epoch 97/100\n",
      "2/2 [==============================] - 0s 3ms/step - loss: 6.8804 - mae: 6.8804\n",
      "Epoch 98/100\n",
      "2/2 [==============================] - 0s 4ms/step - loss: 7.2747 - mae: 7.2747\n",
      "Epoch 99/100\n",
      "2/2 [==============================] - 0s 5ms/step - loss: 7.4257 - mae: 7.4257\n",
      "Epoch 100/100\n",
      "2/2 [==============================] - 0s 3ms/step - loss: 11.1305 - mae: 11.1305\n"
     ]
    },
    {
     "data": {
      "text/plain": "<keras.callbacks.History at 0x231d40f7a90>"
     },
     "execution_count": 38,
     "metadata": {},
     "output_type": "execute_result"
    }
   ],
   "source": [
    "# Set random seed\n",
    "tf.random.set_seed(42)\n",
    "# Create the model\n",
    "model_1 = tf.keras.Sequential([\n",
    "  tf.keras.layers.Dense(1)\n",
    "], name=\"model_1\")\n",
    "\n",
    "# Compile the model\n",
    "model_1.compile(loss=tf.keras.losses.mae,\n",
    "                optimizer=tf.keras.optimizers.SGD(),\n",
    "                metrics=[\"mae\"])\n",
    "\n",
    "model_1.fit(tf.expand_dims(X_train, axis=-1), y_train, epochs=100, verbose=1)"
   ],
   "metadata": {
    "collapsed": false,
    "pycharm": {
     "name": "#%%\n"
    }
   }
  },
  {
   "cell_type": "code",
   "execution_count": 39,
   "outputs": [
    {
     "name": "stdout",
     "output_type": "stream",
     "text": [
      "WARNING:tensorflow:5 out of the last 5 calls to <function Model.make_predict_function.<locals>.predict_function at 0x00000231D6C1F820> triggered tf.function retracing. Tracing is expensive and the excessive number of tracings could be due to (1) creating @tf.function repeatedly in a loop, (2) passing tensors with different shapes, (3) passing Python objects instead of tensors. For (1), please define your @tf.function outside of the loop. For (2), @tf.function has reduce_retracing=True option that can avoid unnecessary retracing. For (3), please refer to https://www.tensorflow.org/guide/function#controlling_retracing and https://www.tensorflow.org/api_docs/python/tf/function for  more details.\n",
      "1/1 [==============================] - 0s 39ms/step\n"
     ]
    },
    {
     "data": {
      "text/plain": "<Figure size 1000x700 with 1 Axes>",
      "image/png": "[encoded data removed]"
     },
     "metadata": {},
     "output_type": "display_data"
    }
   ],
   "source": [
    "# Make and plot predictions for model_1\n",
    "y_pred_1 = model_1.predict(tf.expand_dims(X_test, axis=-1))\n",
    "plot_predictions(train_data=X_train,\n",
    "                 train_labels=y_train,\n",
    "                 test_data=X_test,\n",
    "                 test_labels=y_test,\n",
    "                 predictions=y_pred_1)"
   ],
   "metadata": {
    "collapsed": false,
    "pycharm": {
     "name": "#%%\n"
    }
   }
  },
  {
   "cell_type": "code",
   "execution_count": 40,
   "outputs": [
    {
     "data": {
      "text/plain": "(<tf.Tensor: shape=(), dtype=float32, numpy=21.354925>,\n <tf.Tensor: shape=(), dtype=float32, numpy=459.49652>)"
     },
     "execution_count": 40,
     "metadata": {},
     "output_type": "execute_result"
    }
   ],
   "source": [
    "# Evaluate model_1\n",
    "mae_1 = mae(y_test, y_pred_1)\n",
    "mse_1 = mse(y_test, y_pred_1)\n",
    "mae_1, mse_1"
   ],
   "metadata": {
    "collapsed": false,
    "pycharm": {
     "name": "#%%\n"
    }
   }
  },
  {
   "cell_type": "code",
   "execution_count": 41,
   "outputs": [
    {
     "name": "stdout",
     "output_type": "stream",
     "text": [
      "Epoch 1/100\n",
      "2/2 [==============================] - 0s 4ms/step - loss: 46.6536 - mae: 46.6536\n",
      "Epoch 2/100\n",
      "2/2 [==============================] - 0s 4ms/step - loss: 34.3198 - mae: 34.3198\n",
      "Epoch 3/100\n",
      "2/2 [==============================] - 0s 4ms/step - loss: 30.4077 - mae: 30.4077\n",
      "Epoch 4/100\n",
      "2/2 [==============================] - 0s 4ms/step - loss: 16.3017 - mae: 16.3017\n",
      "Epoch 5/100\n",
      "2/2 [==============================] - 0s 5ms/step - loss: 22.1947 - mae: 22.1947\n",
      "Epoch 6/100\n",
      "2/2 [==============================] - 0s 4ms/step - loss: 11.6058 - mae: 11.6058\n",
      "Epoch 7/100\n",
      "2/2 [==============================] - 0s 7ms/step - loss: 12.7071 - mae: 12.7071\n",
      "Epoch 8/100\n",
      "2/2 [==============================] - 0s 4ms/step - loss: 11.1225 - mae: 11.1225\n",
      "Epoch 9/100\n",
      "2/2 [==============================] - 0s 5ms/step - loss: 40.2735 - mae: 40.2735\n",
      "Epoch 10/100\n",
      "2/2 [==============================] - 0s 5ms/step - loss: 27.6915 - mae: 27.6915\n",
      "Epoch 11/100\n",
      "2/2 [==============================] - 0s 4ms/step - loss: 10.2646 - mae: 10.2646\n",
      "Epoch 12/100\n",
      "2/2 [==============================] - 0s 3ms/step - loss: 25.4275 - mae: 25.4275\n",
      "Epoch 13/100\n",
      "2/2 [==============================] - 0s 4ms/step - loss: 16.9234 - mae: 16.9234\n",
      "Epoch 14/100\n",
      "2/2 [==============================] - 0s 4ms/step - loss: 25.7927 - mae: 25.7927\n",
      "Epoch 15/100\n",
      "2/2 [==============================] - 0s 3ms/step - loss: 17.6369 - mae: 17.6369\n",
      "Epoch 16/100\n",
      "2/2 [==============================] - 0s 4ms/step - loss: 10.0715 - mae: 10.0715\n",
      "Epoch 17/100\n",
      "2/2 [==============================] - 0s 4ms/step - loss: 18.6418 - mae: 18.6418\n",
      "Epoch 18/100\n",
      "2/2 [==============================] - 0s 4ms/step - loss: 11.7775 - mae: 11.7775\n",
      "Epoch 19/100\n",
      "2/2 [==============================] - 0s 6ms/step - loss: 16.4635 - mae: 16.4635\n",
      "Epoch 20/100\n",
      "2/2 [==============================] - 0s 4ms/step - loss: 8.2485 - mae: 8.2485\n",
      "Epoch 21/100\n",
      "2/2 [==============================] - 0s 3ms/step - loss: 14.4336 - mae: 14.4336\n",
      "Epoch 22/100\n",
      "2/2 [==============================] - 0s 4ms/step - loss: 12.8482 - mae: 12.8482\n",
      "Epoch 23/100\n",
      "2/2 [==============================] - 0s 3ms/step - loss: 15.4862 - mae: 15.4862\n",
      "Epoch 24/100\n",
      "2/2 [==============================] - 0s 3ms/step - loss: 15.2761 - mae: 15.2761\n",
      "Epoch 25/100\n",
      "2/2 [==============================] - 0s 4ms/step - loss: 14.3486 - mae: 14.3486\n",
      "Epoch 26/100\n",
      "2/2 [==============================] - 0s 4ms/step - loss: 19.3578 - mae: 19.3578\n",
      "Epoch 27/100\n",
      "2/2 [==============================] - 0s 3ms/step - loss: 11.4526 - mae: 11.4526\n",
      "Epoch 28/100\n",
      "2/2 [==============================] - 0s 4ms/step - loss: 29.0559 - mae: 29.0559\n",
      "Epoch 29/100\n",
      "2/2 [==============================] - 0s 4ms/step - loss: 9.2567 - mae: 9.2567\n",
      "Epoch 30/100\n",
      "2/2 [==============================] - 0s 4ms/step - loss: 29.7965 - mae: 29.7965\n",
      "Epoch 31/100\n",
      "2/2 [==============================] - 0s 5ms/step - loss: 54.0626 - mae: 54.0626\n",
      "Epoch 32/100\n",
      "2/2 [==============================] - 0s 4ms/step - loss: 9.5666 - mae: 9.5666\n",
      "Epoch 33/100\n",
      "2/2 [==============================] - 0s 5ms/step - loss: 12.1562 - mae: 12.1562\n",
      "Epoch 34/100\n",
      "2/2 [==============================] - 0s 4ms/step - loss: 23.8447 - mae: 23.8447\n",
      "Epoch 35/100\n",
      "2/2 [==============================] - 0s 4ms/step - loss: 12.6360 - mae: 12.6360\n",
      "Epoch 36/100\n",
      "2/2 [==============================] - 0s 4ms/step - loss: 21.5578 - mae: 21.5578\n",
      "Epoch 37/100\n",
      "2/2 [==============================] - 0s 4ms/step - loss: 11.3616 - mae: 11.3616\n",
      "Epoch 38/100\n",
      "2/2 [==============================] - 0s 4ms/step - loss: 13.4266 - mae: 13.4266\n",
      "Epoch 39/100\n",
      "2/2 [==============================] - 0s 4ms/step - loss: 10.7750 - mae: 10.7750\n",
      "Epoch 40/100\n",
      "2/2 [==============================] - 0s 4ms/step - loss: 16.5360 - mae: 16.5360\n",
      "Epoch 41/100\n",
      "2/2 [==============================] - 0s 4ms/step - loss: 10.9460 - mae: 10.9460\n",
      "Epoch 42/100\n",
      "2/2 [==============================] - 0s 4ms/step - loss: 9.2799 - mae: 9.2799\n",
      "Epoch 43/100\n",
      "2/2 [==============================] - 0s 5ms/step - loss: 9.5900 - mae: 9.5900\n",
      "Epoch 44/100\n",
      "2/2 [==============================] - 0s 3ms/step - loss: 27.8823 - mae: 27.8823\n",
      "Epoch 45/100\n",
      "2/2 [==============================] - 0s 4ms/step - loss: 11.2604 - mae: 11.2604\n",
      "Epoch 46/100\n",
      "2/2 [==============================] - 0s 5ms/step - loss: 13.8421 - mae: 13.8421\n",
      "Epoch 47/100\n",
      "2/2 [==============================] - 0s 5ms/step - loss: 11.9312 - mae: 11.9312\n",
      "Epoch 48/100\n",
      "2/2 [==============================] - 0s 4ms/step - loss: 16.9710 - mae: 16.9710\n",
      "Epoch 49/100\n",
      "2/2 [==============================] - 0s 4ms/step - loss: 9.7695 - mae: 9.7695\n",
      "Epoch 50/100\n",
      "2/2 [==============================] - 0s 4ms/step - loss: 14.1535 - mae: 14.1535\n",
      "Epoch 51/100\n",
      "2/2 [==============================] - 0s 4ms/step - loss: 11.7339 - mae: 11.7339\n",
      "Epoch 52/100\n",
      "2/2 [==============================] - 0s 6ms/step - loss: 31.3302 - mae: 31.3302\n",
      "Epoch 53/100\n",
      "2/2 [==============================] - 0s 4ms/step - loss: 14.7025 - mae: 14.7025\n",
      "Epoch 54/100\n",
      "2/2 [==============================] - 0s 4ms/step - loss: 24.5715 - mae: 24.5715\n",
      "Epoch 55/100\n",
      "2/2 [==============================] - 0s 6ms/step - loss: 23.8517 - mae: 23.8517\n",
      "Epoch 56/100\n",
      "2/2 [==============================] - 0s 4ms/step - loss: 11.1108 - mae: 11.1108\n",
      "Epoch 57/100\n",
      "2/2 [==============================] - 0s 5ms/step - loss: 13.0430 - mae: 13.0430\n",
      "Epoch 58/100\n",
      "2/2 [==============================] - 0s 4ms/step - loss: 9.7722 - mae: 9.7722\n",
      "Epoch 59/100\n",
      "2/2 [==============================] - 0s 5ms/step - loss: 13.2155 - mae: 13.2155\n",
      "Epoch 60/100\n",
      "2/2 [==============================] - 0s 4ms/step - loss: 10.8218 - mae: 10.8218\n",
      "Epoch 61/100\n",
      "2/2 [==============================] - 0s 3ms/step - loss: 13.3948 - mae: 13.3948\n",
      "Epoch 62/100\n",
      "2/2 [==============================] - 0s 5ms/step - loss: 17.3377 - mae: 17.3377\n",
      "Epoch 63/100\n",
      "2/2 [==============================] - 0s 3ms/step - loss: 9.1306 - mae: 9.1306\n",
      "Epoch 64/100\n",
      "2/2 [==============================] - 0s 4ms/step - loss: 17.9589 - mae: 17.9589\n",
      "Epoch 65/100\n",
      "2/2 [==============================] - 0s 3ms/step - loss: 10.6151 - mae: 10.6151\n",
      "Epoch 66/100\n",
      "2/2 [==============================] - 0s 4ms/step - loss: 21.4763 - mae: 21.4763\n",
      "Epoch 67/100\n",
      "2/2 [==============================] - 0s 5ms/step - loss: 10.6253 - mae: 10.6253\n",
      "Epoch 68/100\n",
      "2/2 [==============================] - 0s 4ms/step - loss: 14.8593 - mae: 14.8593\n",
      "Epoch 69/100\n",
      "2/2 [==============================] - 0s 4ms/step - loss: 10.7698 - mae: 10.7698\n",
      "Epoch 70/100\n",
      "2/2 [==============================] - 0s 3ms/step - loss: 12.8706 - mae: 12.8706\n",
      "Epoch 71/100\n",
      "2/2 [==============================] - 0s 3ms/step - loss: 13.2905 - mae: 13.2905\n",
      "Epoch 72/100\n",
      "2/2 [==============================] - 0s 4ms/step - loss: 20.1345 - mae: 20.1345\n",
      "Epoch 73/100\n",
      "2/2 [==============================] - 0s 4ms/step - loss: 9.7357 - mae: 9.7357\n",
      "Epoch 74/100\n",
      "2/2 [==============================] - 0s 2ms/step - loss: 27.4364 - mae: 27.4364\n",
      "Epoch 75/100\n",
      "2/2 [==============================] - 0s 3ms/step - loss: 10.0178 - mae: 10.0178\n",
      "Epoch 76/100\n",
      "2/2 [==============================] - 0s 5ms/step - loss: 12.9364 - mae: 12.9364\n",
      "Epoch 77/100\n",
      "2/2 [==============================] - 0s 4ms/step - loss: 17.9285 - mae: 17.9285\n",
      "Epoch 78/100\n",
      "2/2 [==============================] - 0s 5ms/step - loss: 8.9614 - mae: 8.9614\n",
      "Epoch 79/100\n",
      "2/2 [==============================] - 0s 3ms/step - loss: 28.7712 - mae: 28.7712\n",
      "Epoch 80/100\n",
      "2/2 [==============================] - 0s 4ms/step - loss: 31.1173 - mae: 31.1173\n",
      "Epoch 81/100\n",
      "2/2 [==============================] - 0s 4ms/step - loss: 13.4477 - mae: 13.4477\n",
      "Epoch 82/100\n",
      "2/2 [==============================] - 0s 7ms/step - loss: 14.3070 - mae: 14.3070\n",
      "Epoch 83/100\n",
      "2/2 [==============================] - 0s 3ms/step - loss: 18.8373 - mae: 18.8373\n",
      "Epoch 84/100\n",
      "2/2 [==============================] - 0s 4ms/step - loss: 9.4528 - mae: 9.4528\n",
      "Epoch 85/100\n",
      "2/2 [==============================] - 0s 4ms/step - loss: 25.2330 - mae: 25.2330\n",
      "Epoch 86/100\n",
      "2/2 [==============================] - 0s 5ms/step - loss: 16.4616 - mae: 16.4616\n",
      "Epoch 87/100\n",
      "2/2 [==============================] - 0s 5ms/step - loss: 11.4739 - mae: 11.4739\n",
      "Epoch 88/100\n",
      "2/2 [==============================] - 0s 5ms/step - loss: 27.0906 - mae: 27.0906\n",
      "Epoch 89/100\n",
      "2/2 [==============================] - 0s 9ms/step - loss: 9.7451 - mae: 9.7451\n",
      "Epoch 90/100\n",
      "2/2 [==============================] - 0s 3ms/step - loss: 19.1216 - mae: 19.1216\n",
      "Epoch 91/100\n",
      "2/2 [==============================] - 0s 5ms/step - loss: 10.6066 - mae: 10.6066\n",
      "Epoch 92/100\n",
      "2/2 [==============================] - 0s 4ms/step - loss: 18.3367 - mae: 18.3367\n",
      "Epoch 93/100\n",
      "2/2 [==============================] - 0s 4ms/step - loss: 6.8589 - mae: 6.8589\n",
      "Epoch 94/100\n",
      "2/2 [==============================] - 0s 4ms/step - loss: 13.0889 - mae: 13.0889\n",
      "Epoch 95/100\n",
      "2/2 [==============================] - 0s 3ms/step - loss: 18.4888 - mae: 18.4888\n",
      "Epoch 96/100\n",
      "2/2 [==============================] - 0s 5ms/step - loss: 10.4164 - mae: 10.4164\n",
      "Epoch 97/100\n",
      "2/2 [==============================] - 0s 2ms/step - loss: 14.4849 - mae: 14.4849\n",
      "Epoch 98/100\n",
      "2/2 [==============================] - 0s 6ms/step - loss: 6.6164 - mae: 6.6164\n",
      "Epoch 99/100\n",
      "2/2 [==============================] - 0s 4ms/step - loss: 12.6123 - mae: 12.6123\n",
      "Epoch 100/100\n",
      "2/2 [==============================] - 0s 5ms/step - loss: 19.4181 - mae: 19.4181\n"
     ]
    },
    {
     "data": {
      "text/plain": "<keras.callbacks.History at 0x231da784100>"
     },
     "execution_count": 41,
     "metadata": {},
     "output_type": "execute_result"
    }
   ],
   "source": [
    "# Set random seed\n",
    "tf.random.set_seed(42)\n",
    "\n",
    "model_2 = tf.keras.Sequential([\n",
    "  tf.keras.layers.Dense(10, name=\"hidden_layer\"),\n",
    "  tf.keras.layers.Dense(1, name=\"output_layer\")\n",
    "], name=\"model_2\")\n",
    "\n",
    "# Compile the model\n",
    "model_2.compile(loss=tf.keras.losses.mae,\n",
    "                optimizer=tf.keras.optimizers.SGD(),\n",
    "                metrics=[\"mae\"])\n",
    "\n",
    "model_2.fit(tf.expand_dims(X_train, axis=-1), y_train, epochs=100, verbose=1)"
   ],
   "metadata": {
    "collapsed": false,
    "pycharm": {
     "name": "#%%\n"
    }
   }
  },
  {
   "cell_type": "code",
   "execution_count": 42,
   "outputs": [
    {
     "name": "stdout",
     "output_type": "stream",
     "text": [
      "WARNING:tensorflow:6 out of the last 6 calls to <function Model.make_predict_function.<locals>.predict_function at 0x00000231DD1AFE50> triggered tf.function retracing. Tracing is expensive and the excessive number of tracings could be due to (1) creating @tf.function repeatedly in a loop, (2) passing tensors with different shapes, (3) passing Python objects instead of tensors. For (1), please define your @tf.function outside of the loop. For (2), @tf.function has reduce_retracing=True option that can avoid unnecessary retracing. For (3), please refer to https://www.tensorflow.org/guide/function#controlling_retracing and https://www.tensorflow.org/api_docs/python/tf/function for  more details.\n",
      "1/1 [==============================] - 0s 52ms/step\n",
      "Model_2 MAE: 13.165124893188477, Model_2 MSE: 183.29515075683594\n"
     ]
    },
    {
     "data": {
      "text/plain": "<Figure size 1000x700 with 1 Axes>",
      "image/png": "[encoded data removed]"
     },
     "metadata": {},
     "output_type": "display_data"
    }
   ],
   "source": [
    "# Make and plot predictions for model_2\n",
    "y_pred_2 = model_2.predict(tf.expand_dims(X_test, axis=-1))\n",
    "print(\n",
    "    f\"Model_2 MAE: {mae(y_test, y_pred_2).numpy()}, Model_2 MSE: {mse(y_test, y_pred_2).numpy()}\"\n",
    ")\n",
    "plot_predictions(train_data=X_train,\n",
    "                 train_labels=y_train,\n",
    "                 test_data=X_test,\n",
    "                 test_labels=y_test,\n",
    "                 predictions=y_pred_2)"
   ],
   "metadata": {
    "collapsed": false,
    "pycharm": {
     "name": "#%%\n"
    }
   }
  },
  {
   "cell_type": "code",
   "execution_count": 43,
   "outputs": [
    {
     "name": "stdout",
     "output_type": "stream",
     "text": [
      "Epoch 1/500\n",
      "2/2 [==============================] - 0s 3ms/step - loss: 39.2416 - mae: 39.2416\n",
      "Epoch 2/500\n",
      "2/2 [==============================] - 0s 4ms/step - loss: 30.4707 - mae: 30.4707\n",
      "Epoch 3/500\n",
      "2/2 [==============================] - 0s 3ms/step - loss: 35.9719 - mae: 35.9719\n",
      "Epoch 4/500\n",
      "2/2 [==============================] - 0s 4ms/step - loss: 25.2685 - mae: 25.2685\n",
      "Epoch 5/500\n",
      "2/2 [==============================] - 0s 5ms/step - loss: 14.9486 - mae: 14.9486\n",
      "Epoch 6/500\n",
      "2/2 [==============================] - 0s 3ms/step - loss: 11.8953 - mae: 11.8953\n",
      "Epoch 7/500\n",
      "2/2 [==============================] - 0s 4ms/step - loss: 11.2304 - mae: 11.2304\n",
      "Epoch 8/500\n",
      "2/2 [==============================] - 0s 4ms/step - loss: 11.1289 - mae: 11.1289\n",
      "Epoch 9/500\n",
      "2/2 [==============================] - 0s 4ms/step - loss: 40.7997 - mae: 40.7997\n",
      "Epoch 10/500\n",
      "2/2 [==============================] - 0s 4ms/step - loss: 28.1510 - mae: 28.1510\n",
      "Epoch 11/500\n",
      "2/2 [==============================] - 0s 4ms/step - loss: 10.2514 - mae: 10.2514\n",
      "Epoch 12/500\n",
      "2/2 [==============================] - 0s 4ms/step - loss: 25.2225 - mae: 25.2225\n",
      "Epoch 13/500\n",
      "2/2 [==============================] - 0s 3ms/step - loss: 17.1278 - mae: 17.1278\n",
      "Epoch 14/500\n",
      "2/2 [==============================] - 0s 3ms/step - loss: 26.1743 - mae: 26.1743\n",
      "Epoch 15/500\n",
      "2/2 [==============================] - 0s 4ms/step - loss: 18.2007 - mae: 18.2007\n",
      "Epoch 16/500\n",
      "2/2 [==============================] - 0s 3ms/step - loss: 7.8622 - mae: 7.8622\n",
      "Epoch 17/500\n",
      "2/2 [==============================] - 0s 4ms/step - loss: 22.3163 - mae: 22.3163\n",
      "Epoch 18/500\n",
      "2/2 [==============================] - 0s 5ms/step - loss: 10.8586 - mae: 10.8586\n",
      "Epoch 19/500\n",
      "2/2 [==============================] - 0s 5ms/step - loss: 10.7485 - mae: 10.7485\n",
      "Epoch 20/500\n",
      "2/2 [==============================] - 0s 5ms/step - loss: 12.0701 - mae: 12.0701\n",
      "Epoch 21/500\n",
      "2/2 [==============================] - 0s 5ms/step - loss: 20.2327 - mae: 20.2327\n",
      "Epoch 22/500\n",
      "2/2 [==============================] - 0s 3ms/step - loss: 13.8357 - mae: 13.8357\n",
      "Epoch 23/500\n",
      "2/2 [==============================] - 0s 3ms/step - loss: 9.5643 - mae: 9.5643\n",
      "Epoch 24/500\n",
      "2/2 [==============================] - 0s 3ms/step - loss: 11.9234 - mae: 11.9234\n",
      "Epoch 25/500\n",
      "2/2 [==============================] - 0s 3ms/step - loss: 16.2742 - mae: 16.2742\n",
      "Epoch 26/500\n",
      "2/2 [==============================] - 0s 3ms/step - loss: 16.4636 - mae: 16.4636\n",
      "Epoch 27/500\n",
      "2/2 [==============================] - 0s 5ms/step - loss: 11.6070 - mae: 11.6070\n",
      "Epoch 28/500\n",
      "2/2 [==============================] - 0s 4ms/step - loss: 30.1053 - mae: 30.1053\n",
      "Epoch 29/500\n",
      "2/2 [==============================] - 0s 4ms/step - loss: 9.2537 - mae: 9.2537\n",
      "Epoch 30/500\n",
      "2/2 [==============================] - 0s 5ms/step - loss: 30.6267 - mae: 30.6267\n",
      "Epoch 31/500\n",
      "2/2 [==============================] - 0s 4ms/step - loss: 41.8991 - mae: 41.8991\n",
      "Epoch 32/500\n",
      "2/2 [==============================] - 0s 7ms/step - loss: 11.8761 - mae: 11.8761\n",
      "Epoch 33/500\n",
      "2/2 [==============================] - 0s 4ms/step - loss: 15.4567 - mae: 15.4567\n",
      "Epoch 34/500\n",
      "2/2 [==============================] - 0s 3ms/step - loss: 12.5594 - mae: 12.5594\n",
      "Epoch 35/500\n",
      "2/2 [==============================] - 0s 4ms/step - loss: 9.1715 - mae: 9.1715\n",
      "Epoch 36/500\n",
      "2/2 [==============================] - 0s 4ms/step - loss: 16.4447 - mae: 16.4447\n",
      "Epoch 37/500\n",
      "2/2 [==============================] - 0s 4ms/step - loss: 11.0793 - mae: 11.0793\n",
      "Epoch 38/500\n",
      "2/2 [==============================] - 0s 4ms/step - loss: 18.2100 - mae: 18.2100\n",
      "Epoch 39/500\n",
      "2/2 [==============================] - 0s 4ms/step - loss: 19.1404 - mae: 19.1404\n",
      "Epoch 40/500\n",
      "2/2 [==============================] - 0s 5ms/step - loss: 20.5079 - mae: 20.5079\n",
      "Epoch 41/500\n",
      "2/2 [==============================] - 0s 3ms/step - loss: 14.7894 - mae: 14.7894\n",
      "Epoch 42/500\n",
      "2/2 [==============================] - 0s 4ms/step - loss: 12.1887 - mae: 12.1887\n",
      "Epoch 43/500\n",
      "2/2 [==============================] - 0s 3ms/step - loss: 10.6783 - mae: 10.6783\n",
      "Epoch 44/500\n",
      "2/2 [==============================] - 0s 3ms/step - loss: 32.3149 - mae: 32.3149\n",
      "Epoch 45/500\n",
      "2/2 [==============================] - 0s 6ms/step - loss: 12.4613 - mae: 12.4613\n",
      "Epoch 46/500\n",
      "2/2 [==============================] - 0s 3ms/step - loss: 17.5537 - mae: 17.5537\n",
      "Epoch 47/500\n",
      "2/2 [==============================] - 0s 3ms/step - loss: 15.7302 - mae: 15.7302\n",
      "Epoch 48/500\n",
      "2/2 [==============================] - 0s 4ms/step - loss: 8.3512 - mae: 8.3512\n",
      "Epoch 49/500\n",
      "2/2 [==============================] - 0s 4ms/step - loss: 13.9547 - mae: 13.9547\n",
      "Epoch 50/500\n",
      "2/2 [==============================] - 0s 5ms/step - loss: 12.8034 - mae: 12.8034\n",
      "Epoch 51/500\n",
      "2/2 [==============================] - 0s 3ms/step - loss: 14.8147 - mae: 14.8147\n",
      "Epoch 52/500\n",
      "2/2 [==============================] - 0s 4ms/step - loss: 18.7013 - mae: 18.7013\n",
      "Epoch 53/500\n",
      "2/2 [==============================] - 0s 4ms/step - loss: 24.1374 - mae: 24.1374\n",
      "Epoch 54/500\n",
      "2/2 [==============================] - 0s 4ms/step - loss: 23.2477 - mae: 23.2477\n",
      "Epoch 55/500\n",
      "2/2 [==============================] - 0s 4ms/step - loss: 24.1099 - mae: 24.1099\n",
      "Epoch 56/500\n",
      "2/2 [==============================] - 0s 5ms/step - loss: 11.1678 - mae: 11.1678\n",
      "Epoch 57/500\n",
      "2/2 [==============================] - 0s 5ms/step - loss: 13.1355 - mae: 13.1355\n",
      "Epoch 58/500\n",
      "2/2 [==============================] - 0s 4ms/step - loss: 9.8160 - mae: 9.8160\n",
      "Epoch 59/500\n",
      "2/2 [==============================] - 0s 5ms/step - loss: 13.3386 - mae: 13.3386\n",
      "Epoch 60/500\n",
      "2/2 [==============================] - 0s 5ms/step - loss: 10.8811 - mae: 10.8811\n",
      "Epoch 61/500\n",
      "2/2 [==============================] - 0s 4ms/step - loss: 13.5025 - mae: 13.5025\n",
      "Epoch 62/500\n",
      "2/2 [==============================] - 0s 5ms/step - loss: 17.8143 - mae: 17.8143\n",
      "Epoch 63/500\n",
      "2/2 [==============================] - 0s 4ms/step - loss: 8.7008 - mae: 8.7008\n",
      "Epoch 64/500\n",
      "2/2 [==============================] - 0s 4ms/step - loss: 16.0856 - mae: 16.0856\n",
      "Epoch 65/500\n",
      "2/2 [==============================] - 0s 5ms/step - loss: 10.7071 - mae: 10.7071\n",
      "Epoch 66/500\n",
      "2/2 [==============================] - 0s 4ms/step - loss: 22.1433 - mae: 22.1433\n",
      "Epoch 67/500\n",
      "2/2 [==============================] - 0s 4ms/step - loss: 10.2322 - mae: 10.2322\n",
      "Epoch 68/500\n",
      "2/2 [==============================] - 0s 5ms/step - loss: 13.4395 - mae: 13.4395\n",
      "Epoch 69/500\n",
      "2/2 [==============================] - 0s 3ms/step - loss: 11.4007 - mae: 11.4007\n",
      "Epoch 70/500\n",
      "2/2 [==============================] - 0s 4ms/step - loss: 13.5852 - mae: 13.5852\n",
      "Epoch 71/500\n",
      "2/2 [==============================] - 0s 3ms/step - loss: 15.6124 - mae: 15.6124\n",
      "Epoch 72/500\n",
      "2/2 [==============================] - 0s 3ms/step - loss: 11.8285 - mae: 11.8285\n",
      "Epoch 73/500\n",
      "2/2 [==============================] - 0s 4ms/step - loss: 16.6224 - mae: 16.6224\n",
      "Epoch 74/500\n",
      "2/2 [==============================] - 0s 3ms/step - loss: 24.1786 - mae: 24.1786\n",
      "Epoch 75/500\n",
      "2/2 [==============================] - 0s 4ms/step - loss: 9.6164 - mae: 9.6164\n",
      "Epoch 76/500\n",
      "2/2 [==============================] - 0s 5ms/step - loss: 12.4716 - mae: 12.4716\n",
      "Epoch 77/500\n",
      "2/2 [==============================] - 0s 4ms/step - loss: 16.7501 - mae: 16.7501\n",
      "Epoch 78/500\n",
      "2/2 [==============================] - 0s 5ms/step - loss: 9.0653 - mae: 9.0653\n",
      "Epoch 79/500\n",
      "2/2 [==============================] - 0s 4ms/step - loss: 24.1030 - mae: 24.1030\n",
      "Epoch 80/500\n",
      "2/2 [==============================] - 0s 4ms/step - loss: 26.9091 - mae: 26.9091\n",
      "Epoch 81/500\n",
      "2/2 [==============================] - 0s 4ms/step - loss: 11.7373 - mae: 11.7373\n",
      "Epoch 82/500\n",
      "2/2 [==============================] - 0s 5ms/step - loss: 11.9734 - mae: 11.9734\n",
      "Epoch 83/500\n",
      "2/2 [==============================] - 0s 3ms/step - loss: 17.3518 - mae: 17.3518\n",
      "Epoch 84/500\n",
      "2/2 [==============================] - 0s 3ms/step - loss: 7.2432 - mae: 7.2432\n",
      "Epoch 85/500\n",
      "2/2 [==============================] - 0s 4ms/step - loss: 14.9093 - mae: 14.9093\n",
      "Epoch 86/500\n",
      "2/2 [==============================] - 0s 3ms/step - loss: 15.2407 - mae: 15.2407\n",
      "Epoch 87/500\n",
      "2/2 [==============================] - 0s 4ms/step - loss: 19.0205 - mae: 19.0205\n",
      "Epoch 88/500\n",
      "2/2 [==============================] - 0s 3ms/step - loss: 30.0493 - mae: 30.0493\n",
      "Epoch 89/500\n",
      "2/2 [==============================] - 0s 3ms/step - loss: 10.1999 - mae: 10.1999\n",
      "Epoch 90/500\n",
      "2/2 [==============================] - 0s 3ms/step - loss: 21.7130 - mae: 21.7130\n",
      "Epoch 91/500\n",
      "2/2 [==============================] - 0s 4ms/step - loss: 10.6103 - mae: 10.6103\n",
      "Epoch 92/500\n",
      "2/2 [==============================] - 0s 5ms/step - loss: 18.5694 - mae: 18.5694\n",
      "Epoch 93/500\n",
      "2/2 [==============================] - 0s 3ms/step - loss: 8.1621 - mae: 8.1621\n",
      "Epoch 94/500\n",
      "2/2 [==============================] - 0s 5ms/step - loss: 11.3767 - mae: 11.3767\n",
      "Epoch 95/500\n",
      "2/2 [==============================] - 0s 6ms/step - loss: 25.5232 - mae: 25.5232\n",
      "Epoch 96/500\n",
      "2/2 [==============================] - 0s 3ms/step - loss: 10.9986 - mae: 10.9986\n",
      "Epoch 97/500\n",
      "2/2 [==============================] - 0s 4ms/step - loss: 16.3652 - mae: 16.3652\n",
      "Epoch 98/500\n",
      "2/2 [==============================] - 0s 5ms/step - loss: 6.8218 - mae: 6.8218\n",
      "Epoch 99/500\n",
      "2/2 [==============================] - 0s 4ms/step - loss: 11.6796 - mae: 11.6796\n",
      "Epoch 100/500\n",
      "2/2 [==============================] - 0s 4ms/step - loss: 23.4897 - mae: 23.4897\n",
      "Epoch 101/500\n",
      "2/2 [==============================] - 0s 4ms/step - loss: 21.2992 - mae: 21.2992\n",
      "Epoch 102/500\n",
      "2/2 [==============================] - 0s 5ms/step - loss: 10.7545 - mae: 10.7545\n",
      "Epoch 103/500\n",
      "2/2 [==============================] - 0s 5ms/step - loss: 9.1569 - mae: 9.1569\n",
      "Epoch 104/500\n",
      "2/2 [==============================] - 0s 3ms/step - loss: 23.9100 - mae: 23.9100\n",
      "Epoch 105/500\n",
      "2/2 [==============================] - 0s 6ms/step - loss: 10.8423 - mae: 10.8423\n",
      "Epoch 106/500\n",
      "2/2 [==============================] - 0s 4ms/step - loss: 11.3018 - mae: 11.3018\n",
      "Epoch 107/500\n",
      "2/2 [==============================] - 0s 4ms/step - loss: 21.5027 - mae: 21.5027\n",
      "Epoch 108/500\n",
      "2/2 [==============================] - 0s 5ms/step - loss: 6.5701 - mae: 6.5701\n",
      "Epoch 109/500\n",
      "2/2 [==============================] - 0s 5ms/step - loss: 13.3317 - mae: 13.3317\n",
      "Epoch 110/500\n",
      "2/2 [==============================] - 0s 4ms/step - loss: 7.9670 - mae: 7.9670\n",
      "Epoch 111/500\n",
      "2/2 [==============================] - 0s 4ms/step - loss: 15.7375 - mae: 15.7375\n",
      "Epoch 112/500\n",
      "2/2 [==============================] - 0s 4ms/step - loss: 8.7347 - mae: 8.7347\n",
      "Epoch 113/500\n",
      "2/2 [==============================] - 0s 4ms/step - loss: 22.7202 - mae: 22.7202\n",
      "Epoch 114/500\n",
      "2/2 [==============================] - 0s 6ms/step - loss: 19.0602 - mae: 19.0602\n",
      "Epoch 115/500\n",
      "2/2 [==============================] - 0s 4ms/step - loss: 11.0819 - mae: 11.0819\n",
      "Epoch 116/500\n",
      "2/2 [==============================] - 0s 4ms/step - loss: 23.1745 - mae: 23.1745\n",
      "Epoch 117/500\n",
      "2/2 [==============================] - 0s 5ms/step - loss: 9.5718 - mae: 9.5718\n",
      "Epoch 118/500\n",
      "2/2 [==============================] - 0s 5ms/step - loss: 10.6410 - mae: 10.6410\n",
      "Epoch 119/500\n",
      "2/2 [==============================] - 0s 4ms/step - loss: 8.0270 - mae: 8.0270\n",
      "Epoch 120/500\n",
      "2/2 [==============================] - 0s 4ms/step - loss: 29.5297 - mae: 29.5297\n",
      "Epoch 121/500\n",
      "2/2 [==============================] - 0s 4ms/step - loss: 8.0644 - mae: 8.0644\n",
      "Epoch 122/500\n",
      "2/2 [==============================] - 0s 4ms/step - loss: 28.1818 - mae: 28.1818\n",
      "Epoch 123/500\n",
      "2/2 [==============================] - 0s 5ms/step - loss: 32.7449 - mae: 32.7449\n",
      "Epoch 124/500\n",
      "2/2 [==============================] - 0s 6ms/step - loss: 19.5117 - mae: 19.5117\n",
      "Epoch 125/500\n",
      "2/2 [==============================] - 0s 4ms/step - loss: 9.5600 - mae: 9.5600\n",
      "Epoch 126/500\n",
      "2/2 [==============================] - 0s 4ms/step - loss: 9.6273 - mae: 9.6273\n",
      "Epoch 127/500\n",
      "2/2 [==============================] - 0s 5ms/step - loss: 12.8281 - mae: 12.8281\n",
      "Epoch 128/500\n",
      "2/2 [==============================] - 0s 3ms/step - loss: 13.3620 - mae: 13.3620\n",
      "Epoch 129/500\n",
      "2/2 [==============================] - 0s 3ms/step - loss: 10.2001 - mae: 10.2001\n",
      "Epoch 130/500\n",
      "2/2 [==============================] - 0s 5ms/step - loss: 17.5346 - mae: 17.5346\n",
      "Epoch 131/500\n",
      "2/2 [==============================] - 0s 3ms/step - loss: 9.5079 - mae: 9.5079\n",
      "Epoch 132/500\n",
      "2/2 [==============================] - 0s 6ms/step - loss: 17.4471 - mae: 17.4471\n",
      "Epoch 133/500\n",
      "2/2 [==============================] - 0s 4ms/step - loss: 7.0918 - mae: 7.0918\n",
      "Epoch 134/500\n",
      "2/2 [==============================] - 0s 4ms/step - loss: 23.8086 - mae: 23.8086\n",
      "Epoch 135/500\n",
      "2/2 [==============================] - 0s 10ms/step - loss: 16.6953 - mae: 16.6953\n",
      "Epoch 136/500\n",
      "2/2 [==============================] - 0s 5ms/step - loss: 14.9039 - mae: 14.9039\n",
      "Epoch 137/500\n",
      "2/2 [==============================] - 0s 3ms/step - loss: 23.2242 - mae: 23.2242\n",
      "Epoch 138/500\n",
      "2/2 [==============================] - 0s 7ms/step - loss: 9.1523 - mae: 9.1523\n",
      "Epoch 139/500\n",
      "2/2 [==============================] - 0s 3ms/step - loss: 8.9263 - mae: 8.9263\n",
      "Epoch 140/500\n",
      "2/2 [==============================] - 0s 3ms/step - loss: 16.5211 - mae: 16.5211\n",
      "Epoch 141/500\n",
      "2/2 [==============================] - 0s 3ms/step - loss: 8.4154 - mae: 8.4154\n",
      "Epoch 142/500\n",
      "2/2 [==============================] - 0s 4ms/step - loss: 37.0614 - mae: 37.0614\n",
      "Epoch 143/500\n",
      "2/2 [==============================] - 0s 4ms/step - loss: 25.6643 - mae: 25.6643\n",
      "Epoch 144/500\n",
      "2/2 [==============================] - 0s 4ms/step - loss: 9.5296 - mae: 9.5296\n",
      "Epoch 145/500\n",
      "2/2 [==============================] - 0s 8ms/step - loss: 26.5790 - mae: 26.5790\n",
      "Epoch 146/500\n",
      "2/2 [==============================] - 0s 3ms/step - loss: 8.7550 - mae: 8.7550\n",
      "Epoch 147/500\n",
      "2/2 [==============================] - 0s 4ms/step - loss: 15.5889 - mae: 15.5889\n",
      "Epoch 148/500\n",
      "2/2 [==============================] - 0s 5ms/step - loss: 18.2697 - mae: 18.2697\n",
      "Epoch 149/500\n",
      "2/2 [==============================] - 0s 3ms/step - loss: 8.2221 - mae: 8.2221\n",
      "Epoch 150/500\n",
      "2/2 [==============================] - 0s 3ms/step - loss: 7.5002 - mae: 7.5002\n",
      "Epoch 151/500\n",
      "2/2 [==============================] - 0s 5ms/step - loss: 18.4164 - mae: 18.4164\n",
      "Epoch 152/500\n",
      "2/2 [==============================] - 0s 5ms/step - loss: 10.3031 - mae: 10.3031\n",
      "Epoch 153/500\n",
      "2/2 [==============================] - 0s 5ms/step - loss: 29.7715 - mae: 29.7715\n",
      "Epoch 154/500\n",
      "2/2 [==============================] - 0s 5ms/step - loss: 10.5264 - mae: 10.5264\n",
      "Epoch 155/500\n",
      "2/2 [==============================] - 0s 4ms/step - loss: 15.4271 - mae: 15.4271\n",
      "Epoch 156/500\n",
      "2/2 [==============================] - 0s 4ms/step - loss: 16.9607 - mae: 16.9607\n",
      "Epoch 157/500\n",
      "2/2 [==============================] - 0s 4ms/step - loss: 32.9684 - mae: 32.9684\n",
      "Epoch 158/500\n",
      "2/2 [==============================] - 0s 8ms/step - loss: 10.7395 - mae: 10.7395\n",
      "Epoch 159/500\n",
      "2/2 [==============================] - 0s 4ms/step - loss: 8.9186 - mae: 8.9186\n",
      "Epoch 160/500\n",
      "2/2 [==============================] - 0s 4ms/step - loss: 22.2415 - mae: 22.2415\n",
      "Epoch 161/500\n",
      "2/2 [==============================] - 0s 6ms/step - loss: 11.7488 - mae: 11.7488\n",
      "Epoch 162/500\n",
      "2/2 [==============================] - 0s 4ms/step - loss: 21.6772 - mae: 21.6772\n",
      "Epoch 163/500\n",
      "2/2 [==============================] - 0s 3ms/step - loss: 19.3462 - mae: 19.3462\n",
      "Epoch 164/500\n",
      "2/2 [==============================] - 0s 4ms/step - loss: 11.0721 - mae: 11.0721\n",
      "Epoch 165/500\n",
      "2/2 [==============================] - 0s 4ms/step - loss: 9.5970 - mae: 9.5970\n",
      "Epoch 166/500\n",
      "2/2 [==============================] - 0s 6ms/step - loss: 21.5349 - mae: 21.5349\n",
      "Epoch 167/500\n",
      "2/2 [==============================] - 0s 4ms/step - loss: 26.4254 - mae: 26.4254\n",
      "Epoch 168/500\n",
      "2/2 [==============================] - 0s 4ms/step - loss: 9.8716 - mae: 9.8716\n",
      "Epoch 169/500\n",
      "2/2 [==============================] - 0s 5ms/step - loss: 22.7084 - mae: 22.7084\n",
      "Epoch 170/500\n",
      "2/2 [==============================] - 0s 5ms/step - loss: 10.1224 - mae: 10.1224\n",
      "Epoch 171/500\n",
      "2/2 [==============================] - 0s 4ms/step - loss: 17.9820 - mae: 17.9820\n",
      "Epoch 172/500\n",
      "2/2 [==============================] - 0s 4ms/step - loss: 28.9923 - mae: 28.9923\n",
      "Epoch 173/500\n",
      "2/2 [==============================] - 0s 4ms/step - loss: 16.6477 - mae: 16.6477\n",
      "Epoch 174/500\n",
      "2/2 [==============================] - 0s 3ms/step - loss: 11.1943 - mae: 11.1943\n",
      "Epoch 175/500\n",
      "2/2 [==============================] - 0s 4ms/step - loss: 27.5435 - mae: 27.5435\n",
      "Epoch 176/500\n",
      "2/2 [==============================] - 0s 5ms/step - loss: 8.3047 - mae: 8.3047\n",
      "Epoch 177/500\n",
      "2/2 [==============================] - 0s 3ms/step - loss: 9.2838 - mae: 9.2838\n",
      "Epoch 178/500\n",
      "2/2 [==============================] - 0s 5ms/step - loss: 18.2764 - mae: 18.2764\n",
      "Epoch 179/500\n",
      "2/2 [==============================] - 0s 6ms/step - loss: 10.5373 - mae: 10.5373\n",
      "Epoch 180/500\n",
      "2/2 [==============================] - 0s 3ms/step - loss: 7.9153 - mae: 7.9153\n",
      "Epoch 181/500\n",
      "2/2 [==============================] - 0s 4ms/step - loss: 17.5170 - mae: 17.5170\n",
      "Epoch 182/500\n",
      "2/2 [==============================] - 0s 4ms/step - loss: 11.0544 - mae: 11.0544\n",
      "Epoch 183/500\n",
      "2/2 [==============================] - 0s 3ms/step - loss: 11.7564 - mae: 11.7564\n",
      "Epoch 184/500\n",
      "2/2 [==============================] - 0s 5ms/step - loss: 30.5967 - mae: 30.5967\n",
      "Epoch 185/500\n",
      "2/2 [==============================] - 0s 3ms/step - loss: 7.5339 - mae: 7.5339\n",
      "Epoch 186/500\n",
      "2/2 [==============================] - 0s 6ms/step - loss: 15.9280 - mae: 15.9280\n",
      "Epoch 187/500\n",
      "2/2 [==============================] - 0s 4ms/step - loss: 8.5699 - mae: 8.5699\n",
      "Epoch 188/500\n",
      "2/2 [==============================] - 0s 4ms/step - loss: 28.9312 - mae: 28.9312\n",
      "Epoch 189/500\n",
      "2/2 [==============================] - 0s 5ms/step - loss: 13.1261 - mae: 13.1261\n",
      "Epoch 190/500\n",
      "2/2 [==============================] - 0s 4ms/step - loss: 18.2623 - mae: 18.2623\n",
      "Epoch 191/500\n",
      "2/2 [==============================] - 0s 4ms/step - loss: 13.6811 - mae: 13.6811\n",
      "Epoch 192/500\n",
      "2/2 [==============================] - 0s 5ms/step - loss: 13.6856 - mae: 13.6856\n",
      "Epoch 193/500\n",
      "2/2 [==============================] - 0s 4ms/step - loss: 28.5381 - mae: 28.5381\n",
      "Epoch 194/500\n",
      "2/2 [==============================] - 0s 4ms/step - loss: 7.1170 - mae: 7.1170\n",
      "Epoch 195/500\n",
      "2/2 [==============================] - 0s 4ms/step - loss: 7.0460 - mae: 7.0460\n",
      "Epoch 196/500\n",
      "2/2 [==============================] - 0s 4ms/step - loss: 21.9337 - mae: 21.9337\n",
      "Epoch 197/500\n",
      "2/2 [==============================] - 0s 5ms/step - loss: 20.9947 - mae: 20.9947\n",
      "Epoch 198/500\n",
      "2/2 [==============================] - 0s 4ms/step - loss: 12.5568 - mae: 12.5568\n",
      "Epoch 199/500\n",
      "2/2 [==============================] - 0s 4ms/step - loss: 18.0400 - mae: 18.0400\n",
      "Epoch 200/500\n",
      "2/2 [==============================] - 0s 3ms/step - loss: 13.8697 - mae: 13.8697\n",
      "Epoch 201/500\n",
      "2/2 [==============================] - 0s 4ms/step - loss: 6.0239 - mae: 6.0239\n",
      "Epoch 202/500\n",
      "2/2 [==============================] - 0s 5ms/step - loss: 22.9135 - mae: 22.9135\n",
      "Epoch 203/500\n",
      "2/2 [==============================] - 0s 4ms/step - loss: 8.9507 - mae: 8.9507\n",
      "Epoch 204/500\n",
      "2/2 [==============================] - 0s 3ms/step - loss: 18.8856 - mae: 18.8856\n",
      "Epoch 205/500\n",
      "2/2 [==============================] - 0s 7ms/step - loss: 9.3655 - mae: 9.3655\n",
      "Epoch 206/500\n",
      "2/2 [==============================] - 0s 9ms/step - loss: 10.4315 - mae: 10.4315\n",
      "Epoch 207/500\n",
      "2/2 [==============================] - 0s 6ms/step - loss: 21.1805 - mae: 21.1805\n",
      "Epoch 208/500\n",
      "2/2 [==============================] - 0s 4ms/step - loss: 16.5181 - mae: 16.5181\n",
      "Epoch 209/500\n",
      "2/2 [==============================] - 0s 3ms/step - loss: 14.4240 - mae: 14.4240\n",
      "Epoch 210/500\n",
      "2/2 [==============================] - 0s 4ms/step - loss: 19.4585 - mae: 19.4585\n",
      "Epoch 211/500\n",
      "2/2 [==============================] - 0s 4ms/step - loss: 10.3156 - mae: 10.3156\n",
      "Epoch 212/500\n",
      "2/2 [==============================] - 0s 3ms/step - loss: 20.2713 - mae: 20.2713\n",
      "Epoch 213/500\n",
      "2/2 [==============================] - 0s 3ms/step - loss: 15.0315 - mae: 15.0315\n",
      "Epoch 214/500\n",
      "2/2 [==============================] - 0s 3ms/step - loss: 14.5830 - mae: 14.5830\n",
      "Epoch 215/500\n",
      "2/2 [==============================] - 0s 4ms/step - loss: 23.2917 - mae: 23.2917\n",
      "Epoch 216/500\n",
      "2/2 [==============================] - 0s 3ms/step - loss: 13.3776 - mae: 13.3776\n",
      "Epoch 217/500\n",
      "2/2 [==============================] - 0s 5ms/step - loss: 9.8666 - mae: 9.8666\n",
      "Epoch 218/500\n",
      "2/2 [==============================] - 0s 3ms/step - loss: 12.5360 - mae: 12.5360\n",
      "Epoch 219/500\n",
      "2/2 [==============================] - 0s 4ms/step - loss: 4.9502 - mae: 4.9502\n",
      "Epoch 220/500\n",
      "2/2 [==============================] - 0s 4ms/step - loss: 13.2648 - mae: 13.2648\n",
      "Epoch 221/500\n",
      "2/2 [==============================] - 0s 3ms/step - loss: 31.8312 - mae: 31.8312\n",
      "Epoch 222/500\n",
      "2/2 [==============================] - 0s 6ms/step - loss: 9.1749 - mae: 9.1749\n",
      "Epoch 223/500\n",
      "2/2 [==============================] - 0s 4ms/step - loss: 9.9210 - mae: 9.9210\n",
      "Epoch 224/500\n",
      "2/2 [==============================] - 0s 4ms/step - loss: 14.4587 - mae: 14.4587\n",
      "Epoch 225/500\n",
      "2/2 [==============================] - 0s 3ms/step - loss: 16.4509 - mae: 16.4509\n",
      "Epoch 226/500\n",
      "2/2 [==============================] - 0s 4ms/step - loss: 15.6041 - mae: 15.6041\n",
      "Epoch 227/500\n",
      "2/2 [==============================] - 0s 3ms/step - loss: 16.0673 - mae: 16.0673\n",
      "Epoch 228/500\n",
      "2/2 [==============================] - 0s 4ms/step - loss: 13.8479 - mae: 13.8479\n",
      "Epoch 229/500\n",
      "2/2 [==============================] - 0s 3ms/step - loss: 17.9494 - mae: 17.9494\n",
      "Epoch 230/500\n",
      "2/2 [==============================] - 0s 4ms/step - loss: 15.5351 - mae: 15.5351\n",
      "Epoch 231/500\n",
      "2/2 [==============================] - 0s 3ms/step - loss: 21.0523 - mae: 21.0523\n",
      "Epoch 232/500\n",
      "2/2 [==============================] - 0s 4ms/step - loss: 25.6193 - mae: 25.6193\n",
      "Epoch 233/500\n",
      "2/2 [==============================] - 0s 7ms/step - loss: 16.5840 - mae: 16.5840\n",
      "Epoch 234/500\n",
      "2/2 [==============================] - 0s 3ms/step - loss: 7.3326 - mae: 7.3326\n",
      "Epoch 235/500\n",
      "2/2 [==============================] - 0s 4ms/step - loss: 17.2381 - mae: 17.2381\n",
      "Epoch 236/500\n",
      "2/2 [==============================] - 0s 3ms/step - loss: 7.2117 - mae: 7.2117\n",
      "Epoch 237/500\n",
      "2/2 [==============================] - 0s 4ms/step - loss: 9.3341 - mae: 9.3341\n",
      "Epoch 238/500\n",
      "2/2 [==============================] - 0s 4ms/step - loss: 8.1636 - mae: 8.1636\n",
      "Epoch 239/500\n",
      "2/2 [==============================] - 0s 4ms/step - loss: 17.3395 - mae: 17.3395\n",
      "Epoch 240/500\n",
      "2/2 [==============================] - 0s 4ms/step - loss: 8.9688 - mae: 8.9688\n",
      "Epoch 241/500\n",
      "2/2 [==============================] - 0s 4ms/step - loss: 13.3786 - mae: 13.3786\n",
      "Epoch 242/500\n",
      "2/2 [==============================] - 0s 4ms/step - loss: 8.8664 - mae: 8.8664\n",
      "Epoch 243/500\n",
      "2/2 [==============================] - 0s 4ms/step - loss: 19.2598 - mae: 19.2598\n",
      "Epoch 244/500\n",
      "2/2 [==============================] - 0s 4ms/step - loss: 13.8920 - mae: 13.8920\n",
      "Epoch 245/500\n",
      "2/2 [==============================] - 0s 5ms/step - loss: 14.5413 - mae: 14.5413\n",
      "Epoch 246/500\n",
      "2/2 [==============================] - 0s 3ms/step - loss: 15.6755 - mae: 15.6755\n",
      "Epoch 247/500\n",
      "2/2 [==============================] - 0s 4ms/step - loss: 17.5104 - mae: 17.5104\n",
      "Epoch 248/500\n",
      "2/2 [==============================] - 0s 3ms/step - loss: 13.0766 - mae: 13.0766\n",
      "Epoch 249/500\n",
      "2/2 [==============================] - 0s 4ms/step - loss: 14.4186 - mae: 14.4186\n",
      "Epoch 250/500\n",
      "2/2 [==============================] - 0s 6ms/step - loss: 27.8186 - mae: 27.8186\n",
      "Epoch 251/500\n",
      "2/2 [==============================] - 0s 4ms/step - loss: 7.4863 - mae: 7.4863\n",
      "Epoch 252/500\n",
      "2/2 [==============================] - 0s 4ms/step - loss: 38.2084 - mae: 38.2084\n",
      "Epoch 253/500\n",
      "2/2 [==============================] - 0s 8ms/step - loss: 23.1055 - mae: 23.1055\n",
      "Epoch 254/500\n",
      "2/2 [==============================] - 0s 4ms/step - loss: 7.2747 - mae: 7.2747\n",
      "Epoch 255/500\n",
      "2/2 [==============================] - 0s 4ms/step - loss: 24.6214 - mae: 24.6214\n",
      "Epoch 256/500\n",
      "2/2 [==============================] - 0s 4ms/step - loss: 12.3788 - mae: 12.3788\n",
      "Epoch 257/500\n",
      "2/2 [==============================] - 0s 4ms/step - loss: 10.5505 - mae: 10.5505\n",
      "Epoch 258/500\n",
      "2/2 [==============================] - 0s 5ms/step - loss: 14.1863 - mae: 14.1863\n",
      "Epoch 259/500\n",
      "2/2 [==============================] - 0s 3ms/step - loss: 11.2421 - mae: 11.2421\n",
      "Epoch 260/500\n",
      "2/2 [==============================] - 0s 3ms/step - loss: 31.6275 - mae: 31.6275\n",
      "Epoch 261/500\n",
      "2/2 [==============================] - 0s 4ms/step - loss: 11.1577 - mae: 11.1577\n",
      "Epoch 262/500\n",
      "2/2 [==============================] - 0s 3ms/step - loss: 10.0153 - mae: 10.0153\n",
      "Epoch 263/500\n",
      "2/2 [==============================] - 0s 7ms/step - loss: 8.9298 - mae: 8.9298\n",
      "Epoch 264/500\n",
      "2/2 [==============================] - 0s 3ms/step - loss: 21.5330 - mae: 21.5330\n",
      "Epoch 265/500\n",
      "2/2 [==============================] - 0s 3ms/step - loss: 11.4237 - mae: 11.4237\n",
      "Epoch 266/500\n",
      "2/2 [==============================] - 0s 5ms/step - loss: 13.2549 - mae: 13.2549\n",
      "Epoch 267/500\n",
      "2/2 [==============================] - 0s 4ms/step - loss: 11.0566 - mae: 11.0566\n",
      "Epoch 268/500\n",
      "2/2 [==============================] - 0s 4ms/step - loss: 21.7052 - mae: 21.7052\n",
      "Epoch 269/500\n",
      "2/2 [==============================] - 0s 5ms/step - loss: 32.9522 - mae: 32.9522\n",
      "Epoch 270/500\n",
      "2/2 [==============================] - 0s 6ms/step - loss: 9.7300 - mae: 9.7300\n",
      "Epoch 271/500\n",
      "2/2 [==============================] - 0s 4ms/step - loss: 7.6996 - mae: 7.6996\n",
      "Epoch 272/500\n",
      "2/2 [==============================] - 0s 4ms/step - loss: 28.4958 - mae: 28.4958\n",
      "Epoch 273/500\n",
      "2/2 [==============================] - 0s 4ms/step - loss: 7.3776 - mae: 7.3776\n",
      "Epoch 274/500\n",
      "2/2 [==============================] - 0s 4ms/step - loss: 6.3137 - mae: 6.3137\n",
      "Epoch 275/500\n",
      "2/2 [==============================] - 0s 5ms/step - loss: 37.2294 - mae: 37.2294\n",
      "Epoch 276/500\n",
      "2/2 [==============================] - 0s 3ms/step - loss: 8.2761 - mae: 8.2761\n",
      "Epoch 277/500\n",
      "2/2 [==============================] - 0s 3ms/step - loss: 28.0072 - mae: 28.0072\n",
      "Epoch 278/500\n",
      "2/2 [==============================] - 0s 4ms/step - loss: 10.5940 - mae: 10.5940\n",
      "Epoch 279/500\n",
      "2/2 [==============================] - 0s 5ms/step - loss: 16.0432 - mae: 16.0432\n",
      "Epoch 280/500\n",
      "2/2 [==============================] - 0s 3ms/step - loss: 21.1076 - mae: 21.1076\n",
      "Epoch 281/500\n",
      "2/2 [==============================] - 0s 3ms/step - loss: 24.1086 - mae: 24.1086\n",
      "Epoch 282/500\n",
      "2/2 [==============================] - 0s 2ms/step - loss: 8.3119 - mae: 8.3119\n",
      "Epoch 283/500\n",
      "2/2 [==============================] - 0s 4ms/step - loss: 9.0527 - mae: 9.0527\n",
      "Epoch 284/500\n",
      "2/2 [==============================] - 0s 4ms/step - loss: 23.0507 - mae: 23.0507\n",
      "Epoch 285/500\n",
      "2/2 [==============================] - 0s 4ms/step - loss: 12.0944 - mae: 12.0944\n",
      "Epoch 286/500\n",
      "2/2 [==============================] - 0s 5ms/step - loss: 6.8712 - mae: 6.8712\n",
      "Epoch 287/500\n",
      "2/2 [==============================] - 0s 5ms/step - loss: 24.3759 - mae: 24.3759\n",
      "Epoch 288/500\n",
      "2/2 [==============================] - 0s 3ms/step - loss: 20.6262 - mae: 20.6262\n",
      "Epoch 289/500\n",
      "2/2 [==============================] - 0s 4ms/step - loss: 11.8292 - mae: 11.8292\n",
      "Epoch 290/500\n",
      "2/2 [==============================] - 0s 3ms/step - loss: 16.4114 - mae: 16.4114\n",
      "Epoch 291/500\n",
      "2/2 [==============================] - 0s 4ms/step - loss: 16.6325 - mae: 16.6325\n",
      "Epoch 292/500\n",
      "2/2 [==============================] - 0s 3ms/step - loss: 8.1150 - mae: 8.1150\n",
      "Epoch 293/500\n",
      "2/2 [==============================] - 0s 4ms/step - loss: 16.0970 - mae: 16.0970\n",
      "Epoch 294/500\n",
      "2/2 [==============================] - 0s 4ms/step - loss: 24.4097 - mae: 24.4097\n",
      "Epoch 295/500\n",
      "2/2 [==============================] - 0s 5ms/step - loss: 13.8616 - mae: 13.8616\n",
      "Epoch 296/500\n",
      "2/2 [==============================] - 0s 4ms/step - loss: 6.1030 - mae: 6.1030\n",
      "Epoch 297/500\n",
      "2/2 [==============================] - 0s 4ms/step - loss: 10.9442 - mae: 10.9442\n",
      "Epoch 298/500\n",
      "2/2 [==============================] - 0s 4ms/step - loss: 23.1821 - mae: 23.1821\n",
      "Epoch 299/500\n",
      "2/2 [==============================] - 0s 4ms/step - loss: 17.6747 - mae: 17.6747\n",
      "Epoch 300/500\n",
      "2/2 [==============================] - 0s 4ms/step - loss: 6.9390 - mae: 6.9390\n",
      "Epoch 301/500\n",
      "2/2 [==============================] - 0s 3ms/step - loss: 25.1127 - mae: 25.1127\n",
      "Epoch 302/500\n",
      "2/2 [==============================] - 0s 5ms/step - loss: 8.8581 - mae: 8.8581\n",
      "Epoch 303/500\n",
      "2/2 [==============================] - 0s 8ms/step - loss: 17.7259 - mae: 17.7259\n",
      "Epoch 304/500\n",
      "2/2 [==============================] - 0s 3ms/step - loss: 10.9481 - mae: 10.9481\n",
      "Epoch 305/500\n",
      "2/2 [==============================] - 0s 6ms/step - loss: 12.8938 - mae: 12.8938\n",
      "Epoch 306/500\n",
      "2/2 [==============================] - 0s 6ms/step - loss: 8.3659 - mae: 8.3659\n",
      "Epoch 307/500\n",
      "2/2 [==============================] - 0s 5ms/step - loss: 13.5928 - mae: 13.5928\n",
      "Epoch 308/500\n",
      "2/2 [==============================] - 0s 4ms/step - loss: 7.4105 - mae: 7.4105\n",
      "Epoch 309/500\n",
      "2/2 [==============================] - 0s 6ms/step - loss: 9.4464 - mae: 9.4464\n",
      "Epoch 310/500\n",
      "2/2 [==============================] - 0s 4ms/step - loss: 10.7184 - mae: 10.7184\n",
      "Epoch 311/500\n",
      "2/2 [==============================] - 0s 4ms/step - loss: 13.2623 - mae: 13.2623\n",
      "Epoch 312/500\n",
      "2/2 [==============================] - 0s 5ms/step - loss: 29.9641 - mae: 29.9641\n",
      "Epoch 313/500\n",
      "2/2 [==============================] - 0s 3ms/step - loss: 7.6204 - mae: 7.6204\n",
      "Epoch 314/500\n",
      "2/2 [==============================] - 0s 4ms/step - loss: 9.8855 - mae: 9.8855\n",
      "Epoch 315/500\n",
      "2/2 [==============================] - 0s 3ms/step - loss: 23.7339 - mae: 23.7339\n",
      "Epoch 316/500\n",
      "2/2 [==============================] - 0s 4ms/step - loss: 16.4542 - mae: 16.4542\n",
      "Epoch 317/500\n",
      "2/2 [==============================] - 0s 6ms/step - loss: 21.1466 - mae: 21.1466\n",
      "Epoch 318/500\n",
      "2/2 [==============================] - 0s 4ms/step - loss: 7.9284 - mae: 7.9284\n",
      "Epoch 319/500\n",
      "2/2 [==============================] - 0s 4ms/step - loss: 18.0485 - mae: 18.0485\n",
      "Epoch 320/500\n",
      "2/2 [==============================] - 0s 4ms/step - loss: 10.5769 - mae: 10.5769\n",
      "Epoch 321/500\n",
      "2/2 [==============================] - 0s 4ms/step - loss: 6.9564 - mae: 6.9564\n",
      "Epoch 322/500\n",
      "2/2 [==============================] - 0s 5ms/step - loss: 8.6498 - mae: 8.6498\n",
      "Epoch 323/500\n",
      "2/2 [==============================] - 0s 3ms/step - loss: 18.3243 - mae: 18.3243\n",
      "Epoch 324/500\n",
      "2/2 [==============================] - 0s 4ms/step - loss: 6.2580 - mae: 6.2580\n",
      "Epoch 325/500\n",
      "2/2 [==============================] - 0s 3ms/step - loss: 14.6117 - mae: 14.6117\n",
      "Epoch 326/500\n",
      "2/2 [==============================] - 0s 4ms/step - loss: 6.9469 - mae: 6.9469\n",
      "Epoch 327/500\n",
      "2/2 [==============================] - 0s 3ms/step - loss: 17.6769 - mae: 17.6769\n",
      "Epoch 328/500\n",
      "2/2 [==============================] - 0s 3ms/step - loss: 14.3501 - mae: 14.3501\n",
      "Epoch 329/500\n",
      "2/2 [==============================] - 0s 4ms/step - loss: 17.6415 - mae: 17.6415\n",
      "Epoch 330/500\n",
      "2/2 [==============================] - 0s 3ms/step - loss: 6.7426 - mae: 6.7426\n",
      "Epoch 331/500\n",
      "2/2 [==============================] - 0s 5ms/step - loss: 19.8582 - mae: 19.8582\n",
      "Epoch 332/500\n",
      "2/2 [==============================] - 0s 4ms/step - loss: 10.5521 - mae: 10.5521\n",
      "Epoch 333/500\n",
      "2/2 [==============================] - 0s 4ms/step - loss: 16.5650 - mae: 16.5650\n",
      "Epoch 334/500\n",
      "2/2 [==============================] - 0s 4ms/step - loss: 10.4988 - mae: 10.4988\n",
      "Epoch 335/500\n",
      "2/2 [==============================] - 0s 4ms/step - loss: 13.0727 - mae: 13.0727\n",
      "Epoch 336/500\n",
      "2/2 [==============================] - 0s 4ms/step - loss: 32.5784 - mae: 32.5784\n",
      "Epoch 337/500\n",
      "2/2 [==============================] - 0s 4ms/step - loss: 11.1342 - mae: 11.1342\n",
      "Epoch 338/500\n",
      "2/2 [==============================] - 0s 4ms/step - loss: 20.1626 - mae: 20.1626\n",
      "Epoch 339/500\n",
      "2/2 [==============================] - 0s 3ms/step - loss: 33.7230 - mae: 33.7230\n",
      "Epoch 340/500\n",
      "2/2 [==============================] - 0s 4ms/step - loss: 8.5493 - mae: 8.5493\n",
      "Epoch 341/500\n",
      "2/2 [==============================] - 0s 5ms/step - loss: 21.4885 - mae: 21.4885\n",
      "Epoch 342/500\n",
      "2/2 [==============================] - 0s 4ms/step - loss: 14.0788 - mae: 14.0788\n",
      "Epoch 343/500\n",
      "2/2 [==============================] - 0s 4ms/step - loss: 11.6121 - mae: 11.6121\n",
      "Epoch 344/500\n",
      "2/2 [==============================] - 0s 5ms/step - loss: 10.6456 - mae: 10.6456\n",
      "Epoch 345/500\n",
      "2/2 [==============================] - 0s 4ms/step - loss: 30.8582 - mae: 30.8582\n",
      "Epoch 346/500\n",
      "2/2 [==============================] - 0s 4ms/step - loss: 10.5960 - mae: 10.5960\n",
      "Epoch 347/500\n",
      "2/2 [==============================] - 0s 4ms/step - loss: 25.4893 - mae: 25.4893\n",
      "Epoch 348/500\n",
      "2/2 [==============================] - 0s 4ms/step - loss: 13.4428 - mae: 13.4428\n",
      "Epoch 349/500\n",
      "2/2 [==============================] - 0s 5ms/step - loss: 12.9526 - mae: 12.9526\n",
      "Epoch 350/500\n",
      "2/2 [==============================] - 0s 4ms/step - loss: 15.3592 - mae: 15.3592\n",
      "Epoch 351/500\n",
      "2/2 [==============================] - 0s 4ms/step - loss: 32.8320 - mae: 32.8320\n",
      "Epoch 352/500\n",
      "2/2 [==============================] - 0s 5ms/step - loss: 14.0120 - mae: 14.0120\n",
      "Epoch 353/500\n",
      "2/2 [==============================] - 0s 4ms/step - loss: 17.6831 - mae: 17.6831\n",
      "Epoch 354/500\n",
      "2/2 [==============================] - 0s 4ms/step - loss: 11.2990 - mae: 11.2990\n",
      "Epoch 355/500\n",
      "2/2 [==============================] - 0s 3ms/step - loss: 26.6828 - mae: 26.6828\n",
      "Epoch 356/500\n",
      "2/2 [==============================] - 0s 5ms/step - loss: 10.2606 - mae: 10.2606\n",
      "Epoch 357/500\n",
      "2/2 [==============================] - 0s 4ms/step - loss: 14.9011 - mae: 14.9011\n",
      "Epoch 358/500\n",
      "2/2 [==============================] - 0s 7ms/step - loss: 14.8063 - mae: 14.8063\n",
      "Epoch 359/500\n",
      "2/2 [==============================] - 0s 6ms/step - loss: 12.2613 - mae: 12.2613\n",
      "Epoch 360/500\n",
      "2/2 [==============================] - 0s 5ms/step - loss: 20.2364 - mae: 20.2364\n",
      "Epoch 361/500\n",
      "2/2 [==============================] - 0s 4ms/step - loss: 11.0508 - mae: 11.0508\n",
      "Epoch 362/500\n",
      "2/2 [==============================] - 0s 4ms/step - loss: 6.7994 - mae: 6.7994\n",
      "Epoch 363/500\n",
      "2/2 [==============================] - 0s 4ms/step - loss: 24.0798 - mae: 24.0798\n",
      "Epoch 364/500\n",
      "2/2 [==============================] - 0s 3ms/step - loss: 29.8687 - mae: 29.8687\n",
      "Epoch 365/500\n",
      "2/2 [==============================] - 0s 4ms/step - loss: 8.3615 - mae: 8.3615\n",
      "Epoch 366/500\n",
      "2/2 [==============================] - 0s 3ms/step - loss: 6.0666 - mae: 6.0666\n",
      "Epoch 367/500\n",
      "2/2 [==============================] - 0s 4ms/step - loss: 35.0802 - mae: 35.0802\n",
      "Epoch 368/500\n",
      "2/2 [==============================] - 0s 3ms/step - loss: 7.4145 - mae: 7.4145\n",
      "Epoch 369/500\n",
      "2/2 [==============================] - 0s 4ms/step - loss: 9.6568 - mae: 9.6568\n",
      "Epoch 370/500\n",
      "2/2 [==============================] - 0s 6ms/step - loss: 7.7647 - mae: 7.7647\n",
      "Epoch 371/500\n",
      "2/2 [==============================] - 0s 4ms/step - loss: 20.0417 - mae: 20.0417\n",
      "Epoch 372/500\n",
      "2/2 [==============================] - 0s 4ms/step - loss: 12.5194 - mae: 12.5194\n",
      "Epoch 373/500\n",
      "2/2 [==============================] - 0s 2ms/step - loss: 26.4321 - mae: 26.4321\n",
      "Epoch 374/500\n",
      "2/2 [==============================] - 0s 4ms/step - loss: 9.2250 - mae: 9.2250\n",
      "Epoch 375/500\n",
      "2/2 [==============================] - 0s 4ms/step - loss: 4.8644 - mae: 4.8644\n",
      "Epoch 376/500\n",
      "2/2 [==============================] - 0s 4ms/step - loss: 17.6156 - mae: 17.6156\n",
      "Epoch 377/500\n",
      "2/2 [==============================] - 0s 5ms/step - loss: 14.2535 - mae: 14.2535\n",
      "Epoch 378/500\n",
      "2/2 [==============================] - 0s 5ms/step - loss: 15.9038 - mae: 15.9038\n",
      "Epoch 379/500\n",
      "2/2 [==============================] - 0s 4ms/step - loss: 19.9741 - mae: 19.9741\n",
      "Epoch 380/500\n",
      "2/2 [==============================] - 0s 5ms/step - loss: 36.2405 - mae: 36.2405\n",
      "Epoch 381/500\n",
      "2/2 [==============================] - 0s 4ms/step - loss: 9.9905 - mae: 9.9905\n",
      "Epoch 382/500\n",
      "2/2 [==============================] - 0s 3ms/step - loss: 5.7592 - mae: 5.7592\n",
      "Epoch 383/500\n",
      "2/2 [==============================] - 0s 6ms/step - loss: 14.4296 - mae: 14.4296\n",
      "Epoch 384/500\n",
      "2/2 [==============================] - 0s 4ms/step - loss: 16.2968 - mae: 16.2968\n",
      "Epoch 385/500\n",
      "2/2 [==============================] - 0s 6ms/step - loss: 11.7605 - mae: 11.7605\n",
      "Epoch 386/500\n",
      "2/2 [==============================] - 0s 6ms/step - loss: 20.2598 - mae: 20.2598\n",
      "Epoch 387/500\n",
      "2/2 [==============================] - 0s 5ms/step - loss: 23.6571 - mae: 23.6571\n",
      "Epoch 388/500\n",
      "2/2 [==============================] - 0s 5ms/step - loss: 7.4021 - mae: 7.4021\n",
      "Epoch 389/500\n",
      "2/2 [==============================] - 0s 3ms/step - loss: 13.7283 - mae: 13.7283\n",
      "Epoch 390/500\n",
      "2/2 [==============================] - 0s 5ms/step - loss: 6.8363 - mae: 6.8363\n",
      "Epoch 391/500\n",
      "2/2 [==============================] - 0s 3ms/step - loss: 16.4696 - mae: 16.4696\n",
      "Epoch 392/500\n",
      "2/2 [==============================] - 0s 3ms/step - loss: 14.8085 - mae: 14.8085\n",
      "Epoch 393/500\n",
      "2/2 [==============================] - 0s 4ms/step - loss: 12.2988 - mae: 12.2988\n",
      "Epoch 394/500\n",
      "2/2 [==============================] - 0s 5ms/step - loss: 14.1784 - mae: 14.1784\n",
      "Epoch 395/500\n",
      "2/2 [==============================] - 0s 5ms/step - loss: 28.6542 - mae: 28.6542\n",
      "Epoch 396/500\n",
      "2/2 [==============================] - 0s 5ms/step - loss: 8.1786 - mae: 8.1786\n",
      "Epoch 397/500\n",
      "2/2 [==============================] - 0s 4ms/step - loss: 10.5605 - mae: 10.5605\n",
      "Epoch 398/500\n",
      "2/2 [==============================] - 0s 4ms/step - loss: 7.3580 - mae: 7.3580\n",
      "Epoch 399/500\n",
      "2/2 [==============================] - 0s 4ms/step - loss: 15.7317 - mae: 15.7317\n",
      "Epoch 400/500\n",
      "2/2 [==============================] - 0s 5ms/step - loss: 6.7211 - mae: 6.7211\n",
      "Epoch 401/500\n",
      "2/2 [==============================] - 0s 5ms/step - loss: 8.4416 - mae: 8.4416\n",
      "Epoch 402/500\n",
      "2/2 [==============================] - 0s 4ms/step - loss: 14.9953 - mae: 14.9953\n",
      "Epoch 403/500\n",
      "2/2 [==============================] - 0s 5ms/step - loss: 12.2920 - mae: 12.2920\n",
      "Epoch 404/500\n",
      "2/2 [==============================] - 0s 5ms/step - loss: 22.8378 - mae: 22.8378\n",
      "Epoch 405/500\n",
      "2/2 [==============================] - 0s 6ms/step - loss: 18.2947 - mae: 18.2947\n",
      "Epoch 406/500\n",
      "2/2 [==============================] - 0s 3ms/step - loss: 7.0717 - mae: 7.0717\n",
      "Epoch 407/500\n",
      "2/2 [==============================] - 0s 5ms/step - loss: 12.7811 - mae: 12.7811\n",
      "Epoch 408/500\n",
      "2/2 [==============================] - 0s 5ms/step - loss: 5.6365 - mae: 5.6365\n",
      "Epoch 409/500\n",
      "2/2 [==============================] - 0s 6ms/step - loss: 31.5653 - mae: 31.5653\n",
      "Epoch 410/500\n",
      "2/2 [==============================] - 0s 4ms/step - loss: 9.1561 - mae: 9.1561\n",
      "Epoch 411/500\n",
      "2/2 [==============================] - 0s 5ms/step - loss: 14.8004 - mae: 14.8004\n",
      "Epoch 412/500\n",
      "2/2 [==============================] - 0s 4ms/step - loss: 21.6405 - mae: 21.6405\n",
      "Epoch 413/500\n",
      "2/2 [==============================] - 0s 5ms/step - loss: 12.9456 - mae: 12.9456\n",
      "Epoch 414/500\n",
      "2/2 [==============================] - 0s 5ms/step - loss: 8.3165 - mae: 8.3165\n",
      "Epoch 415/500\n",
      "2/2 [==============================] - 0s 4ms/step - loss: 11.7178 - mae: 11.7178\n",
      "Epoch 416/500\n",
      "2/2 [==============================] - 0s 3ms/step - loss: 25.6858 - mae: 25.6858\n",
      "Epoch 417/500\n",
      "2/2 [==============================] - 0s 5ms/step - loss: 15.5712 - mae: 15.5712\n",
      "Epoch 418/500\n",
      "2/2 [==============================] - 0s 4ms/step - loss: 12.6203 - mae: 12.6203\n",
      "Epoch 419/500\n",
      "2/2 [==============================] - 0s 5ms/step - loss: 15.7386 - mae: 15.7386\n",
      "Epoch 420/500\n",
      "2/2 [==============================] - 0s 6ms/step - loss: 24.4821 - mae: 24.4821\n",
      "Epoch 421/500\n",
      "2/2 [==============================] - 0s 3ms/step - loss: 18.1340 - mae: 18.1340\n",
      "Epoch 422/500\n",
      "2/2 [==============================] - 0s 3ms/step - loss: 8.6182 - mae: 8.6182\n",
      "Epoch 423/500\n",
      "2/2 [==============================] - 0s 5ms/step - loss: 24.6744 - mae: 24.6744\n",
      "Epoch 424/500\n",
      "2/2 [==============================] - 0s 3ms/step - loss: 16.7963 - mae: 16.7963\n",
      "Epoch 425/500\n",
      "2/2 [==============================] - 0s 4ms/step - loss: 7.2571 - mae: 7.2571\n",
      "Epoch 426/500\n",
      "2/2 [==============================] - 0s 4ms/step - loss: 20.9775 - mae: 20.9775\n",
      "Epoch 427/500\n",
      "2/2 [==============================] - 0s 4ms/step - loss: 6.4458 - mae: 6.4458\n",
      "Epoch 428/500\n",
      "2/2 [==============================] - 0s 4ms/step - loss: 13.4600 - mae: 13.4600\n",
      "Epoch 429/500\n",
      "2/2 [==============================] - 0s 6ms/step - loss: 11.4453 - mae: 11.4453\n",
      "Epoch 430/500\n",
      "2/2 [==============================] - 0s 4ms/step - loss: 10.2147 - mae: 10.2147\n",
      "Epoch 431/500\n",
      "2/2 [==============================] - 0s 3ms/step - loss: 11.4895 - mae: 11.4895\n",
      "Epoch 432/500\n",
      "2/2 [==============================] - 0s 4ms/step - loss: 9.9108 - mae: 9.9108\n",
      "Epoch 433/500\n",
      "2/2 [==============================] - 0s 4ms/step - loss: 3.8040 - mae: 3.8040\n",
      "Epoch 434/500\n",
      "2/2 [==============================] - 0s 4ms/step - loss: 28.3256 - mae: 28.3256\n",
      "Epoch 435/500\n",
      "2/2 [==============================] - 0s 3ms/step - loss: 5.3283 - mae: 5.3283\n",
      "Epoch 436/500\n",
      "2/2 [==============================] - 0s 5ms/step - loss: 41.4434 - mae: 41.4434\n",
      "Epoch 437/500\n",
      "2/2 [==============================] - 0s 3ms/step - loss: 5.1366 - mae: 5.1366\n",
      "Epoch 438/500\n",
      "2/2 [==============================] - 0s 5ms/step - loss: 13.8598 - mae: 13.8598\n",
      "Epoch 439/500\n",
      "2/2 [==============================] - 0s 5ms/step - loss: 31.8646 - mae: 31.8646\n",
      "Epoch 440/500\n",
      "2/2 [==============================] - 0s 5ms/step - loss: 12.2285 - mae: 12.2285\n",
      "Epoch 441/500\n",
      "2/2 [==============================] - 0s 4ms/step - loss: 15.6129 - mae: 15.6129\n",
      "Epoch 442/500\n",
      "2/2 [==============================] - 0s 4ms/step - loss: 23.3893 - mae: 23.3893\n",
      "Epoch 443/500\n",
      "2/2 [==============================] - 0s 4ms/step - loss: 20.9725 - mae: 20.9725\n",
      "Epoch 444/500\n",
      "2/2 [==============================] - 0s 5ms/step - loss: 8.7017 - mae: 8.7017\n",
      "Epoch 445/500\n",
      "2/2 [==============================] - 0s 4ms/step - loss: 14.0329 - mae: 14.0329\n",
      "Epoch 446/500\n",
      "2/2 [==============================] - 0s 4ms/step - loss: 16.7155 - mae: 16.7155\n",
      "Epoch 447/500\n",
      "2/2 [==============================] - 0s 3ms/step - loss: 6.7150 - mae: 6.7150\n",
      "Epoch 448/500\n",
      "2/2 [==============================] - 0s 5ms/step - loss: 6.6626 - mae: 6.6626\n",
      "Epoch 449/500\n",
      "2/2 [==============================] - 0s 4ms/step - loss: 15.5597 - mae: 15.5597\n",
      "Epoch 450/500\n",
      "2/2 [==============================] - 0s 5ms/step - loss: 16.5069 - mae: 16.5069\n",
      "Epoch 451/500\n",
      "2/2 [==============================] - 0s 7ms/step - loss: 14.1602 - mae: 14.1602\n",
      "Epoch 452/500\n",
      "2/2 [==============================] - 0s 3ms/step - loss: 30.4127 - mae: 30.4127\n",
      "Epoch 453/500\n",
      "2/2 [==============================] - 0s 4ms/step - loss: 4.2343 - mae: 4.2343\n",
      "Epoch 454/500\n",
      "2/2 [==============================] - 0s 5ms/step - loss: 26.2734 - mae: 26.2734\n",
      "Epoch 455/500\n",
      "2/2 [==============================] - 0s 3ms/step - loss: 14.0803 - mae: 14.0803\n",
      "Epoch 456/500\n",
      "2/2 [==============================] - 0s 6ms/step - loss: 14.8253 - mae: 14.8253\n",
      "Epoch 457/500\n",
      "2/2 [==============================] - 0s 6ms/step - loss: 18.0908 - mae: 18.0908\n",
      "Epoch 458/500\n",
      "2/2 [==============================] - 0s 4ms/step - loss: 25.5845 - mae: 25.5845\n",
      "Epoch 459/500\n",
      "2/2 [==============================] - 0s 4ms/step - loss: 18.7155 - mae: 18.7155\n",
      "Epoch 460/500\n",
      "2/2 [==============================] - 0s 5ms/step - loss: 5.4614 - mae: 5.4614\n",
      "Epoch 461/500\n",
      "2/2 [==============================] - 0s 4ms/step - loss: 10.3109 - mae: 10.3109\n",
      "Epoch 462/500\n",
      "2/2 [==============================] - 0s 3ms/step - loss: 11.6710 - mae: 11.6710\n",
      "Epoch 463/500\n",
      "2/2 [==============================] - 0s 3ms/step - loss: 27.0023 - mae: 27.0023\n",
      "Epoch 464/500\n",
      "2/2 [==============================] - 0s 3ms/step - loss: 11.9268 - mae: 11.9268\n",
      "Epoch 465/500\n",
      "2/2 [==============================] - 0s 5ms/step - loss: 7.4513 - mae: 7.4513\n",
      "Epoch 466/500\n",
      "2/2 [==============================] - 0s 3ms/step - loss: 12.6226 - mae: 12.6226\n",
      "Epoch 467/500\n",
      "2/2 [==============================] - 0s 3ms/step - loss: 6.0037 - mae: 6.0037\n",
      "Epoch 468/500\n",
      "2/2 [==============================] - 0s 3ms/step - loss: 14.0852 - mae: 14.0852\n",
      "Epoch 469/500\n",
      "2/2 [==============================] - 0s 4ms/step - loss: 12.7664 - mae: 12.7664\n",
      "Epoch 470/500\n",
      "2/2 [==============================] - 0s 5ms/step - loss: 3.0969 - mae: 3.0969\n",
      "Epoch 471/500\n",
      "2/2 [==============================] - 0s 4ms/step - loss: 16.6786 - mae: 16.6786\n",
      "Epoch 472/500\n",
      "2/2 [==============================] - 0s 6ms/step - loss: 13.3780 - mae: 13.3780\n",
      "Epoch 473/500\n",
      "2/2 [==============================] - 0s 5ms/step - loss: 15.2313 - mae: 15.2313\n",
      "Epoch 474/500\n",
      "2/2 [==============================] - 0s 3ms/step - loss: 11.6895 - mae: 11.6895\n",
      "Epoch 475/500\n",
      "2/2 [==============================] - 0s 5ms/step - loss: 16.3899 - mae: 16.3899\n",
      "Epoch 476/500\n",
      "2/2 [==============================] - 0s 4ms/step - loss: 13.9728 - mae: 13.9728\n",
      "Epoch 477/500\n",
      "2/2 [==============================] - 0s 4ms/step - loss: 30.5512 - mae: 30.5512\n",
      "Epoch 478/500\n",
      "2/2 [==============================] - 0s 4ms/step - loss: 8.0842 - mae: 8.0842\n",
      "Epoch 479/500\n",
      "2/2 [==============================] - 0s 4ms/step - loss: 11.1447 - mae: 11.1447\n",
      "Epoch 480/500\n",
      "2/2 [==============================] - 0s 4ms/step - loss: 17.8090 - mae: 17.8090\n",
      "Epoch 481/500\n",
      "2/2 [==============================] - 0s 3ms/step - loss: 15.7234 - mae: 15.7234\n",
      "Epoch 482/500\n",
      "2/2 [==============================] - 0s 4ms/step - loss: 21.1650 - mae: 21.1650\n",
      "Epoch 483/500\n",
      "2/2 [==============================] - 0s 4ms/step - loss: 25.7043 - mae: 25.7043\n",
      "Epoch 484/500\n",
      "2/2 [==============================] - 0s 3ms/step - loss: 24.2708 - mae: 24.2708\n",
      "Epoch 485/500\n",
      "2/2 [==============================] - 0s 4ms/step - loss: 5.7179 - mae: 5.7179\n",
      "Epoch 486/500\n",
      "2/2 [==============================] - 0s 4ms/step - loss: 20.4009 - mae: 20.4009\n",
      "Epoch 487/500\n",
      "2/2 [==============================] - 0s 5ms/step - loss: 13.9823 - mae: 13.9823\n",
      "Epoch 488/500\n",
      "2/2 [==============================] - 0s 4ms/step - loss: 30.5194 - mae: 30.5194\n",
      "Epoch 489/500\n",
      "2/2 [==============================] - 0s 6ms/step - loss: 11.7745 - mae: 11.7745\n",
      "Epoch 490/500\n",
      "2/2 [==============================] - 0s 4ms/step - loss: 12.6398 - mae: 12.6398\n",
      "Epoch 491/500\n",
      "2/2 [==============================] - 0s 4ms/step - loss: 23.4474 - mae: 23.4474\n",
      "Epoch 492/500\n",
      "2/2 [==============================] - 0s 3ms/step - loss: 20.9521 - mae: 20.9521\n",
      "Epoch 493/500\n",
      "2/2 [==============================] - 0s 4ms/step - loss: 4.9731 - mae: 4.9731\n",
      "Epoch 494/500\n",
      "2/2 [==============================] - 0s 5ms/step - loss: 13.2417 - mae: 13.2417\n",
      "Epoch 495/500\n",
      "2/2 [==============================] - 0s 3ms/step - loss: 13.4691 - mae: 13.4691\n",
      "Epoch 496/500\n",
      "2/2 [==============================] - 0s 4ms/step - loss: 12.7361 - mae: 12.7361\n",
      "Epoch 497/500\n",
      "2/2 [==============================] - 0s 4ms/step - loss: 17.7238 - mae: 17.7238\n",
      "Epoch 498/500\n",
      "2/2 [==============================] - 0s 3ms/step - loss: 23.2758 - mae: 23.2758\n",
      "Epoch 499/500\n",
      "2/2 [==============================] - 0s 5ms/step - loss: 9.1414 - mae: 9.1414\n",
      "Epoch 500/500\n",
      "2/2 [==============================] - 0s 4ms/step - loss: 14.6233 - mae: 14.6233\n"
     ]
    },
    {
     "data": {
      "text/plain": "<keras.callbacks.History at 0x231e1f172e0>"
     },
     "execution_count": 43,
     "metadata": {},
     "output_type": "execute_result"
    }
   ],
   "source": [
    "# Set random seed\n",
    "tf.random.set_seed(42)\n",
    "\n",
    "model_3 = tf.keras.Sequential([\n",
    "  tf.keras.layers.Dense(10, name=\"hidden_layer\"),\n",
    "  tf.keras.layers.Dense(1, name=\"output_layer\")\n",
    "], name=\"model_3\")\n",
    "\n",
    "# Compile the model\n",
    "model_3.compile(loss=tf.keras.losses.mae,\n",
    "                optimizer=tf.keras.optimizers.SGD(),\n",
    "                metrics=[\"mae\"])\n",
    "\n",
    "model_3.fit(tf.expand_dims(X_train, axis=-1), y_train, epochs=500, verbose=1)"
   ],
   "metadata": {
    "collapsed": false,
    "pycharm": {
     "name": "#%%\n"
    }
   }
  },
  {
   "cell_type": "code",
   "execution_count": 44,
   "outputs": [
    {
     "name": "stdout",
     "output_type": "stream",
     "text": [
      "1/1 [==============================] - 0s 47ms/step\n",
      "Model_3 MAE: 68.64637756347656, Model_3 MSE: 4798.9111328125\n"
     ]
    },
    {
     "data": {
      "text/plain": "<Figure size 1000x700 with 1 Axes>",
      "image/png": "[encoded data removed]"
     },
     "metadata": {},
     "output_type": "display_data"
    }
   ],
   "source": [
    "# Make and plot predictions for model_3\n",
    "y_pred_3 = model_3.predict(tf.expand_dims(X_test, axis=-1))\n",
    "print(\n",
    "    f\"Model_3 MAE: {mae(y_test, y_pred_3).numpy()}, Model_3 MSE: {mse(y_test, y_pred_3).numpy()}\"\n",
    ")\n",
    "plot_predictions(train_data=X_train,\n",
    "                 train_labels=y_train,\n",
    "                 test_data=X_test,\n",
    "                 test_labels=y_test,\n",
    "                 predictions=y_pred_3)"
   ],
   "metadata": {
    "collapsed": false,
    "pycharm": {
     "name": "#%%\n"
    }
   }
  },
  {
   "cell_type": "markdown",
   "source": [
    "## Comparing the results of our experiments\n",
    "\n",
    "We've run a few experiments, let's compare the results."
   ],
   "metadata": {
    "collapsed": false,
    "pycharm": {
     "name": "#%% md\n"
    }
   }
  },
  {
   "cell_type": "code",
   "execution_count": 44,
   "outputs": [],
   "source": [],
   "metadata": {
    "collapsed": false,
    "pycharm": {
     "name": "#%%\n"
    }
   }
  }
 ],
 "metadata": {
  "kernelspec": {
   "display_name": "Python 3",
   "language": "python",
   "name": "python3"
  },
  "language_info": {
   "codemirror_mode": {
    "name": "ipython",
    "version": 2
   },
   "file_extension": ".py",
   "mimetype": "text/x-python",
   "name": "python",
   "nbconvert_exporter": "python",
   "pygments_lexer": "ipython2",
   "version": "2.7.6"
  }
 },
 "nbformat": 4,
 "nbformat_minor": 0
}