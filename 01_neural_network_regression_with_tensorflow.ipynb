{
 "cells": [
  {
   "cell_type": "markdown",
   "source": [
    "# Introduction to Regression with Neural Network in TensorFlow"
   ],
   "metadata": {
    "collapsed": false,
    "pycharm": {
     "name": "#%% md\n"
    }
   }
  },
  {
   "cell_type": "code",
   "execution_count": 1,
   "metadata": {
    "collapsed": true,
    "pycharm": {
     "name": "#%%\n"
    }
   },
   "outputs": [
    {
     "name": "stdout",
     "output_type": "stream",
     "text": [
      "2.10.0\n"
     ]
    }
   ],
   "source": [
    "import tensorflow as tf\n",
    "print(tf.__version__)"
   ]
  },
  {
   "cell_type": "markdown",
   "source": [
    "# Create some data to view and fit"
   ],
   "metadata": {
    "collapsed": false,
    "pycharm": {
     "name": "#%% md\n"
    }
   }
  },
  {
   "cell_type": "code",
   "execution_count": 2,
   "outputs": [
    {
     "data": {
      "text/plain": "<matplotlib.collections.PathCollection at 0x1a2bf18d430>"
     },
     "execution_count": 2,
     "metadata": {},
     "output_type": "execute_result"
    },
    {
     "data": {
      "text/plain": "<Figure size 640x480 with 1 Axes>",
      "image/png": "[encoded data removed]"
     },
     "metadata": {},
     "output_type": "display_data"
    }
   ],
   "source": [
    "import numpy as np\n",
    "import matplotlib.pyplot as plt\n",
    "\n",
    "# Create features\n",
    "X = np.array([-7.0, -4.0, -1.0, 2.0, 5.0, 8.0, 11.0, 14.0])\n",
    "\n",
    "# Create labels\n",
    "y = np.array([3.0, 6.0, 9.0, 12.0, 15.0, 18.0, 21.0, 24.0])\n",
    "\n",
    "# Visualize it\n",
    "\n",
    "plt.scatter(X, y)"
   ],
   "metadata": {
    "collapsed": false,
    "pycharm": {
     "name": "#%%\n"
    }
   }
  },
  {
   "cell_type": "code",
   "execution_count": 3,
   "outputs": [
    {
     "data": {
      "text/plain": "array([ True,  True,  True,  True,  True,  True,  True,  True])"
     },
     "execution_count": 3,
     "metadata": {},
     "output_type": "execute_result"
    }
   ],
   "source": [
    "y == X + 10"
   ],
   "metadata": {
    "collapsed": false,
    "pycharm": {
     "name": "#%%\n"
    }
   }
  },
  {
   "cell_type": "markdown",
   "source": [
    "# Input and output shapes"
   ],
   "metadata": {
    "collapsed": false,
    "pycharm": {
     "name": "#%% md\n"
    }
   }
  },
  {
   "cell_type": "code",
   "execution_count": 4,
   "outputs": [
    {
     "data": {
      "text/plain": "(<tf.Tensor: shape=(3,), dtype=string, numpy=array([b'bedroom', b'bathroom', b'garage'], dtype=object)>,\n <tf.Tensor: shape=(1,), dtype=int32, numpy=array([939700])>)"
     },
     "execution_count": 4,
     "metadata": {},
     "output_type": "execute_result"
    }
   ],
   "source": [
    "# Create a demo tensor for our housing price prediction problem\n",
    "house_info = tf.constant([\"bedroom\", \"bathroom\", \"garage\"])\n",
    "house_price = tf.constant([939700])\n",
    "house_info, house_price"
   ],
   "metadata": {
    "collapsed": false,
    "pycharm": {
     "name": "#%%\n"
    }
   }
  },
  {
   "cell_type": "code",
   "execution_count": 5,
   "outputs": [
    {
     "data": {
      "text/plain": "((8,), (8,))"
     },
     "execution_count": 5,
     "metadata": {},
     "output_type": "execute_result"
    }
   ],
   "source": [
    "input_shape = X.shape\n",
    "output_shape = y.shape\n",
    "input_shape, output_shape"
   ],
   "metadata": {
    "collapsed": false,
    "pycharm": {
     "name": "#%%\n"
    }
   }
  },
  {
   "cell_type": "code",
   "execution_count": 6,
   "outputs": [],
   "source": [
    "# Turn our NumPy arrays into Tensors with dtype float32\n",
    "X = tf.cast(tf.constant(X), dtype=tf.float32)\n",
    "y = tf.cast(tf.constant(y), dtype=tf.float32)"
   ],
   "metadata": {
    "collapsed": false,
    "pycharm": {
     "name": "#%%\n"
    }
   }
  },
  {
   "cell_type": "markdown",
   "source": [
    "# Steps in modelling with TensorFlow\n",
    "1. **Creating a model** - define the input and output layers, as well as the hidden layers of a deep learning model\n",
    "2. **Compiling a model** - define the loss function (in other words, the function which tells our model how wrong it is) and the optimizer (tells our model how to improve the patterns its learning) and evaluation metrics (what we can use to interpret the performance of our model).\n",
    "3. **Fitting a model** - letting the model try to find patterns between X & y (features and labels).\n",
    "4. **Evaluating a model** - use a model's predictions to evaluate its performance."
   ],
   "metadata": {
    "collapsed": false,
    "pycharm": {
     "name": "#%% md\n"
    }
   }
  },
  {
   "cell_type": "code",
   "execution_count": 7,
   "outputs": [
    {
     "data": {
      "text/plain": "<tf.Tensor: shape=(8, 1), dtype=float32, numpy=\narray([[-7.],\n       [-4.],\n       [-1.],\n       [ 2.],\n       [ 5.],\n       [ 8.],\n       [11.],\n       [14.]], dtype=float32)>"
     },
     "execution_count": 7,
     "metadata": {},
     "output_type": "execute_result"
    }
   ],
   "source": [
    "tf.expand_dims(X, axis=-1)"
   ],
   "metadata": {
    "collapsed": false,
    "pycharm": {
     "name": "#%%\n"
    }
   }
  },
  {
   "cell_type": "code",
   "execution_count": 8,
   "outputs": [
    {
     "name": "stdout",
     "output_type": "stream",
     "text": [
      "Epoch 1/5\n",
      "1/1 [==============================] - 1s 824ms/step - loss: 20.1277 - mae: 20.1277\n",
      "Epoch 2/5\n",
      "1/1 [==============================] - 0s 4ms/step - loss: 19.8465 - mae: 19.8465\n",
      "Epoch 3/5\n",
      "1/1 [==============================] - 0s 3ms/step - loss: 19.5652 - mae: 19.5652\n",
      "Epoch 4/5\n",
      "1/1 [==============================] - 0s 3ms/step - loss: 19.2840 - mae: 19.2840\n",
      "Epoch 5/5\n",
      "1/1 [==============================] - 0s 5ms/step - loss: 19.0027 - mae: 19.0027\n"
     ]
    },
    {
     "data": {
      "text/plain": "<keras.callbacks.History at 0x1a2c8ae6400>"
     },
     "execution_count": 8,
     "metadata": {},
     "output_type": "execute_result"
    }
   ],
   "source": [
    "# Set random seed\n",
    "tf.random.set_seed(42)\n",
    "# 1. Create a model using the Sequential API\n",
    "model = tf.keras.Sequential()\n",
    "model.add(tf.keras.layers.Dense(1))\n",
    "\n",
    "# 2. Compile the model\n",
    "model.compile(loss=tf.keras.losses.mae, # mean absolute error\n",
    "              optimizer=tf.keras.optimizers.SGD(), # stochastic gradient descent\n",
    "              metrics=[\"mae\"])\n",
    "\n",
    "# 3. Fit the model\n",
    "model.fit(tf.expand_dims(X, axis=-1), y, epochs=5)"
   ],
   "metadata": {
    "collapsed": false,
    "pycharm": {
     "name": "#%%\n"
    }
   }
  },
  {
   "cell_type": "code",
   "execution_count": 9,
   "outputs": [
    {
     "data": {
      "text/plain": "(<tf.Tensor: shape=(8,), dtype=float32, numpy=array([-7., -4., -1.,  2.,  5.,  8., 11., 14.], dtype=float32)>,\n <tf.Tensor: shape=(8,), dtype=float32, numpy=array([ 3.,  6.,  9., 12., 15., 18., 21., 24.], dtype=float32)>)"
     },
     "execution_count": 9,
     "metadata": {},
     "output_type": "execute_result"
    }
   ],
   "source": [
    "# Check out X and y\n",
    "X, y"
   ],
   "metadata": {
    "collapsed": false,
    "pycharm": {
     "name": "#%%\n"
    }
   }
  },
  {
   "cell_type": "code",
   "execution_count": 10,
   "outputs": [
    {
     "name": "stdout",
     "output_type": "stream",
     "text": [
      "1/1 [==============================] - 0s 72ms/step\n"
     ]
    },
    {
     "data": {
      "text/plain": "array([[-19.389837]], dtype=float32)"
     },
     "execution_count": 10,
     "metadata": {},
     "output_type": "execute_result"
    }
   ],
   "source": [
    "# Try and make a prediction using our model\n",
    "y_pred = model.predict([17.0])\n",
    "y_pred"
   ],
   "metadata": {
    "collapsed": false,
    "pycharm": {
     "name": "#%%\n"
    }
   }
  },
  {
   "cell_type": "markdown",
   "source": [
    "## Improving our model\n",
    "We can improve our model, by altering the steps we took to create a model.\n",
    "1. **Creating a model** - here we might add more layers, increase the number of hidden units (also called neurons) within each of the hidden layers, change the activation function of each layer.\n",
    "2. **Compiling a model** - here we might change the optimization function or perhaps the **learning rate** of the optimization function.\n",
    "3. **Fitting a model** - here we might fit a model for more **epochs** (leave it training for longer) or on more data (give the model more examples to learn from)."
   ],
   "metadata": {
    "collapsed": false,
    "pycharm": {
     "name": "#%% md\n"
    }
   }
  },
  {
   "cell_type": "code",
   "execution_count": 11,
   "outputs": [
    {
     "name": "stdout",
     "output_type": "stream",
     "text": [
      "Epoch 1/100\n",
      "1/1 [==============================] - 0s 155ms/step - loss: 7.6583 - mae: 7.6583\n",
      "Epoch 2/100\n",
      "1/1 [==============================] - 0s 5ms/step - loss: 7.5258 - mae: 7.5258\n",
      "Epoch 3/100\n",
      "1/1 [==============================] - 0s 3ms/step - loss: 7.4850 - mae: 7.4850\n",
      "Epoch 4/100\n",
      "1/1 [==============================] - 0s 5ms/step - loss: 7.4794 - mae: 7.4794\n",
      "Epoch 5/100\n",
      "1/1 [==============================] - 0s 3ms/step - loss: 7.4738 - mae: 7.4738\n",
      "Epoch 6/100\n",
      "1/1 [==============================] - 0s 5ms/step - loss: 7.4681 - mae: 7.4681\n",
      "Epoch 7/100\n",
      "1/1 [==============================] - 0s 4ms/step - loss: 7.4625 - mae: 7.4625\n",
      "Epoch 8/100\n",
      "1/1 [==============================] - 0s 3ms/step - loss: 7.4569 - mae: 7.4569\n",
      "Epoch 9/100\n",
      "1/1 [==============================] - 0s 4ms/step - loss: 7.4513 - mae: 7.4513\n",
      "Epoch 10/100\n",
      "1/1 [==============================] - 0s 5ms/step - loss: 7.4456 - mae: 7.4456\n",
      "Epoch 11/100\n",
      "1/1 [==============================] - 0s 2ms/step - loss: 7.4400 - mae: 7.4400\n",
      "Epoch 12/100\n",
      "1/1 [==============================] - 0s 4ms/step - loss: 7.4344 - mae: 7.4344\n",
      "Epoch 13/100\n",
      "1/1 [==============================] - 0s 2ms/step - loss: 7.4288 - mae: 7.4288\n",
      "Epoch 14/100\n",
      "1/1 [==============================] - 0s 3ms/step - loss: 7.4231 - mae: 7.4231\n",
      "Epoch 15/100\n",
      "1/1 [==============================] - 0s 4ms/step - loss: 7.4175 - mae: 7.4175\n",
      "Epoch 16/100\n",
      "1/1 [==============================] - 0s 4ms/step - loss: 7.4119 - mae: 7.4119\n",
      "Epoch 17/100\n",
      "1/1 [==============================] - 0s 3ms/step - loss: 7.4062 - mae: 7.4062\n",
      "Epoch 18/100\n",
      "1/1 [==============================] - 0s 5ms/step - loss: 7.4006 - mae: 7.4006\n",
      "Epoch 19/100\n",
      "1/1 [==============================] - 0s 4ms/step - loss: 7.3950 - mae: 7.3950\n",
      "Epoch 20/100\n",
      "1/1 [==============================] - 0s 3ms/step - loss: 7.3894 - mae: 7.3894\n",
      "Epoch 21/100\n",
      "1/1 [==============================] - 0s 4ms/step - loss: 7.3837 - mae: 7.3837\n",
      "Epoch 22/100\n",
      "1/1 [==============================] - 0s 3ms/step - loss: 7.3781 - mae: 7.3781\n",
      "Epoch 23/100\n",
      "1/1 [==============================] - 0s 4ms/step - loss: 7.3725 - mae: 7.3725\n",
      "Epoch 24/100\n",
      "1/1 [==============================] - 0s 4ms/step - loss: 7.3669 - mae: 7.3669\n",
      "Epoch 25/100\n",
      "1/1 [==============================] - 0s 4ms/step - loss: 7.3612 - mae: 7.3612\n",
      "Epoch 26/100\n",
      "1/1 [==============================] - 0s 5ms/step - loss: 7.3556 - mae: 7.3556\n",
      "Epoch 27/100\n",
      "1/1 [==============================] - 0s 3ms/step - loss: 7.3500 - mae: 7.3500\n",
      "Epoch 28/100\n",
      "1/1 [==============================] - 0s 6ms/step - loss: 7.3444 - mae: 7.3444\n",
      "Epoch 29/100\n",
      "1/1 [==============================] - 0s 4ms/step - loss: 7.3388 - mae: 7.3388\n",
      "Epoch 30/100\n",
      "1/1 [==============================] - 0s 5ms/step - loss: 7.3331 - mae: 7.3331\n",
      "Epoch 31/100\n",
      "1/1 [==============================] - 0s 4ms/step - loss: 7.3275 - mae: 7.3275\n",
      "Epoch 32/100\n",
      "1/1 [==============================] - 0s 4ms/step - loss: 7.3219 - mae: 7.3219\n",
      "Epoch 33/100\n",
      "1/1 [==============================] - 0s 4ms/step - loss: 7.3162 - mae: 7.3162\n",
      "Epoch 34/100\n",
      "1/1 [==============================] - 0s 3ms/step - loss: 7.3106 - mae: 7.3106\n",
      "Epoch 35/100\n",
      "1/1 [==============================] - 0s 5ms/step - loss: 7.3050 - mae: 7.3050\n",
      "Epoch 36/100\n",
      "1/1 [==============================] - 0s 3ms/step - loss: 7.2994 - mae: 7.2994\n",
      "Epoch 37/100\n",
      "1/1 [==============================] - 0s 3ms/step - loss: 7.2937 - mae: 7.2937\n",
      "Epoch 38/100\n",
      "1/1 [==============================] - 0s 3ms/step - loss: 7.2881 - mae: 7.2881\n",
      "Epoch 39/100\n",
      "1/1 [==============================] - 0s 3ms/step - loss: 7.2825 - mae: 7.2825\n",
      "Epoch 40/100\n",
      "1/1 [==============================] - 0s 4ms/step - loss: 7.2769 - mae: 7.2769\n",
      "Epoch 41/100\n",
      "1/1 [==============================] - 0s 3ms/step - loss: 7.2713 - mae: 7.2713\n",
      "Epoch 42/100\n",
      "1/1 [==============================] - 0s 4ms/step - loss: 7.2656 - mae: 7.2656\n",
      "Epoch 43/100\n",
      "1/1 [==============================] - 0s 4ms/step - loss: 7.2600 - mae: 7.2600\n",
      "Epoch 44/100\n",
      "1/1 [==============================] - 0s 3ms/step - loss: 7.2544 - mae: 7.2544\n",
      "Epoch 45/100\n",
      "1/1 [==============================] - 0s 4ms/step - loss: 7.2487 - mae: 7.2487\n",
      "Epoch 46/100\n",
      "1/1 [==============================] - 0s 5ms/step - loss: 7.2431 - mae: 7.2431\n",
      "Epoch 47/100\n",
      "1/1 [==============================] - 0s 3ms/step - loss: 7.2375 - mae: 7.2375\n",
      "Epoch 48/100\n",
      "1/1 [==============================] - 0s 4ms/step - loss: 7.2319 - mae: 7.2319\n",
      "Epoch 49/100\n",
      "1/1 [==============================] - 0s 5ms/step - loss: 7.2263 - mae: 7.2263\n",
      "Epoch 50/100\n",
      "1/1 [==============================] - 0s 3ms/step - loss: 7.2206 - mae: 7.2206\n",
      "Epoch 51/100\n",
      "1/1 [==============================] - 0s 3ms/step - loss: 7.2150 - mae: 7.2150\n",
      "Epoch 52/100\n",
      "1/1 [==============================] - 0s 3ms/step - loss: 7.2094 - mae: 7.2094\n",
      "Epoch 53/100\n",
      "1/1 [==============================] - 0s 3ms/step - loss: 7.2038 - mae: 7.2038\n",
      "Epoch 54/100\n",
      "1/1 [==============================] - 0s 4ms/step - loss: 7.1981 - mae: 7.1981\n",
      "Epoch 55/100\n",
      "1/1 [==============================] - 0s 3ms/step - loss: 7.1925 - mae: 7.1925\n",
      "Epoch 56/100\n",
      "1/1 [==============================] - 0s 4ms/step - loss: 7.1869 - mae: 7.1869\n",
      "Epoch 57/100\n",
      "1/1 [==============================] - 0s 4ms/step - loss: 7.1813 - mae: 7.1813\n",
      "Epoch 58/100\n",
      "1/1 [==============================] - 0s 4ms/step - loss: 7.1756 - mae: 7.1756\n",
      "Epoch 59/100\n",
      "1/1 [==============================] - 0s 4ms/step - loss: 7.1700 - mae: 7.1700\n",
      "Epoch 60/100\n",
      "1/1 [==============================] - 0s 3ms/step - loss: 7.1644 - mae: 7.1644\n",
      "Epoch 61/100\n",
      "1/1 [==============================] - 0s 3ms/step - loss: 7.1588 - mae: 7.1588\n",
      "Epoch 62/100\n",
      "1/1 [==============================] - 0s 3ms/step - loss: 7.1531 - mae: 7.1531\n",
      "Epoch 63/100\n",
      "1/1 [==============================] - 0s 3ms/step - loss: 7.1475 - mae: 7.1475\n",
      "Epoch 64/100\n",
      "1/1 [==============================] - 0s 4ms/step - loss: 7.1419 - mae: 7.1419\n",
      "Epoch 65/100\n",
      "1/1 [==============================] - 0s 4ms/step - loss: 7.1363 - mae: 7.1363\n",
      "Epoch 66/100\n",
      "1/1 [==============================] - 0s 6ms/step - loss: 7.1306 - mae: 7.1306\n",
      "Epoch 67/100\n",
      "1/1 [==============================] - 0s 5ms/step - loss: 7.1250 - mae: 7.1250\n",
      "Epoch 68/100\n",
      "1/1 [==============================] - 0s 5ms/step - loss: 7.1194 - mae: 7.1194\n",
      "Epoch 69/100\n",
      "1/1 [==============================] - 0s 4ms/step - loss: 7.1138 - mae: 7.1138\n",
      "Epoch 70/100\n",
      "1/1 [==============================] - 0s 4ms/step - loss: 7.1081 - mae: 7.1081\n",
      "Epoch 71/100\n",
      "1/1 [==============================] - 0s 4ms/step - loss: 7.1025 - mae: 7.1025\n",
      "Epoch 72/100\n",
      "1/1 [==============================] - 0s 4ms/step - loss: 7.0969 - mae: 7.0969\n",
      "Epoch 73/100\n",
      "1/1 [==============================] - 0s 4ms/step - loss: 7.0913 - mae: 7.0913\n",
      "Epoch 74/100\n",
      "1/1 [==============================] - 0s 4ms/step - loss: 7.0856 - mae: 7.0856\n",
      "Epoch 75/100\n",
      "1/1 [==============================] - 0s 3ms/step - loss: 7.0800 - mae: 7.0800\n",
      "Epoch 76/100\n",
      "1/1 [==============================] - 0s 4ms/step - loss: 7.0744 - mae: 7.0744\n",
      "Epoch 77/100\n",
      "1/1 [==============================] - 0s 4ms/step - loss: 7.0688 - mae: 7.0688\n",
      "Epoch 78/100\n",
      "1/1 [==============================] - 0s 3ms/step - loss: 7.0631 - mae: 7.0631\n",
      "Epoch 79/100\n",
      "1/1 [==============================] - 0s 4ms/step - loss: 7.0575 - mae: 7.0575\n",
      "Epoch 80/100\n",
      "1/1 [==============================] - 0s 3ms/step - loss: 7.0519 - mae: 7.0519\n",
      "Epoch 81/100\n",
      "1/1 [==============================] - 0s 4ms/step - loss: 7.0463 - mae: 7.0463\n",
      "Epoch 82/100\n",
      "1/1 [==============================] - 0s 3ms/step - loss: 7.0406 - mae: 7.0406\n",
      "Epoch 83/100\n",
      "1/1 [==============================] - 0s 3ms/step - loss: 7.0350 - mae: 7.0350\n",
      "Epoch 84/100\n",
      "1/1 [==============================] - 0s 4ms/step - loss: 7.0294 - mae: 7.0294\n",
      "Epoch 85/100\n",
      "1/1 [==============================] - 0s 3ms/step - loss: 7.0238 - mae: 7.0238\n",
      "Epoch 86/100\n",
      "1/1 [==============================] - 0s 2ms/step - loss: 7.0181 - mae: 7.0181\n",
      "Epoch 87/100\n",
      "1/1 [==============================] - 0s 2ms/step - loss: 7.0125 - mae: 7.0125\n",
      "Epoch 88/100\n",
      "1/1 [==============================] - 0s 4ms/step - loss: 7.0069 - mae: 7.0069\n",
      "Epoch 89/100\n",
      "1/1 [==============================] - 0s 3ms/step - loss: 7.0013 - mae: 7.0013\n",
      "Epoch 90/100\n",
      "1/1 [==============================] - 0s 3ms/step - loss: 6.9956 - mae: 6.9956\n",
      "Epoch 91/100\n",
      "1/1 [==============================] - 0s 3ms/step - loss: 6.9900 - mae: 6.9900\n",
      "Epoch 92/100\n",
      "1/1 [==============================] - 0s 3ms/step - loss: 6.9844 - mae: 6.9844\n",
      "Epoch 93/100\n",
      "1/1 [==============================] - 0s 5ms/step - loss: 6.9788 - mae: 6.9788\n",
      "Epoch 94/100\n",
      "1/1 [==============================] - 0s 5ms/step - loss: 6.9731 - mae: 6.9731\n",
      "Epoch 95/100\n",
      "1/1 [==============================] - 0s 3ms/step - loss: 6.9675 - mae: 6.9675\n",
      "Epoch 96/100\n",
      "1/1 [==============================] - 0s 3ms/step - loss: 6.9619 - mae: 6.9619\n",
      "Epoch 97/100\n",
      "1/1 [==============================] - 0s 3ms/step - loss: 6.9563 - mae: 6.9563\n",
      "Epoch 98/100\n",
      "1/1 [==============================] - 0s 4ms/step - loss: 6.9506 - mae: 6.9506\n",
      "Epoch 99/100\n",
      "1/1 [==============================] - 0s 3ms/step - loss: 6.9450 - mae: 6.9450\n",
      "Epoch 100/100\n",
      "1/1 [==============================] - 0s 5ms/step - loss: 6.9394 - mae: 6.9394\n"
     ]
    },
    {
     "data": {
      "text/plain": "<keras.callbacks.History at 0x1a2c8b7bcd0>"
     },
     "execution_count": 11,
     "metadata": {},
     "output_type": "execute_result"
    }
   ],
   "source": [
    "# Let's rebuild our model\n",
    "# 1. Create the model\n",
    "model = tf.keras.Sequential()\n",
    "model.add(tf.keras.layers.Dense(1))\n",
    "\n",
    "# 2. Compile the model\n",
    "model.compile(loss=tf.keras.losses.mae,\n",
    "              optimizer=tf.keras.optimizers.SGD(),\n",
    "              metrics=[\"mae\"])\n",
    "# 3. Fit the model\n",
    "model.fit(tf.expand_dims(X, axis=-1), y, epochs=100)"
   ],
   "metadata": {
    "collapsed": false,
    "pycharm": {
     "name": "#%%\n"
    }
   }
  },
  {
   "cell_type": "code",
   "execution_count": 12,
   "outputs": [
    {
     "data": {
      "text/plain": "(<tf.Tensor: shape=(8,), dtype=float32, numpy=array([-7., -4., -1.,  2.,  5.,  8., 11., 14.], dtype=float32)>,\n <tf.Tensor: shape=(8,), dtype=float32, numpy=array([ 3.,  6.,  9., 12., 15., 18., 21., 24.], dtype=float32)>)"
     },
     "execution_count": 12,
     "metadata": {},
     "output_type": "execute_result"
    }
   ],
   "source": [
    "# Remind ourselves of the data\n",
    "X, y"
   ],
   "metadata": {
    "collapsed": false,
    "pycharm": {
     "name": "#%%\n"
    }
   }
  },
  {
   "cell_type": "code",
   "execution_count": 13,
   "outputs": [
    {
     "name": "stdout",
     "output_type": "stream",
     "text": [
      "1/1 [==============================] - 0s 43ms/step\n"
     ]
    },
    {
     "data": {
      "text/plain": "array([[30.319084]], dtype=float32)"
     },
     "execution_count": 13,
     "metadata": {},
     "output_type": "execute_result"
    }
   ],
   "source": [
    "# Let's see if our model's prediction has improved...\n",
    "model.predict([17.0])"
   ],
   "metadata": {
    "collapsed": false,
    "pycharm": {
     "name": "#%%\n"
    }
   }
  },
  {
   "cell_type": "markdown",
   "source": [
    "# Experimenting 1 to improve our model"
   ],
   "metadata": {
    "collapsed": false,
    "pycharm": {
     "name": "#%% md\n"
    }
   }
  },
  {
   "cell_type": "code",
   "execution_count": 14,
   "outputs": [
    {
     "name": "stdout",
     "output_type": "stream",
     "text": [
      "Epoch 1/100\n",
      "1/1 [==============================] - 0s 230ms/step - loss: 11.5191 - mae: 11.5191\n",
      "Epoch 2/100\n",
      "1/1 [==============================] - 0s 5ms/step - loss: 11.0729 - mae: 11.0729\n",
      "Epoch 3/100\n",
      "1/1 [==============================] - 0s 3ms/step - loss: 10.6185 - mae: 10.6185\n",
      "Epoch 4/100\n",
      "1/1 [==============================] - 0s 3ms/step - loss: 10.1576 - mae: 10.1576\n",
      "Epoch 5/100\n",
      "1/1 [==============================] - 0s 3ms/step - loss: 9.6890 - mae: 9.6890\n",
      "Epoch 6/100\n",
      "1/1 [==============================] - 0s 3ms/step - loss: 9.2128 - mae: 9.2128\n",
      "Epoch 7/100\n",
      "1/1 [==============================] - 0s 4ms/step - loss: 8.7273 - mae: 8.7273\n",
      "Epoch 8/100\n",
      "1/1 [==============================] - 0s 4ms/step - loss: 8.2338 - mae: 8.2338\n",
      "Epoch 9/100\n",
      "1/1 [==============================] - 0s 3ms/step - loss: 7.7319 - mae: 7.7319\n",
      "Epoch 10/100\n",
      "1/1 [==============================] - 0s 5ms/step - loss: 7.2189 - mae: 7.2189\n",
      "Epoch 11/100\n",
      "1/1 [==============================] - 0s 4ms/step - loss: 6.9307 - mae: 6.9307\n",
      "Epoch 12/100\n",
      "1/1 [==============================] - 0s 3ms/step - loss: 6.8910 - mae: 6.8910\n",
      "Epoch 13/100\n",
      "1/1 [==============================] - 0s 4ms/step - loss: 7.0820 - mae: 7.0820\n",
      "Epoch 14/100\n",
      "1/1 [==============================] - 0s 6ms/step - loss: 7.2017 - mae: 7.2017\n",
      "Epoch 15/100\n",
      "1/1 [==============================] - 0s 5ms/step - loss: 7.2596 - mae: 7.2596\n",
      "Epoch 16/100\n",
      "1/1 [==============================] - 0s 3ms/step - loss: 7.2652 - mae: 7.2652\n",
      "Epoch 17/100\n",
      "1/1 [==============================] - 0s 4ms/step - loss: 7.2255 - mae: 7.2255\n",
      "Epoch 18/100\n",
      "1/1 [==============================] - 0s 4ms/step - loss: 7.1478 - mae: 7.1478\n",
      "Epoch 19/100\n",
      "1/1 [==============================] - 0s 4ms/step - loss: 7.0400 - mae: 7.0400\n",
      "Epoch 20/100\n",
      "1/1 [==============================] - 0s 3ms/step - loss: 6.9032 - mae: 6.9032\n",
      "Epoch 21/100\n",
      "1/1 [==============================] - 0s 5ms/step - loss: 6.7443 - mae: 6.7443\n",
      "Epoch 22/100\n",
      "1/1 [==============================] - 0s 4ms/step - loss: 6.5674 - mae: 6.5674\n",
      "Epoch 23/100\n",
      "1/1 [==============================] - 0s 3ms/step - loss: 6.3736 - mae: 6.3736\n",
      "Epoch 24/100\n",
      "1/1 [==============================] - 0s 3ms/step - loss: 6.2840 - mae: 6.2840\n",
      "Epoch 25/100\n",
      "1/1 [==============================] - 0s 4ms/step - loss: 6.2446 - mae: 6.2446\n",
      "Epoch 26/100\n",
      "1/1 [==============================] - 0s 5ms/step - loss: 6.2032 - mae: 6.2032\n",
      "Epoch 27/100\n",
      "1/1 [==============================] - 0s 3ms/step - loss: 6.2378 - mae: 6.2378\n",
      "Epoch 28/100\n",
      "1/1 [==============================] - 0s 5ms/step - loss: 6.2564 - mae: 6.2564\n",
      "Epoch 29/100\n",
      "1/1 [==============================] - 0s 3ms/step - loss: 6.2008 - mae: 6.2008\n",
      "Epoch 30/100\n",
      "1/1 [==============================] - 0s 5ms/step - loss: 6.0831 - mae: 6.0831\n",
      "Epoch 31/100\n",
      "1/1 [==============================] - 0s 5ms/step - loss: 5.9244 - mae: 5.9244\n",
      "Epoch 32/100\n",
      "1/1 [==============================] - 0s 4ms/step - loss: 5.8561 - mae: 5.8561\n",
      "Epoch 33/100\n",
      "1/1 [==============================] - 0s 5ms/step - loss: 5.7865 - mae: 5.7865\n",
      "Epoch 34/100\n",
      "1/1 [==============================] - 0s 3ms/step - loss: 5.7157 - mae: 5.7157\n",
      "Epoch 35/100\n",
      "1/1 [==============================] - 0s 5ms/step - loss: 5.6436 - mae: 5.6436\n",
      "Epoch 36/100\n",
      "1/1 [==============================] - 0s 5ms/step - loss: 5.5719 - mae: 5.5719\n",
      "Epoch 37/100\n",
      "1/1 [==============================] - 0s 5ms/step - loss: 5.5418 - mae: 5.5418\n",
      "Epoch 38/100\n",
      "1/1 [==============================] - 0s 5ms/step - loss: 5.4795 - mae: 5.4795\n",
      "Epoch 39/100\n",
      "1/1 [==============================] - 0s 5ms/step - loss: 5.3868 - mae: 5.3868\n",
      "Epoch 40/100\n",
      "1/1 [==============================] - 0s 3ms/step - loss: 5.3116 - mae: 5.3116\n",
      "Epoch 41/100\n",
      "1/1 [==============================] - 0s 4ms/step - loss: 5.2489 - mae: 5.2489\n",
      "Epoch 42/100\n",
      "1/1 [==============================] - 0s 5ms/step - loss: 5.1832 - mae: 5.1832\n",
      "Epoch 43/100\n",
      "1/1 [==============================] - 0s 3ms/step - loss: 5.1145 - mae: 5.1145\n",
      "Epoch 44/100\n",
      "1/1 [==============================] - 0s 4ms/step - loss: 5.0429 - mae: 5.0429\n",
      "Epoch 45/100\n",
      "1/1 [==============================] - 0s 3ms/step - loss: 4.9683 - mae: 4.9683\n",
      "Epoch 46/100\n",
      "1/1 [==============================] - 0s 3ms/step - loss: 4.8906 - mae: 4.8906\n",
      "Epoch 47/100\n",
      "1/1 [==============================] - 0s 4ms/step - loss: 4.8099 - mae: 4.8099\n",
      "Epoch 48/100\n",
      "1/1 [==============================] - 0s 4ms/step - loss: 4.7261 - mae: 4.7261\n",
      "Epoch 49/100\n",
      "1/1 [==============================] - 0s 4ms/step - loss: 4.6392 - mae: 4.6392\n",
      "Epoch 50/100\n",
      "1/1 [==============================] - 0s 5ms/step - loss: 4.5491 - mae: 4.5491\n",
      "Epoch 51/100\n",
      "1/1 [==============================] - 0s 4ms/step - loss: 4.4558 - mae: 4.4558\n",
      "Epoch 52/100\n",
      "1/1 [==============================] - 0s 3ms/step - loss: 4.3591 - mae: 4.3591\n",
      "Epoch 53/100\n",
      "1/1 [==============================] - 0s 4ms/step - loss: 4.2591 - mae: 4.2591\n",
      "Epoch 54/100\n",
      "1/1 [==============================] - 0s 4ms/step - loss: 4.1557 - mae: 4.1557\n",
      "Epoch 55/100\n",
      "1/1 [==============================] - 0s 5ms/step - loss: 4.0799 - mae: 4.0799\n",
      "Epoch 56/100\n",
      "1/1 [==============================] - 0s 3ms/step - loss: 3.9753 - mae: 3.9753\n",
      "Epoch 57/100\n",
      "1/1 [==============================] - 0s 5ms/step - loss: 3.8488 - mae: 3.8488\n",
      "Epoch 58/100\n",
      "1/1 [==============================] - 0s 3ms/step - loss: 3.7461 - mae: 3.7461\n",
      "Epoch 59/100\n",
      "1/1 [==============================] - 0s 3ms/step - loss: 3.6387 - mae: 3.6387\n",
      "Epoch 60/100\n",
      "1/1 [==============================] - 0s 3ms/step - loss: 3.5264 - mae: 3.5264\n",
      "Epoch 61/100\n",
      "1/1 [==============================] - 0s 4ms/step - loss: 3.4095 - mae: 3.4095\n",
      "Epoch 62/100\n",
      "1/1 [==============================] - 0s 4ms/step - loss: 3.2877 - mae: 3.2877\n",
      "Epoch 63/100\n",
      "1/1 [==============================] - 0s 4ms/step - loss: 3.1611 - mae: 3.1611\n",
      "Epoch 64/100\n",
      "1/1 [==============================] - 0s 3ms/step - loss: 3.0297 - mae: 3.0297\n",
      "Epoch 65/100\n",
      "1/1 [==============================] - 0s 3ms/step - loss: 2.8935 - mae: 2.8935\n",
      "Epoch 66/100\n",
      "1/1 [==============================] - 0s 5ms/step - loss: 2.7709 - mae: 2.7709\n",
      "Epoch 67/100\n",
      "1/1 [==============================] - 0s 3ms/step - loss: 2.6162 - mae: 2.6162\n",
      "Epoch 68/100\n",
      "1/1 [==============================] - 0s 4ms/step - loss: 2.4744 - mae: 2.4744\n",
      "Epoch 69/100\n",
      "1/1 [==============================] - 0s 4ms/step - loss: 2.3268 - mae: 2.3268\n",
      "Epoch 70/100\n",
      "1/1 [==============================] - 0s 3ms/step - loss: 2.1735 - mae: 2.1735\n",
      "Epoch 71/100\n",
      "1/1 [==============================] - 0s 3ms/step - loss: 2.0234 - mae: 2.0234\n",
      "Epoch 72/100\n",
      "1/1 [==============================] - 0s 3ms/step - loss: 1.8604 - mae: 1.8604\n",
      "Epoch 73/100\n",
      "1/1 [==============================] - 0s 3ms/step - loss: 1.6998 - mae: 1.6998\n",
      "Epoch 74/100\n",
      "1/1 [==============================] - 0s 3ms/step - loss: 1.5326 - mae: 1.5326\n",
      "Epoch 75/100\n",
      "1/1 [==============================] - 0s 4ms/step - loss: 1.3590 - mae: 1.3590\n",
      "Epoch 76/100\n",
      "1/1 [==============================] - 0s 4ms/step - loss: 1.1896 - mae: 1.1896\n",
      "Epoch 77/100\n",
      "1/1 [==============================] - 0s 5ms/step - loss: 1.0005 - mae: 1.0005\n",
      "Epoch 78/100\n",
      "1/1 [==============================] - 0s 4ms/step - loss: 0.8442 - mae: 0.8442\n",
      "Epoch 79/100\n",
      "1/1 [==============================] - 0s 3ms/step - loss: 0.6243 - mae: 0.6243\n",
      "Epoch 80/100\n",
      "1/1 [==============================] - 0s 3ms/step - loss: 0.4820 - mae: 0.4820\n",
      "Epoch 81/100\n",
      "1/1 [==============================] - 0s 4ms/step - loss: 0.2687 - mae: 0.2687\n",
      "Epoch 82/100\n",
      "1/1 [==============================] - 0s 4ms/step - loss: 0.1802 - mae: 0.1802\n",
      "Epoch 83/100\n",
      "1/1 [==============================] - 0s 5ms/step - loss: 0.1960 - mae: 0.1960\n",
      "Epoch 84/100\n",
      "1/1 [==============================] - 0s 3ms/step - loss: 0.4774 - mae: 0.4774\n",
      "Epoch 85/100\n",
      "1/1 [==============================] - 0s 3ms/step - loss: 0.6040 - mae: 0.6040\n",
      "Epoch 86/100\n",
      "1/1 [==============================] - 0s 3ms/step - loss: 0.5463 - mae: 0.5463\n",
      "Epoch 87/100\n",
      "1/1 [==============================] - 0s 5ms/step - loss: 0.6393 - mae: 0.6393\n",
      "Epoch 88/100\n",
      "1/1 [==============================] - 0s 10ms/step - loss: 0.6940 - mae: 0.6940\n",
      "Epoch 89/100\n",
      "1/1 [==============================] - 0s 6ms/step - loss: 0.5885 - mae: 0.5885\n",
      "Epoch 90/100\n",
      "1/1 [==============================] - 0s 5ms/step - loss: 0.6466 - mae: 0.6466\n",
      "Epoch 91/100\n",
      "1/1 [==============================] - 0s 3ms/step - loss: 0.6630 - mae: 0.6630\n",
      "Epoch 92/100\n",
      "1/1 [==============================] - 0s 5ms/step - loss: 0.5139 - mae: 0.5139\n",
      "Epoch 93/100\n",
      "1/1 [==============================] - 0s 4ms/step - loss: 0.4149 - mae: 0.4149\n",
      "Epoch 94/100\n",
      "1/1 [==============================] - 0s 4ms/step - loss: 0.3952 - mae: 0.3952\n",
      "Epoch 95/100\n",
      "1/1 [==============================] - 0s 3ms/step - loss: 0.2422 - mae: 0.2422\n",
      "Epoch 96/100\n",
      "1/1 [==============================] - 0s 3ms/step - loss: 0.1632 - mae: 0.1632\n",
      "Epoch 97/100\n",
      "1/1 [==============================] - 0s 3ms/step - loss: 0.1239 - mae: 0.1239\n",
      "Epoch 98/100\n",
      "1/1 [==============================] - 0s 4ms/step - loss: 0.1964 - mae: 0.1964\n",
      "Epoch 99/100\n",
      "1/1 [==============================] - 0s 4ms/step - loss: 0.2724 - mae: 0.2724\n",
      "Epoch 100/100\n",
      "1/1 [==============================] - 0s 5ms/step - loss: 0.2345 - mae: 0.2345\n"
     ]
    },
    {
     "data": {
      "text/plain": "<keras.callbacks.History at 0x1a2fc5f6cd0>"
     },
     "execution_count": 14,
     "metadata": {},
     "output_type": "execute_result"
    }
   ],
   "source": [
    "# Let's rebuild our model\n",
    "# 1. Create the model\n",
    "model = tf.keras.Sequential()\n",
    "model.add(tf.keras.layers.Dense(20))\n",
    "model.add(tf.keras.layers.Dense(1))\n",
    "\n",
    "# 2. Compile the model\n",
    "model.compile(loss=tf.keras.losses.mae,\n",
    "              optimizer=tf.keras.optimizers.Adam(learning_rate=0.01),\n",
    "              metrics=[\"mae\"])\n",
    "# 3. Fit the model\n",
    "model.fit(tf.expand_dims(X, axis=-1), y, epochs=100)"
   ],
   "metadata": {
    "collapsed": false,
    "pycharm": {
     "name": "#%%\n"
    }
   }
  },
  {
   "cell_type": "code",
   "execution_count": 15,
   "outputs": [
    {
     "name": "stdout",
     "output_type": "stream",
     "text": [
      "1/1 [==============================] - 0s 45ms/step\n"
     ]
    },
    {
     "data": {
      "text/plain": "array([[26.870329]], dtype=float32)"
     },
     "execution_count": 15,
     "metadata": {},
     "output_type": "execute_result"
    }
   ],
   "source": [
    "model.predict([17.0])"
   ],
   "metadata": {
    "collapsed": false,
    "pycharm": {
     "name": "#%%\n"
    }
   }
  },
  {
   "cell_type": "markdown",
   "source": [
    "## Evaluate our model\n",
    "\n",
    "In practice, a typical workflow you'll go through when building neural networks is:\n",
    "```\n",
    "Build a model -> fit it -> evaluate it -> tweak a model -> fit it -> evaluate it -> tweak a model -> fit it -> evaluate it -> ...\n",
    "```"
   ],
   "metadata": {
    "collapsed": false,
    "pycharm": {
     "name": "#%% md\n"
    }
   }
  },
  {
   "cell_type": "markdown",
   "source": [
    "When it comes to evaluation... there are 3 words you should memorize:\n",
    "> \"Visualize, visualize, visualize.\"\n",
    "\n",
    "It's a good idea to visualize:\n",
    "* The data - what data are we working with? What does it look like?\n",
    "* The model itself - what does our model look like?\n",
    "* The training of a model - how does a model perform while it learns?\n",
    "* The predictions of the model - how do the predictions of a model line up against the ground truth (the original labels)."
   ],
   "metadata": {
    "collapsed": false,
    "pycharm": {
     "name": "#%% md\n"
    }
   }
  },
  {
   "cell_type": "code",
   "execution_count": 16,
   "outputs": [
    {
     "data": {
      "text/plain": "<tf.Tensor: shape=(50,), dtype=int32, numpy=\narray([-100,  -96,  -92,  -88,  -84,  -80,  -76,  -72,  -68,  -64,  -60,\n        -56,  -52,  -48,  -44,  -40,  -36,  -32,  -28,  -24,  -20,  -16,\n        -12,   -8,   -4,    0,    4,    8,   12,   16,   20,   24,   28,\n         32,   36,   40,   44,   48,   52,   56,   60,   64,   68,   72,\n         76,   80,   84,   88,   92,   96])>"
     },
     "execution_count": 16,
     "metadata": {},
     "output_type": "execute_result"
    }
   ],
   "source": [
    "# Make a bigger dataset\n",
    "X = tf.range(-100, 100, 4)\n",
    "X"
   ],
   "metadata": {
    "collapsed": false,
    "pycharm": {
     "name": "#%%\n"
    }
   }
  },
  {
   "cell_type": "code",
   "execution_count": 17,
   "outputs": [
    {
     "data": {
      "text/plain": "<tf.Tensor: shape=(50,), dtype=int32, numpy=\narray([-90, -86, -82, -78, -74, -70, -66, -62, -58, -54, -50, -46, -42,\n       -38, -34, -30, -26, -22, -18, -14, -10,  -6,  -2,   2,   6,  10,\n        14,  18,  22,  26,  30,  34,  38,  42,  46,  50,  54,  58,  62,\n        66,  70,  74,  78,  82,  86,  90,  94,  98, 102, 106])>"
     },
     "execution_count": 17,
     "metadata": {},
     "output_type": "execute_result"
    }
   ],
   "source": [
    "y = X + 10\n",
    "y"
   ],
   "metadata": {
    "collapsed": false,
    "pycharm": {
     "name": "#%%\n"
    }
   }
  },
  {
   "cell_type": "code",
   "execution_count": 18,
   "outputs": [
    {
     "data": {
      "text/plain": "<Figure size 640x480 with 1 Axes>",
      "image/png": "[encoded data removed]"
     },
     "metadata": {},
     "output_type": "display_data"
    }
   ],
   "source": [
    "# Visualize the data\n",
    "plt.scatter(X, y);"
   ],
   "metadata": {
    "collapsed": false,
    "pycharm": {
     "name": "#%%\n"
    }
   }
  },
  {
   "cell_type": "markdown",
   "source": [
    "# The 3 sets...\n",
    "* **Training set** - the model learns from this data, which is typically 70-80% of the **total data** you have available.\n",
    "* **Validation set** - the model gets tuned on this data, which is typically 10-15% of the **total data** you have available.\n",
    "* **Test set** - the model gets evaluated on this data to test what it has learned, this set is typically 10-15% of the **total data** you have available."
   ],
   "metadata": {
    "collapsed": false,
    "pycharm": {
     "name": "#%% md\n"
    }
   }
  },
  {
   "cell_type": "code",
   "execution_count": 19,
   "outputs": [
    {
     "data": {
      "text/plain": "(50, 50)"
     },
     "execution_count": 19,
     "metadata": {},
     "output_type": "execute_result"
    }
   ],
   "source": [
    "# Check the length of each\n",
    "len(X), len(y)"
   ],
   "metadata": {
    "collapsed": false,
    "pycharm": {
     "name": "#%%\n"
    }
   }
  },
  {
   "cell_type": "code",
   "execution_count": 20,
   "outputs": [
    {
     "data": {
      "text/plain": "(<tf.Tensor: shape=(40,), dtype=int32, numpy=\n array([-100,  -96,  -92,  -88,  -84,  -80,  -76,  -72,  -68,  -64,  -60,\n         -56,  -52,  -48,  -44,  -40,  -36,  -32,  -28,  -24,  -20,  -16,\n         -12,   -8,   -4,    0,    4,    8,   12,   16,   20,   24,   28,\n          32,   36,   40,   44,   48,   52,   56])>,\n <tf.Tensor: shape=(40,), dtype=int32, numpy=\n array([-90, -86, -82, -78, -74, -70, -66, -62, -58, -54, -50, -46, -42,\n        -38, -34, -30, -26, -22, -18, -14, -10,  -6,  -2,   2,   6,  10,\n         14,  18,  22,  26,  30,  34,  38,  42,  46,  50,  54,  58,  62,\n         66])>,\n <tf.Tensor: shape=(10,), dtype=int32, numpy=array([60, 64, 68, 72, 76, 80, 84, 88, 92, 96])>,\n <tf.Tensor: shape=(10,), dtype=int32, numpy=array([ 70,  74,  78,  82,  86,  90,  94,  98, 102, 106])>)"
     },
     "execution_count": 20,
     "metadata": {},
     "output_type": "execute_result"
    }
   ],
   "source": [
    "# Split the data into training and test sets\n",
    "X_train = X[:40] # first 40 examples (80% of the data)\n",
    "y_train = y[:40]\n",
    "X_test = X[40:] # last 10 examples (20% of the data)\n",
    "y_test = y[40:]\n",
    "\n",
    "X_train, y_train, X_test, y_test"
   ],
   "metadata": {
    "collapsed": false,
    "pycharm": {
     "name": "#%%\n"
    }
   }
  },
  {
   "cell_type": "code",
   "execution_count": 21,
   "outputs": [
    {
     "data": {
      "text/plain": "(40, 10, 40, 10)"
     },
     "execution_count": 21,
     "metadata": {},
     "output_type": "execute_result"
    }
   ],
   "source": [
    "len(X_train), len(X_test), len(y_train), len(y_test)"
   ],
   "metadata": {
    "collapsed": false,
    "pycharm": {
     "name": "#%%\n"
    }
   }
  },
  {
   "cell_type": "markdown",
   "source": [
    "# Visualizing the data\n",
    "Now we've got our data in training and test sets, let's visualize it again."
   ],
   "metadata": {
    "collapsed": false,
    "pycharm": {
     "name": "#%% md\n"
    }
   }
  },
  {
   "cell_type": "code",
   "execution_count": 22,
   "outputs": [
    {
     "data": {
      "text/plain": "<Figure size 1000x700 with 1 Axes>",
      "image/png": "[encoded data removed]"
     },
     "metadata": {},
     "output_type": "display_data"
    }
   ],
   "source": [
    "plt.figure(figsize=(10, 7))\n",
    "# Plot training data in blue\n",
    "plt.scatter(X_train, y_train, c=\"b\", label=\"Training data\")\n",
    "# Plot test data in green\n",
    "plt.scatter(X_test, y_test, c=\"g\", label=\"Testing data\")\n",
    "# Show a legend\n",
    "plt.legend();"
   ],
   "metadata": {
    "collapsed": false,
    "pycharm": {
     "name": "#%%\n"
    }
   }
  },
  {
   "cell_type": "code",
   "execution_count": 23,
   "outputs": [],
   "source": [
    "# Let build a model which build automatically by defining the input_shape argument in the first layer\n",
    "tf.random.set_seed(42)\n",
    "# Create the model (same as above)\n",
    "model = tf.keras.Sequential([\n",
    "  tf.keras.layers.Dense(10, input_shape=[1], name=\"input_layer\"),\n",
    "    tf.keras.layers.Dense(1, name=\"output_layer\")\n",
    "], name=\"model_1\")\n",
    "model.compile(loss=tf.keras.losses.mae,\n",
    "              optimizer=tf.keras.optimizers.Adam(learning_rate=0.01),\n",
    "              metrics=[tf.keras.losses.mae])"
   ],
   "metadata": {
    "collapsed": false,
    "pycharm": {
     "name": "#%%\n"
    }
   }
  },
  {
   "cell_type": "code",
   "execution_count": 24,
   "outputs": [
    {
     "name": "stdout",
     "output_type": "stream",
     "text": [
      "Model: \"model_1\"\n",
      "_________________________________________________________________\n",
      " Layer (type)                Output Shape              Param #   \n",
      "=================================================================\n",
      " input_layer (Dense)         (None, 10)                20        \n",
      "                                                                 \n",
      " output_layer (Dense)        (None, 1)                 11        \n",
      "                                                                 \n",
      "=================================================================\n",
      "Total params: 31\n",
      "Trainable params: 31\n",
      "Non-trainable params: 0\n",
      "_________________________________________________________________\n"
     ]
    }
   ],
   "source": [
    "# Visualize the model\n",
    "model.summary()"
   ],
   "metadata": {
    "collapsed": false,
    "pycharm": {
     "name": "#%%\n"
    }
   }
  },
  {
   "cell_type": "markdown",
   "source": [
    "* Total params - total number of parameters in the model.\n",
    "* Trainable params - these are the parameters (patterns) the model can update as it trains.\n",
    "* Non-trainable params - these parameters aren't updated during training (this is typical when you bring in already learn patterns or parameters from other models during **transfer learning**).\n",
    "📖 **Resouce** For a more in-depth overview of the trainable parameters within a layer, check out MIT's 6.S191: Introduction to Deep Learning [video](https://youtu.be/aircAruvnKk) (around 18:00 - 26:00).\n",
    "⚒ **Exercise:** Try playing around with the number of hidden units in the Dense layer, see how that affects the number of trainable parameters (total and trainable) by calling `model.summary()`."
   ],
   "metadata": {
    "collapsed": false,
    "pycharm": {
     "name": "#%% md\n"
    }
   }
  },
  {
   "cell_type": "code",
   "execution_count": 25,
   "outputs": [
    {
     "name": "stdout",
     "output_type": "stream",
     "text": [
      "Model: \"model_1\"\n",
      "_________________________________________________________________\n",
      " Layer (type)                Output Shape              Param #   \n",
      "=================================================================\n",
      " input_layer (Dense)         (None, 10)                20        \n",
      "                                                                 \n",
      " output_layer (Dense)        (None, 1)                 11        \n",
      "                                                                 \n",
      "=================================================================\n",
      "Total params: 31\n",
      "Trainable params: 31\n",
      "Non-trainable params: 0\n",
      "_________________________________________________________________\n"
     ]
    }
   ],
   "source": [
    "# Get a summary of our model\n",
    "model.summary()"
   ],
   "metadata": {
    "collapsed": false,
    "pycharm": {
     "name": "#%%\n"
    }
   }
  },
  {
   "cell_type": "code",
   "execution_count": 26,
   "outputs": [
    {
     "data": {
      "image/png": "[encoded data removed]",
      "text/plain": "<IPython.core.display.Image object>"
     },
     "execution_count": 26,
     "metadata": {},
     "output_type": "execute_result"
    }
   ],
   "source": [
    "from tensorflow.keras.utils import plot_model\n",
    "plot_model(model, show_shapes=True, to_file=\"model.png\")"
   ],
   "metadata": {
    "collapsed": false,
    "pycharm": {
     "name": "#%%\n"
    }
   }
  },
  {
   "cell_type": "code",
   "execution_count": 27,
   "outputs": [
    {
     "name": "stdout",
     "output_type": "stream",
     "text": [
      "Epoch 1/100\n",
      "2/2 [==============================] - 0s 3ms/step - loss: 24.8139 - mean_absolute_error: 24.8139\n",
      "Epoch 2/100\n",
      "2/2 [==============================] - 0s 2ms/step - loss: 18.9124 - mean_absolute_error: 18.9124\n",
      "Epoch 3/100\n",
      "2/2 [==============================] - 0s 3ms/step - loss: 13.3266 - mean_absolute_error: 13.3266\n",
      "Epoch 4/100\n",
      "2/2 [==============================] - 0s 5ms/step - loss: 8.5982 - mean_absolute_error: 8.5982\n",
      "Epoch 5/100\n",
      "2/2 [==============================] - 0s 3ms/step - loss: 8.9157 - mean_absolute_error: 8.9157\n",
      "Epoch 6/100\n",
      "2/2 [==============================] - 0s 3ms/step - loss: 11.1906 - mean_absolute_error: 11.1906\n",
      "Epoch 7/100\n",
      "2/2 [==============================] - 0s 3ms/step - loss: 12.1925 - mean_absolute_error: 12.1925\n",
      "Epoch 8/100\n",
      "2/2 [==============================] - 0s 5ms/step - loss: 12.2605 - mean_absolute_error: 12.2605\n",
      "Epoch 9/100\n",
      "2/2 [==============================] - 0s 3ms/step - loss: 11.6762 - mean_absolute_error: 11.6762\n",
      "Epoch 10/100\n",
      "2/2 [==============================] - 0s 3ms/step - loss: 10.5413 - mean_absolute_error: 10.5413\n",
      "Epoch 11/100\n",
      "2/2 [==============================] - 0s 3ms/step - loss: 8.9631 - mean_absolute_error: 8.9631\n",
      "Epoch 12/100\n",
      "2/2 [==============================] - 0s 3ms/step - loss: 7.6217 - mean_absolute_error: 7.6217\n",
      "Epoch 13/100\n",
      "2/2 [==============================] - 0s 3ms/step - loss: 7.8626 - mean_absolute_error: 7.8626\n",
      "Epoch 14/100\n",
      "2/2 [==============================] - 0s 3ms/step - loss: 8.3545 - mean_absolute_error: 8.3545\n",
      "Epoch 15/100\n",
      "2/2 [==============================] - 0s 3ms/step - loss: 8.0974 - mean_absolute_error: 8.0974\n",
      "Epoch 16/100\n",
      "2/2 [==============================] - 0s 3ms/step - loss: 7.4825 - mean_absolute_error: 7.4825\n",
      "Epoch 17/100\n",
      "2/2 [==============================] - 0s 2ms/step - loss: 7.0261 - mean_absolute_error: 7.0261\n",
      "Epoch 18/100\n",
      "2/2 [==============================] - 0s 4ms/step - loss: 7.4787 - mean_absolute_error: 7.4787\n",
      "Epoch 19/100\n",
      "2/2 [==============================] - 0s 3ms/step - loss: 7.3316 - mean_absolute_error: 7.3316\n",
      "Epoch 20/100\n",
      "2/2 [==============================] - 0s 2ms/step - loss: 6.9212 - mean_absolute_error: 6.9212\n",
      "Epoch 21/100\n",
      "2/2 [==============================] - 0s 2ms/step - loss: 7.0672 - mean_absolute_error: 7.0672\n",
      "Epoch 22/100\n",
      "2/2 [==============================] - 0s 4ms/step - loss: 7.0972 - mean_absolute_error: 7.0972\n",
      "Epoch 23/100\n",
      "2/2 [==============================] - 0s 3ms/step - loss: 6.9143 - mean_absolute_error: 6.9143\n",
      "Epoch 24/100\n",
      "2/2 [==============================] - 0s 3ms/step - loss: 6.6775 - mean_absolute_error: 6.6775\n",
      "Epoch 25/100\n",
      "2/2 [==============================] - 0s 2ms/step - loss: 6.6782 - mean_absolute_error: 6.6782\n",
      "Epoch 26/100\n",
      "2/2 [==============================] - 0s 3ms/step - loss: 6.6261 - mean_absolute_error: 6.6261\n",
      "Epoch 27/100\n",
      "2/2 [==============================] - 0s 5ms/step - loss: 6.5442 - mean_absolute_error: 6.5442\n",
      "Epoch 28/100\n",
      "2/2 [==============================] - 0s 4ms/step - loss: 6.4937 - mean_absolute_error: 6.4937\n",
      "Epoch 29/100\n",
      "2/2 [==============================] - 0s 2ms/step - loss: 6.4382 - mean_absolute_error: 6.4382\n",
      "Epoch 30/100\n",
      "2/2 [==============================] - 0s 2ms/step - loss: 6.3885 - mean_absolute_error: 6.3885\n",
      "Epoch 31/100\n",
      "2/2 [==============================] - 0s 3ms/step - loss: 6.3225 - mean_absolute_error: 6.3225\n",
      "Epoch 32/100\n",
      "2/2 [==============================] - 0s 2ms/step - loss: 6.2754 - mean_absolute_error: 6.2754\n",
      "Epoch 33/100\n",
      "2/2 [==============================] - 0s 3ms/step - loss: 6.3337 - mean_absolute_error: 6.3337\n",
      "Epoch 34/100\n",
      "2/2 [==============================] - 0s 2ms/step - loss: 6.3026 - mean_absolute_error: 6.3026\n",
      "Epoch 35/100\n",
      "2/2 [==============================] - 0s 3ms/step - loss: 6.1774 - mean_absolute_error: 6.1774\n",
      "Epoch 36/100\n",
      "2/2 [==============================] - 0s 3ms/step - loss: 6.0841 - mean_absolute_error: 6.0841\n",
      "Epoch 37/100\n",
      "2/2 [==============================] - 0s 3ms/step - loss: 6.0828 - mean_absolute_error: 6.0828\n",
      "Epoch 38/100\n",
      "2/2 [==============================] - 0s 4ms/step - loss: 5.9926 - mean_absolute_error: 5.9926\n",
      "Epoch 39/100\n",
      "2/2 [==============================] - 0s 3ms/step - loss: 5.9054 - mean_absolute_error: 5.9054\n",
      "Epoch 40/100\n",
      "2/2 [==============================] - 0s 3ms/step - loss: 5.8231 - mean_absolute_error: 5.8231\n",
      "Epoch 41/100\n",
      "2/2 [==============================] - 0s 2ms/step - loss: 5.7761 - mean_absolute_error: 5.7761\n",
      "Epoch 42/100\n",
      "2/2 [==============================] - 0s 3ms/step - loss: 5.6938 - mean_absolute_error: 5.6938\n",
      "Epoch 43/100\n",
      "2/2 [==============================] - 0s 2ms/step - loss: 5.6277 - mean_absolute_error: 5.6277\n",
      "Epoch 44/100\n",
      "2/2 [==============================] - 0s 3ms/step - loss: 5.5914 - mean_absolute_error: 5.5914\n",
      "Epoch 45/100\n",
      "2/2 [==============================] - 0s 3ms/step - loss: 5.5020 - mean_absolute_error: 5.5020\n",
      "Epoch 46/100\n",
      "2/2 [==============================] - 0s 4ms/step - loss: 5.5275 - mean_absolute_error: 5.5275\n",
      "Epoch 47/100\n",
      "2/2 [==============================] - 0s 3ms/step - loss: 5.5415 - mean_absolute_error: 5.5415\n",
      "Epoch 48/100\n",
      "2/2 [==============================] - 0s 3ms/step - loss: 5.4035 - mean_absolute_error: 5.4035\n",
      "Epoch 49/100\n",
      "2/2 [==============================] - 0s 4ms/step - loss: 5.2702 - mean_absolute_error: 5.2702\n",
      "Epoch 50/100\n",
      "2/2 [==============================] - 0s 3ms/step - loss: 5.1661 - mean_absolute_error: 5.1661\n",
      "Epoch 51/100\n",
      "2/2 [==============================] - 0s 4ms/step - loss: 5.1231 - mean_absolute_error: 5.1231\n",
      "Epoch 52/100\n",
      "2/2 [==============================] - 0s 2ms/step - loss: 5.0505 - mean_absolute_error: 5.0505\n",
      "Epoch 53/100\n",
      "2/2 [==============================] - 0s 2ms/step - loss: 4.9082 - mean_absolute_error: 4.9082\n",
      "Epoch 54/100\n",
      "2/2 [==============================] - 0s 2ms/step - loss: 5.0439 - mean_absolute_error: 5.0439\n",
      "Epoch 55/100\n",
      "2/2 [==============================] - 0s 4ms/step - loss: 4.9373 - mean_absolute_error: 4.9373\n",
      "Epoch 56/100\n",
      "2/2 [==============================] - 0s 2ms/step - loss: 4.7284 - mean_absolute_error: 4.7284\n",
      "Epoch 57/100\n",
      "2/2 [==============================] - 0s 4ms/step - loss: 4.9082 - mean_absolute_error: 4.9082\n",
      "Epoch 58/100\n",
      "2/2 [==============================] - 0s 3ms/step - loss: 4.5943 - mean_absolute_error: 4.5943\n",
      "Epoch 59/100\n",
      "2/2 [==============================] - 0s 3ms/step - loss: 4.5512 - mean_absolute_error: 4.5512\n",
      "Epoch 60/100\n",
      "2/2 [==============================] - 0s 5ms/step - loss: 4.6768 - mean_absolute_error: 4.6768\n",
      "Epoch 61/100\n",
      "2/2 [==============================] - 0s 5ms/step - loss: 4.4581 - mean_absolute_error: 4.4581\n",
      "Epoch 62/100\n",
      "2/2 [==============================] - 0s 3ms/step - loss: 4.2165 - mean_absolute_error: 4.2165\n",
      "Epoch 63/100\n",
      "2/2 [==============================] - 0s 4ms/step - loss: 4.1871 - mean_absolute_error: 4.1871\n",
      "Epoch 64/100\n",
      "2/2 [==============================] - 0s 4ms/step - loss: 4.1155 - mean_absolute_error: 4.1155\n",
      "Epoch 65/100\n",
      "2/2 [==============================] - 0s 3ms/step - loss: 4.1155 - mean_absolute_error: 4.1155\n",
      "Epoch 66/100\n",
      "2/2 [==============================] - 0s 2ms/step - loss: 3.8880 - mean_absolute_error: 3.8880\n",
      "Epoch 67/100\n",
      "2/2 [==============================] - 0s 3ms/step - loss: 3.7986 - mean_absolute_error: 3.7986\n",
      "Epoch 68/100\n",
      "2/2 [==============================] - 0s 3ms/step - loss: 3.7924 - mean_absolute_error: 3.7924\n",
      "Epoch 69/100\n",
      "2/2 [==============================] - 0s 3ms/step - loss: 3.7667 - mean_absolute_error: 3.7667\n",
      "Epoch 70/100\n",
      "2/2 [==============================] - 0s 4ms/step - loss: 3.4816 - mean_absolute_error: 3.4816\n",
      "Epoch 71/100\n",
      "2/2 [==============================] - 0s 2ms/step - loss: 3.4924 - mean_absolute_error: 3.4924\n",
      "Epoch 72/100\n",
      "2/2 [==============================] - 0s 3ms/step - loss: 3.2872 - mean_absolute_error: 3.2872\n",
      "Epoch 73/100\n",
      "2/2 [==============================] - 0s 3ms/step - loss: 3.1637 - mean_absolute_error: 3.1637\n",
      "Epoch 74/100\n",
      "2/2 [==============================] - 0s 3ms/step - loss: 3.2217 - mean_absolute_error: 3.2217\n",
      "Epoch 75/100\n",
      "2/2 [==============================] - 0s 3ms/step - loss: 3.0491 - mean_absolute_error: 3.0491\n",
      "Epoch 76/100\n",
      "2/2 [==============================] - 0s 4ms/step - loss: 3.1652 - mean_absolute_error: 3.1652\n",
      "Epoch 77/100\n",
      "2/2 [==============================] - 0s 2ms/step - loss: 2.9845 - mean_absolute_error: 2.9845\n",
      "Epoch 78/100\n",
      "2/2 [==============================] - 0s 4ms/step - loss: 2.9682 - mean_absolute_error: 2.9682\n",
      "Epoch 79/100\n",
      "2/2 [==============================] - 0s 3ms/step - loss: 2.6212 - mean_absolute_error: 2.6212\n",
      "Epoch 80/100\n",
      "2/2 [==============================] - 0s 3ms/step - loss: 2.8468 - mean_absolute_error: 2.8468\n",
      "Epoch 81/100\n",
      "2/2 [==============================] - 0s 3ms/step - loss: 2.2851 - mean_absolute_error: 2.2851\n",
      "Epoch 82/100\n",
      "2/2 [==============================] - 0s 5ms/step - loss: 2.7691 - mean_absolute_error: 2.7691\n",
      "Epoch 83/100\n",
      "2/2 [==============================] - 0s 4ms/step - loss: 2.7941 - mean_absolute_error: 2.7941\n",
      "Epoch 84/100\n",
      "2/2 [==============================] - 0s 3ms/step - loss: 2.1661 - mean_absolute_error: 2.1661\n",
      "Epoch 85/100\n",
      "2/2 [==============================] - 0s 3ms/step - loss: 1.9280 - mean_absolute_error: 1.9280\n",
      "Epoch 86/100\n",
      "2/2 [==============================] - 0s 3ms/step - loss: 1.8023 - mean_absolute_error: 1.8023\n",
      "Epoch 87/100\n",
      "2/2 [==============================] - 0s 2ms/step - loss: 1.6717 - mean_absolute_error: 1.6717\n",
      "Epoch 88/100\n",
      "2/2 [==============================] - 0s 4ms/step - loss: 1.3335 - mean_absolute_error: 1.3335\n",
      "Epoch 89/100\n",
      "2/2 [==============================] - 0s 3ms/step - loss: 1.2188 - mean_absolute_error: 1.2188\n",
      "Epoch 90/100\n",
      "2/2 [==============================] - 0s 3ms/step - loss: 1.1490 - mean_absolute_error: 1.1490\n",
      "Epoch 91/100\n",
      "2/2 [==============================] - 0s 3ms/step - loss: 0.9473 - mean_absolute_error: 0.9473\n",
      "Epoch 92/100\n",
      "2/2 [==============================] - 0s 3ms/step - loss: 0.7866 - mean_absolute_error: 0.7866\n",
      "Epoch 93/100\n",
      "2/2 [==============================] - 0s 3ms/step - loss: 0.7715 - mean_absolute_error: 0.7715\n",
      "Epoch 94/100\n",
      "2/2 [==============================] - 0s 3ms/step - loss: 0.7217 - mean_absolute_error: 0.7217\n",
      "Epoch 95/100\n",
      "2/2 [==============================] - 0s 4ms/step - loss: 0.4601 - mean_absolute_error: 0.4601\n",
      "Epoch 96/100\n",
      "2/2 [==============================] - 0s 3ms/step - loss: 0.5149 - mean_absolute_error: 0.5149\n",
      "Epoch 97/100\n",
      "2/2 [==============================] - 0s 3ms/step - loss: 0.1739 - mean_absolute_error: 0.1739\n",
      "Epoch 98/100\n",
      "2/2 [==============================] - 0s 2ms/step - loss: 0.4825 - mean_absolute_error: 0.4825\n",
      "Epoch 99/100\n",
      "2/2 [==============================] - 0s 3ms/step - loss: 0.4718 - mean_absolute_error: 0.4718\n",
      "Epoch 100/100\n",
      "2/2 [==============================] - 0s 3ms/step - loss: 0.3496 - mean_absolute_error: 0.3496\n"
     ]
    },
    {
     "data": {
      "text/plain": "<keras.callbacks.History at 0x1a2fdca4ac0>"
     },
     "execution_count": 27,
     "metadata": {},
     "output_type": "execute_result"
    }
   ],
   "source": [
    "# Let's fit our model to the training data\n",
    "model.fit(X_train, y_train, epochs=100, verbose=1)"
   ],
   "metadata": {
    "collapsed": false,
    "pycharm": {
     "name": "#%%\n"
    }
   }
  },
  {
   "cell_type": "markdown",
   "source": [
    "## Visualizing our model's predictions\n",
    "To visualize predictions, it's a good idea to plot them against the ground truth labels.\n",
    "Often you'll see this in the form of `y_test` or `y_true` vs. `y_pred` (ground truth vs. your model's predictions)."
   ],
   "metadata": {
    "collapsed": false,
    "pycharm": {
     "name": "#%% md\n"
    }
   }
  },
  {
   "cell_type": "code",
   "execution_count": 28,
   "outputs": [
    {
     "name": "stdout",
     "output_type": "stream",
     "text": [
      "1/1 [==============================] - 0s 31ms/step\n"
     ]
    },
    {
     "data": {
      "text/plain": "(<tf.Tensor: shape=(10,), dtype=int32, numpy=array([ 70,  74,  78,  82,  86,  90,  94,  98, 102, 106])>,\n array([[ 70.37991 ],\n        [ 74.38685 ],\n        [ 78.39379 ],\n        [ 82.40072 ],\n        [ 86.40766 ],\n        [ 90.4146  ],\n        [ 94.42153 ],\n        [ 98.42846 ],\n        [102.43541 ],\n        [106.442345]], dtype=float32))"
     },
     "execution_count": 28,
     "metadata": {},
     "output_type": "execute_result"
    }
   ],
   "source": [
    "# Make some predictions\n",
    "y_pred = model.predict(X_test)\n",
    "y_test, y_pred"
   ],
   "metadata": {
    "collapsed": false,
    "pycharm": {
     "name": "#%%\n"
    }
   }
  },
  {
   "cell_type": "markdown",
   "source": [
    "🔑 **Note:** If you fell like you're going to reuse some kind of functionality in the future, it's a good idea to turn it into a function."
   ],
   "metadata": {
    "collapsed": false,
    "pycharm": {
     "name": "#%% md\n"
    }
   }
  },
  {
   "cell_type": "code",
   "execution_count": 29,
   "outputs": [],
   "source": [
    "# Let's create a plotting function\n",
    "def plot_predictions(train_data,\n",
    "                     train_labels,\n",
    "                     test_data,\n",
    "                     test_labels,\n",
    "                     predictions):\n",
    "  \"\"\"\n",
    "  Plots training data, test data and compares predictions to ground truth labels.\n",
    "  \"\"\"\n",
    "  plt.figure(figsize=(10, 7))\n",
    "  # Plot training data in blue\n",
    "  plt.scatter(train_data, train_labels, c=\"b\", label=\"Training data\")\n",
    "  # Plot test data in green\n",
    "  plt.scatter(test_data, test_labels, c=\"g\", label=\"Testing data\")\n",
    "  # Plot the model's predictions in red\n",
    "  plt.scatter(test_data, predictions, c=\"r\", label=\"Predictions\")\n",
    "  # Show the legend\n",
    "  plt.legend()"
   ],
   "metadata": {
    "collapsed": false,
    "pycharm": {
     "name": "#%%\n"
    }
   }
  },
  {
   "cell_type": "code",
   "execution_count": 30,
   "outputs": [
    {
     "data": {
      "text/plain": "<Figure size 1000x700 with 1 Axes>",
      "image/png": "[encoded data removed]"
     },
     "metadata": {},
     "output_type": "display_data"
    }
   ],
   "source": [
    "plot_predictions(train_data=X_train,\n",
    "                 train_labels=y_train,\n",
    "                 test_data=X_test,\n",
    "                 test_labels=y_test,\n",
    "                 predictions=y_pred)"
   ],
   "metadata": {
    "collapsed": false,
    "pycharm": {
     "name": "#%%\n"
    }
   }
  },
  {
   "cell_type": "markdown",
   "source": [
    "## Evaluating our model's predictions with regression evaluation metrics\n",
    "Depending on the problem you're working on, there will be different evaluation metrics to evaluate your model's performance.\n",
    "\n",
    "Since we're working on a regression problem, two of the main metrics:\n",
    "* **MAE** - mean absolute error, a measure of how wrong each of your model's predictions are on average.\n",
    "* **MSE** - mean squared error, a measure of how wrong each of your model's predictions are squared on average (more popular than MAE)."
   ],
   "metadata": {
    "collapsed": false,
    "pycharm": {
     "name": "#%% md\n"
    }
   }
  },
  {
   "cell_type": "code",
   "execution_count": 31,
   "outputs": [
    {
     "name": "stdout",
     "output_type": "stream",
     "text": [
      "1/1 [==============================] - 0s 83ms/step - loss: 0.4111 - mean_absolute_error: 0.4111\n"
     ]
    },
    {
     "data": {
      "text/plain": "[0.4111274778842926, 0.4111274778842926]"
     },
     "execution_count": 31,
     "metadata": {},
     "output_type": "execute_result"
    }
   ],
   "source": [
    "# Evaluate the model on the test set\n",
    "model.evaluate(X_test, y_test)"
   ],
   "metadata": {
    "collapsed": false,
    "pycharm": {
     "name": "#%%\n"
    }
   }
  },
  {
   "cell_type": "code",
   "execution_count": 32,
   "outputs": [
    {
     "data": {
      "text/plain": "(array([[ 70.37991 ],\n        [ 74.38685 ],\n        [ 78.39379 ],\n        [ 82.40072 ],\n        [ 86.40766 ],\n        [ 90.4146  ],\n        [ 94.42153 ],\n        [ 98.42846 ],\n        [102.43541 ],\n        [106.442345]], dtype=float32),\n <tf.Tensor: shape=(10,), dtype=int32, numpy=array([ 70,  74,  78,  82,  86,  90,  94,  98, 102, 106])>)"
     },
     "execution_count": 32,
     "metadata": {},
     "output_type": "execute_result"
    }
   ],
   "source": [
    "y_pred, y_test"
   ],
   "metadata": {
    "collapsed": false,
    "pycharm": {
     "name": "#%%\n"
    }
   }
  },
  {
   "cell_type": "code",
   "execution_count": 33,
   "outputs": [
    {
     "data": {
      "text/plain": "(<tf.Tensor: shape=(10,), dtype=float32, numpy=\n array([ 70.37991 ,  74.38685 ,  78.39379 ,  82.40072 ,  86.40766 ,\n         90.4146  ,  94.42153 ,  98.42846 , 102.43541 , 106.442345],\n       dtype=float32)>,\n <tf.Tensor: shape=(10,), dtype=float32, numpy=\n array([ 70.,  74.,  78.,  82.,  86.,  90.,  94.,  98., 102., 106.],\n       dtype=float32)>)"
     },
     "execution_count": 33,
     "metadata": {},
     "output_type": "execute_result"
    }
   ],
   "source": [
    "# reshape y_pred to the same shape and same type as y_test\n",
    "tf.reshape(y_pred, shape=(10,)) , tf.cast(y_test, dtype=tf.float32)"
   ],
   "metadata": {
    "collapsed": false,
    "pycharm": {
     "name": "#%%\n"
    }
   }
  },
  {
   "cell_type": "markdown",
   "source": [],
   "metadata": {
    "collapsed": false,
    "pycharm": {
     "name": "#%% md\n"
    }
   }
  },
  {
   "cell_type": "code",
   "execution_count": 34,
   "outputs": [
    {
     "data": {
      "text/plain": "(<tf.Tensor: shape=(10,), dtype=float32, numpy=\n array([ 70.37991 ,  74.38685 ,  78.39379 ,  82.40072 ,  86.40766 ,\n         90.4146  ,  94.42153 ,  98.42846 , 102.43541 , 106.442345],\n       dtype=float32)>,\n <tf.Tensor: shape=(10,), dtype=float32, numpy=\n array([ 70.,  74.,  78.,  82.,  86.,  90.,  94.,  98., 102., 106.],\n       dtype=float32)>)"
     },
     "execution_count": 34,
     "metadata": {},
     "output_type": "execute_result"
    }
   ],
   "source": [
    "# Squeeze is used to remove the extra dimension into a 1D array\n",
    "tf.squeeze(y_pred), tf.cast(y_test, dtype=tf.float32)"
   ],
   "metadata": {
    "collapsed": false,
    "pycharm": {
     "name": "#%%\n"
    }
   }
  },
  {
   "cell_type": "code",
   "execution_count": 35,
   "outputs": [
    {
     "data": {
      "text/plain": "<tf.Tensor: shape=(), dtype=float32, numpy=0.41112748>"
     },
     "execution_count": 35,
     "metadata": {},
     "output_type": "execute_result"
    }
   ],
   "source": [
    "#　Calculate the mean absolute error\n",
    "mae = tf.metrics.mean_absolute_error(y_true=tf.cast(y_test, dtype=tf.float32),\n",
    "                                     y_pred=tf.squeeze(y_pred))\n",
    "mae"
   ],
   "metadata": {
    "collapsed": false,
    "pycharm": {
     "name": "#%%\n"
    }
   }
  },
  {
   "cell_type": "code",
   "execution_count": 36,
   "outputs": [
    {
     "data": {
      "text/plain": "<tf.Tensor: shape=(), dtype=float32, numpy=0.16942275>"
     },
     "execution_count": 36,
     "metadata": {},
     "output_type": "execute_result"
    }
   ],
   "source": [
    "# Calculate the mean squared error\n",
    "mse = tf.metrics.mean_squared_error(y_true=tf.cast(y_test, dtype=tf.float32),\n",
    "                                    y_pred=tf.squeeze(y_pred))\n",
    "mse"
   ],
   "metadata": {
    "collapsed": false,
    "pycharm": {
     "name": "#%%\n"
    }
   }
  },
  {
   "cell_type": "code",
   "execution_count": 37,
   "outputs": [],
   "source": [
    "# Make some functions to reuse MAE and MSE\n",
    "def mae(y_true, y_pred):\n",
    "    return tf.metrics.mean_absolute_error(y_true=y_true,\n",
    "                                          y_pred=tf.squeeze(y_pred))\n",
    "def mse(y_true, y_pred):\n",
    "    return tf.metrics.mean_squared_error(y_true=y_true,\n",
    "                                         y_pred=tf.squeeze(y_pred))"
   ],
   "metadata": {
    "collapsed": false,
    "pycharm": {
     "name": "#%%\n"
    }
   }
  },
  {
   "cell_type": "markdown",
   "source": [
    "## Running experiments to improve our model\n",
    "\n",
    "1. Get more data - get more examples for your model to train on (more opportunities to learn patterns or relationships between features and labels).\n",
    "2. Make your model larger (use a more complex model) - this might come in the form of more layers or more hidden units in each layer.\n",
    "3. Train for longer - give your model more of a chance to find patterns in the data.\n",
    "\n",
    "Let's do 3 modelling experiments:\n",
    "1. `model_1` - same as the original model, 1 layer, trained for 100 epochs.\n",
    "2. `model_2` - 2 layers, trained for 100 epochs.\n",
    "3. `model_3` - 2 layers, trained for 500 epochs.\n",
    "\n",
    "### Building `model_1`"
   ],
   "metadata": {
    "collapsed": false,
    "pycharm": {
     "name": "#%% md\n"
    }
   }
  },
  {
   "cell_type": "code",
   "execution_count": 38,
   "outputs": [
    {
     "name": "stdout",
     "output_type": "stream",
     "text": [
      "Epoch 1/100\n",
      "2/2 [==============================] - 0s 4ms/step - loss: 31.4296 - mae: 31.4296\n",
      "Epoch 2/100\n",
      "2/2 [==============================] - 0s 3ms/step - loss: 8.8261 - mae: 8.8261\n",
      "Epoch 3/100\n",
      "2/2 [==============================] - 0s 5ms/step - loss: 9.6889 - mae: 9.6889\n",
      "Epoch 4/100\n",
      "2/2 [==============================] - 0s 4ms/step - loss: 11.8280 - mae: 11.8280\n",
      "Epoch 5/100\n",
      "2/2 [==============================] - 0s 4ms/step - loss: 10.8952 - mae: 10.8952\n",
      "Epoch 6/100\n",
      "2/2 [==============================] - 0s 2ms/step - loss: 10.0696 - mae: 10.0696\n",
      "Epoch 7/100\n",
      "2/2 [==============================] - 0s 2ms/step - loss: 9.1041 - mae: 9.1041\n",
      "Epoch 8/100\n",
      "2/2 [==============================] - 0s 3ms/step - loss: 9.0918 - mae: 9.0918\n",
      "Epoch 9/100\n",
      "2/2 [==============================] - 0s 4ms/step - loss: 15.0617 - mae: 15.0617\n",
      "Epoch 10/100\n",
      "2/2 [==============================] - 0s 4ms/step - loss: 7.5735 - mae: 7.5735\n",
      "Epoch 11/100\n",
      "2/2 [==============================] - 0s 2ms/step - loss: 11.4006 - mae: 11.4006\n",
      "Epoch 12/100\n",
      "2/2 [==============================] - 0s 3ms/step - loss: 16.9069 - mae: 16.9069\n",
      "Epoch 13/100\n",
      "2/2 [==============================] - 0s 3ms/step - loss: 12.0161 - mae: 12.0161\n",
      "Epoch 14/100\n",
      "2/2 [==============================] - 0s 3ms/step - loss: 13.9722 - mae: 13.9722\n",
      "Epoch 15/100\n",
      "2/2 [==============================] - 0s 3ms/step - loss: 11.3643 - mae: 11.3643\n",
      "Epoch 16/100\n",
      "2/2 [==============================] - 0s 3ms/step - loss: 8.5472 - mae: 8.5472\n",
      "Epoch 17/100\n",
      "2/2 [==============================] - 0s 4ms/step - loss: 13.6576 - mae: 13.6576\n",
      "Epoch 18/100\n",
      "2/2 [==============================] - 0s 3ms/step - loss: 11.4924 - mae: 11.4924\n",
      "Epoch 19/100\n",
      "2/2 [==============================] - 0s 3ms/step - loss: 17.8712 - mae: 17.8712\n",
      "Epoch 20/100\n",
      "2/2 [==============================] - 0s 2ms/step - loss: 15.0062 - mae: 15.0062\n",
      "Epoch 21/100\n",
      "2/2 [==============================] - 0s 4ms/step - loss: 10.8754 - mae: 10.8754\n",
      "Epoch 22/100\n",
      "2/2 [==============================] - 0s 2ms/step - loss: 8.6302 - mae: 8.6302\n",
      "Epoch 23/100\n",
      "2/2 [==============================] - 0s 3ms/step - loss: 9.6780 - mae: 9.6780\n",
      "Epoch 24/100\n",
      "2/2 [==============================] - 0s 3ms/step - loss: 8.5749 - mae: 8.5749\n",
      "Epoch 25/100\n",
      "2/2 [==============================] - 0s 2ms/step - loss: 11.5796 - mae: 11.5796\n",
      "Epoch 26/100\n",
      "2/2 [==============================] - 0s 3ms/step - loss: 15.1426 - mae: 15.1426\n",
      "Epoch 27/100\n",
      "2/2 [==============================] - 0s 2ms/step - loss: 12.0324 - mae: 12.0324\n",
      "Epoch 28/100\n",
      "2/2 [==============================] - 0s 3ms/step - loss: 13.3210 - mae: 13.3210\n",
      "Epoch 29/100\n",
      "2/2 [==============================] - 0s 3ms/step - loss: 9.5909 - mae: 9.5909\n",
      "Epoch 30/100\n",
      "2/2 [==============================] - 0s 3ms/step - loss: 17.0961 - mae: 17.0961\n",
      "Epoch 31/100\n",
      "2/2 [==============================] - 0s 3ms/step - loss: 22.9526 - mae: 22.9526\n",
      "Epoch 32/100\n",
      "2/2 [==============================] - 0s 2ms/step - loss: 7.5454 - mae: 7.5454\n",
      "Epoch 33/100\n",
      "2/2 [==============================] - 0s 3ms/step - loss: 15.4327 - mae: 15.4327\n",
      "Epoch 34/100\n",
      "2/2 [==============================] - 0s 3ms/step - loss: 13.3601 - mae: 13.3601\n",
      "Epoch 35/100\n",
      "2/2 [==============================] - 0s 3ms/step - loss: 7.9722 - mae: 7.9722\n",
      "Epoch 36/100\n",
      "2/2 [==============================] - 0s 3ms/step - loss: 9.9751 - mae: 9.9751\n",
      "Epoch 37/100\n",
      "2/2 [==============================] - 0s 3ms/step - loss: 9.7258 - mae: 9.7258\n",
      "Epoch 38/100\n",
      "2/2 [==============================] - 0s 2ms/step - loss: 10.5899 - mae: 10.5899\n",
      "Epoch 39/100\n",
      "2/2 [==============================] - 0s 2ms/step - loss: 15.6743 - mae: 15.6743\n",
      "Epoch 40/100\n",
      "2/2 [==============================] - 0s 3ms/step - loss: 13.4236 - mae: 13.4236\n",
      "Epoch 41/100\n",
      "2/2 [==============================] - 0s 2ms/step - loss: 9.2818 - mae: 9.2818\n",
      "Epoch 42/100\n",
      "2/2 [==============================] - 0s 3ms/step - loss: 10.9894 - mae: 10.9894\n",
      "Epoch 43/100\n",
      "2/2 [==============================] - 0s 4ms/step - loss: 8.3265 - mae: 8.3265\n",
      "Epoch 44/100\n",
      "2/2 [==============================] - 0s 3ms/step - loss: 13.0303 - mae: 13.0303\n",
      "Epoch 45/100\n",
      "2/2 [==============================] - 0s 3ms/step - loss: 13.6832 - mae: 13.6832\n",
      "Epoch 46/100\n",
      "2/2 [==============================] - 0s 3ms/step - loss: 8.3885 - mae: 8.3885\n",
      "Epoch 47/100\n",
      "2/2 [==============================] - 0s 2ms/step - loss: 9.1785 - mae: 9.1785\n",
      "Epoch 48/100\n",
      "2/2 [==============================] - 0s 3ms/step - loss: 10.6892 - mae: 10.6892\n",
      "Epoch 49/100\n",
      "2/2 [==============================] - 0s 3ms/step - loss: 7.7895 - mae: 7.7895\n",
      "Epoch 50/100\n",
      "2/2 [==============================] - 0s 3ms/step - loss: 9.6047 - mae: 9.6047\n",
      "Epoch 51/100\n",
      "2/2 [==============================] - 0s 3ms/step - loss: 9.1685 - mae: 9.1685\n",
      "Epoch 52/100\n",
      "2/2 [==============================] - 0s 2ms/step - loss: 16.5122 - mae: 16.5122\n",
      "Epoch 53/100\n",
      "2/2 [==============================] - 0s 3ms/step - loss: 14.0597 - mae: 14.0597\n",
      "Epoch 54/100\n",
      "2/2 [==============================] - 0s 2ms/step - loss: 20.9541 - mae: 20.9541\n",
      "Epoch 55/100\n",
      "2/2 [==============================] - 0s 3ms/step - loss: 16.5299 - mae: 16.5299\n",
      "Epoch 56/100\n",
      "2/2 [==============================] - 0s 5ms/step - loss: 9.8311 - mae: 9.8311\n",
      "Epoch 57/100\n",
      "2/2 [==============================] - 0s 4ms/step - loss: 9.6710 - mae: 9.6710\n",
      "Epoch 58/100\n",
      "2/2 [==============================] - 0s 3ms/step - loss: 8.9850 - mae: 8.9850\n",
      "Epoch 59/100\n",
      "2/2 [==============================] - 0s 4ms/step - loss: 10.2044 - mae: 10.2044\n",
      "Epoch 60/100\n",
      "2/2 [==============================] - 0s 3ms/step - loss: 8.3977 - mae: 8.3977\n",
      "Epoch 61/100\n",
      "2/2 [==============================] - 0s 3ms/step - loss: 9.2274 - mae: 9.2274\n",
      "Epoch 62/100\n",
      "2/2 [==============================] - 0s 4ms/step - loss: 7.2724 - mae: 7.2724\n",
      "Epoch 63/100\n",
      "2/2 [==============================] - 0s 3ms/step - loss: 8.1787 - mae: 8.1787\n",
      "Epoch 64/100\n",
      "2/2 [==============================] - 0s 2ms/step - loss: 12.5505 - mae: 12.5505\n",
      "Epoch 65/100\n",
      "2/2 [==============================] - 0s 4ms/step - loss: 10.6308 - mae: 10.6308\n",
      "Epoch 66/100\n",
      "2/2 [==============================] - 0s 3ms/step - loss: 15.4494 - mae: 15.4494\n",
      "Epoch 67/100\n",
      "2/2 [==============================] - 0s 2ms/step - loss: 9.8943 - mae: 9.8943\n",
      "Epoch 68/100\n",
      "2/2 [==============================] - 0s 3ms/step - loss: 8.6707 - mae: 8.6707\n",
      "Epoch 69/100\n",
      "2/2 [==============================] - 0s 3ms/step - loss: 13.3230 - mae: 13.3230\n",
      "Epoch 70/100\n",
      "2/2 [==============================] - 0s 4ms/step - loss: 7.8528 - mae: 7.8528\n",
      "Epoch 71/100\n",
      "2/2 [==============================] - 0s 3ms/step - loss: 11.3528 - mae: 11.3528\n",
      "Epoch 72/100\n",
      "2/2 [==============================] - 0s 2ms/step - loss: 9.5468 - mae: 9.5468\n",
      "Epoch 73/100\n",
      "2/2 [==============================] - 0s 2ms/step - loss: 11.6456 - mae: 11.6456\n",
      "Epoch 74/100\n",
      "2/2 [==============================] - 0s 3ms/step - loss: 10.7565 - mae: 10.7565\n",
      "Epoch 75/100\n",
      "2/2 [==============================] - 0s 3ms/step - loss: 9.5444 - mae: 9.5444\n",
      "Epoch 76/100\n",
      "2/2 [==============================] - 0s 3ms/step - loss: 10.9914 - mae: 10.9914\n",
      "Epoch 77/100\n",
      "2/2 [==============================] - 0s 4ms/step - loss: 11.0552 - mae: 11.0552\n",
      "Epoch 78/100\n",
      "2/2 [==============================] - 0s 6ms/step - loss: 11.5885 - mae: 11.5885\n",
      "Epoch 79/100\n",
      "2/2 [==============================] - 0s 3ms/step - loss: 15.6538 - mae: 15.6538\n",
      "Epoch 80/100\n",
      "2/2 [==============================] - 0s 3ms/step - loss: 11.5531 - mae: 11.5531\n",
      "Epoch 81/100\n",
      "2/2 [==============================] - 0s 3ms/step - loss: 9.5074 - mae: 9.5074\n",
      "Epoch 82/100\n",
      "2/2 [==============================] - 0s 5ms/step - loss: 12.5427 - mae: 12.5427\n",
      "Epoch 83/100\n",
      "2/2 [==============================] - 0s 3ms/step - loss: 8.1481 - mae: 8.1481\n",
      "Epoch 84/100\n",
      "2/2 [==============================] - 0s 4ms/step - loss: 7.5508 - mae: 7.5508\n",
      "Epoch 85/100\n",
      "2/2 [==============================] - 0s 2ms/step - loss: 9.7483 - mae: 9.7483\n",
      "Epoch 86/100\n",
      "2/2 [==============================] - 0s 4ms/step - loss: 9.0498 - mae: 9.0498\n",
      "Epoch 87/100\n",
      "2/2 [==============================] - 0s 1ms/step - loss: 11.6943 - mae: 11.6943\n",
      "Epoch 88/100\n",
      "2/2 [==============================] - 0s 4ms/step - loss: 10.2944 - mae: 10.2944\n",
      "Epoch 89/100\n",
      "2/2 [==============================] - 0s 2ms/step - loss: 6.7443 - mae: 6.7443\n",
      "Epoch 90/100\n",
      "2/2 [==============================] - 0s 2ms/step - loss: 8.1199 - mae: 8.1199\n",
      "Epoch 91/100\n",
      "2/2 [==============================] - 0s 3ms/step - loss: 6.8927 - mae: 6.8927\n",
      "Epoch 92/100\n",
      "2/2 [==============================] - 0s 2ms/step - loss: 8.9925 - mae: 8.9925\n",
      "Epoch 93/100\n",
      "2/2 [==============================] - 0s 3ms/step - loss: 7.4881 - mae: 7.4881\n",
      "Epoch 94/100\n",
      "2/2 [==============================] - 0s 3ms/step - loss: 9.1062 - mae: 9.1062\n",
      "Epoch 95/100\n",
      "2/2 [==============================] - 0s 3ms/step - loss: 10.5658 - mae: 10.5658\n",
      "Epoch 96/100\n",
      "2/2 [==============================] - 0s 3ms/step - loss: 10.5842 - mae: 10.5842\n",
      "Epoch 97/100\n",
      "2/2 [==============================] - 0s 4ms/step - loss: 6.9960 - mae: 6.9960\n",
      "Epoch 98/100\n",
      "2/2 [==============================] - 0s 3ms/step - loss: 9.1406 - mae: 9.1406\n",
      "Epoch 99/100\n",
      "2/2 [==============================] - 0s 3ms/step - loss: 8.9452 - mae: 8.9452\n",
      "Epoch 100/100\n",
      "2/2 [==============================] - 0s 3ms/step - loss: 13.0796 - mae: 13.0796\n"
     ]
    },
    {
     "data": {
      "text/plain": "<keras.callbacks.History at 0x1a57c7dadc0>"
     },
     "execution_count": 38,
     "metadata": {},
     "output_type": "execute_result"
    }
   ],
   "source": [
    "# Set random seed\n",
    "tf.random.set_seed(42)\n",
    "# Create the model\n",
    "model_1 = tf.keras.Sequential([\n",
    "  tf.keras.layers.Dense(1)\n",
    "], name=\"model_1\")\n",
    "\n",
    "# Compile the model\n",
    "model_1.compile(loss=tf.keras.losses.mae,\n",
    "                optimizer=tf.keras.optimizers.SGD(),\n",
    "                metrics=[\"mae\"])\n",
    "\n",
    "model_1.fit(tf.expand_dims(X_train, axis=-1), y_train, epochs=100, verbose=1)"
   ],
   "metadata": {
    "collapsed": false,
    "pycharm": {
     "name": "#%%\n"
    }
   }
  },
  {
   "cell_type": "code",
   "execution_count": 39,
   "outputs": [
    {
     "name": "stdout",
     "output_type": "stream",
     "text": [
      "WARNING:tensorflow:5 out of the last 5 calls to <function Model.make_predict_function.<locals>.predict_function at 0x000001A57CFE4820> triggered tf.function retracing. Tracing is expensive and the excessive number of tracings could be due to (1) creating @tf.function repeatedly in a loop, (2) passing tensors with different shapes, (3) passing Python objects instead of tensors. For (1), please define your @tf.function outside of the loop. For (2), @tf.function has reduce_retracing=True option that can avoid unnecessary retracing. For (3), please refer to https://www.tensorflow.org/guide/function#controlling_retracing and https://www.tensorflow.org/api_docs/python/tf/function for  more details.\n",
      "1/1 [==============================] - 0s 30ms/step\n"
     ]
    },
    {
     "data": {
      "text/plain": "<Figure size 1000x700 with 1 Axes>",
      "image/png": "[encoded data removed]"
     },
     "metadata": {},
     "output_type": "display_data"
    }
   ],
   "source": [
    "# Make and plot predictions for model_1\n",
    "y_pred_1 = model_1.predict(tf.expand_dims(X_test, axis=-1))\n",
    "plot_predictions(train_data=X_train,\n",
    "                 train_labels=y_train,\n",
    "                 test_data=X_test,\n",
    "                 test_labels=y_test,\n",
    "                 predictions=y_pred_1)"
   ],
   "metadata": {
    "collapsed": false,
    "pycharm": {
     "name": "#%%\n"
    }
   }
  },
  {
   "cell_type": "code",
   "execution_count": 40,
   "outputs": [
    {
     "data": {
      "text/plain": "(<tf.Tensor: shape=(), dtype=float32, numpy=32.640205>,\n <tf.Tensor: shape=(), dtype=float32, numpy=1077.8314>)"
     },
     "execution_count": 40,
     "metadata": {},
     "output_type": "execute_result"
    }
   ],
   "source": [
    "# Evaluate model_1\n",
    "mae_1 = mae(y_test, y_pred_1)\n",
    "mse_1 = mse(y_test, y_pred_1)\n",
    "mae_1, mse_1"
   ],
   "metadata": {
    "collapsed": false,
    "pycharm": {
     "name": "#%%\n"
    }
   }
  },
  {
   "cell_type": "code",
   "execution_count": 41,
   "outputs": [
    {
     "name": "stdout",
     "output_type": "stream",
     "text": [
      "Epoch 1/100\n",
      "2/2 [==============================] - 0s 3ms/step - loss: 32.5830 - mae: 32.5830\n",
      "Epoch 2/100\n",
      "2/2 [==============================] - 0s 2ms/step - loss: 27.4358 - mae: 27.4358\n",
      "Epoch 3/100\n",
      "2/2 [==============================] - 0s 6ms/step - loss: 31.4286 - mae: 31.4286\n",
      "Epoch 4/100\n",
      "2/2 [==============================] - 0s 3ms/step - loss: 13.8434 - mae: 13.8434\n",
      "Epoch 5/100\n",
      "2/2 [==============================] - 0s 3ms/step - loss: 18.9392 - mae: 18.9392\n",
      "Epoch 6/100\n",
      "2/2 [==============================] - 0s 2ms/step - loss: 9.4897 - mae: 9.4897\n",
      "Epoch 7/100\n",
      "2/2 [==============================] - 0s 3ms/step - loss: 10.4949 - mae: 10.4949\n",
      "Epoch 8/100\n",
      "2/2 [==============================] - 0s 3ms/step - loss: 12.1363 - mae: 12.1363\n",
      "Epoch 9/100\n",
      "2/2 [==============================] - 0s 5ms/step - loss: 38.1914 - mae: 38.1914\n",
      "Epoch 10/100\n",
      "2/2 [==============================] - 0s 3ms/step - loss: 25.7423 - mae: 25.7423\n",
      "Epoch 11/100\n",
      "2/2 [==============================] - 0s 3ms/step - loss: 10.2539 - mae: 10.2539\n",
      "Epoch 12/100\n",
      "2/2 [==============================] - 0s 4ms/step - loss: 25.2588 - mae: 25.2588\n",
      "Epoch 13/100\n",
      "2/2 [==============================] - 0s 3ms/step - loss: 17.1098 - mae: 17.1098\n",
      "Epoch 14/100\n",
      "2/2 [==============================] - 0s 3ms/step - loss: 26.1302 - mae: 26.1302\n",
      "Epoch 15/100\n",
      "2/2 [==============================] - 0s 4ms/step - loss: 18.1726 - mae: 18.1726\n",
      "Epoch 16/100\n",
      "2/2 [==============================] - 0s 3ms/step - loss: 7.8581 - mae: 7.8581\n",
      "Epoch 17/100\n",
      "2/2 [==============================] - 0s 3ms/step - loss: 22.2868 - mae: 22.2868\n",
      "Epoch 18/100\n",
      "2/2 [==============================] - 0s 3ms/step - loss: 10.8478 - mae: 10.8478\n",
      "Epoch 19/100\n",
      "2/2 [==============================] - 0s 4ms/step - loss: 10.7379 - mae: 10.7379\n",
      "Epoch 20/100\n",
      "2/2 [==============================] - 0s 4ms/step - loss: 12.0620 - mae: 12.0620\n",
      "Epoch 21/100\n",
      "2/2 [==============================] - 0s 4ms/step - loss: 20.2086 - mae: 20.2086\n",
      "Epoch 22/100\n",
      "2/2 [==============================] - 0s 5ms/step - loss: 13.8207 - mae: 13.8207\n",
      "Epoch 23/100\n",
      "2/2 [==============================] - 0s 4ms/step - loss: 9.5568 - mae: 9.5568\n",
      "Epoch 24/100\n",
      "2/2 [==============================] - 0s 4ms/step - loss: 11.9132 - mae: 11.9132\n",
      "Epoch 25/100\n",
      "2/2 [==============================] - 0s 4ms/step - loss: 16.2683 - mae: 16.2683\n",
      "Epoch 26/100\n",
      "2/2 [==============================] - 0s 4ms/step - loss: 16.4517 - mae: 16.4517\n",
      "Epoch 27/100\n",
      "2/2 [==============================] - 0s 4ms/step - loss: 11.5980 - mae: 11.5980\n",
      "Epoch 28/100\n",
      "2/2 [==============================] - 0s 4ms/step - loss: 30.0863 - mae: 30.0863\n",
      "Epoch 29/100\n",
      "2/2 [==============================] - 0s 3ms/step - loss: 9.2512 - mae: 9.2512\n",
      "Epoch 30/100\n",
      "2/2 [==============================] - 0s 3ms/step - loss: 30.5979 - mae: 30.5979\n",
      "Epoch 31/100\n",
      "2/2 [==============================] - 0s 3ms/step - loss: 55.6451 - mae: 55.6451\n",
      "Epoch 32/100\n",
      "2/2 [==============================] - 0s 3ms/step - loss: 9.7451 - mae: 9.7451\n",
      "Epoch 33/100\n",
      "2/2 [==============================] - 0s 3ms/step - loss: 12.3672 - mae: 12.3672\n",
      "Epoch 34/100\n",
      "2/2 [==============================] - 0s 4ms/step - loss: 24.7894 - mae: 24.7894\n",
      "Epoch 35/100\n",
      "2/2 [==============================] - 0s 5ms/step - loss: 11.9072 - mae: 11.9072\n",
      "Epoch 36/100\n",
      "2/2 [==============================] - 0s 2ms/step - loss: 22.0678 - mae: 22.0678\n",
      "Epoch 37/100\n",
      "2/2 [==============================] - 0s 3ms/step - loss: 17.8923 - mae: 17.8923\n",
      "Epoch 38/100\n",
      "2/2 [==============================] - 0s 4ms/step - loss: 9.9800 - mae: 9.9800\n",
      "Epoch 39/100\n",
      "2/2 [==============================] - 0s 3ms/step - loss: 10.5108 - mae: 10.5108\n",
      "Epoch 40/100\n",
      "2/2 [==============================] - 0s 3ms/step - loss: 15.5988 - mae: 15.5988\n",
      "Epoch 41/100\n",
      "2/2 [==============================] - 0s 6ms/step - loss: 11.8329 - mae: 11.8329\n",
      "Epoch 42/100\n",
      "2/2 [==============================] - 0s 4ms/step - loss: 9.9509 - mae: 9.9509\n",
      "Epoch 43/100\n",
      "2/2 [==============================] - 0s 3ms/step - loss: 9.7984 - mae: 9.7984\n",
      "Epoch 44/100\n",
      "2/2 [==============================] - 0s 3ms/step - loss: 30.6036 - mae: 30.6036\n",
      "Epoch 45/100\n",
      "2/2 [==============================] - 0s 3ms/step - loss: 11.9936 - mae: 11.9936\n",
      "Epoch 46/100\n",
      "2/2 [==============================] - 0s 2ms/step - loss: 16.1437 - mae: 16.1437\n",
      "Epoch 47/100\n",
      "2/2 [==============================] - 0s 4ms/step - loss: 15.0382 - mae: 15.0382\n",
      "Epoch 48/100\n",
      "2/2 [==============================] - 0s 4ms/step - loss: 14.2564 - mae: 14.2564\n",
      "Epoch 49/100\n",
      "2/2 [==============================] - 0s 4ms/step - loss: 13.8063 - mae: 13.8063\n",
      "Epoch 50/100\n",
      "2/2 [==============================] - 0s 3ms/step - loss: 12.6734 - mae: 12.6734\n",
      "Epoch 51/100\n",
      "2/2 [==============================] - 0s 5ms/step - loss: 14.7202 - mae: 14.7202\n",
      "Epoch 52/100\n",
      "2/2 [==============================] - 0s 4ms/step - loss: 18.6269 - mae: 18.6269\n",
      "Epoch 53/100\n",
      "2/2 [==============================] - 0s 3ms/step - loss: 23.9603 - mae: 23.9603\n",
      "Epoch 54/100\n",
      "2/2 [==============================] - 0s 3ms/step - loss: 23.8846 - mae: 23.8846\n",
      "Epoch 55/100\n",
      "2/2 [==============================] - 0s 3ms/step - loss: 23.1144 - mae: 23.1144\n",
      "Epoch 56/100\n",
      "2/2 [==============================] - 0s 4ms/step - loss: 10.8555 - mae: 10.8555\n",
      "Epoch 57/100\n",
      "2/2 [==============================] - 0s 3ms/step - loss: 12.7109 - mae: 12.7109\n",
      "Epoch 58/100\n",
      "2/2 [==============================] - 0s 3ms/step - loss: 9.5766 - mae: 9.5766\n",
      "Epoch 59/100\n",
      "2/2 [==============================] - 0s 4ms/step - loss: 12.4785 - mae: 12.4785\n",
      "Epoch 60/100\n",
      "2/2 [==============================] - 0s 4ms/step - loss: 11.8974 - mae: 11.8974\n",
      "Epoch 61/100\n",
      "2/2 [==============================] - 0s 3ms/step - loss: 16.9829 - mae: 16.9829\n",
      "Epoch 62/100\n",
      "2/2 [==============================] - 0s 4ms/step - loss: 10.3872 - mae: 10.3872\n",
      "Epoch 63/100\n",
      "2/2 [==============================] - 0s 2ms/step - loss: 10.3447 - mae: 10.3447\n",
      "Epoch 64/100\n",
      "2/2 [==============================] - 0s 3ms/step - loss: 24.1999 - mae: 24.1999\n",
      "Epoch 65/100\n",
      "2/2 [==============================] - 0s 3ms/step - loss: 10.5229 - mae: 10.5229\n",
      "Epoch 66/100\n",
      "2/2 [==============================] - 0s 3ms/step - loss: 21.2138 - mae: 21.2138\n",
      "Epoch 67/100\n",
      "2/2 [==============================] - 0s 3ms/step - loss: 10.5250 - mae: 10.5250\n",
      "Epoch 68/100\n",
      "2/2 [==============================] - 0s 2ms/step - loss: 14.3808 - mae: 14.3808\n",
      "Epoch 69/100\n",
      "2/2 [==============================] - 0s 3ms/step - loss: 10.6202 - mae: 10.6202\n",
      "Epoch 70/100\n",
      "2/2 [==============================] - 0s 3ms/step - loss: 12.6973 - mae: 12.6973\n",
      "Epoch 71/100\n",
      "2/2 [==============================] - 0s 3ms/step - loss: 13.1349 - mae: 13.1349\n",
      "Epoch 72/100\n",
      "2/2 [==============================] - 0s 7ms/step - loss: 19.6564 - mae: 19.6564\n",
      "Epoch 73/100\n",
      "2/2 [==============================] - 0s 3ms/step - loss: 11.1975 - mae: 11.1975\n",
      "Epoch 74/100\n",
      "2/2 [==============================] - 0s 3ms/step - loss: 21.9490 - mae: 21.9490\n",
      "Epoch 75/100\n",
      "2/2 [==============================] - 0s 5ms/step - loss: 7.1866 - mae: 7.1866\n",
      "Epoch 76/100\n",
      "2/2 [==============================] - 0s 3ms/step - loss: 9.4122 - mae: 9.4122\n",
      "Epoch 77/100\n",
      "2/2 [==============================] - 0s 4ms/step - loss: 22.0358 - mae: 22.0358\n",
      "Epoch 78/100\n",
      "2/2 [==============================] - 0s 6ms/step - loss: 17.7294 - mae: 17.7294\n",
      "Epoch 79/100\n",
      "2/2 [==============================] - 0s 4ms/step - loss: 14.8737 - mae: 14.8737\n",
      "Epoch 80/100\n",
      "2/2 [==============================] - 0s 3ms/step - loss: 25.2125 - mae: 25.2125\n",
      "Epoch 81/100\n",
      "2/2 [==============================] - 0s 8ms/step - loss: 10.9409 - mae: 10.9409\n",
      "Epoch 82/100\n",
      "2/2 [==============================] - 0s 3ms/step - loss: 12.7323 - mae: 12.7323\n",
      "Epoch 83/100\n",
      "2/2 [==============================] - 0s 3ms/step - loss: 17.5011 - mae: 17.5011\n",
      "Epoch 84/100\n",
      "2/2 [==============================] - 0s 4ms/step - loss: 7.2798 - mae: 7.2798\n",
      "Epoch 85/100\n",
      "2/2 [==============================] - 0s 4ms/step - loss: 15.0267 - mae: 15.0267\n",
      "Epoch 86/100\n",
      "2/2 [==============================] - 0s 4ms/step - loss: 15.3348 - mae: 15.3348\n",
      "Epoch 87/100\n",
      "2/2 [==============================] - 0s 3ms/step - loss: 19.2045 - mae: 19.2045\n",
      "Epoch 88/100\n",
      "2/2 [==============================] - 0s 4ms/step - loss: 29.5831 - mae: 29.5831\n",
      "Epoch 89/100\n",
      "2/2 [==============================] - 0s 4ms/step - loss: 10.1369 - mae: 10.1369\n",
      "Epoch 90/100\n",
      "2/2 [==============================] - 0s 4ms/step - loss: 21.3136 - mae: 21.3136\n",
      "Epoch 91/100\n",
      "2/2 [==============================] - 0s 3ms/step - loss: 10.5215 - mae: 10.5215\n",
      "Epoch 92/100\n",
      "2/2 [==============================] - 0s 7ms/step - loss: 18.2100 - mae: 18.2100\n",
      "Epoch 93/100\n",
      "2/2 [==============================] - 0s 3ms/step - loss: 6.8109 - mae: 6.8109\n",
      "Epoch 94/100\n",
      "2/2 [==============================] - 0s 4ms/step - loss: 13.0110 - mae: 13.0110\n",
      "Epoch 95/100\n",
      "2/2 [==============================] - 0s 7ms/step - loss: 18.3910 - mae: 18.3910\n",
      "Epoch 96/100\n",
      "2/2 [==============================] - 0s 5ms/step - loss: 10.3480 - mae: 10.3480\n",
      "Epoch 97/100\n",
      "2/2 [==============================] - 0s 4ms/step - loss: 14.4089 - mae: 14.4089\n",
      "Epoch 98/100\n",
      "2/2 [==============================] - 0s 3ms/step - loss: 6.5746 - mae: 6.5746\n",
      "Epoch 99/100\n",
      "2/2 [==============================] - 0s 3ms/step - loss: 12.5984 - mae: 12.5984\n",
      "Epoch 100/100\n",
      "2/2 [==============================] - 0s 4ms/step - loss: 19.4159 - mae: 19.4159\n"
     ]
    },
    {
     "data": {
      "text/plain": "<keras.callbacks.History at 0x1a2c1343940>"
     },
     "execution_count": 41,
     "metadata": {},
     "output_type": "execute_result"
    }
   ],
   "source": [
    "# Set random seed\n",
    "tf.random.set_seed(42)\n",
    "\n",
    "model_2 = tf.keras.Sequential([\n",
    "  tf.keras.layers.Dense(10, name=\"hidden_layer\"),\n",
    "  tf.keras.layers.Dense(1, name=\"output_layer\")\n",
    "], name=\"model_2\")\n",
    "\n",
    "# Compile the model\n",
    "model_2.compile(loss=tf.keras.losses.mae,\n",
    "                optimizer=tf.keras.optimizers.SGD(),\n",
    "                metrics=[\"mae\"])\n",
    "\n",
    "model_2.fit(tf.expand_dims(X_train, axis=-1), y_train, epochs=100, verbose=1)"
   ],
   "metadata": {
    "collapsed": false,
    "pycharm": {
     "name": "#%%\n"
    }
   }
  },
  {
   "cell_type": "code",
   "execution_count": 42,
   "outputs": [
    {
     "name": "stdout",
     "output_type": "stream",
     "text": [
      "WARNING:tensorflow:6 out of the last 6 calls to <function Model.make_predict_function.<locals>.predict_function at 0x000001A2FDC0CF70> triggered tf.function retracing. Tracing is expensive and the excessive number of tracings could be due to (1) creating @tf.function repeatedly in a loop, (2) passing tensors with different shapes, (3) passing Python objects instead of tensors. For (1), please define your @tf.function outside of the loop. For (2), @tf.function has reduce_retracing=True option that can avoid unnecessary retracing. For (3), please refer to https://www.tensorflow.org/guide/function#controlling_retracing and https://www.tensorflow.org/api_docs/python/tf/function for  more details.\n",
      "1/1 [==============================] - 0s 37ms/step\n"
     ]
    },
    {
     "data": {
      "text/plain": "<Figure size 1000x700 with 1 Axes>",
      "image/png": "[encoded data removed]"
     },
     "metadata": {},
     "output_type": "display_data"
    }
   ],
   "source": [
    "# Make and plot predictions for model_2\n",
    "y_pred_2 = model_2.predict(tf.expand_dims(X_test, axis=-1))\n",
    "plot_predictions(train_data=X_train,\n",
    "                 train_labels=y_train,\n",
    "                 test_data=X_test,\n",
    "                 test_labels=y_test,\n",
    "                 predictions=y_pred_2)"
   ],
   "metadata": {
    "collapsed": false,
    "pycharm": {
     "name": "#%%\n"
    }
   }
  },
  {
   "cell_type": "code",
   "execution_count": 43,
   "outputs": [
    {
     "data": {
      "text/plain": "(13.24999, 185.55814)"
     },
     "execution_count": 43,
     "metadata": {},
     "output_type": "execute_result"
    }
   ],
   "source": [
    "# Evaluate model_2\n",
    "mae_2 = mae(y_test, y_pred_2)\n",
    "mse_2 = mse(y_test, y_pred_2)\n",
    "mae_2.numpy(), mse_2.numpy()"
   ],
   "metadata": {
    "collapsed": false,
    "pycharm": {
     "name": "#%%\n"
    }
   }
  },
  {
   "cell_type": "code",
   "execution_count": 44,
   "outputs": [
    {
     "name": "stdout",
     "output_type": "stream",
     "text": [
      "Epoch 1/500\n",
      "2/2 [==============================] - 0s 3ms/step - loss: 29.1407 - mae: 29.1407\n",
      "Epoch 2/500\n",
      "2/2 [==============================] - 0s 4ms/step - loss: 25.5739 - mae: 25.5739\n",
      "Epoch 3/500\n",
      "2/2 [==============================] - 0s 3ms/step - loss: 30.2905 - mae: 30.2905\n",
      "Epoch 4/500\n",
      "2/2 [==============================] - 0s 3ms/step - loss: 20.2049 - mae: 20.2049\n",
      "Epoch 5/500\n",
      "2/2 [==============================] - 0s 5ms/step - loss: 13.6100 - mae: 13.6100\n",
      "Epoch 6/500\n",
      "2/2 [==============================] - 0s 3ms/step - loss: 10.9743 - mae: 10.9743\n",
      "Epoch 7/500\n",
      "2/2 [==============================] - 0s 4ms/step - loss: 11.9696 - mae: 11.9696\n",
      "Epoch 8/500\n",
      "2/2 [==============================] - 0s 4ms/step - loss: 10.8557 - mae: 10.8557\n",
      "Epoch 9/500\n",
      "2/2 [==============================] - 0s 3ms/step - loss: 37.4518 - mae: 37.4518\n",
      "Epoch 10/500\n",
      "2/2 [==============================] - 0s 3ms/step - loss: 25.1269 - mae: 25.1269\n",
      "Epoch 11/500\n",
      "2/2 [==============================] - 0s 2ms/step - loss: 10.2422 - mae: 10.2422\n",
      "Epoch 12/500\n",
      "2/2 [==============================] - 0s 4ms/step - loss: 25.4424 - mae: 25.4424\n",
      "Epoch 13/500\n",
      "2/2 [==============================] - 0s 9ms/step - loss: 16.7902 - mae: 16.7902\n",
      "Epoch 14/500\n",
      "2/2 [==============================] - 0s 3ms/step - loss: 25.5828 - mae: 25.5828\n",
      "Epoch 15/500\n",
      "2/2 [==============================] - 0s 3ms/step - loss: 17.4630 - mae: 17.4630\n",
      "Epoch 16/500\n",
      "2/2 [==============================] - 0s 3ms/step - loss: 10.0055 - mae: 10.0055\n",
      "Epoch 17/500\n",
      "2/2 [==============================] - 0s 4ms/step - loss: 18.5059 - mae: 18.5059\n",
      "Epoch 18/500\n",
      "2/2 [==============================] - 0s 3ms/step - loss: 11.3402 - mae: 11.3402\n",
      "Epoch 19/500\n",
      "2/2 [==============================] - 0s 4ms/step - loss: 13.9254 - mae: 13.9254\n",
      "Epoch 20/500\n",
      "2/2 [==============================] - 0s 3ms/step - loss: 11.1900 - mae: 11.1900\n",
      "Epoch 21/500\n",
      "2/2 [==============================] - 0s 3ms/step - loss: 17.2515 - mae: 17.2515\n",
      "Epoch 22/500\n",
      "2/2 [==============================] - 0s 3ms/step - loss: 15.4918 - mae: 15.4918\n",
      "Epoch 23/500\n",
      "2/2 [==============================] - 0s 7ms/step - loss: 9.2243 - mae: 9.2243\n",
      "Epoch 24/500\n",
      "2/2 [==============================] - 0s 5ms/step - loss: 17.2597 - mae: 17.2597\n",
      "Epoch 25/500\n",
      "2/2 [==============================] - 0s 3ms/step - loss: 15.9323 - mae: 15.9323\n",
      "Epoch 26/500\n",
      "2/2 [==============================] - 0s 2ms/step - loss: 20.9256 - mae: 20.9256\n",
      "Epoch 27/500\n",
      "2/2 [==============================] - 0s 4ms/step - loss: 25.9693 - mae: 25.9693\n",
      "Epoch 28/500\n",
      "2/2 [==============================] - 0s 2ms/step - loss: 18.4698 - mae: 18.4698\n",
      "Epoch 29/500\n",
      "2/2 [==============================] - 0s 2ms/step - loss: 9.2294 - mae: 9.2294\n",
      "Epoch 30/500\n",
      "2/2 [==============================] - 0s 1ms/step - loss: 29.0987 - mae: 29.0987\n",
      "Epoch 31/500\n",
      "2/2 [==============================] - 0s 2ms/step - loss: 52.6918 - mae: 52.6918\n",
      "Epoch 32/500\n",
      "2/2 [==============================] - 0s 2ms/step - loss: 11.9147 - mae: 11.9147\n",
      "Epoch 33/500\n",
      "2/2 [==============================] - 0s 3ms/step - loss: 15.5165 - mae: 15.5165\n",
      "Epoch 34/500\n",
      "2/2 [==============================] - 0s 2ms/step - loss: 12.6039 - mae: 12.6039\n",
      "Epoch 35/500\n",
      "2/2 [==============================] - 0s 3ms/step - loss: 9.1956 - mae: 9.1956\n",
      "Epoch 36/500\n",
      "2/2 [==============================] - 0s 4ms/step - loss: 16.5253 - mae: 16.5253\n",
      "Epoch 37/500\n",
      "2/2 [==============================] - 0s 3ms/step - loss: 11.0592 - mae: 11.0592\n",
      "Epoch 38/500\n",
      "2/2 [==============================] - 0s 4ms/step - loss: 18.1903 - mae: 18.1903\n",
      "Epoch 39/500\n",
      "2/2 [==============================] - 0s 2ms/step - loss: 19.1221 - mae: 19.1221\n",
      "Epoch 40/500\n",
      "2/2 [==============================] - 0s 3ms/step - loss: 20.4713 - mae: 20.4713\n",
      "Epoch 41/500\n",
      "2/2 [==============================] - 0s 5ms/step - loss: 14.8449 - mae: 14.8449\n",
      "Epoch 42/500\n",
      "2/2 [==============================] - 0s 5ms/step - loss: 12.2282 - mae: 12.2282\n",
      "Epoch 43/500\n",
      "2/2 [==============================] - 0s 4ms/step - loss: 10.6991 - mae: 10.6991\n",
      "Epoch 44/500\n",
      "2/2 [==============================] - 0s 3ms/step - loss: 22.9453 - mae: 22.9453\n",
      "Epoch 45/500\n",
      "2/2 [==============================] - 0s 4ms/step - loss: 10.3515 - mae: 10.3515\n",
      "Epoch 46/500\n",
      "2/2 [==============================] - 0s 4ms/step - loss: 11.7407 - mae: 11.7407\n",
      "Epoch 47/500\n",
      "2/2 [==============================] - 0s 5ms/step - loss: 9.6480 - mae: 9.6480\n",
      "Epoch 48/500\n",
      "2/2 [==============================] - 0s 2ms/step - loss: 17.2523 - mae: 17.2523\n",
      "Epoch 49/500\n",
      "2/2 [==============================] - 0s 4ms/step - loss: 9.5425 - mae: 9.5425\n",
      "Epoch 50/500\n",
      "2/2 [==============================] - 0s 4ms/step - loss: 13.7793 - mae: 13.7793\n",
      "Epoch 51/500\n",
      "2/2 [==============================] - 0s 4ms/step - loss: 11.5737 - mae: 11.5737\n",
      "Epoch 52/500\n",
      "2/2 [==============================] - 0s 3ms/step - loss: 30.5219 - mae: 30.5219\n",
      "Epoch 53/500\n",
      "2/2 [==============================] - 0s 5ms/step - loss: 14.3245 - mae: 14.3245\n",
      "Epoch 54/500\n",
      "2/2 [==============================] - 0s 4ms/step - loss: 23.9407 - mae: 23.9407\n",
      "Epoch 55/500\n",
      "2/2 [==============================] - 0s 3ms/step - loss: 23.1407 - mae: 23.1407\n",
      "Epoch 56/500\n",
      "2/2 [==============================] - 0s 3ms/step - loss: 10.8598 - mae: 10.8598\n",
      "Epoch 57/500\n",
      "2/2 [==============================] - 0s 2ms/step - loss: 12.7142 - mae: 12.7142\n",
      "Epoch 58/500\n",
      "2/2 [==============================] - 0s 3ms/step - loss: 9.5848 - mae: 9.5848\n",
      "Epoch 59/500\n",
      "2/2 [==============================] - 0s 3ms/step - loss: 12.5016 - mae: 12.5016\n",
      "Epoch 60/500\n",
      "2/2 [==============================] - 0s 3ms/step - loss: 12.3131 - mae: 12.3131\n",
      "Epoch 61/500\n",
      "2/2 [==============================] - 0s 3ms/step - loss: 17.4583 - mae: 17.4583\n",
      "Epoch 62/500\n",
      "2/2 [==============================] - 0s 3ms/step - loss: 10.5994 - mae: 10.5994\n",
      "Epoch 63/500\n",
      "2/2 [==============================] - 0s 4ms/step - loss: 10.4846 - mae: 10.4846\n",
      "Epoch 64/500\n",
      "2/2 [==============================] - 0s 2ms/step - loss: 24.8916 - mae: 24.8916\n",
      "Epoch 65/500\n",
      "2/2 [==============================] - 0s 3ms/step - loss: 10.6694 - mae: 10.6694\n",
      "Epoch 66/500\n",
      "2/2 [==============================] - 0s 6ms/step - loss: 21.9920 - mae: 21.9920\n",
      "Epoch 67/500\n",
      "2/2 [==============================] - 0s 2ms/step - loss: 10.1851 - mae: 10.1851\n",
      "Epoch 68/500\n",
      "2/2 [==============================] - 0s 3ms/step - loss: 13.3608 - mae: 13.3608\n",
      "Epoch 69/500\n",
      "2/2 [==============================] - 0s 4ms/step - loss: 11.3479 - mae: 11.3479\n",
      "Epoch 70/500\n",
      "2/2 [==============================] - 0s 3ms/step - loss: 13.5256 - mae: 13.5256\n",
      "Epoch 71/500\n",
      "2/2 [==============================] - 0s 7ms/step - loss: 15.5220 - mae: 15.5220\n",
      "Epoch 72/500\n",
      "2/2 [==============================] - 0s 3ms/step - loss: 11.7836 - mae: 11.7836\n",
      "Epoch 73/500\n",
      "2/2 [==============================] - 0s 2ms/step - loss: 16.5500 - mae: 16.5500\n",
      "Epoch 74/500\n",
      "2/2 [==============================] - 0s 4ms/step - loss: 24.0202 - mae: 24.0202\n",
      "Epoch 75/500\n",
      "2/2 [==============================] - 0s 4ms/step - loss: 9.5702 - mae: 9.5702\n",
      "Epoch 76/500\n",
      "2/2 [==============================] - 0s 4ms/step - loss: 12.4255 - mae: 12.4255\n",
      "Epoch 77/500\n",
      "2/2 [==============================] - 0s 5ms/step - loss: 16.6524 - mae: 16.6524\n",
      "Epoch 78/500\n",
      "2/2 [==============================] - 0s 4ms/step - loss: 9.0490 - mae: 9.0490\n",
      "Epoch 79/500\n",
      "2/2 [==============================] - 0s 2ms/step - loss: 23.9870 - mae: 23.9870\n",
      "Epoch 80/500\n",
      "2/2 [==============================] - 0s 4ms/step - loss: 26.7777 - mae: 26.7777\n",
      "Epoch 81/500\n",
      "2/2 [==============================] - 0s 3ms/step - loss: 11.6816 - mae: 11.6816\n",
      "Epoch 82/500\n",
      "2/2 [==============================] - 0s 3ms/step - loss: 12.0040 - mae: 12.0040\n",
      "Epoch 83/500\n",
      "2/2 [==============================] - 0s 3ms/step - loss: 17.3928 - mae: 17.3928\n",
      "Epoch 84/500\n",
      "2/2 [==============================] - 0s 3ms/step - loss: 7.2466 - mae: 7.2466\n",
      "Epoch 85/500\n",
      "2/2 [==============================] - 0s 4ms/step - loss: 14.9411 - mae: 14.9411\n",
      "Epoch 86/500\n",
      "2/2 [==============================] - 0s 4ms/step - loss: 15.2626 - mae: 15.2626\n",
      "Epoch 87/500\n",
      "2/2 [==============================] - 0s 4ms/step - loss: 19.0637 - mae: 19.0637\n",
      "Epoch 88/500\n",
      "2/2 [==============================] - 0s 3ms/step - loss: 29.9296 - mae: 29.9296\n",
      "Epoch 89/500\n",
      "2/2 [==============================] - 0s 3ms/step - loss: 10.1794 - mae: 10.1794\n",
      "Epoch 90/500\n",
      "2/2 [==============================] - 0s 4ms/step - loss: 21.6267 - mae: 21.6267\n",
      "Epoch 91/500\n",
      "2/2 [==============================] - 0s 4ms/step - loss: 10.5837 - mae: 10.5837\n",
      "Epoch 92/500\n",
      "2/2 [==============================] - 0s 3ms/step - loss: 18.4815 - mae: 18.4815\n",
      "Epoch 93/500\n",
      "2/2 [==============================] - 0s 3ms/step - loss: 7.4124 - mae: 7.4124\n",
      "Epoch 94/500\n",
      "2/2 [==============================] - 0s 6ms/step - loss: 17.8235 - mae: 17.8235\n",
      "Epoch 95/500\n",
      "2/2 [==============================] - 0s 5ms/step - loss: 11.1433 - mae: 11.1433\n",
      "Epoch 96/500\n",
      "2/2 [==============================] - 0s 4ms/step - loss: 19.5245 - mae: 19.5245\n",
      "Epoch 97/500\n",
      "2/2 [==============================] - 0s 4ms/step - loss: 12.5379 - mae: 12.5379\n",
      "Epoch 98/500\n",
      "2/2 [==============================] - 0s 3ms/step - loss: 10.3086 - mae: 10.3086\n",
      "Epoch 99/500\n",
      "2/2 [==============================] - 0s 5ms/step - loss: 13.8759 - mae: 13.8759\n",
      "Epoch 100/500\n",
      "2/2 [==============================] - 0s 3ms/step - loss: 20.2382 - mae: 20.2382\n",
      "Epoch 101/500\n",
      "2/2 [==============================] - 0s 4ms/step - loss: 11.4381 - mae: 11.4381\n",
      "Epoch 102/500\n",
      "2/2 [==============================] - 0s 3ms/step - loss: 17.5043 - mae: 17.5043\n",
      "Epoch 103/500\n",
      "2/2 [==============================] - 0s 5ms/step - loss: 7.0160 - mae: 7.0160\n",
      "Epoch 104/500\n",
      "2/2 [==============================] - 0s 2ms/step - loss: 23.5601 - mae: 23.5601\n",
      "Epoch 105/500\n",
      "2/2 [==============================] - 0s 3ms/step - loss: 16.9297 - mae: 16.9297\n",
      "Epoch 106/500\n",
      "2/2 [==============================] - 0s 3ms/step - loss: 9.2870 - mae: 9.2870\n",
      "Epoch 107/500\n",
      "2/2 [==============================] - 0s 3ms/step - loss: 25.3573 - mae: 25.3573\n",
      "Epoch 108/500\n",
      "2/2 [==============================] - 0s 5ms/step - loss: 13.4861 - mae: 13.4861\n",
      "Epoch 109/500\n",
      "2/2 [==============================] - 0s 3ms/step - loss: 9.5345 - mae: 9.5345\n",
      "Epoch 110/500\n",
      "2/2 [==============================] - 0s 3ms/step - loss: 9.6787 - mae: 9.6787\n",
      "Epoch 111/500\n",
      "2/2 [==============================] - 0s 3ms/step - loss: 14.6253 - mae: 14.6253\n",
      "Epoch 112/500\n",
      "2/2 [==============================] - 0s 3ms/step - loss: 9.5726 - mae: 9.5726\n",
      "Epoch 113/500\n",
      "2/2 [==============================] - 0s 6ms/step - loss: 17.8733 - mae: 17.8733\n",
      "Epoch 114/500\n",
      "2/2 [==============================] - 0s 3ms/step - loss: 17.2427 - mae: 17.2427\n",
      "Epoch 115/500\n",
      "2/2 [==============================] - 0s 2ms/step - loss: 11.1274 - mae: 11.1274\n",
      "Epoch 116/500\n",
      "2/2 [==============================] - 0s 3ms/step - loss: 23.3894 - mae: 23.3894\n",
      "Epoch 117/500\n",
      "2/2 [==============================] - 0s 4ms/step - loss: 9.6368 - mae: 9.6368\n",
      "Epoch 118/500\n",
      "2/2 [==============================] - 0s 3ms/step - loss: 10.7180 - mae: 10.7180\n",
      "Epoch 119/500\n",
      "2/2 [==============================] - 0s 3ms/step - loss: 8.0288 - mae: 8.0288\n",
      "Epoch 120/500\n",
      "2/2 [==============================] - 0s 3ms/step - loss: 29.8311 - mae: 29.8311\n",
      "Epoch 121/500\n",
      "2/2 [==============================] - 0s 4ms/step - loss: 8.0668 - mae: 8.0668\n",
      "Epoch 122/500\n",
      "2/2 [==============================] - 0s 5ms/step - loss: 28.4149 - mae: 28.4149\n",
      "Epoch 123/500\n",
      "2/2 [==============================] - 0s 4ms/step - loss: 33.0440 - mae: 33.0440\n",
      "Epoch 124/500\n",
      "2/2 [==============================] - 0s 5ms/step - loss: 19.7312 - mae: 19.7312\n",
      "Epoch 125/500\n",
      "2/2 [==============================] - 0s 7ms/step - loss: 6.9972 - mae: 6.9972\n",
      "Epoch 126/500\n",
      "2/2 [==============================] - 0s 4ms/step - loss: 21.9309 - mae: 21.9309\n",
      "Epoch 127/500\n",
      "2/2 [==============================] - 0s 3ms/step - loss: 7.9930 - mae: 7.9930\n",
      "Epoch 128/500\n",
      "2/2 [==============================] - 0s 3ms/step - loss: 21.1838 - mae: 21.1838\n",
      "Epoch 129/500\n",
      "2/2 [==============================] - 0s 2ms/step - loss: 9.5194 - mae: 9.5194\n",
      "Epoch 130/500\n",
      "2/2 [==============================] - 0s 2ms/step - loss: 20.4172 - mae: 20.4172\n",
      "Epoch 131/500\n",
      "2/2 [==============================] - 0s 3ms/step - loss: 9.2272 - mae: 9.2272\n",
      "Epoch 132/500\n",
      "2/2 [==============================] - 0s 2ms/step - loss: 16.5126 - mae: 16.5126\n",
      "Epoch 133/500\n",
      "2/2 [==============================] - 0s 4ms/step - loss: 7.6323 - mae: 7.6323\n",
      "Epoch 134/500\n",
      "2/2 [==============================] - 0s 3ms/step - loss: 18.8928 - mae: 18.8928\n",
      "Epoch 135/500\n",
      "2/2 [==============================] - 0s 3ms/step - loss: 10.6398 - mae: 10.6398\n",
      "Epoch 136/500\n",
      "2/2 [==============================] - 0s 2ms/step - loss: 18.5437 - mae: 18.5437\n",
      "Epoch 137/500\n",
      "2/2 [==============================] - 0s 6ms/step - loss: 23.5444 - mae: 23.5444\n",
      "Epoch 138/500\n",
      "2/2 [==============================] - 0s 4ms/step - loss: 9.2813 - mae: 9.2813\n",
      "Epoch 139/500\n",
      "2/2 [==============================] - 0s 3ms/step - loss: 9.0064 - mae: 9.0064\n",
      "Epoch 140/500\n",
      "2/2 [==============================] - 0s 4ms/step - loss: 17.0333 - mae: 17.0333\n",
      "Epoch 141/500\n",
      "2/2 [==============================] - 0s 3ms/step - loss: 8.2998 - mae: 8.2998\n",
      "Epoch 142/500\n",
      "2/2 [==============================] - 0s 3ms/step - loss: 34.1889 - mae: 34.1889\n",
      "Epoch 143/500\n",
      "2/2 [==============================] - 0s 4ms/step - loss: 23.1787 - mae: 23.1787\n",
      "Epoch 144/500\n",
      "2/2 [==============================] - 0s 2ms/step - loss: 10.4538 - mae: 10.4538\n",
      "Epoch 145/500\n",
      "2/2 [==============================] - 0s 2ms/step - loss: 25.8563 - mae: 25.8563\n",
      "Epoch 146/500\n",
      "2/2 [==============================] - 0s 4ms/step - loss: 9.8600 - mae: 9.8600\n",
      "Epoch 147/500\n",
      "2/2 [==============================] - 0s 2ms/step - loss: 14.9912 - mae: 14.9912\n",
      "Epoch 148/500\n",
      "2/2 [==============================] - 0s 3ms/step - loss: 17.4309 - mae: 17.4309\n",
      "Epoch 149/500\n",
      "2/2 [==============================] - 0s 2ms/step - loss: 8.7693 - mae: 8.7693\n",
      "Epoch 150/500\n",
      "2/2 [==============================] - 0s 4ms/step - loss: 7.7195 - mae: 7.7195\n",
      "Epoch 151/500\n",
      "2/2 [==============================] - 0s 2ms/step - loss: 19.9766 - mae: 19.9766\n",
      "Epoch 152/500\n",
      "2/2 [==============================] - 0s 3ms/step - loss: 10.2383 - mae: 10.2383\n",
      "Epoch 153/500\n",
      "2/2 [==============================] - 0s 3ms/step - loss: 29.4177 - mae: 29.4177\n",
      "Epoch 154/500\n",
      "2/2 [==============================] - 0s 3ms/step - loss: 10.5880 - mae: 10.5880\n",
      "Epoch 155/500\n",
      "2/2 [==============================] - 0s 2ms/step - loss: 15.4834 - mae: 15.4834\n",
      "Epoch 156/500\n",
      "2/2 [==============================] - 0s 3ms/step - loss: 17.0875 - mae: 17.0875\n",
      "Epoch 157/500\n",
      "2/2 [==============================] - 0s 3ms/step - loss: 32.6352 - mae: 32.6352\n",
      "Epoch 158/500\n",
      "2/2 [==============================] - 0s 4ms/step - loss: 10.6418 - mae: 10.6418\n",
      "Epoch 159/500\n",
      "2/2 [==============================] - 0s 5ms/step - loss: 8.8711 - mae: 8.8711\n",
      "Epoch 160/500\n",
      "2/2 [==============================] - 0s 3ms/step - loss: 22.0149 - mae: 22.0149\n",
      "Epoch 161/500\n",
      "2/2 [==============================] - 0s 4ms/step - loss: 11.6570 - mae: 11.6570\n",
      "Epoch 162/500\n",
      "2/2 [==============================] - 0s 2ms/step - loss: 21.4568 - mae: 21.4568\n",
      "Epoch 163/500\n",
      "2/2 [==============================] - 0s 5ms/step - loss: 19.1304 - mae: 19.1304\n",
      "Epoch 164/500\n",
      "2/2 [==============================] - 0s 4ms/step - loss: 10.9379 - mae: 10.9379\n",
      "Epoch 165/500\n",
      "2/2 [==============================] - 0s 3ms/step - loss: 9.6352 - mae: 9.6352\n",
      "Epoch 166/500\n",
      "2/2 [==============================] - 0s 2ms/step - loss: 21.6386 - mae: 21.6386\n",
      "Epoch 167/500\n",
      "2/2 [==============================] - 0s 3ms/step - loss: 26.1489 - mae: 26.1489\n",
      "Epoch 168/500\n",
      "2/2 [==============================] - 0s 2ms/step - loss: 9.8177 - mae: 9.8177\n",
      "Epoch 169/500\n",
      "2/2 [==============================] - 0s 3ms/step - loss: 22.4509 - mae: 22.4509\n",
      "Epoch 170/500\n",
      "2/2 [==============================] - 0s 3ms/step - loss: 10.1616 - mae: 10.1616\n",
      "Epoch 171/500\n",
      "2/2 [==============================] - 0s 6ms/step - loss: 18.0872 - mae: 18.0872\n",
      "Epoch 172/500\n",
      "2/2 [==============================] - 0s 3ms/step - loss: 28.7469 - mae: 28.7469\n",
      "Epoch 173/500\n",
      "2/2 [==============================] - 0s 3ms/step - loss: 16.4500 - mae: 16.4500\n",
      "Epoch 174/500\n",
      "2/2 [==============================] - 0s 3ms/step - loss: 11.7167 - mae: 11.7167\n",
      "Epoch 175/500\n",
      "2/2 [==============================] - 0s 4ms/step - loss: 27.1528 - mae: 27.1528\n",
      "Epoch 176/500\n",
      "2/2 [==============================] - 0s 2ms/step - loss: 8.7520 - mae: 8.7520\n",
      "Epoch 177/500\n",
      "2/2 [==============================] - 0s 3ms/step - loss: 8.7652 - mae: 8.7652\n",
      "Epoch 178/500\n",
      "2/2 [==============================] - 0s 3ms/step - loss: 16.2684 - mae: 16.2684\n",
      "Epoch 179/500\n",
      "2/2 [==============================] - 0s 3ms/step - loss: 10.3599 - mae: 10.3599\n",
      "Epoch 180/500\n",
      "2/2 [==============================] - 0s 4ms/step - loss: 7.9853 - mae: 7.9853\n",
      "Epoch 181/500\n",
      "2/2 [==============================] - 0s 3ms/step - loss: 17.8466 - mae: 17.8466\n",
      "Epoch 182/500\n",
      "2/2 [==============================] - 0s 3ms/step - loss: 11.2136 - mae: 11.2136\n",
      "Epoch 183/500\n",
      "2/2 [==============================] - 0s 3ms/step - loss: 12.4445 - mae: 12.4445\n",
      "Epoch 184/500\n",
      "2/2 [==============================] - 0s 6ms/step - loss: 27.5325 - mae: 27.5325\n",
      "Epoch 185/500\n",
      "2/2 [==============================] - 0s 4ms/step - loss: 7.5279 - mae: 7.5279\n",
      "Epoch 186/500\n",
      "2/2 [==============================] - 0s 3ms/step - loss: 15.8787 - mae: 15.8787\n",
      "Epoch 187/500\n",
      "2/2 [==============================] - 0s 2ms/step - loss: 8.5896 - mae: 8.5896\n",
      "Epoch 188/500\n",
      "2/2 [==============================] - 0s 3ms/step - loss: 29.0824 - mae: 29.0824\n",
      "Epoch 189/500\n",
      "2/2 [==============================] - 0s 4ms/step - loss: 13.0950 - mae: 13.0950\n",
      "Epoch 190/500\n",
      "2/2 [==============================] - 0s 4ms/step - loss: 18.2289 - mae: 18.2289\n",
      "Epoch 191/500\n",
      "2/2 [==============================] - 0s 3ms/step - loss: 13.6406 - mae: 13.6406\n",
      "Epoch 192/500\n",
      "2/2 [==============================] - 0s 3ms/step - loss: 13.6720 - mae: 13.6720\n",
      "Epoch 193/500\n",
      "2/2 [==============================] - 0s 3ms/step - loss: 28.5058 - mae: 28.5058\n",
      "Epoch 194/500\n",
      "2/2 [==============================] - 0s 3ms/step - loss: 7.1620 - mae: 7.1620\n",
      "Epoch 195/500\n",
      "2/2 [==============================] - 0s 2ms/step - loss: 7.0457 - mae: 7.0457\n",
      "Epoch 196/500\n",
      "2/2 [==============================] - 0s 3ms/step - loss: 21.8802 - mae: 21.8802\n",
      "Epoch 197/500\n",
      "2/2 [==============================] - 0s 2ms/step - loss: 21.1031 - mae: 21.1031\n",
      "Epoch 198/500\n",
      "2/2 [==============================] - 0s 3ms/step - loss: 12.6271 - mae: 12.6271\n",
      "Epoch 199/500\n",
      "2/2 [==============================] - 0s 4ms/step - loss: 18.1348 - mae: 18.1348\n",
      "Epoch 200/500\n",
      "2/2 [==============================] - 0s 3ms/step - loss: 13.9587 - mae: 13.9587\n",
      "Epoch 201/500\n",
      "2/2 [==============================] - 0s 4ms/step - loss: 6.0276 - mae: 6.0276\n",
      "Epoch 202/500\n",
      "2/2 [==============================] - 0s 3ms/step - loss: 23.0549 - mae: 23.0549\n",
      "Epoch 203/500\n",
      "2/2 [==============================] - 0s 3ms/step - loss: 8.9802 - mae: 8.9802\n",
      "Epoch 204/500\n",
      "2/2 [==============================] - 0s 3ms/step - loss: 18.9945 - mae: 18.9945\n",
      "Epoch 205/500\n",
      "2/2 [==============================] - 0s 3ms/step - loss: 9.4129 - mae: 9.4129\n",
      "Epoch 206/500\n",
      "2/2 [==============================] - 0s 4ms/step - loss: 11.0493 - mae: 11.0493\n",
      "Epoch 207/500\n",
      "2/2 [==============================] - 0s 6ms/step - loss: 17.5466 - mae: 17.5466\n",
      "Epoch 208/500\n",
      "2/2 [==============================] - 0s 2ms/step - loss: 14.2743 - mae: 14.2743\n",
      "Epoch 209/500\n",
      "2/2 [==============================] - 0s 2ms/step - loss: 16.5942 - mae: 16.5942\n",
      "Epoch 210/500\n",
      "2/2 [==============================] - 0s 3ms/step - loss: 18.0943 - mae: 18.0943\n",
      "Epoch 211/500\n",
      "2/2 [==============================] - 0s 2ms/step - loss: 9.8888 - mae: 9.8888\n",
      "Epoch 212/500\n",
      "2/2 [==============================] - 0s 2ms/step - loss: 18.5576 - mae: 18.5576\n",
      "Epoch 213/500\n",
      "2/2 [==============================] - 0s 2ms/step - loss: 14.9747 - mae: 14.9747\n",
      "Epoch 214/500\n",
      "2/2 [==============================] - 0s 2ms/step - loss: 14.5454 - mae: 14.5454\n",
      "Epoch 215/500\n",
      "2/2 [==============================] - 0s 4ms/step - loss: 23.2151 - mae: 23.2151\n",
      "Epoch 216/500\n",
      "2/2 [==============================] - 0s 2ms/step - loss: 13.5162 - mae: 13.5162\n",
      "Epoch 217/500\n",
      "2/2 [==============================] - 0s 2ms/step - loss: 9.9691 - mae: 9.9691\n",
      "Epoch 218/500\n",
      "2/2 [==============================] - 0s 2ms/step - loss: 12.4509 - mae: 12.4509\n",
      "Epoch 219/500\n",
      "2/2 [==============================] - 0s 2ms/step - loss: 5.2951 - mae: 5.2951\n",
      "Epoch 220/500\n",
      "2/2 [==============================] - 0s 2ms/step - loss: 12.4234 - mae: 12.4234\n",
      "Epoch 221/500\n",
      "2/2 [==============================] - 0s 7ms/step - loss: 22.4270 - mae: 22.4270\n",
      "Epoch 222/500\n",
      "2/2 [==============================] - 0s 3ms/step - loss: 21.5659 - mae: 21.5659\n",
      "Epoch 223/500\n",
      "2/2 [==============================] - 0s 3ms/step - loss: 11.6438 - mae: 11.6438\n",
      "Epoch 224/500\n",
      "2/2 [==============================] - 0s 3ms/step - loss: 15.1206 - mae: 15.1206\n",
      "Epoch 225/500\n",
      "2/2 [==============================] - 0s 4ms/step - loss: 17.1840 - mae: 17.1840\n",
      "Epoch 226/500\n",
      "2/2 [==============================] - 0s 3ms/step - loss: 16.3556 - mae: 16.3556\n",
      "Epoch 227/500\n",
      "2/2 [==============================] - 0s 3ms/step - loss: 16.7315 - mae: 16.7315\n",
      "Epoch 228/500\n",
      "2/2 [==============================] - 0s 2ms/step - loss: 10.1044 - mae: 10.1044\n",
      "Epoch 229/500\n",
      "2/2 [==============================] - 0s 3ms/step - loss: 18.0352 - mae: 18.0352\n",
      "Epoch 230/500\n",
      "2/2 [==============================] - 0s 3ms/step - loss: 15.6011 - mae: 15.6011\n",
      "Epoch 231/500\n",
      "2/2 [==============================] - 0s 5ms/step - loss: 21.1715 - mae: 21.1715\n",
      "Epoch 232/500\n",
      "2/2 [==============================] - 0s 2ms/step - loss: 25.3457 - mae: 25.3457\n",
      "Epoch 233/500\n",
      "2/2 [==============================] - 0s 3ms/step - loss: 16.3764 - mae: 16.3764\n",
      "Epoch 234/500\n",
      "2/2 [==============================] - 0s 5ms/step - loss: 7.2983 - mae: 7.2983\n",
      "Epoch 235/500\n",
      "2/2 [==============================] - 0s 4ms/step - loss: 17.0338 - mae: 17.0338\n",
      "Epoch 236/500\n",
      "2/2 [==============================] - 0s 2ms/step - loss: 7.1576 - mae: 7.1576\n",
      "Epoch 237/500\n",
      "2/2 [==============================] - 0s 2ms/step - loss: 9.2469 - mae: 9.2469\n",
      "Epoch 238/500\n",
      "2/2 [==============================] - 0s 4ms/step - loss: 8.1269 - mae: 8.1269\n",
      "Epoch 239/500\n",
      "2/2 [==============================] - 0s 4ms/step - loss: 17.1289 - mae: 17.1289\n",
      "Epoch 240/500\n",
      "2/2 [==============================] - 0s 4ms/step - loss: 8.9016 - mae: 8.9016\n",
      "Epoch 241/500\n",
      "2/2 [==============================] - 0s 4ms/step - loss: 13.2149 - mae: 13.2149\n",
      "Epoch 242/500\n",
      "2/2 [==============================] - 0s 3ms/step - loss: 8.8176 - mae: 8.8176\n",
      "Epoch 243/500\n",
      "2/2 [==============================] - 0s 4ms/step - loss: 18.8921 - mae: 18.8921\n",
      "Epoch 244/500\n",
      "2/2 [==============================] - 0s 4ms/step - loss: 14.0323 - mae: 14.0323\n",
      "Epoch 245/500\n",
      "2/2 [==============================] - 0s 3ms/step - loss: 14.6642 - mae: 14.6642\n",
      "Epoch 246/500\n",
      "2/2 [==============================] - 0s 3ms/step - loss: 15.7881 - mae: 15.7881\n",
      "Epoch 247/500\n",
      "2/2 [==============================] - 0s 3ms/step - loss: 17.6576 - mae: 17.6576\n",
      "Epoch 248/500\n",
      "2/2 [==============================] - 0s 3ms/step - loss: 13.2128 - mae: 13.2128\n",
      "Epoch 249/500\n",
      "2/2 [==============================] - 0s 4ms/step - loss: 14.4954 - mae: 14.4954\n",
      "Epoch 250/500\n",
      "2/2 [==============================] - 0s 2ms/step - loss: 23.2047 - mae: 23.2047\n",
      "Epoch 251/500\n",
      "2/2 [==============================] - 0s 3ms/step - loss: 9.3238 - mae: 9.3238\n",
      "Epoch 252/500\n",
      "2/2 [==============================] - 0s 3ms/step - loss: 36.7591 - mae: 36.7591\n",
      "Epoch 253/500\n",
      "2/2 [==============================] - 0s 3ms/step - loss: 21.9020 - mae: 21.9020\n",
      "Epoch 254/500\n",
      "2/2 [==============================] - 0s 7ms/step - loss: 7.2975 - mae: 7.2975\n",
      "Epoch 255/500\n",
      "2/2 [==============================] - 0s 4ms/step - loss: 24.7785 - mae: 24.7785\n",
      "Epoch 256/500\n",
      "2/2 [==============================] - 0s 3ms/step - loss: 12.4669 - mae: 12.4669\n",
      "Epoch 257/500\n",
      "2/2 [==============================] - 0s 3ms/step - loss: 10.6145 - mae: 10.6145\n",
      "Epoch 258/500\n",
      "2/2 [==============================] - 0s 2ms/step - loss: 14.5263 - mae: 14.5263\n",
      "Epoch 259/500\n",
      "2/2 [==============================] - 0s 3ms/step - loss: 8.6280 - mae: 8.6280\n",
      "Epoch 260/500\n",
      "2/2 [==============================] - 0s 4ms/step - loss: 43.1385 - mae: 43.1385\n",
      "Epoch 261/500\n",
      "2/2 [==============================] - 0s 3ms/step - loss: 18.5236 - mae: 18.5236\n",
      "Epoch 262/500\n",
      "2/2 [==============================] - 0s 3ms/step - loss: 6.8719 - mae: 6.8719\n",
      "Epoch 263/500\n",
      "2/2 [==============================] - 0s 3ms/step - loss: 13.7072 - mae: 13.7072\n",
      "Epoch 264/500\n",
      "2/2 [==============================] - 0s 2ms/step - loss: 20.9890 - mae: 20.9890\n",
      "Epoch 265/500\n",
      "2/2 [==============================] - 0s 3ms/step - loss: 19.4465 - mae: 19.4465\n",
      "Epoch 266/500\n",
      "2/2 [==============================] - 0s 3ms/step - loss: 11.4510 - mae: 11.4510\n",
      "Epoch 267/500\n",
      "2/2 [==============================] - 0s 7ms/step - loss: 7.5344 - mae: 7.5344\n",
      "Epoch 268/500\n",
      "2/2 [==============================] - 0s 4ms/step - loss: 21.6213 - mae: 21.6213\n",
      "Epoch 269/500\n",
      "2/2 [==============================] - 0s 4ms/step - loss: 33.2477 - mae: 33.2477\n",
      "Epoch 270/500\n",
      "2/2 [==============================] - 0s 4ms/step - loss: 10.1264 - mae: 10.1264\n",
      "Epoch 271/500\n",
      "2/2 [==============================] - 0s 3ms/step - loss: 12.0952 - mae: 12.0952\n",
      "Epoch 272/500\n",
      "2/2 [==============================] - 0s 5ms/step - loss: 26.1234 - mae: 26.1234\n",
      "Epoch 273/500\n",
      "2/2 [==============================] - 0s 5ms/step - loss: 12.2130 - mae: 12.2130\n",
      "Epoch 274/500\n",
      "2/2 [==============================] - 0s 4ms/step - loss: 13.3299 - mae: 13.3299\n",
      "Epoch 275/500\n",
      "2/2 [==============================] - 0s 3ms/step - loss: 29.3702 - mae: 29.3702\n",
      "Epoch 276/500\n",
      "2/2 [==============================] - 0s 4ms/step - loss: 7.3418 - mae: 7.3418\n",
      "Epoch 277/500\n",
      "2/2 [==============================] - 0s 4ms/step - loss: 31.1276 - mae: 31.1276\n",
      "Epoch 278/500\n",
      "2/2 [==============================] - 0s 3ms/step - loss: 12.3002 - mae: 12.3002\n",
      "Epoch 279/500\n",
      "2/2 [==============================] - 0s 3ms/step - loss: 16.4068 - mae: 16.4068\n",
      "Epoch 280/500\n",
      "2/2 [==============================] - 0s 2ms/step - loss: 21.8953 - mae: 21.8953\n",
      "Epoch 281/500\n",
      "2/2 [==============================] - 0s 6ms/step - loss: 22.1894 - mae: 22.1894\n",
      "Epoch 282/500\n",
      "2/2 [==============================] - 0s 3ms/step - loss: 7.7688 - mae: 7.7688\n",
      "Epoch 283/500\n",
      "2/2 [==============================] - 0s 2ms/step - loss: 8.1588 - mae: 8.1588\n",
      "Epoch 284/500\n",
      "2/2 [==============================] - 0s 3ms/step - loss: 24.9708 - mae: 24.9708\n",
      "Epoch 285/500\n",
      "2/2 [==============================] - 0s 4ms/step - loss: 13.7232 - mae: 13.7232\n",
      "Epoch 286/500\n",
      "2/2 [==============================] - 0s 3ms/step - loss: 6.9040 - mae: 6.9040\n",
      "Epoch 287/500\n",
      "2/2 [==============================] - 0s 3ms/step - loss: 24.5287 - mae: 24.5287\n",
      "Epoch 288/500\n",
      "2/2 [==============================] - 0s 3ms/step - loss: 20.1939 - mae: 20.1939\n",
      "Epoch 289/500\n",
      "2/2 [==============================] - 0s 3ms/step - loss: 11.9624 - mae: 11.9624\n",
      "Epoch 290/500\n",
      "2/2 [==============================] - 0s 5ms/step - loss: 16.5368 - mae: 16.5368\n",
      "Epoch 291/500\n",
      "2/2 [==============================] - 0s 4ms/step - loss: 16.7973 - mae: 16.7973\n",
      "Epoch 292/500\n",
      "2/2 [==============================] - 0s 4ms/step - loss: 8.8647 - mae: 8.8647\n",
      "Epoch 293/500\n",
      "2/2 [==============================] - 0s 4ms/step - loss: 15.7179 - mae: 15.7179\n",
      "Epoch 294/500\n",
      "2/2 [==============================] - 0s 4ms/step - loss: 23.6207 - mae: 23.6207\n",
      "Epoch 295/500\n",
      "2/2 [==============================] - 0s 3ms/step - loss: 15.9258 - mae: 15.9258\n",
      "Epoch 296/500\n",
      "2/2 [==============================] - 0s 7ms/step - loss: 5.4138 - mae: 5.4138\n",
      "Epoch 297/500\n",
      "2/2 [==============================] - 0s 3ms/step - loss: 12.6175 - mae: 12.6175\n",
      "Epoch 298/500\n",
      "2/2 [==============================] - 0s 3ms/step - loss: 24.3938 - mae: 24.3938\n",
      "Epoch 299/500\n",
      "2/2 [==============================] - 0s 3ms/step - loss: 17.5169 - mae: 17.5169\n",
      "Epoch 300/500\n",
      "2/2 [==============================] - 0s 3ms/step - loss: 6.9623 - mae: 6.9623\n",
      "Epoch 301/500\n",
      "2/2 [==============================] - 0s 3ms/step - loss: 24.9298 - mae: 24.9298\n",
      "Epoch 302/500\n",
      "2/2 [==============================] - 0s 3ms/step - loss: 8.2803 - mae: 8.2803\n",
      "Epoch 303/500\n",
      "2/2 [==============================] - 0s 3ms/step - loss: 21.3073 - mae: 21.3073\n",
      "Epoch 304/500\n",
      "2/2 [==============================] - 0s 3ms/step - loss: 13.8298 - mae: 13.8298\n",
      "Epoch 305/500\n",
      "2/2 [==============================] - 0s 3ms/step - loss: 7.1236 - mae: 7.1236\n",
      "Epoch 306/500\n",
      "2/2 [==============================] - 0s 5ms/step - loss: 19.4388 - mae: 19.4388\n",
      "Epoch 307/500\n",
      "2/2 [==============================] - 0s 6ms/step - loss: 8.9775 - mae: 8.9775\n",
      "Epoch 308/500\n",
      "2/2 [==============================] - 0s 3ms/step - loss: 20.5462 - mae: 20.5462\n",
      "Epoch 309/500\n",
      "2/2 [==============================] - 0s 3ms/step - loss: 13.6765 - mae: 13.6765\n",
      "Epoch 310/500\n",
      "2/2 [==============================] - 0s 3ms/step - loss: 6.6552 - mae: 6.6552\n",
      "Epoch 311/500\n",
      "2/2 [==============================] - 0s 3ms/step - loss: 13.3949 - mae: 13.3949\n",
      "Epoch 312/500\n",
      "2/2 [==============================] - 0s 4ms/step - loss: 30.1852 - mae: 30.1852\n",
      "Epoch 313/500\n",
      "2/2 [==============================] - 0s 3ms/step - loss: 7.2843 - mae: 7.2843\n",
      "Epoch 314/500\n",
      "2/2 [==============================] - 0s 7ms/step - loss: 10.5538 - mae: 10.5538\n",
      "Epoch 315/500\n",
      "2/2 [==============================] - 0s 3ms/step - loss: 23.5525 - mae: 23.5525\n",
      "Epoch 316/500\n",
      "2/2 [==============================] - 0s 3ms/step - loss: 14.4596 - mae: 14.4596\n",
      "Epoch 317/500\n",
      "2/2 [==============================] - 0s 4ms/step - loss: 20.0239 - mae: 20.0239\n",
      "Epoch 318/500\n",
      "2/2 [==============================] - 0s 4ms/step - loss: 8.0275 - mae: 8.0275\n",
      "Epoch 319/500\n",
      "2/2 [==============================] - 0s 3ms/step - loss: 18.1477 - mae: 18.1477\n",
      "Epoch 320/500\n",
      "2/2 [==============================] - 0s 3ms/step - loss: 10.6673 - mae: 10.6673\n",
      "Epoch 321/500\n",
      "2/2 [==============================] - 0s 8ms/step - loss: 7.0629 - mae: 7.0629\n",
      "Epoch 322/500\n",
      "2/2 [==============================] - 0s 4ms/step - loss: 8.6793 - mae: 8.6793\n",
      "Epoch 323/500\n",
      "2/2 [==============================] - 0s 3ms/step - loss: 18.3364 - mae: 18.3364\n",
      "Epoch 324/500\n",
      "2/2 [==============================] - 0s 3ms/step - loss: 6.3304 - mae: 6.3304\n",
      "Epoch 325/500\n",
      "2/2 [==============================] - 0s 3ms/step - loss: 14.6366 - mae: 14.6366\n",
      "Epoch 326/500\n",
      "2/2 [==============================] - 0s 2ms/step - loss: 7.0133 - mae: 7.0133\n",
      "Epoch 327/500\n",
      "2/2 [==============================] - 0s 2ms/step - loss: 17.6391 - mae: 17.6391\n",
      "Epoch 328/500\n",
      "2/2 [==============================] - 0s 4ms/step - loss: 14.3733 - mae: 14.3733\n",
      "Epoch 329/500\n",
      "2/2 [==============================] - 0s 4ms/step - loss: 17.6819 - mae: 17.6819\n",
      "Epoch 330/500\n",
      "2/2 [==============================] - 0s 5ms/step - loss: 4.9413 - mae: 4.9413\n",
      "Epoch 331/500\n",
      "2/2 [==============================] - 0s 2ms/step - loss: 27.8842 - mae: 27.8842\n",
      "Epoch 332/500\n",
      "2/2 [==============================] - 0s 3ms/step - loss: 16.6406 - mae: 16.6406\n",
      "Epoch 333/500\n",
      "2/2 [==============================] - 0s 3ms/step - loss: 10.0619 - mae: 10.0619\n",
      "Epoch 334/500\n",
      "2/2 [==============================] - 0s 6ms/step - loss: 6.5484 - mae: 6.5484\n",
      "Epoch 335/500\n",
      "2/2 [==============================] - 0s 3ms/step - loss: 6.2394 - mae: 6.2394\n",
      "Epoch 336/500\n",
      "2/2 [==============================] - 0s 3ms/step - loss: 34.4076 - mae: 34.4076\n",
      "Epoch 337/500\n",
      "2/2 [==============================] - 0s 3ms/step - loss: 26.8397 - mae: 26.8397\n",
      "Epoch 338/500\n",
      "2/2 [==============================] - 0s 4ms/step - loss: 13.9248 - mae: 13.9248\n",
      "Epoch 339/500\n",
      "2/2 [==============================] - 0s 3ms/step - loss: 11.4824 - mae: 11.4824\n",
      "Epoch 340/500\n",
      "2/2 [==============================] - 0s 3ms/step - loss: 8.8232 - mae: 8.8232\n",
      "Epoch 341/500\n",
      "2/2 [==============================] - 0s 2ms/step - loss: 23.4803 - mae: 23.4803\n",
      "Epoch 342/500\n",
      "2/2 [==============================] - 0s 3ms/step - loss: 13.8411 - mae: 13.8411\n",
      "Epoch 343/500\n",
      "2/2 [==============================] - 0s 4ms/step - loss: 14.8400 - mae: 14.8400\n",
      "Epoch 344/500\n",
      "2/2 [==============================] - 0s 2ms/step - loss: 13.3753 - mae: 13.3753\n",
      "Epoch 345/500\n",
      "2/2 [==============================] - 0s 2ms/step - loss: 31.0266 - mae: 31.0266\n",
      "Epoch 346/500\n",
      "2/2 [==============================] - 0s 4ms/step - loss: 10.6960 - mae: 10.6960\n",
      "Epoch 347/500\n",
      "2/2 [==============================] - 0s 3ms/step - loss: 25.7244 - mae: 25.7244\n",
      "Epoch 348/500\n",
      "2/2 [==============================] - 0s 3ms/step - loss: 12.8841 - mae: 12.8841\n",
      "Epoch 349/500\n",
      "2/2 [==============================] - 0s 4ms/step - loss: 13.1507 - mae: 13.1507\n",
      "Epoch 350/500\n",
      "2/2 [==============================] - 0s 4ms/step - loss: 15.4279 - mae: 15.4279\n",
      "Epoch 351/500\n",
      "2/2 [==============================] - 0s 3ms/step - loss: 32.9551 - mae: 32.9551\n",
      "Epoch 352/500\n",
      "2/2 [==============================] - 0s 6ms/step - loss: 14.1903 - mae: 14.1903\n",
      "Epoch 353/500\n",
      "2/2 [==============================] - 0s 2ms/step - loss: 15.9053 - mae: 15.9053\n",
      "Epoch 354/500\n",
      "2/2 [==============================] - 0s 3ms/step - loss: 19.0562 - mae: 19.0562\n",
      "Epoch 355/500\n",
      "2/2 [==============================] - 0s 3ms/step - loss: 34.2071 - mae: 34.2071\n",
      "Epoch 356/500\n",
      "2/2 [==============================] - 0s 3ms/step - loss: 8.2561 - mae: 8.2561\n",
      "Epoch 357/500\n",
      "2/2 [==============================] - 0s 3ms/step - loss: 21.7695 - mae: 21.7695\n",
      "Epoch 358/500\n",
      "2/2 [==============================] - 0s 4ms/step - loss: 19.8978 - mae: 19.8978\n",
      "Epoch 359/500\n",
      "2/2 [==============================] - 0s 2ms/step - loss: 11.0597 - mae: 11.0597\n",
      "Epoch 360/500\n",
      "2/2 [==============================] - 0s 3ms/step - loss: 20.3077 - mae: 20.3077\n",
      "Epoch 361/500\n",
      "2/2 [==============================] - 0s 4ms/step - loss: 10.9427 - mae: 10.9427\n",
      "Epoch 362/500\n",
      "2/2 [==============================] - 0s 2ms/step - loss: 6.7898 - mae: 6.7898\n",
      "Epoch 363/500\n",
      "2/2 [==============================] - 0s 3ms/step - loss: 23.9365 - mae: 23.9365\n",
      "Epoch 364/500\n",
      "2/2 [==============================] - 0s 7ms/step - loss: 29.6604 - mae: 29.6604\n",
      "Epoch 365/500\n",
      "2/2 [==============================] - 0s 4ms/step - loss: 8.3008 - mae: 8.3008\n",
      "Epoch 366/500\n",
      "2/2 [==============================] - 0s 3ms/step - loss: 6.0709 - mae: 6.0709\n",
      "Epoch 367/500\n",
      "2/2 [==============================] - 0s 4ms/step - loss: 34.8532 - mae: 34.8532\n",
      "Epoch 368/500\n",
      "2/2 [==============================] - 0s 4ms/step - loss: 7.3715 - mae: 7.3715\n",
      "Epoch 369/500\n",
      "2/2 [==============================] - 0s 4ms/step - loss: 9.1936 - mae: 9.1936\n",
      "Epoch 370/500\n",
      "2/2 [==============================] - 0s 3ms/step - loss: 10.9084 - mae: 10.9084\n",
      "Epoch 371/500\n",
      "2/2 [==============================] - 0s 2ms/step - loss: 8.9720 - mae: 8.9720\n",
      "Epoch 372/500\n",
      "2/2 [==============================] - 0s 4ms/step - loss: 7.6843 - mae: 7.6843\n",
      "Epoch 373/500\n",
      "2/2 [==============================] - 0s 4ms/step - loss: 25.0502 - mae: 25.0502\n",
      "Epoch 374/500\n",
      "2/2 [==============================] - 0s 3ms/step - loss: 13.2403 - mae: 13.2403\n",
      "Epoch 375/500\n",
      "2/2 [==============================] - 0s 3ms/step - loss: 11.8465 - mae: 11.8465\n",
      "Epoch 376/500\n",
      "2/2 [==============================] - 0s 3ms/step - loss: 14.1247 - mae: 14.1247\n",
      "Epoch 377/500\n",
      "2/2 [==============================] - 0s 5ms/step - loss: 15.7047 - mae: 15.7047\n",
      "Epoch 378/500\n",
      "2/2 [==============================] - 0s 3ms/step - loss: 17.0178 - mae: 17.0178\n",
      "Epoch 379/500\n",
      "2/2 [==============================] - 0s 4ms/step - loss: 19.4315 - mae: 19.4315\n",
      "Epoch 380/500\n",
      "2/2 [==============================] - 0s 3ms/step - loss: 15.7858 - mae: 15.7858\n",
      "Epoch 381/500\n",
      "2/2 [==============================] - 0s 3ms/step - loss: 11.4409 - mae: 11.4409\n",
      "Epoch 382/500\n",
      "2/2 [==============================] - 0s 3ms/step - loss: 16.3214 - mae: 16.3214\n",
      "Epoch 383/500\n",
      "2/2 [==============================] - 0s 5ms/step - loss: 22.0731 - mae: 22.0731\n",
      "Epoch 384/500\n",
      "2/2 [==============================] - 0s 3ms/step - loss: 7.7518 - mae: 7.7518\n",
      "Epoch 385/500\n",
      "2/2 [==============================] - 0s 4ms/step - loss: 10.5817 - mae: 10.5817\n",
      "Epoch 386/500\n",
      "2/2 [==============================] - 0s 3ms/step - loss: 19.0478 - mae: 19.0478\n",
      "Epoch 387/500\n",
      "2/2 [==============================] - 0s 3ms/step - loss: 26.5936 - mae: 26.5936\n",
      "Epoch 388/500\n",
      "2/2 [==============================] - 0s 3ms/step - loss: 10.1506 - mae: 10.1506\n",
      "Epoch 389/500\n",
      "2/2 [==============================] - 0s 4ms/step - loss: 5.1686 - mae: 5.1686\n",
      "Epoch 390/500\n",
      "2/2 [==============================] - 0s 5ms/step - loss: 18.9292 - mae: 18.9292\n",
      "Epoch 391/500\n",
      "2/2 [==============================] - 0s 4ms/step - loss: 9.2946 - mae: 9.2946\n",
      "Epoch 392/500\n",
      "2/2 [==============================] - 0s 3ms/step - loss: 14.3705 - mae: 14.3705\n",
      "Epoch 393/500\n",
      "2/2 [==============================] - 0s 2ms/step - loss: 15.3719 - mae: 15.3719\n",
      "Epoch 394/500\n",
      "2/2 [==============================] - 0s 3ms/step - loss: 14.7204 - mae: 14.7204\n",
      "Epoch 395/500\n",
      "2/2 [==============================] - 0s 3ms/step - loss: 24.9298 - mae: 24.9298\n",
      "Epoch 396/500\n",
      "2/2 [==============================] - 0s 3ms/step - loss: 19.2661 - mae: 19.2661\n",
      "Epoch 397/500\n",
      "2/2 [==============================] - 0s 5ms/step - loss: 11.5390 - mae: 11.5390\n",
      "Epoch 398/500\n",
      "2/2 [==============================] - 0s 4ms/step - loss: 19.1608 - mae: 19.1608\n",
      "Epoch 399/500\n",
      "2/2 [==============================] - 0s 3ms/step - loss: 26.0852 - mae: 26.0852\n",
      "Epoch 400/500\n",
      "2/2 [==============================] - 0s 3ms/step - loss: 15.7235 - mae: 15.7235\n",
      "Epoch 401/500\n",
      "2/2 [==============================] - 0s 6ms/step - loss: 14.6289 - mae: 14.6289\n",
      "Epoch 402/500\n",
      "2/2 [==============================] - 0s 4ms/step - loss: 24.2297 - mae: 24.2297\n",
      "Epoch 403/500\n",
      "2/2 [==============================] - 0s 3ms/step - loss: 16.5152 - mae: 16.5152\n",
      "Epoch 404/500\n",
      "2/2 [==============================] - 0s 3ms/step - loss: 9.1580 - mae: 9.1580\n",
      "Epoch 405/500\n",
      "2/2 [==============================] - 0s 3ms/step - loss: 10.4337 - mae: 10.4337\n",
      "Epoch 406/500\n",
      "2/2 [==============================] - 0s 3ms/step - loss: 7.3575 - mae: 7.3575\n",
      "Epoch 407/500\n",
      "2/2 [==============================] - 0s 4ms/step - loss: 13.4657 - mae: 13.4657\n",
      "Epoch 408/500\n",
      "2/2 [==============================] - 0s 2ms/step - loss: 5.5844 - mae: 5.5844\n",
      "Epoch 409/500\n",
      "2/2 [==============================] - 0s 5ms/step - loss: 29.8461 - mae: 29.8461\n",
      "Epoch 410/500\n",
      "2/2 [==============================] - 0s 3ms/step - loss: 9.9290 - mae: 9.9290\n",
      "Epoch 411/500\n",
      "2/2 [==============================] - 0s 3ms/step - loss: 14.7828 - mae: 14.7828\n",
      "Epoch 412/500\n",
      "2/2 [==============================] - 0s 2ms/step - loss: 21.5884 - mae: 21.5884\n",
      "Epoch 413/500\n",
      "2/2 [==============================] - 0s 4ms/step - loss: 13.0617 - mae: 13.0617\n",
      "Epoch 414/500\n",
      "2/2 [==============================] - 0s 3ms/step - loss: 8.3072 - mae: 8.3072\n",
      "Epoch 415/500\n",
      "2/2 [==============================] - 0s 5ms/step - loss: 11.7060 - mae: 11.7060\n",
      "Epoch 416/500\n",
      "2/2 [==============================] - 0s 3ms/step - loss: 25.6465 - mae: 25.6465\n",
      "Epoch 417/500\n",
      "2/2 [==============================] - 0s 4ms/step - loss: 15.6782 - mae: 15.6782\n",
      "Epoch 418/500\n",
      "2/2 [==============================] - 0s 3ms/step - loss: 12.6019 - mae: 12.6019\n",
      "Epoch 419/500\n",
      "2/2 [==============================] - 0s 3ms/step - loss: 15.7398 - mae: 15.7398\n",
      "Epoch 420/500\n",
      "2/2 [==============================] - 0s 2ms/step - loss: 24.4596 - mae: 24.4596\n",
      "Epoch 421/500\n",
      "2/2 [==============================] - 0s 4ms/step - loss: 18.1951 - mae: 18.1951\n",
      "Epoch 422/500\n",
      "2/2 [==============================] - 0s 3ms/step - loss: 8.6537 - mae: 8.6537\n",
      "Epoch 423/500\n",
      "2/2 [==============================] - 0s 3ms/step - loss: 24.6669 - mae: 24.6669\n",
      "Epoch 424/500\n",
      "2/2 [==============================] - 0s 2ms/step - loss: 16.8072 - mae: 16.8072\n",
      "Epoch 425/500\n",
      "2/2 [==============================] - 0s 6ms/step - loss: 7.3131 - mae: 7.3131\n",
      "Epoch 426/500\n",
      "2/2 [==============================] - 0s 3ms/step - loss: 21.0005 - mae: 21.0005\n",
      "Epoch 427/500\n",
      "2/2 [==============================] - 0s 3ms/step - loss: 6.4957 - mae: 6.4957\n",
      "Epoch 428/500\n",
      "2/2 [==============================] - 0s 5ms/step - loss: 13.4562 - mae: 13.4562\n",
      "Epoch 429/500\n",
      "2/2 [==============================] - 0s 4ms/step - loss: 11.1817 - mae: 11.1817\n",
      "Epoch 430/500\n",
      "2/2 [==============================] - 0s 4ms/step - loss: 12.0820 - mae: 12.0820\n",
      "Epoch 431/500\n",
      "2/2 [==============================] - 0s 5ms/step - loss: 9.0911 - mae: 9.0911\n",
      "Epoch 432/500\n",
      "2/2 [==============================] - 0s 3ms/step - loss: 15.6092 - mae: 15.6092\n",
      "Epoch 433/500\n",
      "2/2 [==============================] - 0s 3ms/step - loss: 11.9546 - mae: 11.9546\n",
      "Epoch 434/500\n",
      "2/2 [==============================] - 0s 3ms/step - loss: 30.4774 - mae: 30.4774\n",
      "Epoch 435/500\n",
      "2/2 [==============================] - 0s 3ms/step - loss: 10.5210 - mae: 10.5210\n",
      "Epoch 436/500\n",
      "2/2 [==============================] - 0s 4ms/step - loss: 28.9679 - mae: 28.9679\n",
      "Epoch 437/500\n",
      "2/2 [==============================] - 0s 3ms/step - loss: 8.6840 - mae: 8.6840\n",
      "Epoch 438/500\n",
      "2/2 [==============================] - 0s 3ms/step - loss: 12.7465 - mae: 12.7465\n",
      "Epoch 439/500\n",
      "2/2 [==============================] - 0s 3ms/step - loss: 33.7281 - mae: 33.7281\n",
      "Epoch 440/500\n",
      "2/2 [==============================] - 0s 3ms/step - loss: 15.1647 - mae: 15.1647\n",
      "Epoch 441/500\n",
      "2/2 [==============================] - 0s 5ms/step - loss: 17.5297 - mae: 17.5297\n",
      "Epoch 442/500\n",
      "2/2 [==============================] - 0s 3ms/step - loss: 22.4220 - mae: 22.4220\n",
      "Epoch 443/500\n",
      "2/2 [==============================] - 0s 3ms/step - loss: 23.3029 - mae: 23.3029\n",
      "Epoch 444/500\n",
      "2/2 [==============================] - 0s 4ms/step - loss: 10.7710 - mae: 10.7710\n",
      "Epoch 445/500\n",
      "2/2 [==============================] - 0s 5ms/step - loss: 14.9749 - mae: 14.9749\n",
      "Epoch 446/500\n",
      "2/2 [==============================] - 0s 3ms/step - loss: 18.0841 - mae: 18.0841\n",
      "Epoch 447/500\n",
      "2/2 [==============================] - 0s 3ms/step - loss: 5.3378 - mae: 5.3378\n",
      "Epoch 448/500\n",
      "2/2 [==============================] - 0s 3ms/step - loss: 10.1204 - mae: 10.1204\n",
      "Epoch 449/500\n",
      "2/2 [==============================] - 0s 4ms/step - loss: 14.0629 - mae: 14.0629\n",
      "Epoch 450/500\n",
      "2/2 [==============================] - 0s 3ms/step - loss: 16.8283 - mae: 16.8283\n",
      "Epoch 451/500\n",
      "2/2 [==============================] - 0s 4ms/step - loss: 14.3101 - mae: 14.3101\n",
      "Epoch 452/500\n",
      "2/2 [==============================] - 0s 3ms/step - loss: 30.6678 - mae: 30.6678\n",
      "Epoch 453/500\n",
      "2/2 [==============================] - 0s 3ms/step - loss: 7.6442 - mae: 7.6442\n",
      "Epoch 454/500\n",
      "2/2 [==============================] - 0s 2ms/step - loss: 28.1912 - mae: 28.1912\n",
      "Epoch 455/500\n",
      "2/2 [==============================] - 0s 2ms/step - loss: 7.8948 - mae: 7.8948\n",
      "Epoch 456/500\n",
      "2/2 [==============================] - 0s 3ms/step - loss: 10.4233 - mae: 10.4233\n",
      "Epoch 457/500\n",
      "2/2 [==============================] - 0s 5ms/step - loss: 15.0613 - mae: 15.0613\n",
      "Epoch 458/500\n",
      "2/2 [==============================] - 0s 2ms/step - loss: 16.5805 - mae: 16.5805\n",
      "Epoch 459/500\n",
      "2/2 [==============================] - 0s 2ms/step - loss: 26.8969 - mae: 26.8969\n",
      "Epoch 460/500\n",
      "2/2 [==============================] - 0s 3ms/step - loss: 12.3821 - mae: 12.3821\n",
      "Epoch 461/500\n",
      "2/2 [==============================] - 0s 2ms/step - loss: 12.5106 - mae: 12.5106\n",
      "Epoch 462/500\n",
      "2/2 [==============================] - 0s 3ms/step - loss: 13.3315 - mae: 13.3315\n",
      "Epoch 463/500\n",
      "2/2 [==============================] - 0s 4ms/step - loss: 29.5776 - mae: 29.5776\n",
      "Epoch 464/500\n",
      "2/2 [==============================] - 0s 3ms/step - loss: 3.4507 - mae: 3.4507\n",
      "Epoch 465/500\n",
      "2/2 [==============================] - 0s 4ms/step - loss: 15.2314 - mae: 15.2314\n",
      "Epoch 466/500\n",
      "2/2 [==============================] - 0s 4ms/step - loss: 20.8638 - mae: 20.8638\n",
      "Epoch 467/500\n",
      "2/2 [==============================] - 0s 3ms/step - loss: 30.4295 - mae: 30.4295\n",
      "Epoch 468/500\n",
      "2/2 [==============================] - 0s 2ms/step - loss: 11.0118 - mae: 11.0118\n",
      "Epoch 469/500\n",
      "2/2 [==============================] - 0s 6ms/step - loss: 12.7759 - mae: 12.7759\n",
      "Epoch 470/500\n",
      "2/2 [==============================] - 0s 3ms/step - loss: 3.2159 - mae: 3.2159\n",
      "Epoch 471/500\n",
      "2/2 [==============================] - 0s 4ms/step - loss: 16.7099 - mae: 16.7099\n",
      "Epoch 472/500\n",
      "2/2 [==============================] - 0s 3ms/step - loss: 13.4032 - mae: 13.4032\n",
      "Epoch 473/500\n",
      "2/2 [==============================] - 0s 3ms/step - loss: 15.2855 - mae: 15.2855\n",
      "Epoch 474/500\n",
      "2/2 [==============================] - 0s 7ms/step - loss: 11.7508 - mae: 11.7508\n",
      "Epoch 475/500\n",
      "2/2 [==============================] - 0s 4ms/step - loss: 16.4226 - mae: 16.4226\n",
      "Epoch 476/500\n",
      "2/2 [==============================] - 0s 4ms/step - loss: 14.0012 - mae: 14.0012\n",
      "Epoch 477/500\n",
      "2/2 [==============================] - 0s 4ms/step - loss: 30.5792 - mae: 30.5792\n",
      "Epoch 478/500\n",
      "2/2 [==============================] - 0s 3ms/step - loss: 8.1608 - mae: 8.1608\n",
      "Epoch 479/500\n",
      "2/2 [==============================] - 0s 2ms/step - loss: 11.2200 - mae: 11.2200\n",
      "Epoch 480/500\n",
      "2/2 [==============================] - 0s 4ms/step - loss: 17.8838 - mae: 17.8838\n",
      "Epoch 481/500\n",
      "2/2 [==============================] - 0s 5ms/step - loss: 15.7902 - mae: 15.7902\n",
      "Epoch 482/500\n",
      "2/2 [==============================] - 0s 4ms/step - loss: 21.2723 - mae: 21.2723\n",
      "Epoch 483/500\n",
      "2/2 [==============================] - 0s 2ms/step - loss: 25.4488 - mae: 25.4488\n",
      "Epoch 484/500\n",
      "2/2 [==============================] - 0s 7ms/step - loss: 24.0474 - mae: 24.0474\n",
      "Epoch 485/500\n",
      "2/2 [==============================] - 0s 3ms/step - loss: 5.7658 - mae: 5.7658\n",
      "Epoch 486/500\n",
      "2/2 [==============================] - 0s 3ms/step - loss: 20.0833 - mae: 20.0833\n",
      "Epoch 487/500\n",
      "2/2 [==============================] - 0s 3ms/step - loss: 14.0272 - mae: 14.0272\n",
      "Epoch 488/500\n",
      "2/2 [==============================] - 0s 4ms/step - loss: 30.5855 - mae: 30.5855\n",
      "Epoch 489/500\n",
      "2/2 [==============================] - 0s 4ms/step - loss: 11.9004 - mae: 11.9004\n",
      "Epoch 490/500\n",
      "2/2 [==============================] - 0s 4ms/step - loss: 12.7109 - mae: 12.7109\n",
      "Epoch 491/500\n",
      "2/2 [==============================] - 0s 3ms/step - loss: 23.5718 - mae: 23.5718\n",
      "Epoch 492/500\n",
      "2/2 [==============================] - 0s 4ms/step - loss: 20.6317 - mae: 20.6317\n",
      "Epoch 493/500\n",
      "2/2 [==============================] - 0s 2ms/step - loss: 4.9973 - mae: 4.9973\n",
      "Epoch 494/500\n",
      "2/2 [==============================] - 0s 4ms/step - loss: 12.8875 - mae: 12.8875\n",
      "Epoch 495/500\n",
      "2/2 [==============================] - 0s 3ms/step - loss: 13.3349 - mae: 13.3349\n",
      "Epoch 496/500\n",
      "2/2 [==============================] - 0s 6ms/step - loss: 12.6441 - mae: 12.6441\n",
      "Epoch 497/500\n",
      "2/2 [==============================] - 0s 4ms/step - loss: 17.5608 - mae: 17.5608\n",
      "Epoch 498/500\n",
      "2/2 [==============================] - 0s 4ms/step - loss: 23.6720 - mae: 23.6720\n",
      "Epoch 499/500\n",
      "2/2 [==============================] - 0s 4ms/step - loss: 9.4765 - mae: 9.4765\n",
      "Epoch 500/500\n",
      "2/2 [==============================] - 0s 3ms/step - loss: 14.6137 - mae: 14.6137\n"
     ]
    },
    {
     "data": {
      "text/plain": "<keras.callbacks.History at 0x1a59f024e50>"
     },
     "execution_count": 44,
     "metadata": {},
     "output_type": "execute_result"
    }
   ],
   "source": [
    "# Set random seed\n",
    "tf.random.set_seed(42)\n",
    "\n",
    "model_3 = tf.keras.Sequential([\n",
    "  tf.keras.layers.Dense(10, name=\"hidden_layer\"),\n",
    "  tf.keras.layers.Dense(1, name=\"output_layer\")\n",
    "], name=\"model_3\")\n",
    "\n",
    "# Compile the model\n",
    "model_3.compile(loss=tf.keras.losses.mae,\n",
    "                optimizer=tf.keras.optimizers.SGD(),\n",
    "                metrics=[\"mae\"])\n",
    "\n",
    "model_3.fit(tf.expand_dims(X_train, axis=-1), y_train, epochs=500, verbose=1)"
   ],
   "metadata": {
    "collapsed": false,
    "pycharm": {
     "name": "#%%\n"
    }
   }
  },
  {
   "cell_type": "code",
   "execution_count": 45,
   "outputs": [
    {
     "name": "stdout",
     "output_type": "stream",
     "text": [
      "1/1 [==============================] - 0s 32ms/step\n"
     ]
    },
    {
     "data": {
      "text/plain": "<Figure size 1000x700 with 1 Axes>",
      "image/png": "[encoded data removed]"
     },
     "metadata": {},
     "output_type": "display_data"
    }
   ],
   "source": [
    "# Make and plot predictions for model_3\n",
    "y_pred_3 = model_3.predict(tf.expand_dims(X_test, axis=-1))\n",
    "plot_predictions(train_data=X_train,\n",
    "                 train_labels=y_train,\n",
    "                 test_data=X_test,\n",
    "                 test_labels=y_test,\n",
    "                 predictions=y_pred_3)"
   ],
   "metadata": {
    "collapsed": false,
    "pycharm": {
     "name": "#%%\n"
    }
   }
  },
  {
   "cell_type": "code",
   "execution_count": 46,
   "outputs": [
    {
     "data": {
      "text/plain": "(<tf.Tensor: shape=(), dtype=float32, numpy=68.65239>,\n <tf.Tensor: shape=(), dtype=float32, numpy=4799.5044>)"
     },
     "execution_count": 46,
     "metadata": {},
     "output_type": "execute_result"
    }
   ],
   "source": [
    "# Evaluate model_3\n",
    "mae_3 = mae(y_test, y_pred_3)\n",
    "mse_3 = mse(y_test, y_pred_3)\n",
    "mae_3, mse_3"
   ],
   "metadata": {
    "collapsed": false,
    "pycharm": {
     "name": "#%%\n"
    }
   }
  },
  {
   "cell_type": "markdown",
   "source": [
    " ?? **Note:** You want to start with small experiments (small models) and make sure they work and then increase their scale when necessary."
   ],
   "metadata": {
    "collapsed": false,
    "pycharm": {
     "name": "#%% md\n"
    }
   }
  },
  {
   "cell_type": "markdown",
   "source": [
    "## Comparing the results of our experiments\n",
    "\n",
    "We've run a few experiments, let's compare the results."
   ],
   "metadata": {
    "collapsed": false,
    "pycharm": {
     "name": "#%% md\n"
    }
   }
  },
  {
   "cell_type": "code",
   "execution_count": 47,
   "outputs": [
    {
     "data": {
      "text/plain": "     model        mae          mse\n0  model_1  32.640205  1077.831421\n1  model_2  13.249990   185.558136\n2  model_3  68.652390  4799.504395",
      "text/html": "<div>\n<style scoped>\n    .dataframe tbody tr th:only-of-type {\n        vertical-align: middle;\n    }\n\n    .dataframe tbody tr th {\n        vertical-align: top;\n    }\n\n    .dataframe thead th {\n        text-align: right;\n    }\n</style>\n<table border=\"1\" class=\"dataframe\">\n  <thead>\n    <tr style=\"text-align: right;\">\n      <th></th>\n      <th>model</th>\n      <th>mae</th>\n      <th>mse</th>\n    </tr>\n  </thead>\n  <tbody>\n    <tr>\n      <th>0</th>\n      <td>model_1</td>\n      <td>32.640205</td>\n      <td>1077.831421</td>\n    </tr>\n    <tr>\n      <th>1</th>\n      <td>model_2</td>\n      <td>13.249990</td>\n      <td>185.558136</td>\n    </tr>\n    <tr>\n      <th>2</th>\n      <td>model_3</td>\n      <td>68.652390</td>\n      <td>4799.504395</td>\n    </tr>\n  </tbody>\n</table>\n</div>"
     },
     "execution_count": 47,
     "metadata": {},
     "output_type": "execute_result"
    }
   ],
   "source": [
    "# Let's compare the results of our experiments\n",
    "import pandas as pd\n",
    "model_results = [[\"model_1\", mae_1.numpy(), mse_1.numpy()],\n",
    "                 [\"model_2\", mae_2.numpy(), mse_2.numpy()],\n",
    "                 [\"model_3\", mae_3.numpy(), mse_3.numpy()]]\n",
    "\n",
    "all_results = pd.DataFrame(model_results, columns=[\"model\", \"mae\", \"mse\"])\n",
    "all_results"
   ],
   "metadata": {
    "collapsed": false,
    "pycharm": {
     "name": "#%%\n"
    }
   }
  },
  {
   "cell_type": "code",
   "execution_count": 48,
   "outputs": [
    {
     "name": "stdout",
     "output_type": "stream",
     "text": [
      "Model: \"model_2\"\n",
      "_________________________________________________________________\n",
      " Layer (type)                Output Shape              Param #   \n",
      "=================================================================\n",
      " hidden_layer (Dense)        (None, 10)                20        \n",
      "                                                                 \n",
      " output_layer (Dense)        (None, 1)                 11        \n",
      "                                                                 \n",
      "=================================================================\n",
      "Total params: 31\n",
      "Trainable params: 31\n",
      "Non-trainable params: 0\n",
      "_________________________________________________________________\n"
     ]
    }
   ],
   "source": [
    "model_2.summary()"
   ],
   "metadata": {
    "collapsed": false,
    "pycharm": {
     "name": "#%%\n"
    }
   }
  },
  {
   "cell_type": "markdown",
   "source": [
    "?? **Note: ** One of your main goals should be minimizing the time between your experiments. The more experiments you do, the more things you'll figure out which don't work in turn, get closer to figuring out what does work. Remember, machine learning practitioner's motto: \"experiment, experiment, experiment\"."
   ],
   "metadata": {
    "collapsed": false,
    "pycharm": {
     "name": "#%% md\n"
    }
   }
  },
  {
   "cell_type": "markdown",
   "source": [
    "## Tracking your experiments\n",
    "One really good habit in machine learning modelling is to track the results of your experiments. And when doing so, it can be tedious if you're running lots of experiments.\n",
    "\n",
    "Luckily, there are tools to help us!\n",
    "\n",
    "?? **Resource:** As you build more models, you'll want to look into using:\n",
    "* TensorBoard - a component of the TensorFlow library to help track modelling experiments (we'll see this one later).\n",
    "* Weights & Biases - a tool for tracking all kinds of machine learning experiments (plugs straight into TensorBoard).\n",
    "* Comet.ml - another experiment tracking tool with some nice features."
   ],
   "metadata": {
    "collapsed": false,
    "pycharm": {
     "name": "#%% md\n"
    }
   }
  },
  {
   "cell_type": "markdown",
   "source": [
    "## Saving our models\n",
    "Saving our models allows us to use them outside of Google Colab (or wherever they were trained) such as in a web application or a mobile app.\n",
    "\n",
    "There are two main formats we can save our model's too:\n",
    "1. The SavedModel format.\n",
    "2. The HDF5 format."
   ],
   "metadata": {
    "collapsed": false,
    "pycharm": {
     "name": "#%% md\n"
    }
   }
  },
  {
   "cell_type": "code",
   "execution_count": 49,
   "outputs": [
    {
     "name": "stdout",
     "output_type": "stream",
     "text": [
      "INFO:tensorflow:Assets written to: best_model_SavedModel_format\\assets\n"
     ]
    }
   ],
   "source": [
    "# Save model using the SavedModel format\n",
    "model_2.save(\"best_model_SavedModel_format\")"
   ],
   "metadata": {
    "collapsed": false,
    "pycharm": {
     "name": "#%%\n"
    }
   }
  },
  {
   "cell_type": "code",
   "execution_count": 50,
   "outputs": [],
   "source": [
    "# Save model using the HDF5 format\n",
    "model_2.save(\"best_model_HDF5_format.h5\")"
   ],
   "metadata": {
    "collapsed": false,
    "pycharm": {
     "name": "#%%\n"
    }
   }
  },
  {
   "cell_type": "code",
   "execution_count": 51,
   "outputs": [
    {
     "name": "stdout",
     "output_type": "stream",
     "text": [
      "Model: \"model_2\"\n",
      "_________________________________________________________________\n",
      " Layer (type)                Output Shape              Param #   \n",
      "=================================================================\n",
      " hidden_layer (Dense)        (None, 10)                20        \n",
      "                                                                 \n",
      " output_layer (Dense)        (None, 1)                 11        \n",
      "                                                                 \n",
      "=================================================================\n",
      "Total params: 31\n",
      "Trainable params: 31\n",
      "Non-trainable params: 0\n",
      "_________________________________________________________________\n"
     ]
    }
   ],
   "source": [
    "# Load in the SavedModel format model\n",
    "loaded_saved_model = tf.keras.models.load_model(\"best_model_SavedModel_format\")\n",
    "loaded_saved_model.summary()"
   ],
   "metadata": {
    "collapsed": false,
    "pycharm": {
     "name": "#%%\n"
    }
   }
  },
  {
   "cell_type": "code",
   "execution_count": 53,
   "outputs": [
    {
     "name": "stdout",
     "output_type": "stream",
     "text": [
      "1/1 [==============================] - 0s 31ms/step\n",
      "1/1 [==============================] - 0s 43ms/step\n"
     ]
    },
    {
     "data": {
      "text/plain": "array([[ True],\n       [ True],\n       [ True],\n       [ True],\n       [ True],\n       [ True],\n       [ True],\n       [ True],\n       [ True],\n       [ True]])"
     },
     "execution_count": 53,
     "metadata": {},
     "output_type": "execute_result"
    }
   ],
   "source": [
    "# Check if the loaded SavedModel format model's predictions match those of the original model\n",
    "model_2_preds = model_2.predict(tf.expand_dims(X_test, axis=-1))\n",
    "loaded_saved_model_preds = loaded_saved_model.predict(tf.expand_dims(X_test, axis=-1))\n",
    "model_2_preds == loaded_saved_model_preds"
   ],
   "metadata": {
    "collapsed": false,
    "pycharm": {
     "name": "#%%\n"
    }
   }
  },
  {
   "cell_type": "code",
   "execution_count": 54,
   "outputs": [
    {
     "name": "stdout",
     "output_type": "stream",
     "text": [
      "Model: \"model_2\"\n",
      "_________________________________________________________________\n",
      " Layer (type)                Output Shape              Param #   \n",
      "=================================================================\n",
      " hidden_layer (Dense)        (None, 10)                20        \n",
      "                                                                 \n",
      " output_layer (Dense)        (None, 1)                 11        \n",
      "                                                                 \n",
      "=================================================================\n",
      "Total params: 31\n",
      "Trainable params: 31\n",
      "Non-trainable params: 0\n",
      "_________________________________________________________________\n"
     ]
    }
   ],
   "source": [
    "# Load in the HDF5 format model\n",
    "loaded_h5_model = tf.keras.models.load_model(\"best_model_HDF5_format.h5\")\n",
    "loaded_h5_model.summary()"
   ],
   "metadata": {
    "collapsed": false,
    "pycharm": {
     "name": "#%%\n"
    }
   }
  },
  {
   "cell_type": "code",
   "execution_count": 55,
   "outputs": [
    {
     "name": "stdout",
     "output_type": "stream",
     "text": [
      "1/1 [==============================] - 0s 35ms/step\n"
     ]
    },
    {
     "data": {
      "text/plain": "array([[ True],\n       [ True],\n       [ True],\n       [ True],\n       [ True],\n       [ True],\n       [ True],\n       [ True],\n       [ True],\n       [ True]])"
     },
     "execution_count": 55,
     "metadata": {},
     "output_type": "execute_result"
    }
   ],
   "source": [
    "# Check if the loaded HDF5 format model's predictions match those of the original model\n",
    "loaded_h5_model_preds = loaded_h5_model.predict(tf.expand_dims(X_test, axis=-1))\n",
    "model_2_preds == loaded_h5_model_preds"
   ],
   "metadata": {
    "collapsed": false,
    "pycharm": {
     "name": "#%%\n"
    }
   }
  },
  {
   "cell_type": "code",
   "execution_count": null,
   "outputs": [],
   "source": [],
   "metadata": {
    "collapsed": false,
    "pycharm": {
     "name": "#%%\n"
    }
   }
  }
 ],
 "metadata": {
  "kernelspec": {
   "display_name": "Python 3",
   "language": "python",
   "name": "python3"
  },
  "language_info": {
   "codemirror_mode": {
    "name": "ipython",
    "version": 2
   },
   "file_extension": ".py",
   "mimetype": "text/x-python",
   "name": "python",
   "nbconvert_exporter": "python",
   "pygments_lexer": "ipython2",
   "version": "2.7.6"
  }
 },
 "nbformat": 4,
 "nbformat_minor": 0
}