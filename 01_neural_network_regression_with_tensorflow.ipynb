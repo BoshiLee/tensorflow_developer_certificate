{
 "cells": [
  {
   "cell_type": "markdown",
   "source": [
    "# Introduction to Regression with Neural Network in TensorFlow"
   ],
   "metadata": {
    "collapsed": false
   }
  },
  {
   "cell_type": "code",
   "execution_count": 1,
   "metadata": {
    "collapsed": true
   },
   "outputs": [
    {
     "name": "stdout",
     "output_type": "stream",
     "text": [
      "2.10.0\n"
     ]
    }
   ],
   "source": [
    "import tensorflow as tf\n",
    "print(tf.__version__)"
   ]
  },
  {
   "cell_type": "markdown",
   "source": [
    "# Create some data to view and fit"
   ],
   "metadata": {
    "collapsed": false
   }
  },
  {
   "cell_type": "code",
   "execution_count": 2,
   "outputs": [
    {
     "data": {
      "text/plain": "<matplotlib.collections.PathCollection at 0x1b8624d7df0>"
     },
     "execution_count": 2,
     "metadata": {},
     "output_type": "execute_result"
    },
    {
     "data": {
      "text/plain": "<Figure size 640x480 with 1 Axes>",
      "image/png": "[encoded data removed]"
     },
     "metadata": {},
     "output_type": "display_data"
    }
   ],
   "source": [
    "import numpy as np\n",
    "import matplotlib.pyplot as plt\n",
    "\n",
    "# Create features\n",
    "X = np.array([-7.0, -4.0, -1.0, 2.0, 5.0, 8.0, 11.0, 14.0])\n",
    "\n",
    "# Create labels\n",
    "y = np.array([3.0, 6.0, 9.0, 12.0, 15.0, 18.0, 21.0, 24.0])\n",
    "\n",
    "# Visualize it\n",
    "\n",
    "plt.scatter(X, y)"
   ],
   "metadata": {
    "collapsed": false
   }
  },
  {
   "cell_type": "code",
   "execution_count": 3,
   "outputs": [
    {
     "data": {
      "text/plain": "array([ True,  True,  True,  True,  True,  True,  True,  True])"
     },
     "execution_count": 3,
     "metadata": {},
     "output_type": "execute_result"
    }
   ],
   "source": [
    "y == X + 10"
   ],
   "metadata": {
    "collapsed": false
   }
  },
  {
   "cell_type": "markdown",
   "source": [
    "# Input and output shapes"
   ],
   "metadata": {
    "collapsed": false
   }
  },
  {
   "cell_type": "code",
   "execution_count": 4,
   "outputs": [
    {
     "data": {
      "text/plain": "(<tf.Tensor: shape=(3,), dtype=string, numpy=array([b'bedroom', b'bathroom', b'garage'], dtype=object)>,\n <tf.Tensor: shape=(1,), dtype=int32, numpy=array([939700])>)"
     },
     "execution_count": 4,
     "metadata": {},
     "output_type": "execute_result"
    }
   ],
   "source": [
    "# Create a demo tensor for our housing price prediction problem\n",
    "house_info = tf.constant([\"bedroom\", \"bathroom\", \"garage\"])\n",
    "house_price = tf.constant([939700])\n",
    "house_info, house_price"
   ],
   "metadata": {
    "collapsed": false
   }
  },
  {
   "cell_type": "code",
   "execution_count": 5,
   "outputs": [
    {
     "data": {
      "text/plain": "((8,), (8,))"
     },
     "execution_count": 5,
     "metadata": {},
     "output_type": "execute_result"
    }
   ],
   "source": [
    "input_shape = X.shape\n",
    "output_shape = y.shape\n",
    "input_shape, output_shape"
   ],
   "metadata": {
    "collapsed": false
   }
  },
  {
   "cell_type": "code",
   "execution_count": 6,
   "outputs": [],
   "source": [
    "# Turn our NumPy arrays into Tensors with dtype float32\n",
    "X = tf.cast(tf.constant(X), dtype=tf.float32)\n",
    "y = tf.cast(tf.constant(y), dtype=tf.float32)"
   ],
   "metadata": {
    "collapsed": false
   }
  },
  {
   "cell_type": "markdown",
   "source": [
    "# Steps in modelling with TensorFlow\n",
    "1. **Creating a model** - define the input and output layers, as well as the hidden layers of a deep learning model\n",
    "2. **Compiling a model** - define the loss function (in other words, the function which tells our model how wrong it is) and the optimizer (tells our model how to improve the patterns its learning) and evaluation metrics (what we can use to interpret the performance of our model).\n",
    "3. **Fitting a model** - letting the model try to find patterns between X & y (features and labels).\n",
    "4. **Evaluating a model** - use a model's predictions to evaluate its performance."
   ],
   "metadata": {
    "collapsed": false
   }
  },
  {
   "cell_type": "code",
   "execution_count": 7,
   "outputs": [
    {
     "data": {
      "text/plain": "<tf.Tensor: shape=(8, 1), dtype=float32, numpy=\narray([[-7.],\n       [-4.],\n       [-1.],\n       [ 2.],\n       [ 5.],\n       [ 8.],\n       [11.],\n       [14.]], dtype=float32)>"
     },
     "execution_count": 7,
     "metadata": {},
     "output_type": "execute_result"
    }
   ],
   "source": [
    "tf.expand_dims(X, axis=-1)"
   ],
   "metadata": {
    "collapsed": false
   }
  },
  {
   "cell_type": "code",
   "execution_count": 8,
   "outputs": [
    {
     "name": "stdout",
     "output_type": "stream",
     "text": [
      "Epoch 1/5\n",
      "1/1 [==============================] - 1s 1s/step - loss: 18.4342 - mae: 18.4342\n",
      "Epoch 2/5\n",
      "1/1 [==============================] - 0s 6ms/step - loss: 18.1530 - mae: 18.1530\n",
      "Epoch 3/5\n",
      "1/1 [==============================] - 0s 4ms/step - loss: 17.8717 - mae: 17.8717\n",
      "Epoch 4/5\n",
      "1/1 [==============================] - 0s 3ms/step - loss: 17.5905 - mae: 17.5905\n",
      "Epoch 5/5\n",
      "1/1 [==============================] - 0s 4ms/step - loss: 17.3092 - mae: 17.3092\n"
     ]
    },
    {
     "data": {
      "text/plain": "<keras.callbacks.History at 0x1b80841ba00>"
     },
     "execution_count": 8,
     "metadata": {},
     "output_type": "execute_result"
    }
   ],
   "source": [
    "# Set random seed\n",
    "tf.random.set_seed(42)\n",
    "# 1. Create a model using the Sequential API\n",
    "model = tf.keras.Sequential()\n",
    "model.add(tf.keras.layers.Dense(1))\n",
    "\n",
    "# 2. Compile the model\n",
    "model.compile(loss=tf.keras.losses.mae, # mean absolute error\n",
    "              optimizer=tf.keras.optimizers.SGD(), # stochastic gradient descent\n",
    "              metrics=[\"mae\"])\n",
    "\n",
    "# 3. Fit the model\n",
    "model.fit(tf.expand_dims(X, axis=-1), y, epochs=5)"
   ],
   "metadata": {
    "collapsed": false
   }
  },
  {
   "cell_type": "code",
   "execution_count": 9,
   "outputs": [
    {
     "data": {
      "text/plain": "(<tf.Tensor: shape=(8,), dtype=float32, numpy=array([-7., -4., -1.,  2.,  5.,  8., 11., 14.], dtype=float32)>,\n <tf.Tensor: shape=(8,), dtype=float32, numpy=array([ 3.,  6.,  9., 12., 15., 18., 21., 24.], dtype=float32)>)"
     },
     "execution_count": 9,
     "metadata": {},
     "output_type": "execute_result"
    }
   ],
   "source": [
    "# Check out X and y\n",
    "X, y"
   ],
   "metadata": {
    "collapsed": false
   }
  },
  {
   "cell_type": "code",
   "execution_count": 10,
   "outputs": [
    {
     "name": "stdout",
     "output_type": "stream",
     "text": [
      "1/1 [==============================] - 0s 121ms/step\n"
     ]
    },
    {
     "data": {
      "text/plain": "array([[-13.906]], dtype=float32)"
     },
     "execution_count": 10,
     "metadata": {},
     "output_type": "execute_result"
    }
   ],
   "source": [
    "# Try and make a prediction using our model\n",
    "y_pred = model.predict([17.0])\n",
    "y_pred"
   ],
   "metadata": {
    "collapsed": false
   }
  },
  {
   "cell_type": "markdown",
   "source": [
    "## Improving our model\n",
    "We can improve our model, by altering the steps we took to create a model.\n",
    "1. **Creating a model** - here we might add more layers, increase the number of hidden units (also called neurons) within each of the hidden layers, change the activation function of each layer.\n",
    "2. **Compiling a model** - here we might change the optimization function or perhaps the **learning rate** of the optimization function.\n",
    "3. **Fitting a model** - here we might fit a model for more **epochs** (leave it training for longer) or on more data (give the model more examples to learn from)."
   ],
   "metadata": {
    "collapsed": false
   }
  },
  {
   "cell_type": "code",
   "execution_count": 11,
   "outputs": [
    {
     "name": "stdout",
     "output_type": "stream",
     "text": [
      "Epoch 1/100\n",
      "1/1 [==============================] - 0s 263ms/step - loss: 9.7075 - mae: 9.7075\n",
      "Epoch 2/100\n",
      "1/1 [==============================] - 0s 5ms/step - loss: 9.5750 - mae: 9.5750\n",
      "Epoch 3/100\n",
      "1/1 [==============================] - 0s 4ms/step - loss: 9.4425 - mae: 9.4425\n",
      "Epoch 4/100\n",
      "1/1 [==============================] - 0s 4ms/step - loss: 9.3100 - mae: 9.3100\n",
      "Epoch 5/100\n",
      "1/1 [==============================] - 0s 4ms/step - loss: 9.1775 - mae: 9.1775\n",
      "Epoch 6/100\n",
      "1/1 [==============================] - 0s 6ms/step - loss: 9.0450 - mae: 9.0450\n",
      "Epoch 7/100\n",
      "1/1 [==============================] - 0s 6ms/step - loss: 8.9125 - mae: 8.9125\n",
      "Epoch 8/100\n",
      "1/1 [==============================] - 0s 7ms/step - loss: 8.7800 - mae: 8.7800\n",
      "Epoch 9/100\n",
      "1/1 [==============================] - 0s 5ms/step - loss: 8.6475 - mae: 8.6475\n",
      "Epoch 10/100\n",
      "1/1 [==============================] - 0s 6ms/step - loss: 8.5150 - mae: 8.5150\n",
      "Epoch 11/100\n",
      "1/1 [==============================] - 0s 4ms/step - loss: 8.3825 - mae: 8.3825\n",
      "Epoch 12/100\n",
      "1/1 [==============================] - 0s 7ms/step - loss: 8.2500 - mae: 8.2500\n",
      "Epoch 13/100\n",
      "1/1 [==============================] - 0s 5ms/step - loss: 8.1175 - mae: 8.1175\n",
      "Epoch 14/100\n",
      "1/1 [==============================] - 0s 4ms/step - loss: 7.9850 - mae: 7.9850\n",
      "Epoch 15/100\n",
      "1/1 [==============================] - 0s 5ms/step - loss: 7.8525 - mae: 7.8525\n",
      "Epoch 16/100\n",
      "1/1 [==============================] - 0s 4ms/step - loss: 7.7200 - mae: 7.7200\n",
      "Epoch 17/100\n",
      "1/1 [==============================] - 0s 6ms/step - loss: 7.5875 - mae: 7.5875\n",
      "Epoch 18/100\n",
      "1/1 [==============================] - 0s 4ms/step - loss: 7.4550 - mae: 7.4550\n",
      "Epoch 19/100\n",
      "1/1 [==============================] - 0s 5ms/step - loss: 7.3650 - mae: 7.3650\n",
      "Epoch 20/100\n",
      "1/1 [==============================] - 0s 5ms/step - loss: 7.3594 - mae: 7.3594\n",
      "Epoch 21/100\n",
      "1/1 [==============================] - 0s 4ms/step - loss: 7.3537 - mae: 7.3537\n",
      "Epoch 22/100\n",
      "1/1 [==============================] - 0s 6ms/step - loss: 7.3481 - mae: 7.3481\n",
      "Epoch 23/100\n",
      "1/1 [==============================] - 0s 4ms/step - loss: 7.3425 - mae: 7.3425\n",
      "Epoch 24/100\n",
      "1/1 [==============================] - 0s 5ms/step - loss: 7.3369 - mae: 7.3369\n",
      "Epoch 25/100\n",
      "1/1 [==============================] - 0s 5ms/step - loss: 7.3313 - mae: 7.3313\n",
      "Epoch 26/100\n",
      "1/1 [==============================] - 0s 5ms/step - loss: 7.3256 - mae: 7.3256\n",
      "Epoch 27/100\n",
      "1/1 [==============================] - 0s 3ms/step - loss: 7.3200 - mae: 7.3200\n",
      "Epoch 28/100\n",
      "1/1 [==============================] - 0s 4ms/step - loss: 7.3144 - mae: 7.3144\n",
      "Epoch 29/100\n",
      "1/1 [==============================] - 0s 5ms/step - loss: 7.3088 - mae: 7.3088\n",
      "Epoch 30/100\n",
      "1/1 [==============================] - 0s 5ms/step - loss: 7.3031 - mae: 7.3031\n",
      "Epoch 31/100\n",
      "1/1 [==============================] - 0s 5ms/step - loss: 7.2975 - mae: 7.2975\n",
      "Epoch 32/100\n",
      "1/1 [==============================] - 0s 5ms/step - loss: 7.2919 - mae: 7.2919\n",
      "Epoch 33/100\n",
      "1/1 [==============================] - 0s 5ms/step - loss: 7.2863 - mae: 7.2863\n",
      "Epoch 34/100\n",
      "1/1 [==============================] - 0s 5ms/step - loss: 7.2806 - mae: 7.2806\n",
      "Epoch 35/100\n",
      "1/1 [==============================] - 0s 4ms/step - loss: 7.2750 - mae: 7.2750\n",
      "Epoch 36/100\n",
      "1/1 [==============================] - 0s 5ms/step - loss: 7.2694 - mae: 7.2694\n",
      "Epoch 37/100\n",
      "1/1 [==============================] - 0s 4ms/step - loss: 7.2638 - mae: 7.2638\n",
      "Epoch 38/100\n",
      "1/1 [==============================] - 0s 4ms/step - loss: 7.2581 - mae: 7.2581\n",
      "Epoch 39/100\n",
      "1/1 [==============================] - 0s 4ms/step - loss: 7.2525 - mae: 7.2525\n",
      "Epoch 40/100\n",
      "1/1 [==============================] - 0s 6ms/step - loss: 7.2469 - mae: 7.2469\n",
      "Epoch 41/100\n",
      "1/1 [==============================] - 0s 5ms/step - loss: 7.2413 - mae: 7.2413\n",
      "Epoch 42/100\n",
      "1/1 [==============================] - 0s 5ms/step - loss: 7.2356 - mae: 7.2356\n",
      "Epoch 43/100\n",
      "1/1 [==============================] - 0s 4ms/step - loss: 7.2300 - mae: 7.2300\n",
      "Epoch 44/100\n",
      "1/1 [==============================] - 0s 5ms/step - loss: 7.2244 - mae: 7.2244\n",
      "Epoch 45/100\n",
      "1/1 [==============================] - 0s 5ms/step - loss: 7.2188 - mae: 7.2188\n",
      "Epoch 46/100\n",
      "1/1 [==============================] - 0s 4ms/step - loss: 7.2131 - mae: 7.2131\n",
      "Epoch 47/100\n",
      "1/1 [==============================] - 0s 4ms/step - loss: 7.2075 - mae: 7.2075\n",
      "Epoch 48/100\n",
      "1/1 [==============================] - 0s 5ms/step - loss: 7.2019 - mae: 7.2019\n",
      "Epoch 49/100\n",
      "1/1 [==============================] - 0s 4ms/step - loss: 7.1963 - mae: 7.1963\n",
      "Epoch 50/100\n",
      "1/1 [==============================] - 0s 6ms/step - loss: 7.1906 - mae: 7.1906\n",
      "Epoch 51/100\n",
      "1/1 [==============================] - 0s 4ms/step - loss: 7.1850 - mae: 7.1850\n",
      "Epoch 52/100\n",
      "1/1 [==============================] - 0s 5ms/step - loss: 7.1794 - mae: 7.1794\n",
      "Epoch 53/100\n",
      "1/1 [==============================] - 0s 5ms/step - loss: 7.1737 - mae: 7.1737\n",
      "Epoch 54/100\n",
      "1/1 [==============================] - 0s 5ms/step - loss: 7.1681 - mae: 7.1681\n",
      "Epoch 55/100\n",
      "1/1 [==============================] - 0s 5ms/step - loss: 7.1625 - mae: 7.1625\n",
      "Epoch 56/100\n",
      "1/1 [==============================] - 0s 5ms/step - loss: 7.1569 - mae: 7.1569\n",
      "Epoch 57/100\n",
      "1/1 [==============================] - 0s 6ms/step - loss: 7.1512 - mae: 7.1512\n",
      "Epoch 58/100\n",
      "1/1 [==============================] - 0s 5ms/step - loss: 7.1456 - mae: 7.1456\n",
      "Epoch 59/100\n",
      "1/1 [==============================] - 0s 3ms/step - loss: 7.1400 - mae: 7.1400\n",
      "Epoch 60/100\n",
      "1/1 [==============================] - 0s 5ms/step - loss: 7.1344 - mae: 7.1344\n",
      "Epoch 61/100\n",
      "1/1 [==============================] - 0s 4ms/step - loss: 7.1287 - mae: 7.1287\n",
      "Epoch 62/100\n",
      "1/1 [==============================] - 0s 6ms/step - loss: 7.1231 - mae: 7.1231\n",
      "Epoch 63/100\n",
      "1/1 [==============================] - 0s 7ms/step - loss: 7.1175 - mae: 7.1175\n",
      "Epoch 64/100\n",
      "1/1 [==============================] - 0s 5ms/step - loss: 7.1119 - mae: 7.1119\n",
      "Epoch 65/100\n",
      "1/1 [==============================] - 0s 4ms/step - loss: 7.1062 - mae: 7.1062\n",
      "Epoch 66/100\n",
      "1/1 [==============================] - 0s 4ms/step - loss: 7.1006 - mae: 7.1006\n",
      "Epoch 67/100\n",
      "1/1 [==============================] - 0s 4ms/step - loss: 7.0950 - mae: 7.0950\n",
      "Epoch 68/100\n",
      "1/1 [==============================] - 0s 4ms/step - loss: 7.0894 - mae: 7.0894\n",
      "Epoch 69/100\n",
      "1/1 [==============================] - 0s 4ms/step - loss: 7.0838 - mae: 7.0838\n",
      "Epoch 70/100\n",
      "1/1 [==============================] - 0s 5ms/step - loss: 7.0781 - mae: 7.0781\n",
      "Epoch 71/100\n",
      "1/1 [==============================] - 0s 4ms/step - loss: 7.0725 - mae: 7.0725\n",
      "Epoch 72/100\n",
      "1/1 [==============================] - 0s 5ms/step - loss: 7.0669 - mae: 7.0669\n",
      "Epoch 73/100\n",
      "1/1 [==============================] - 0s 4ms/step - loss: 7.0613 - mae: 7.0613\n",
      "Epoch 74/100\n",
      "1/1 [==============================] - 0s 5ms/step - loss: 7.0556 - mae: 7.0556\n",
      "Epoch 75/100\n",
      "1/1 [==============================] - 0s 5ms/step - loss: 7.0500 - mae: 7.0500\n",
      "Epoch 76/100\n",
      "1/1 [==============================] - 0s 5ms/step - loss: 7.0444 - mae: 7.0444\n",
      "Epoch 77/100\n",
      "1/1 [==============================] - 0s 4ms/step - loss: 7.0388 - mae: 7.0388\n",
      "Epoch 78/100\n",
      "1/1 [==============================] - 0s 4ms/step - loss: 7.0331 - mae: 7.0331\n",
      "Epoch 79/100\n",
      "1/1 [==============================] - 0s 5ms/step - loss: 7.0275 - mae: 7.0275\n",
      "Epoch 80/100\n",
      "1/1 [==============================] - 0s 4ms/step - loss: 7.0219 - mae: 7.0219\n",
      "Epoch 81/100\n",
      "1/1 [==============================] - 0s 4ms/step - loss: 7.0163 - mae: 7.0163\n",
      "Epoch 82/100\n",
      "1/1 [==============================] - 0s 5ms/step - loss: 7.0106 - mae: 7.0106\n",
      "Epoch 83/100\n",
      "1/1 [==============================] - 0s 3ms/step - loss: 7.0050 - mae: 7.0050\n",
      "Epoch 84/100\n",
      "1/1 [==============================] - 0s 6ms/step - loss: 6.9994 - mae: 6.9994\n",
      "Epoch 85/100\n",
      "1/1 [==============================] - 0s 4ms/step - loss: 6.9938 - mae: 6.9938\n",
      "Epoch 86/100\n",
      "1/1 [==============================] - 0s 4ms/step - loss: 6.9881 - mae: 6.9881\n",
      "Epoch 87/100\n",
      "1/1 [==============================] - 0s 4ms/step - loss: 6.9825 - mae: 6.9825\n",
      "Epoch 88/100\n",
      "1/1 [==============================] - 0s 4ms/step - loss: 6.9769 - mae: 6.9769\n",
      "Epoch 89/100\n",
      "1/1 [==============================] - 0s 5ms/step - loss: 6.9713 - mae: 6.9713\n",
      "Epoch 90/100\n",
      "1/1 [==============================] - 0s 4ms/step - loss: 6.9656 - mae: 6.9656\n",
      "Epoch 91/100\n",
      "1/1 [==============================] - 0s 4ms/step - loss: 6.9600 - mae: 6.9600\n",
      "Epoch 92/100\n",
      "1/1 [==============================] - 0s 4ms/step - loss: 6.9544 - mae: 6.9544\n",
      "Epoch 93/100\n",
      "1/1 [==============================] - 0s 4ms/step - loss: 6.9488 - mae: 6.9488\n",
      "Epoch 94/100\n",
      "1/1 [==============================] - 0s 6ms/step - loss: 6.9431 - mae: 6.9431\n",
      "Epoch 95/100\n",
      "1/1 [==============================] - 0s 3ms/step - loss: 6.9375 - mae: 6.9375\n",
      "Epoch 96/100\n",
      "1/1 [==============================] - 0s 4ms/step - loss: 6.9319 - mae: 6.9319\n",
      "Epoch 97/100\n",
      "1/1 [==============================] - 0s 5ms/step - loss: 6.9263 - mae: 6.9263\n",
      "Epoch 98/100\n",
      "1/1 [==============================] - 0s 4ms/step - loss: 6.9206 - mae: 6.9206\n",
      "Epoch 99/100\n",
      "1/1 [==============================] - 0s 5ms/step - loss: 6.9150 - mae: 6.9150\n",
      "Epoch 100/100\n",
      "1/1 [==============================] - 0s 5ms/step - loss: 6.9094 - mae: 6.9094\n"
     ]
    },
    {
     "data": {
      "text/plain": "<keras.callbacks.History at 0x1b8088c93d0>"
     },
     "execution_count": 11,
     "metadata": {},
     "output_type": "execute_result"
    }
   ],
   "source": [
    "# Let's rebuild our model\n",
    "# 1. Create the model\n",
    "model = tf.keras.Sequential()\n",
    "model.add(tf.keras.layers.Dense(1))\n",
    "\n",
    "# 2. Compile the model\n",
    "model.compile(loss=tf.keras.losses.mae,\n",
    "              optimizer=tf.keras.optimizers.SGD(),\n",
    "              metrics=[\"mae\"])\n",
    "# 3. Fit the model\n",
    "model.fit(tf.expand_dims(X, axis=-1), y, epochs=100)"
   ],
   "metadata": {
    "collapsed": false
   }
  },
  {
   "cell_type": "code",
   "execution_count": 12,
   "outputs": [
    {
     "data": {
      "text/plain": "(<tf.Tensor: shape=(8,), dtype=float32, numpy=array([-7., -4., -1.,  2.,  5.,  8., 11., 14.], dtype=float32)>,\n <tf.Tensor: shape=(8,), dtype=float32, numpy=array([ 3.,  6.,  9., 12., 15., 18., 21., 24.], dtype=float32)>)"
     },
     "execution_count": 12,
     "metadata": {},
     "output_type": "execute_result"
    }
   ],
   "source": [
    "# Remind ourselves of the data\n",
    "X, y"
   ],
   "metadata": {
    "collapsed": false
   }
  },
  {
   "cell_type": "code",
   "execution_count": 13,
   "outputs": [
    {
     "name": "stdout",
     "output_type": "stream",
     "text": [
      "1/1 [==============================] - 0s 61ms/step\n"
     ]
    },
    {
     "data": {
      "text/plain": "array([[29.925564]], dtype=float32)"
     },
     "execution_count": 13,
     "metadata": {},
     "output_type": "execute_result"
    }
   ],
   "source": [
    "# Let's see if our model's prediction has improved...\n",
    "model.predict([17.0])"
   ],
   "metadata": {
    "collapsed": false
   }
  },
  {
   "cell_type": "markdown",
   "source": [
    "# Experimenting 1 to improve our model"
   ],
   "metadata": {
    "collapsed": false
   }
  },
  {
   "cell_type": "code",
   "execution_count": 14,
   "outputs": [
    {
     "name": "stdout",
     "output_type": "stream",
     "text": [
      "Epoch 1/100\n",
      "1/1 [==============================] - 0s 310ms/step - loss: 13.7232 - mae: 13.7232\n",
      "Epoch 2/100\n",
      "1/1 [==============================] - 0s 5ms/step - loss: 13.2540 - mae: 13.2540\n",
      "Epoch 3/100\n",
      "1/1 [==============================] - 0s 4ms/step - loss: 12.7831 - mae: 12.7831\n",
      "Epoch 4/100\n",
      "1/1 [==============================] - 0s 5ms/step - loss: 12.3104 - mae: 12.3104\n",
      "Epoch 5/100\n",
      "1/1 [==============================] - 0s 5ms/step - loss: 11.8358 - mae: 11.8358\n",
      "Epoch 6/100\n",
      "1/1 [==============================] - 0s 5ms/step - loss: 11.3592 - mae: 11.3592\n",
      "Epoch 7/100\n",
      "1/1 [==============================] - 0s 4ms/step - loss: 10.8804 - mae: 10.8804\n",
      "Epoch 8/100\n",
      "1/1 [==============================] - 0s 5ms/step - loss: 10.3991 - mae: 10.3991\n",
      "Epoch 9/100\n",
      "1/1 [==============================] - 0s 5ms/step - loss: 9.9150 - mae: 9.9150\n",
      "Epoch 10/100\n",
      "1/1 [==============================] - 0s 4ms/step - loss: 9.4275 - mae: 9.4275\n",
      "Epoch 11/100\n",
      "1/1 [==============================] - 0s 4ms/step - loss: 8.9361 - mae: 8.9361\n",
      "Epoch 12/100\n",
      "1/1 [==============================] - 0s 4ms/step - loss: 8.4401 - mae: 8.4401\n",
      "Epoch 13/100\n",
      "1/1 [==============================] - 0s 6ms/step - loss: 7.9389 - mae: 7.9389\n",
      "Epoch 14/100\n",
      "1/1 [==============================] - 0s 4ms/step - loss: 7.4314 - mae: 7.4314\n",
      "Epoch 15/100\n",
      "1/1 [==============================] - 0s 4ms/step - loss: 6.9170 - mae: 6.9170\n",
      "Epoch 16/100\n",
      "1/1 [==============================] - 0s 5ms/step - loss: 6.6546 - mae: 6.6546\n",
      "Epoch 17/100\n",
      "1/1 [==============================] - 0s 5ms/step - loss: 6.6572 - mae: 6.6572\n",
      "Epoch 18/100\n",
      "1/1 [==============================] - 0s 5ms/step - loss: 6.8620 - mae: 6.8620\n",
      "Epoch 19/100\n",
      "1/1 [==============================] - 0s 4ms/step - loss: 7.0049 - mae: 7.0049\n",
      "Epoch 20/100\n",
      "1/1 [==============================] - 0s 4ms/step - loss: 7.0925 - mae: 7.0925\n",
      "Epoch 21/100\n",
      "1/1 [==============================] - 0s 6ms/step - loss: 7.1312 - mae: 7.1312\n",
      "Epoch 22/100\n",
      "1/1 [==============================] - 0s 5ms/step - loss: 7.1447 - mae: 7.1447\n",
      "Epoch 23/100\n",
      "1/1 [==============================] - 0s 5ms/step - loss: 7.0684 - mae: 7.0684\n",
      "Epoch 24/100\n",
      "1/1 [==============================] - 0s 5ms/step - loss: 6.9467 - mae: 6.9467\n",
      "Epoch 25/100\n",
      "1/1 [==============================] - 0s 4ms/step - loss: 6.8109 - mae: 6.8109\n",
      "Epoch 26/100\n",
      "1/1 [==============================] - 0s 5ms/step - loss: 6.6570 - mae: 6.6570\n",
      "Epoch 27/100\n",
      "1/1 [==============================] - 0s 5ms/step - loss: 6.4876 - mae: 6.4876\n",
      "Epoch 28/100\n",
      "1/1 [==============================] - 0s 5ms/step - loss: 6.3053 - mae: 6.3053\n",
      "Epoch 29/100\n",
      "1/1 [==============================] - 0s 4ms/step - loss: 6.1119 - mae: 6.1119\n",
      "Epoch 30/100\n",
      "1/1 [==============================] - 0s 5ms/step - loss: 6.0116 - mae: 6.0116\n",
      "Epoch 31/100\n",
      "1/1 [==============================] - 0s 4ms/step - loss: 5.9755 - mae: 5.9755\n",
      "Epoch 32/100\n",
      "1/1 [==============================] - 0s 4ms/step - loss: 5.9367 - mae: 5.9367\n",
      "Epoch 33/100\n",
      "1/1 [==============================] - 0s 6ms/step - loss: 5.9899 - mae: 5.9899\n",
      "Epoch 34/100\n",
      "1/1 [==============================] - 0s 3ms/step - loss: 6.0210 - mae: 6.0210\n",
      "Epoch 35/100\n",
      "1/1 [==============================] - 0s 3ms/step - loss: 5.9852 - mae: 5.9852\n",
      "Epoch 36/100\n",
      "1/1 [==============================] - 0s 5ms/step - loss: 5.8901 - mae: 5.8901\n",
      "Epoch 37/100\n",
      "1/1 [==============================] - 0s 3ms/step - loss: 5.7418 - mae: 5.7418\n",
      "Epoch 38/100\n",
      "1/1 [==============================] - 0s 5ms/step - loss: 5.6001 - mae: 5.6001\n",
      "Epoch 39/100\n",
      "1/1 [==============================] - 0s 4ms/step - loss: 5.5294 - mae: 5.5294\n",
      "Epoch 40/100\n",
      "1/1 [==============================] - 0s 5ms/step - loss: 5.4577 - mae: 5.4577\n",
      "Epoch 41/100\n",
      "1/1 [==============================] - 0s 4ms/step - loss: 5.3847 - mae: 5.3847\n",
      "Epoch 42/100\n",
      "1/1 [==============================] - 0s 4ms/step - loss: 5.3326 - mae: 5.3326\n",
      "Epoch 43/100\n",
      "1/1 [==============================] - 0s 5ms/step - loss: 5.3144 - mae: 5.3144\n",
      "Epoch 44/100\n",
      "1/1 [==============================] - 0s 5ms/step - loss: 5.2655 - mae: 5.2655\n",
      "Epoch 45/100\n",
      "1/1 [==============================] - 0s 4ms/step - loss: 5.1886 - mae: 5.1886\n",
      "Epoch 46/100\n",
      "1/1 [==============================] - 0s 5ms/step - loss: 5.0860 - mae: 5.0860\n",
      "Epoch 47/100\n",
      "1/1 [==============================] - 0s 5ms/step - loss: 4.9820 - mae: 4.9820\n",
      "Epoch 48/100\n",
      "1/1 [==============================] - 0s 4ms/step - loss: 4.9180 - mae: 4.9180\n",
      "Epoch 49/100\n",
      "1/1 [==============================] - 0s 4ms/step - loss: 4.8509 - mae: 4.8509\n",
      "Epoch 50/100\n",
      "1/1 [==============================] - 0s 5ms/step - loss: 4.7806 - mae: 4.7806\n",
      "Epoch 51/100\n",
      "1/1 [==============================] - 0s 4ms/step - loss: 4.7071 - mae: 4.7071\n",
      "Epoch 52/100\n",
      "1/1 [==============================] - 0s 5ms/step - loss: 4.6305 - mae: 4.6305\n",
      "Epoch 53/100\n",
      "1/1 [==============================] - 0s 5ms/step - loss: 4.5508 - mae: 4.5508\n",
      "Epoch 54/100\n",
      "1/1 [==============================] - 0s 4ms/step - loss: 4.4678 - mae: 4.4678\n",
      "Epoch 55/100\n",
      "1/1 [==============================] - 0s 4ms/step - loss: 4.3817 - mae: 4.3817\n",
      "Epoch 56/100\n",
      "1/1 [==============================] - 0s 4ms/step - loss: 4.2924 - mae: 4.2924\n",
      "Epoch 57/100\n",
      "1/1 [==============================] - 0s 6ms/step - loss: 4.1998 - mae: 4.1998\n",
      "Epoch 58/100\n",
      "1/1 [==============================] - 0s 5ms/step - loss: 4.1038 - mae: 4.1038\n",
      "Epoch 59/100\n",
      "1/1 [==============================] - 0s 5ms/step - loss: 4.0045 - mae: 4.0045\n",
      "Epoch 60/100\n",
      "1/1 [==============================] - 0s 5ms/step - loss: 3.9018 - mae: 3.9018\n",
      "Epoch 61/100\n",
      "1/1 [==============================] - 0s 4ms/step - loss: 3.7956 - mae: 3.7956\n",
      "Epoch 62/100\n",
      "1/1 [==============================] - 0s 6ms/step - loss: 3.6858 - mae: 3.6858\n",
      "Epoch 63/100\n",
      "1/1 [==============================] - 0s 5ms/step - loss: 3.5724 - mae: 3.5724\n",
      "Epoch 64/100\n",
      "1/1 [==============================] - 0s 5ms/step - loss: 3.4553 - mae: 3.4553\n",
      "Epoch 65/100\n",
      "1/1 [==============================] - 0s 5ms/step - loss: 3.3767 - mae: 3.3767\n",
      "Epoch 66/100\n",
      "1/1 [==============================] - 0s 5ms/step - loss: 3.2557 - mae: 3.2557\n",
      "Epoch 67/100\n",
      "1/1 [==============================] - 0s 6ms/step - loss: 3.1023 - mae: 3.1023\n",
      "Epoch 68/100\n",
      "1/1 [==============================] - 0s 4ms/step - loss: 2.9826 - mae: 2.9826\n",
      "Epoch 69/100\n",
      "1/1 [==============================] - 0s 4ms/step - loss: 2.8578 - mae: 2.8578\n",
      "Epoch 70/100\n",
      "1/1 [==============================] - 0s 5ms/step - loss: 2.7280 - mae: 2.7280\n",
      "Epoch 71/100\n",
      "1/1 [==============================] - 0s 6ms/step - loss: 2.5932 - mae: 2.5932\n",
      "Epoch 72/100\n",
      "1/1 [==============================] - 0s 4ms/step - loss: 2.4533 - mae: 2.4533\n",
      "Epoch 73/100\n",
      "1/1 [==============================] - 0s 5ms/step - loss: 2.3084 - mae: 2.3084\n",
      "Epoch 74/100\n",
      "1/1 [==============================] - 0s 5ms/step - loss: 2.1584 - mae: 2.1584\n",
      "Epoch 75/100\n",
      "1/1 [==============================] - 0s 5ms/step - loss: 2.0033 - mae: 2.0033\n",
      "Epoch 76/100\n",
      "1/1 [==============================] - 0s 6ms/step - loss: 1.8430 - mae: 1.8430\n",
      "Epoch 77/100\n",
      "1/1 [==============================] - 0s 4ms/step - loss: 1.6776 - mae: 1.6776\n",
      "Epoch 78/100\n",
      "1/1 [==============================] - 0s 5ms/step - loss: 1.5315 - mae: 1.5315\n",
      "Epoch 79/100\n",
      "1/1 [==============================] - 0s 4ms/step - loss: 1.3393 - mae: 1.3393\n",
      "Epoch 80/100\n",
      "1/1 [==============================] - 0s 5ms/step - loss: 1.1657 - mae: 1.1657\n",
      "Epoch 81/100\n",
      "1/1 [==============================] - 0s 5ms/step - loss: 0.9860 - mae: 0.9860\n",
      "Epoch 82/100\n",
      "1/1 [==============================] - 0s 4ms/step - loss: 0.8003 - mae: 0.8003\n",
      "Epoch 83/100\n",
      "1/1 [==============================] - 0s 7ms/step - loss: 0.6086 - mae: 0.6086\n",
      "Epoch 84/100\n",
      "1/1 [==============================] - 0s 5ms/step - loss: 0.4107 - mae: 0.4107\n",
      "Epoch 85/100\n",
      "1/1 [==============================] - 0s 5ms/step - loss: 0.2117 - mae: 0.2117\n",
      "Epoch 86/100\n",
      "1/1 [==============================] - 0s 5ms/step - loss: 0.1159 - mae: 0.1159\n",
      "Epoch 87/100\n",
      "1/1 [==============================] - 0s 6ms/step - loss: 0.2831 - mae: 0.2831\n",
      "Epoch 88/100\n",
      "1/1 [==============================] - 0s 4ms/step - loss: 0.4324 - mae: 0.4324\n",
      "Epoch 89/100\n",
      "1/1 [==============================] - 0s 5ms/step - loss: 0.4127 - mae: 0.4127\n",
      "Epoch 90/100\n",
      "1/1 [==============================] - 0s 5ms/step - loss: 0.5350 - mae: 0.5350\n",
      "Epoch 91/100\n",
      "1/1 [==============================] - 0s 5ms/step - loss: 0.5301 - mae: 0.5301\n",
      "Epoch 92/100\n",
      "1/1 [==============================] - 0s 7ms/step - loss: 0.5654 - mae: 0.5654\n",
      "Epoch 93/100\n",
      "1/1 [==============================] - 0s 5ms/step - loss: 0.5336 - mae: 0.5336\n",
      "Epoch 94/100\n",
      "1/1 [==============================] - 0s 6ms/step - loss: 0.4996 - mae: 0.4996\n",
      "Epoch 95/100\n",
      "1/1 [==============================] - 0s 6ms/step - loss: 0.4972 - mae: 0.4972\n",
      "Epoch 96/100\n",
      "1/1 [==============================] - 0s 7ms/step - loss: 0.3415 - mae: 0.3415\n",
      "Epoch 97/100\n",
      "1/1 [==============================] - 0s 5ms/step - loss: 0.3696 - mae: 0.3696\n",
      "Epoch 98/100\n",
      "1/1 [==============================] - 0s 5ms/step - loss: 0.3019 - mae: 0.3019\n",
      "Epoch 99/100\n",
      "1/1 [==============================] - 0s 4ms/step - loss: 0.1100 - mae: 0.1100\n",
      "Epoch 100/100\n",
      "1/1 [==============================] - 0s 6ms/step - loss: 0.2800 - mae: 0.2800\n"
     ]
    },
    {
     "data": {
      "text/plain": "<keras.callbacks.History at 0x1b86beac490>"
     },
     "execution_count": 14,
     "metadata": {},
     "output_type": "execute_result"
    }
   ],
   "source": [
    "# Let's rebuild our model\n",
    "# 1. Create the model\n",
    "model = tf.keras.Sequential()\n",
    "model.add(tf.keras.layers.Dense(20))\n",
    "model.add(tf.keras.layers.Dense(1))\n",
    "\n",
    "# 2. Compile the model\n",
    "model.compile(loss=tf.keras.losses.mae,\n",
    "              optimizer=tf.keras.optimizers.Adam(learning_rate=0.01),\n",
    "              metrics=[\"mae\"])\n",
    "# 3. Fit the model\n",
    "model.fit(tf.expand_dims(X, axis=-1), y, epochs=100)"
   ],
   "metadata": {
    "collapsed": false
   }
  },
  {
   "cell_type": "code",
   "execution_count": 15,
   "outputs": [
    {
     "name": "stdout",
     "output_type": "stream",
     "text": [
      "1/1 [==============================] - 0s 60ms/step\n"
     ]
    },
    {
     "data": {
      "text/plain": "array([[26.177692]], dtype=float32)"
     },
     "execution_count": 15,
     "metadata": {},
     "output_type": "execute_result"
    }
   ],
   "source": [
    "model.predict([17.0])"
   ],
   "metadata": {
    "collapsed": false
   }
  },
  {
   "cell_type": "markdown",
   "source": [
    "## Evaluate our model\n",
    "\n",
    "In practice, a typical workflow you'll go through when building neural networks is:\n",
    "```\n",
    "Build a model -> fit it -> evaluate it -> tweak a model -> fit it -> evaluate it -> tweak a model -> fit it -> evaluate it -> ...\n",
    "```"
   ],
   "metadata": {
    "collapsed": false
   }
  },
  {
   "cell_type": "markdown",
   "source": [
    "When it comes to evaluation... there are 3 words you should memorize:\n",
    "> \"Visualize, visualize, visualize.\"\n",
    "\n",
    "It's a good idea to visualize:\n",
    "* The data - what data are we working with? What does it look like?\n",
    "* The model itself - what does our model look like?\n",
    "* The training of a model - how does a model perform while it learns?\n",
    "* The predictions of the model - how do the predictions of a model line up against the ground truth (the original labels)."
   ],
   "metadata": {
    "collapsed": false
   }
  },
  {
   "cell_type": "code",
   "execution_count": 16,
   "outputs": [
    {
     "data": {
      "text/plain": "<tf.Tensor: shape=(50,), dtype=int32, numpy=\narray([-100,  -96,  -92,  -88,  -84,  -80,  -76,  -72,  -68,  -64,  -60,\n        -56,  -52,  -48,  -44,  -40,  -36,  -32,  -28,  -24,  -20,  -16,\n        -12,   -8,   -4,    0,    4,    8,   12,   16,   20,   24,   28,\n         32,   36,   40,   44,   48,   52,   56,   60,   64,   68,   72,\n         76,   80,   84,   88,   92,   96])>"
     },
     "execution_count": 16,
     "metadata": {},
     "output_type": "execute_result"
    }
   ],
   "source": [
    "# Make a bigger dataset\n",
    "X = tf.range(-100, 100, 4)\n",
    "X"
   ],
   "metadata": {
    "collapsed": false
   }
  },
  {
   "cell_type": "code",
   "execution_count": 17,
   "outputs": [
    {
     "data": {
      "text/plain": "<tf.Tensor: shape=(50,), dtype=int32, numpy=\narray([-90, -86, -82, -78, -74, -70, -66, -62, -58, -54, -50, -46, -42,\n       -38, -34, -30, -26, -22, -18, -14, -10,  -6,  -2,   2,   6,  10,\n        14,  18,  22,  26,  30,  34,  38,  42,  46,  50,  54,  58,  62,\n        66,  70,  74,  78,  82,  86,  90,  94,  98, 102, 106])>"
     },
     "execution_count": 17,
     "metadata": {},
     "output_type": "execute_result"
    }
   ],
   "source": [
    "y = X + 10\n",
    "y"
   ],
   "metadata": {
    "collapsed": false
   }
  },
  {
   "cell_type": "code",
   "execution_count": 18,
   "outputs": [
    {
     "data": {
      "text/plain": "<Figure size 640x480 with 1 Axes>",
      "image/png": "[encoded data removed]"
     },
     "metadata": {},
     "output_type": "display_data"
    }
   ],
   "source": [
    "# Visualize the data\n",
    "plt.scatter(X, y);"
   ],
   "metadata": {
    "collapsed": false
   }
  },
  {
   "cell_type": "markdown",
   "source": [
    "# The 3 sets...\n",
    "* **Training set** - the model learns from this data, which is typically 70-80% of the **total data** you have available.\n",
    "* **Validation set** - the model gets tuned on this data, which is typically 10-15% of the **total data** you have available.\n",
    "* **Test set** - the model gets evaluated on this data to test what it has learned, this set is typically 10-15% of the **total data** you have available."
   ],
   "metadata": {
    "collapsed": false
   }
  },
  {
   "cell_type": "code",
   "execution_count": 19,
   "outputs": [
    {
     "data": {
      "text/plain": "(50, 50)"
     },
     "execution_count": 19,
     "metadata": {},
     "output_type": "execute_result"
    }
   ],
   "source": [
    "# Check the length of each\n",
    "len(X), len(y)"
   ],
   "metadata": {
    "collapsed": false
   }
  },
  {
   "cell_type": "code",
   "execution_count": 20,
   "outputs": [
    {
     "data": {
      "text/plain": "(<tf.Tensor: shape=(40,), dtype=int32, numpy=\n array([-100,  -96,  -92,  -88,  -84,  -80,  -76,  -72,  -68,  -64,  -60,\n         -56,  -52,  -48,  -44,  -40,  -36,  -32,  -28,  -24,  -20,  -16,\n         -12,   -8,   -4,    0,    4,    8,   12,   16,   20,   24,   28,\n          32,   36,   40,   44,   48,   52,   56])>,\n <tf.Tensor: shape=(40,), dtype=int32, numpy=\n array([-90, -86, -82, -78, -74, -70, -66, -62, -58, -54, -50, -46, -42,\n        -38, -34, -30, -26, -22, -18, -14, -10,  -6,  -2,   2,   6,  10,\n         14,  18,  22,  26,  30,  34,  38,  42,  46,  50,  54,  58,  62,\n         66])>,\n <tf.Tensor: shape=(10,), dtype=int32, numpy=array([60, 64, 68, 72, 76, 80, 84, 88, 92, 96])>,\n <tf.Tensor: shape=(10,), dtype=int32, numpy=array([ 70,  74,  78,  82,  86,  90,  94,  98, 102, 106])>)"
     },
     "execution_count": 20,
     "metadata": {},
     "output_type": "execute_result"
    }
   ],
   "source": [
    "# Split the data into training and test sets\n",
    "X_train = X[:40] # first 40 examples (80% of the data)\n",
    "y_train = y[:40]\n",
    "X_test = X[40:] # last 10 examples (20% of the data)\n",
    "y_test = y[40:]\n",
    "\n",
    "X_train, y_train, X_test, y_test"
   ],
   "metadata": {
    "collapsed": false
   }
  },
  {
   "cell_type": "code",
   "execution_count": 21,
   "outputs": [
    {
     "data": {
      "text/plain": "(40, 10, 40, 10)"
     },
     "execution_count": 21,
     "metadata": {},
     "output_type": "execute_result"
    }
   ],
   "source": [
    "len(X_train), len(X_test), len(y_train), len(y_test)"
   ],
   "metadata": {
    "collapsed": false
   }
  },
  {
   "cell_type": "markdown",
   "source": [
    "# Visualizing the data\n",
    "Now we've got our data in training and test sets, let's visualize it again."
   ],
   "metadata": {
    "collapsed": false
   }
  },
  {
   "cell_type": "code",
   "execution_count": 22,
   "outputs": [
    {
     "data": {
      "text/plain": "<Figure size 1000x700 with 1 Axes>",
      "image/png": "[encoded data removed]"
     },
     "metadata": {},
     "output_type": "display_data"
    }
   ],
   "source": [
    "plt.figure(figsize=(10, 7))\n",
    "# Plot training data in blue\n",
    "plt.scatter(X_train, y_train, c=\"b\", label=\"Training data\")\n",
    "# Plot test data in green\n",
    "plt.scatter(X_test, y_test, c=\"g\", label=\"Testing data\")\n",
    "# Show a legend\n",
    "plt.legend();"
   ],
   "metadata": {
    "collapsed": false
   }
  },
  {
   "cell_type": "code",
   "execution_count": 23,
   "outputs": [],
   "source": [
    "# Let build a model which build automatically by defining the input_shape argument in the first layer\n",
    "tf.random.set_seed(42)\n",
    "# Create the model (same as above)\n",
    "model = tf.keras.Sequential([\n",
    "  tf.keras.layers.Dense(10, input_shape=[1], name=\"input_layer\"),\n",
    "    tf.keras.layers.Dense(1, name=\"output_layer\")\n",
    "], name=\"model_1\")\n",
    "model.compile(loss=tf.keras.losses.mae,\n",
    "              optimizer=tf.keras.optimizers.Adam(learning_rate=0.01),\n",
    "              metrics=[tf.keras.losses.mae])"
   ],
   "metadata": {
    "collapsed": false
   }
  },
  {
   "cell_type": "code",
   "execution_count": 24,
   "outputs": [
    {
     "name": "stdout",
     "output_type": "stream",
     "text": [
      "Model: \"model_1\"\n",
      "_________________________________________________________________\n",
      " Layer (type)                Output Shape              Param #   \n",
      "=================================================================\n",
      " input_layer (Dense)         (None, 10)                20        \n",
      "                                                                 \n",
      " output_layer (Dense)        (None, 1)                 11        \n",
      "                                                                 \n",
      "=================================================================\n",
      "Total params: 31\n",
      "Trainable params: 31\n",
      "Non-trainable params: 0\n",
      "_________________________________________________________________\n"
     ]
    }
   ],
   "source": [
    "# Visualize the model\n",
    "model.summary()"
   ],
   "metadata": {
    "collapsed": false
   }
  },
  {
   "cell_type": "markdown",
   "source": [
    "* Total params - total number of parameters in the model.\n",
    "* Trainable params - these are the parameters (patterns) the model can update as it trains.\n",
    "* Non-trainable params - these parameters aren't updated during training (this is typical when you bring in already learn patterns or parameters from other models during **transfer learning**).\n",
    "📖 **Resouce** For a more in-depth overview of the trainable parameters within a layer, check out MIT's 6.S191: Introduction to Deep Learning [video](https://youtu.be/aircAruvnKk) (around 18:00 - 26:00).\n",
    "⚒ **Exercise:** Try playing around with the number of hidden units in the Dense layer, see how that affects the number of trainable parameters (total and trainable) by calling `model.summary()`."
   ],
   "metadata": {
    "collapsed": false
   }
  },
  {
   "cell_type": "code",
   "execution_count": 25,
   "outputs": [
    {
     "name": "stdout",
     "output_type": "stream",
     "text": [
      "Model: \"model_1\"\n",
      "_________________________________________________________________\n",
      " Layer (type)                Output Shape              Param #   \n",
      "=================================================================\n",
      " input_layer (Dense)         (None, 10)                20        \n",
      "                                                                 \n",
      " output_layer (Dense)        (None, 1)                 11        \n",
      "                                                                 \n",
      "=================================================================\n",
      "Total params: 31\n",
      "Trainable params: 31\n",
      "Non-trainable params: 0\n",
      "_________________________________________________________________\n"
     ]
    }
   ],
   "source": [
    "# Get a summary of our model\n",
    "model.summary()"
   ],
   "metadata": {
    "collapsed": false
   }
  },
  {
   "cell_type": "code",
   "execution_count": 26,
   "outputs": [
    {
     "data": {
      "image/png": "[encoded data removed]",
      "text/plain": "<IPython.core.display.Image object>"
     },
     "execution_count": 26,
     "metadata": {},
     "output_type": "execute_result"
    }
   ],
   "source": [
    "from tensorflow.keras.utils import plot_model\n",
    "plot_model(model, show_shapes=True, to_file=\"model.png\")"
   ],
   "metadata": {
    "collapsed": false
   }
  },
  {
   "cell_type": "code",
   "execution_count": 27,
   "outputs": [
    {
     "name": "stdout",
     "output_type": "stream",
     "text": [
      "Epoch 1/100\n",
      "2/2 [==============================] - 0s 5ms/step - loss: 32.1153 - mean_absolute_error: 32.1153\n",
      "Epoch 2/100\n",
      "2/2 [==============================] - 0s 4ms/step - loss: 25.7577 - mean_absolute_error: 25.7577\n",
      "Epoch 3/100\n",
      "2/2 [==============================] - 0s 6ms/step - loss: 19.6905 - mean_absolute_error: 19.6905\n",
      "Epoch 4/100\n",
      "2/2 [==============================] - 0s 7ms/step - loss: 13.7400 - mean_absolute_error: 13.7400\n",
      "Epoch 5/100\n",
      "2/2 [==============================] - 0s 9ms/step - loss: 8.8964 - mean_absolute_error: 8.8964\n",
      "Epoch 6/100\n",
      "2/2 [==============================] - 0s 8ms/step - loss: 9.1377 - mean_absolute_error: 9.1377\n",
      "Epoch 7/100\n",
      "2/2 [==============================] - 0s 4ms/step - loss: 10.9949 - mean_absolute_error: 10.9949\n",
      "Epoch 8/100\n",
      "2/2 [==============================] - 0s 4ms/step - loss: 11.8424 - mean_absolute_error: 11.8424\n",
      "Epoch 9/100\n",
      "2/2 [==============================] - 0s 5ms/step - loss: 11.6876 - mean_absolute_error: 11.6876\n",
      "Epoch 10/100\n",
      "2/2 [==============================] - 0s 5ms/step - loss: 10.9677 - mean_absolute_error: 10.9677\n",
      "Epoch 11/100\n",
      "2/2 [==============================] - 0s 6ms/step - loss: 9.7868 - mean_absolute_error: 9.7868\n",
      "Epoch 12/100\n",
      "2/2 [==============================] - 0s 8ms/step - loss: 8.5718 - mean_absolute_error: 8.5718\n",
      "Epoch 13/100\n",
      "2/2 [==============================] - 0s 4ms/step - loss: 7.4284 - mean_absolute_error: 7.4284\n",
      "Epoch 14/100\n",
      "2/2 [==============================] - 0s 4ms/step - loss: 7.8863 - mean_absolute_error: 7.8863\n",
      "Epoch 15/100\n",
      "2/2 [==============================] - 0s 3ms/step - loss: 8.0591 - mean_absolute_error: 8.0591\n",
      "Epoch 16/100\n",
      "2/2 [==============================] - 0s 6ms/step - loss: 7.6447 - mean_absolute_error: 7.6447\n",
      "Epoch 17/100\n",
      "2/2 [==============================] - 0s 6ms/step - loss: 7.0303 - mean_absolute_error: 7.0303\n",
      "Epoch 18/100\n",
      "2/2 [==============================] - 0s 5ms/step - loss: 7.0986 - mean_absolute_error: 7.0986\n",
      "Epoch 19/100\n",
      "2/2 [==============================] - 0s 5ms/step - loss: 7.2078 - mean_absolute_error: 7.2078\n",
      "Epoch 20/100\n",
      "2/2 [==============================] - 0s 5ms/step - loss: 6.8344 - mean_absolute_error: 6.8344\n",
      "Epoch 21/100\n",
      "2/2 [==============================] - 0s 5ms/step - loss: 6.8370 - mean_absolute_error: 6.8370\n",
      "Epoch 22/100\n",
      "2/2 [==============================] - 0s 5ms/step - loss: 6.9252 - mean_absolute_error: 6.9252\n",
      "Epoch 23/100\n",
      "2/2 [==============================] - 0s 6ms/step - loss: 6.7727 - mean_absolute_error: 6.7727\n",
      "Epoch 24/100\n",
      "2/2 [==============================] - 0s 7ms/step - loss: 6.5183 - mean_absolute_error: 6.5183\n",
      "Epoch 25/100\n",
      "2/2 [==============================] - 0s 5ms/step - loss: 6.5163 - mean_absolute_error: 6.5163\n",
      "Epoch 26/100\n",
      "2/2 [==============================] - 0s 3ms/step - loss: 6.4369 - mean_absolute_error: 6.4369\n",
      "Epoch 27/100\n",
      "2/2 [==============================] - 0s 5ms/step - loss: 6.3274 - mean_absolute_error: 6.3274\n",
      "Epoch 28/100\n",
      "2/2 [==============================] - 0s 6ms/step - loss: 6.2947 - mean_absolute_error: 6.2947\n",
      "Epoch 29/100\n",
      "2/2 [==============================] - 0s 4ms/step - loss: 6.2292 - mean_absolute_error: 6.2292\n",
      "Epoch 30/100\n",
      "2/2 [==============================] - 0s 5ms/step - loss: 6.1169 - mean_absolute_error: 6.1169\n",
      "Epoch 31/100\n",
      "2/2 [==============================] - 0s 5ms/step - loss: 6.0793 - mean_absolute_error: 6.0793\n",
      "Epoch 32/100\n",
      "2/2 [==============================] - 0s 6ms/step - loss: 5.9890 - mean_absolute_error: 5.9890\n",
      "Epoch 33/100\n",
      "2/2 [==============================] - 0s 5ms/step - loss: 5.9576 - mean_absolute_error: 5.9576\n",
      "Epoch 34/100\n",
      "2/2 [==============================] - 0s 6ms/step - loss: 5.9552 - mean_absolute_error: 5.9552\n",
      "Epoch 35/100\n",
      "2/2 [==============================] - 0s 5ms/step - loss: 5.8634 - mean_absolute_error: 5.8634\n",
      "Epoch 36/100\n",
      "2/2 [==============================] - 0s 4ms/step - loss: 5.7370 - mean_absolute_error: 5.7370\n",
      "Epoch 37/100\n",
      "2/2 [==============================] - 0s 6ms/step - loss: 5.6703 - mean_absolute_error: 5.6703\n",
      "Epoch 38/100\n",
      "2/2 [==============================] - 0s 7ms/step - loss: 5.5714 - mean_absolute_error: 5.5714\n",
      "Epoch 39/100\n",
      "2/2 [==============================] - 0s 6ms/step - loss: 5.4962 - mean_absolute_error: 5.4962\n",
      "Epoch 40/100\n",
      "2/2 [==============================] - 0s 4ms/step - loss: 5.4310 - mean_absolute_error: 5.4310\n",
      "Epoch 41/100\n",
      "2/2 [==============================] - 0s 4ms/step - loss: 5.3414 - mean_absolute_error: 5.3414\n",
      "Epoch 42/100\n",
      "2/2 [==============================] - 0s 4ms/step - loss: 5.3056 - mean_absolute_error: 5.3056\n",
      "Epoch 43/100\n",
      "2/2 [==============================] - 0s 4ms/step - loss: 5.2027 - mean_absolute_error: 5.2027\n",
      "Epoch 44/100\n",
      "2/2 [==============================] - 0s 4ms/step - loss: 5.1565 - mean_absolute_error: 5.1565\n",
      "Epoch 45/100\n",
      "2/2 [==============================] - 0s 5ms/step - loss: 5.1531 - mean_absolute_error: 5.1531\n",
      "Epoch 46/100\n",
      "2/2 [==============================] - 0s 5ms/step - loss: 5.0951 - mean_absolute_error: 5.0951\n",
      "Epoch 47/100\n",
      "2/2 [==============================] - 0s 6ms/step - loss: 4.8955 - mean_absolute_error: 4.8955\n",
      "Epoch 48/100\n",
      "2/2 [==============================] - 0s 4ms/step - loss: 4.7924 - mean_absolute_error: 4.7924\n",
      "Epoch 49/100\n",
      "2/2 [==============================] - 0s 4ms/step - loss: 4.7173 - mean_absolute_error: 4.7173\n",
      "Epoch 50/100\n",
      "2/2 [==============================] - 0s 6ms/step - loss: 4.6436 - mean_absolute_error: 4.6436\n",
      "Epoch 51/100\n",
      "2/2 [==============================] - 0s 5ms/step - loss: 4.5705 - mean_absolute_error: 4.5705\n",
      "Epoch 52/100\n",
      "2/2 [==============================] - 0s 5ms/step - loss: 4.5732 - mean_absolute_error: 4.5732\n",
      "Epoch 53/100\n",
      "2/2 [==============================] - 0s 6ms/step - loss: 4.3952 - mean_absolute_error: 4.3952\n",
      "Epoch 54/100\n",
      "2/2 [==============================] - 0s 4ms/step - loss: 4.5398 - mean_absolute_error: 4.5398\n",
      "Epoch 55/100\n",
      "2/2 [==============================] - 0s 4ms/step - loss: 4.6234 - mean_absolute_error: 4.6234\n",
      "Epoch 56/100\n",
      "2/2 [==============================] - 0s 6ms/step - loss: 4.0536 - mean_absolute_error: 4.0536\n",
      "Epoch 57/100\n",
      "2/2 [==============================] - 0s 5ms/step - loss: 4.2863 - mean_absolute_error: 4.2863\n",
      "Epoch 58/100\n",
      "2/2 [==============================] - 0s 4ms/step - loss: 4.0762 - mean_absolute_error: 4.0762\n",
      "Epoch 59/100\n",
      "2/2 [==============================] - 0s 6ms/step - loss: 3.8430 - mean_absolute_error: 3.8430\n",
      "Epoch 60/100\n",
      "2/2 [==============================] - 0s 4ms/step - loss: 3.9805 - mean_absolute_error: 3.9805\n",
      "Epoch 61/100\n",
      "2/2 [==============================] - 0s 3ms/step - loss: 3.7772 - mean_absolute_error: 3.7772\n",
      "Epoch 62/100\n",
      "2/2 [==============================] - 0s 5ms/step - loss: 3.5351 - mean_absolute_error: 3.5351\n",
      "Epoch 63/100\n",
      "2/2 [==============================] - 0s 4ms/step - loss: 3.4729 - mean_absolute_error: 3.4729\n",
      "Epoch 64/100\n",
      "2/2 [==============================] - 0s 5ms/step - loss: 3.4318 - mean_absolute_error: 3.4318\n",
      "Epoch 65/100\n",
      "2/2 [==============================] - 0s 4ms/step - loss: 3.3927 - mean_absolute_error: 3.3927\n",
      "Epoch 66/100\n",
      "2/2 [==============================] - 0s 4ms/step - loss: 3.1529 - mean_absolute_error: 3.1529\n",
      "Epoch 67/100\n",
      "2/2 [==============================] - 0s 5ms/step - loss: 3.1449 - mean_absolute_error: 3.1449\n",
      "Epoch 68/100\n",
      "2/2 [==============================] - 0s 5ms/step - loss: 3.0710 - mean_absolute_error: 3.0710\n",
      "Epoch 69/100\n",
      "2/2 [==============================] - 0s 4ms/step - loss: 3.1082 - mean_absolute_error: 3.1082\n",
      "Epoch 70/100\n",
      "2/2 [==============================] - 0s 5ms/step - loss: 2.6608 - mean_absolute_error: 2.6608\n",
      "Epoch 71/100\n",
      "2/2 [==============================] - 0s 3ms/step - loss: 2.7313 - mean_absolute_error: 2.7313\n",
      "Epoch 72/100\n",
      "2/2 [==============================] - 0s 4ms/step - loss: 2.4379 - mean_absolute_error: 2.4379\n",
      "Epoch 73/100\n",
      "2/2 [==============================] - 0s 4ms/step - loss: 2.3421 - mean_absolute_error: 2.3421\n",
      "Epoch 74/100\n",
      "2/2 [==============================] - 0s 4ms/step - loss: 2.2592 - mean_absolute_error: 2.2592\n",
      "Epoch 75/100\n",
      "2/2 [==============================] - 0s 4ms/step - loss: 2.0524 - mean_absolute_error: 2.0524\n",
      "Epoch 76/100\n",
      "2/2 [==============================] - 0s 5ms/step - loss: 2.0874 - mean_absolute_error: 2.0874\n",
      "Epoch 77/100\n",
      "2/2 [==============================] - 0s 4ms/step - loss: 1.9342 - mean_absolute_error: 1.9342\n",
      "Epoch 78/100\n",
      "2/2 [==============================] - 0s 3ms/step - loss: 1.8979 - mean_absolute_error: 1.8979\n",
      "Epoch 79/100\n",
      "2/2 [==============================] - 0s 4ms/step - loss: 2.0043 - mean_absolute_error: 2.0043\n",
      "Epoch 80/100\n",
      "2/2 [==============================] - 0s 6ms/step - loss: 1.6757 - mean_absolute_error: 1.6757\n",
      "Epoch 81/100\n",
      "2/2 [==============================] - 0s 4ms/step - loss: 1.7120 - mean_absolute_error: 1.7120\n",
      "Epoch 82/100\n",
      "2/2 [==============================] - 0s 5ms/step - loss: 1.7336 - mean_absolute_error: 1.7336\n",
      "Epoch 83/100\n",
      "2/2 [==============================] - 0s 6ms/step - loss: 1.1213 - mean_absolute_error: 1.1213\n",
      "Epoch 84/100\n",
      "2/2 [==============================] - 0s 4ms/step - loss: 1.6042 - mean_absolute_error: 1.6042\n",
      "Epoch 85/100\n",
      "2/2 [==============================] - 0s 4ms/step - loss: 0.8181 - mean_absolute_error: 0.8181\n",
      "Epoch 86/100\n",
      "2/2 [==============================] - 0s 5ms/step - loss: 1.6174 - mean_absolute_error: 1.6174\n",
      "Epoch 87/100\n",
      "2/2 [==============================] - 0s 4ms/step - loss: 0.7340 - mean_absolute_error: 0.7340\n",
      "Epoch 88/100\n",
      "2/2 [==============================] - 0s 4ms/step - loss: 0.8899 - mean_absolute_error: 0.8899\n",
      "Epoch 89/100\n",
      "2/2 [==============================] - 0s 3ms/step - loss: 1.1398 - mean_absolute_error: 1.1398\n",
      "Epoch 90/100\n",
      "2/2 [==============================] - 0s 5ms/step - loss: 0.7919 - mean_absolute_error: 0.7919\n",
      "Epoch 91/100\n",
      "2/2 [==============================] - 0s 4ms/step - loss: 0.7135 - mean_absolute_error: 0.7135\n",
      "Epoch 92/100\n",
      "2/2 [==============================] - 0s 4ms/step - loss: 0.8637 - mean_absolute_error: 0.8637\n",
      "Epoch 93/100\n",
      "2/2 [==============================] - 0s 4ms/step - loss: 0.7008 - mean_absolute_error: 0.7008\n",
      "Epoch 94/100\n",
      "2/2 [==============================] - 0s 5ms/step - loss: 0.6707 - mean_absolute_error: 0.6707\n",
      "Epoch 95/100\n",
      "2/2 [==============================] - 0s 4ms/step - loss: 0.5025 - mean_absolute_error: 0.5025\n",
      "Epoch 96/100\n",
      "2/2 [==============================] - 0s 4ms/step - loss: 0.3275 - mean_absolute_error: 0.3275\n",
      "Epoch 97/100\n",
      "2/2 [==============================] - 0s 5ms/step - loss: 0.1603 - mean_absolute_error: 0.1603\n",
      "Epoch 98/100\n",
      "2/2 [==============================] - 0s 7ms/step - loss: 0.1236 - mean_absolute_error: 0.1236\n",
      "Epoch 99/100\n",
      "2/2 [==============================] - 0s 4ms/step - loss: 0.2539 - mean_absolute_error: 0.2539\n",
      "Epoch 100/100\n",
      "2/2 [==============================] - 0s 4ms/step - loss: 0.2069 - mean_absolute_error: 0.2069\n"
     ]
    },
    {
     "data": {
      "text/plain": "<keras.callbacks.History at 0x1b86c437dc0>"
     },
     "execution_count": 27,
     "metadata": {},
     "output_type": "execute_result"
    }
   ],
   "source": [
    "# Let's fit our model to the training data\n",
    "model.fit(X_train, y_train, epochs=100, verbose=1)"
   ],
   "metadata": {
    "collapsed": false
   }
  },
  {
   "cell_type": "markdown",
   "source": [
    "## Visualizing our model's predictions\n",
    "To visualize predictions, it's a good idea to plot them against the ground truth labels.\n",
    "Often you'll see this in the form of `y_test` or `y_true` vs. `y_pred` (ground truth vs. your model's predictions)."
   ],
   "metadata": {
    "collapsed": false
   }
  },
  {
   "cell_type": "code",
   "execution_count": 28,
   "outputs": [
    {
     "name": "stdout",
     "output_type": "stream",
     "text": [
      "1/1 [==============================] - 0s 43ms/step\n"
     ]
    },
    {
     "data": {
      "text/plain": "(<tf.Tensor: shape=(10,), dtype=int32, numpy=array([ 70,  74,  78,  82,  86,  90,  94,  98, 102, 106])>,\n array([[ 69.86669 ],\n        [ 73.86521 ],\n        [ 77.86373 ],\n        [ 81.86227 ],\n        [ 85.86077 ],\n        [ 89.8593  ],\n        [ 93.85782 ],\n        [ 97.85634 ],\n        [101.854866],\n        [105.85337 ]], dtype=float32))"
     },
     "execution_count": 28,
     "metadata": {},
     "output_type": "execute_result"
    }
   ],
   "source": [
    "# Make some predictions\n",
    "y_pred = model.predict(X_test)\n",
    "y_test, y_pred"
   ],
   "metadata": {
    "collapsed": false
   }
  },
  {
   "cell_type": "markdown",
   "source": [
    "🔑 **Note:** If you fell like you're going to reuse some kind of functionality in the future, it's a good idea to turn it into a function."
   ],
   "metadata": {
    "collapsed": false
   }
  },
  {
   "cell_type": "code",
   "execution_count": 29,
   "outputs": [],
   "source": [
    "# Let's create a plotting function\n",
    "def plot_predictions(train_data,\n",
    "                     train_labels,\n",
    "                     test_data,\n",
    "                     test_labels,\n",
    "                     predictions):\n",
    "  \"\"\"\n",
    "  Plots training data, test data and compares predictions to ground truth labels.\n",
    "  \"\"\"\n",
    "  plt.figure(figsize=(10, 7))\n",
    "  # Plot training data in blue\n",
    "  plt.scatter(train_data, train_labels, c=\"b\", label=\"Training data\")\n",
    "  # Plot test data in green\n",
    "  plt.scatter(test_data, test_labels, c=\"g\", label=\"Testing data\")\n",
    "  # Plot the model's predictions in red\n",
    "  plt.scatter(test_data, predictions, c=\"r\", label=\"Predictions\")\n",
    "  # Show the legend\n",
    "  plt.legend()"
   ],
   "metadata": {
    "collapsed": false
   }
  },
  {
   "cell_type": "code",
   "execution_count": 30,
   "outputs": [
    {
     "data": {
      "text/plain": "<Figure size 1000x700 with 1 Axes>",
      "image/png": "[encoded data removed]"
     },
     "metadata": {},
     "output_type": "display_data"
    }
   ],
   "source": [
    "plot_predictions(train_data=X_train,\n",
    "                 train_labels=y_train,\n",
    "                 test_data=X_test,\n",
    "                 test_labels=y_test,\n",
    "                 predictions=y_pred)"
   ],
   "metadata": {
    "collapsed": false
   }
  },
  {
   "cell_type": "markdown",
   "source": [
    "## Evaluating our model's predictions with regression evaluation metrics\n",
    "Depending on the problem you're working on, there will be different evaluation metrics to evaluate your model's performance.\n",
    "\n",
    "Since we're working on a regression problem, two of the main metrics:\n",
    "* **MAE** - mean absolute error, a measure of how wrong each of your model's predictions are on average.\n",
    "* **MSE** - mean squared error, a measure of how wrong each of your model's predictions are squared on average (more popular than MAE)."
   ],
   "metadata": {
    "collapsed": false
   }
  },
  {
   "cell_type": "code",
   "execution_count": 31,
   "outputs": [
    {
     "name": "stdout",
     "output_type": "stream",
     "text": [
      "1/1 [==============================] - 0s 125ms/step - loss: 0.1400 - mean_absolute_error: 0.1400\n"
     ]
    },
    {
     "data": {
      "text/plain": "[0.1399635374546051, 0.1399635374546051]"
     },
     "execution_count": 31,
     "metadata": {},
     "output_type": "execute_result"
    }
   ],
   "source": [
    "# Evaluate the model on the test set\n",
    "model.evaluate(X_test, y_test)"
   ],
   "metadata": {
    "collapsed": false
   }
  },
  {
   "cell_type": "code",
   "execution_count": 32,
   "outputs": [
    {
     "data": {
      "text/plain": "(array([[ 69.86669 ],\n        [ 73.86521 ],\n        [ 77.86373 ],\n        [ 81.86227 ],\n        [ 85.86077 ],\n        [ 89.8593  ],\n        [ 93.85782 ],\n        [ 97.85634 ],\n        [101.854866],\n        [105.85337 ]], dtype=float32),\n <tf.Tensor: shape=(10,), dtype=int32, numpy=array([ 70,  74,  78,  82,  86,  90,  94,  98, 102, 106])>)"
     },
     "execution_count": 32,
     "metadata": {},
     "output_type": "execute_result"
    }
   ],
   "source": [
    "y_pred, y_test"
   ],
   "metadata": {
    "collapsed": false
   }
  },
  {
   "cell_type": "code",
   "execution_count": 33,
   "outputs": [
    {
     "data": {
      "text/plain": "(<tf.Tensor: shape=(10,), dtype=float32, numpy=\n array([ 69.86669 ,  73.86521 ,  77.86373 ,  81.86227 ,  85.86077 ,\n         89.8593  ,  93.85782 ,  97.85634 , 101.854866, 105.85337 ],\n       dtype=float32)>,\n <tf.Tensor: shape=(10,), dtype=float32, numpy=\n array([ 70.,  74.,  78.,  82.,  86.,  90.,  94.,  98., 102., 106.],\n       dtype=float32)>)"
     },
     "execution_count": 33,
     "metadata": {},
     "output_type": "execute_result"
    }
   ],
   "source": [
    "# reshape y_pred to the same shape and same type as y_test\n",
    "tf.reshape(y_pred, shape=(10,)) , tf.cast(y_test, dtype=tf.float32)"
   ],
   "metadata": {
    "collapsed": false
   }
  },
  {
   "cell_type": "markdown",
   "source": [],
   "metadata": {
    "collapsed": false
   }
  },
  {
   "cell_type": "code",
   "execution_count": 34,
   "outputs": [
    {
     "data": {
      "text/plain": "(<tf.Tensor: shape=(10,), dtype=float32, numpy=\n array([ 69.86669 ,  73.86521 ,  77.86373 ,  81.86227 ,  85.86077 ,\n         89.8593  ,  93.85782 ,  97.85634 , 101.854866, 105.85337 ],\n       dtype=float32)>,\n <tf.Tensor: shape=(10,), dtype=float32, numpy=\n array([ 70.,  74.,  78.,  82.,  86.,  90.,  94.,  98., 102., 106.],\n       dtype=float32)>)"
     },
     "execution_count": 34,
     "metadata": {},
     "output_type": "execute_result"
    }
   ],
   "source": [
    "# Squeeze is used to remove the extra dimension into a 1D array\n",
    "tf.squeeze(y_pred), tf.cast(y_test, dtype=tf.float32)"
   ],
   "metadata": {
    "collapsed": false
   }
  },
  {
   "cell_type": "code",
   "execution_count": 35,
   "outputs": [
    {
     "data": {
      "text/plain": "<tf.Tensor: shape=(), dtype=float32, numpy=0.13996354>"
     },
     "execution_count": 35,
     "metadata": {},
     "output_type": "execute_result"
    }
   ],
   "source": [
    "#　Calculate the mean absolute error\n",
    "mae = tf.metrics.mean_absolute_error(y_true=tf.cast(y_test, dtype=tf.float32),\n",
    "                                     y_pred=tf.squeeze(y_pred))\n",
    "mae"
   ],
   "metadata": {
    "collapsed": false
   }
  },
  {
   "cell_type": "code",
   "execution_count": 36,
   "outputs": [
    {
     "data": {
      "text/plain": "<tf.Tensor: shape=(), dtype=float32, numpy=0.019607846>"
     },
     "execution_count": 36,
     "metadata": {},
     "output_type": "execute_result"
    }
   ],
   "source": [
    "# Calculate the mean squared error\n",
    "mse = tf.metrics.mean_squared_error(y_true=tf.cast(y_test, dtype=tf.float32),\n",
    "                                    y_pred=tf.squeeze(y_pred))\n",
    "mse"
   ],
   "metadata": {
    "collapsed": false
   }
  },
  {
   "cell_type": "code",
   "execution_count": 37,
   "outputs": [],
   "source": [
    "# Make some functions to reuse MAE and MSE\n",
    "def mae(y_true, y_pred):\n",
    "    return tf.metrics.mean_absolute_error(y_true=y_true,\n",
    "                                          y_pred=tf.squeeze(y_pred))\n",
    "def mse(y_true, y_pred):\n",
    "    return tf.metrics.mean_squared_error(y_true=y_true,\n",
    "                                         y_pred=tf.squeeze(y_pred))"
   ],
   "metadata": {
    "collapsed": false
   }
  },
  {
   "cell_type": "markdown",
   "source": [
    "## Running experiments to improve our model\n",
    "\n",
    "1. Get more data - get more examples for your model to train on (more opportunities to learn patterns or relationships between features and labels).\n",
    "2. Make your model larger (use a more complex model) - this might come in the form of more layers or more hidden units in each layer.\n",
    "3. Train for longer - give your model more of a chance to find patterns in the data.\n",
    "\n",
    "Let's do 3 modelling experiments:\n",
    "1. `model_1` - same as the original model, 1 layer, trained for 100 epochs.\n",
    "2. `model_2` - 2 layers, trained for 100 epochs.\n",
    "3. `model_3` - 2 layers, trained for 500 epochs.\n",
    "\n",
    "### Building `model_1`"
   ],
   "metadata": {
    "collapsed": false
   }
  },
  {
   "cell_type": "code",
   "execution_count": 38,
   "outputs": [
    {
     "name": "stdout",
     "output_type": "stream",
     "text": [
      "Epoch 1/100\n",
      "2/2 [==============================] - 0s 4ms/step - loss: 12.1874 - mae: 12.1874\n",
      "Epoch 2/100\n",
      "2/2 [==============================] - 0s 5ms/step - loss: 13.0149 - mae: 13.0149\n",
      "Epoch 3/100\n",
      "2/2 [==============================] - 0s 4ms/step - loss: 11.6602 - mae: 11.6602\n",
      "Epoch 4/100\n",
      "2/2 [==============================] - 0s 3ms/step - loss: 9.3410 - mae: 9.3410\n",
      "Epoch 5/100\n",
      "2/2 [==============================] - 0s 4ms/step - loss: 10.2172 - mae: 10.2172\n",
      "Epoch 6/100\n",
      "2/2 [==============================] - 0s 5ms/step - loss: 9.4730 - mae: 9.4730\n",
      "Epoch 7/100\n",
      "2/2 [==============================] - 0s 4ms/step - loss: 8.6052 - mae: 8.6052\n",
      "Epoch 8/100\n",
      "2/2 [==============================] - 0s 3ms/step - loss: 9.0411 - mae: 9.0411\n",
      "Epoch 9/100\n",
      "2/2 [==============================] - 0s 3ms/step - loss: 18.8506 - mae: 18.8506\n",
      "Epoch 10/100\n",
      "2/2 [==============================] - 0s 4ms/step - loss: 10.1647 - mae: 10.1647\n",
      "Epoch 11/100\n",
      "2/2 [==============================] - 0s 3ms/step - loss: 8.4139 - mae: 8.4139\n",
      "Epoch 12/100\n",
      "2/2 [==============================] - 0s 4ms/step - loss: 10.7031 - mae: 10.7031\n",
      "Epoch 13/100\n",
      "2/2 [==============================] - 0s 5ms/step - loss: 9.8094 - mae: 9.8094\n",
      "Epoch 14/100\n",
      "2/2 [==============================] - 0s 4ms/step - loss: 16.1165 - mae: 16.1165\n",
      "Epoch 15/100\n",
      "2/2 [==============================] - 0s 3ms/step - loss: 11.3156 - mae: 11.3156\n",
      "Epoch 16/100\n",
      "2/2 [==============================] - 0s 4ms/step - loss: 8.5591 - mae: 8.5591\n",
      "Epoch 17/100\n",
      "2/2 [==============================] - 0s 4ms/step - loss: 13.6874 - mae: 13.6874\n",
      "Epoch 18/100\n",
      "2/2 [==============================] - 0s 5ms/step - loss: 11.5303 - mae: 11.5303\n",
      "Epoch 19/100\n",
      "2/2 [==============================] - 0s 4ms/step - loss: 17.8210 - mae: 17.8210\n",
      "Epoch 20/100\n",
      "2/2 [==============================] - 0s 4ms/step - loss: 14.9563 - mae: 14.9563\n",
      "Epoch 21/100\n",
      "2/2 [==============================] - 0s 6ms/step - loss: 10.8365 - mae: 10.8365\n",
      "Epoch 22/100\n",
      "2/2 [==============================] - 0s 5ms/step - loss: 8.5868 - mae: 8.5868\n",
      "Epoch 23/100\n",
      "2/2 [==============================] - 0s 4ms/step - loss: 9.7048 - mae: 9.7048\n",
      "Epoch 24/100\n",
      "2/2 [==============================] - 0s 5ms/step - loss: 10.9495 - mae: 10.9495\n",
      "Epoch 25/100\n",
      "2/2 [==============================] - 0s 6ms/step - loss: 9.1525 - mae: 9.1525\n",
      "Epoch 26/100\n",
      "2/2 [==============================] - 0s 3ms/step - loss: 13.1877 - mae: 13.1877\n",
      "Epoch 27/100\n",
      "2/2 [==============================] - 0s 4ms/step - loss: 10.6580 - mae: 10.6580\n",
      "Epoch 28/100\n",
      "2/2 [==============================] - 0s 5ms/step - loss: 12.8786 - mae: 12.8786\n",
      "Epoch 29/100\n",
      "2/2 [==============================] - 0s 4ms/step - loss: 9.5019 - mae: 9.5019\n",
      "Epoch 30/100\n",
      "2/2 [==============================] - 0s 4ms/step - loss: 16.4048 - mae: 16.4048\n",
      "Epoch 31/100\n",
      "2/2 [==============================] - 0s 5ms/step - loss: 23.5788 - mae: 23.5788\n",
      "Epoch 32/100\n",
      "2/2 [==============================] - 0s 5ms/step - loss: 7.6019 - mae: 7.6019\n",
      "Epoch 33/100\n",
      "2/2 [==============================] - 0s 4ms/step - loss: 9.2994 - mae: 9.2994\n",
      "Epoch 34/100\n",
      "2/2 [==============================] - 0s 4ms/step - loss: 13.6770 - mae: 13.6770\n",
      "Epoch 35/100\n",
      "2/2 [==============================] - 0s 7ms/step - loss: 11.1460 - mae: 11.1460\n",
      "Epoch 36/100\n",
      "2/2 [==============================] - 0s 3ms/step - loss: 13.3694 - mae: 13.3694\n",
      "Epoch 37/100\n",
      "2/2 [==============================] - 0s 4ms/step - loss: 9.4461 - mae: 9.4461\n",
      "Epoch 38/100\n",
      "2/2 [==============================] - 0s 5ms/step - loss: 10.0983 - mae: 10.0983\n",
      "Epoch 39/100\n",
      "2/2 [==============================] - 0s 4ms/step - loss: 10.1980 - mae: 10.1980\n",
      "Epoch 40/100\n",
      "2/2 [==============================] - 0s 5ms/step - loss: 10.9434 - mae: 10.9434\n",
      "Epoch 41/100\n",
      "2/2 [==============================] - 0s 4ms/step - loss: 7.9182 - mae: 7.9182\n",
      "Epoch 42/100\n",
      "2/2 [==============================] - 0s 3ms/step - loss: 10.5763 - mae: 10.5763\n",
      "Epoch 43/100\n",
      "2/2 [==============================] - 0s 6ms/step - loss: 7.2019 - mae: 7.2019\n",
      "Epoch 44/100\n",
      "2/2 [==============================] - 0s 4ms/step - loss: 7.9901 - mae: 7.9901\n",
      "Epoch 45/100\n",
      "2/2 [==============================] - 0s 3ms/step - loss: 9.7830 - mae: 9.7830\n",
      "Epoch 46/100\n",
      "2/2 [==============================] - 0s 5ms/step - loss: 8.8595 - mae: 8.8595\n",
      "Epoch 47/100\n",
      "2/2 [==============================] - 0s 4ms/step - loss: 7.5643 - mae: 7.5643\n",
      "Epoch 48/100\n",
      "2/2 [==============================] - 0s 4ms/step - loss: 8.5655 - mae: 8.5655\n",
      "Epoch 49/100\n",
      "2/2 [==============================] - 0s 3ms/step - loss: 9.9883 - mae: 9.9883\n",
      "Epoch 50/100\n",
      "2/2 [==============================] - 0s 3ms/step - loss: 9.0174 - mae: 9.0174\n",
      "Epoch 51/100\n",
      "2/2 [==============================] - 0s 4ms/step - loss: 10.6580 - mae: 10.6580\n",
      "Epoch 52/100\n",
      "2/2 [==============================] - 0s 3ms/step - loss: 15.2903 - mae: 15.2903\n",
      "Epoch 53/100\n",
      "2/2 [==============================] - 0s 4ms/step - loss: 14.3118 - mae: 14.3118\n",
      "Epoch 54/100\n",
      "2/2 [==============================] - 0s 4ms/step - loss: 21.6098 - mae: 21.6098\n",
      "Epoch 55/100\n",
      "2/2 [==============================] - 0s 3ms/step - loss: 15.9855 - mae: 15.9855\n",
      "Epoch 56/100\n",
      "2/2 [==============================] - 0s 5ms/step - loss: 10.2830 - mae: 10.2830\n",
      "Epoch 57/100\n",
      "2/2 [==============================] - 0s 3ms/step - loss: 9.7582 - mae: 9.7582\n",
      "Epoch 58/100\n",
      "2/2 [==============================] - 0s 3ms/step - loss: 9.0438 - mae: 9.0438\n",
      "Epoch 59/100\n",
      "2/2 [==============================] - 0s 3ms/step - loss: 8.2496 - mae: 8.2496\n",
      "Epoch 60/100\n",
      "2/2 [==============================] - 0s 4ms/step - loss: 9.3458 - mae: 9.3458\n",
      "Epoch 61/100\n",
      "2/2 [==============================] - 0s 5ms/step - loss: 11.1541 - mae: 11.1541\n",
      "Epoch 62/100\n",
      "2/2 [==============================] - 0s 4ms/step - loss: 12.0716 - mae: 12.0716\n",
      "Epoch 63/100\n",
      "2/2 [==============================] - 0s 4ms/step - loss: 7.2609 - mae: 7.2609\n",
      "Epoch 64/100\n",
      "2/2 [==============================] - 0s 4ms/step - loss: 12.4228 - mae: 12.4228\n",
      "Epoch 65/100\n",
      "2/2 [==============================] - 0s 4ms/step - loss: 10.4900 - mae: 10.4900\n",
      "Epoch 66/100\n",
      "2/2 [==============================] - 0s 5ms/step - loss: 15.6050 - mae: 15.6050\n",
      "Epoch 67/100\n",
      "2/2 [==============================] - 0s 4ms/step - loss: 10.0048 - mae: 10.0048\n",
      "Epoch 68/100\n",
      "2/2 [==============================] - 0s 3ms/step - loss: 8.7135 - mae: 8.7135\n",
      "Epoch 69/100\n",
      "2/2 [==============================] - 0s 4ms/step - loss: 13.4811 - mae: 13.4811\n",
      "Epoch 70/100\n",
      "2/2 [==============================] - 0s 3ms/step - loss: 7.4596 - mae: 7.4596\n",
      "Epoch 71/100\n",
      "2/2 [==============================] - 0s 4ms/step - loss: 12.2168 - mae: 12.2168\n",
      "Epoch 72/100\n",
      "2/2 [==============================] - 0s 4ms/step - loss: 8.5248 - mae: 8.5248\n",
      "Epoch 73/100\n",
      "2/2 [==============================] - 0s 4ms/step - loss: 7.0303 - mae: 7.0303\n",
      "Epoch 74/100\n",
      "2/2 [==============================] - 0s 3ms/step - loss: 9.9236 - mae: 9.9236\n",
      "Epoch 75/100\n",
      "2/2 [==============================] - 0s 3ms/step - loss: 9.9275 - mae: 9.9275\n",
      "Epoch 76/100\n",
      "2/2 [==============================] - 0s 5ms/step - loss: 10.0941 - mae: 10.0941\n",
      "Epoch 77/100\n",
      "2/2 [==============================] - 0s 3ms/step - loss: 12.9441 - mae: 12.9441\n",
      "Epoch 78/100\n",
      "2/2 [==============================] - 0s 5ms/step - loss: 11.1413 - mae: 11.1413\n",
      "Epoch 79/100\n",
      "2/2 [==============================] - 0s 4ms/step - loss: 14.6958 - mae: 14.6958\n",
      "Epoch 80/100\n",
      "2/2 [==============================] - 0s 4ms/step - loss: 8.9160 - mae: 8.9160\n",
      "Epoch 81/100\n",
      "2/2 [==============================] - 0s 4ms/step - loss: 10.7584 - mae: 10.7584\n",
      "Epoch 82/100\n",
      "2/2 [==============================] - 0s 3ms/step - loss: 8.3813 - mae: 8.3813\n",
      "Epoch 83/100\n",
      "2/2 [==============================] - 0s 3ms/step - loss: 9.2154 - mae: 9.2154\n",
      "Epoch 84/100\n",
      "2/2 [==============================] - 0s 3ms/step - loss: 8.9331 - mae: 8.9331\n",
      "Epoch 85/100\n",
      "2/2 [==============================] - 0s 5ms/step - loss: 13.1932 - mae: 13.1932\n",
      "Epoch 86/100\n",
      "2/2 [==============================] - 0s 3ms/step - loss: 13.6990 - mae: 13.6990\n",
      "Epoch 87/100\n",
      "2/2 [==============================] - 0s 4ms/step - loss: 13.1831 - mae: 13.1831\n",
      "Epoch 88/100\n",
      "2/2 [==============================] - 0s 3ms/step - loss: 11.5082 - mae: 11.5082\n",
      "Epoch 89/100\n",
      "2/2 [==============================] - 0s 5ms/step - loss: 7.7951 - mae: 7.7951\n",
      "Epoch 90/100\n",
      "2/2 [==============================] - 0s 4ms/step - loss: 10.9218 - mae: 10.9218\n",
      "Epoch 91/100\n",
      "2/2 [==============================] - 0s 3ms/step - loss: 6.7402 - mae: 6.7402\n",
      "Epoch 92/100\n",
      "2/2 [==============================] - 0s 3ms/step - loss: 10.1144 - mae: 10.1144\n",
      "Epoch 93/100\n",
      "2/2 [==============================] - 0s 3ms/step - loss: 7.5989 - mae: 7.5989\n",
      "Epoch 94/100\n",
      "2/2 [==============================] - 0s 4ms/step - loss: 9.2308 - mae: 9.2308\n",
      "Epoch 95/100\n",
      "2/2 [==============================] - 0s 4ms/step - loss: 10.8199 - mae: 10.8199\n",
      "Epoch 96/100\n",
      "2/2 [==============================] - 0s 3ms/step - loss: 10.2883 - mae: 10.2883\n",
      "Epoch 97/100\n",
      "2/2 [==============================] - 0s 4ms/step - loss: 7.6707 - mae: 7.6707\n",
      "Epoch 98/100\n",
      "2/2 [==============================] - 0s 3ms/step - loss: 8.6057 - mae: 8.6057\n",
      "Epoch 99/100\n",
      "2/2 [==============================] - 0s 3ms/step - loss: 9.3839 - mae: 9.3839\n",
      "Epoch 100/100\n",
      "2/2 [==============================] - 0s 2ms/step - loss: 8.8302 - mae: 8.8302\n"
     ]
    },
    {
     "data": {
      "text/plain": "<keras.callbacks.History at 0x1b87e119f70>"
     },
     "execution_count": 38,
     "metadata": {},
     "output_type": "execute_result"
    }
   ],
   "source": [
    "# Set random seed\n",
    "tf.random.set_seed(42)\n",
    "# Create the model\n",
    "model_1 = tf.keras.Sequential([\n",
    "  tf.keras.layers.Dense(1)\n",
    "], name=\"model_1\")\n",
    "\n",
    "# Compile the model\n",
    "model_1.compile(loss=tf.keras.losses.mae,\n",
    "                optimizer=tf.keras.optimizers.SGD(),\n",
    "                metrics=[\"mae\"])\n",
    "\n",
    "model_1.fit(tf.expand_dims(X_train, axis=-1), y_train, epochs=100, verbose=1)"
   ],
   "metadata": {
    "collapsed": false
   }
  },
  {
   "cell_type": "code",
   "execution_count": 39,
   "outputs": [
    {
     "name": "stdout",
     "output_type": "stream",
     "text": [
      "WARNING:tensorflow:5 out of the last 5 calls to <function Model.make_predict_function.<locals>.predict_function at 0x000001B88404C1F0> triggered tf.function retracing. Tracing is expensive and the excessive number of tracings could be due to (1) creating @tf.function repeatedly in a loop, (2) passing tensors with different shapes, (3) passing Python objects instead of tensors. For (1), please define your @tf.function outside of the loop. For (2), @tf.function has reduce_retracing=True option that can avoid unnecessary retracing. For (3), please refer to https://www.tensorflow.org/guide/function#controlling_retracing and https://www.tensorflow.org/api_docs/python/tf/function for  more details.\n",
      "1/1 [==============================] - 0s 39ms/step\n"
     ]
    },
    {
     "data": {
      "text/plain": "<Figure size 1000x700 with 1 Axes>",
      "image/png": "[encoded data removed]"
     },
     "metadata": {},
     "output_type": "display_data"
    }
   ],
   "source": [
    "# Make and plot predictions for model_1\n",
    "y_pred_1 = model_1.predict(tf.expand_dims(X_test, axis=-1))\n",
    "plot_predictions(train_data=X_train,\n",
    "                 train_labels=y_train,\n",
    "                 test_data=X_test,\n",
    "                 test_labels=y_test,\n",
    "                 predictions=y_pred_1)"
   ],
   "metadata": {
    "collapsed": false
   }
  },
  {
   "cell_type": "code",
   "execution_count": 40,
   "outputs": [
    {
     "data": {
      "text/plain": "(<tf.Tensor: shape=(), dtype=float32, numpy=8.650849>,\n <tf.Tensor: shape=(), dtype=float32, numpy=81.358536>)"
     },
     "execution_count": 40,
     "metadata": {},
     "output_type": "execute_result"
    }
   ],
   "source": [
    "# Evaluate model_1\n",
    "mae_1 = mae(y_test, y_pred_1)\n",
    "mse_1 = mse(y_test, y_pred_1)\n",
    "mae_1, mse_1"
   ],
   "metadata": {
    "collapsed": false
   }
  },
  {
   "cell_type": "code",
   "execution_count": 41,
   "outputs": [
    {
     "name": "stdout",
     "output_type": "stream",
     "text": [
      "Epoch 1/100\n",
      "2/2 [==============================] - 0s 4ms/step - loss: 41.1882 - mae: 41.1882\n",
      "Epoch 2/100\n",
      "2/2 [==============================] - 0s 4ms/step - loss: 31.8188 - mae: 31.8188\n",
      "Epoch 3/100\n",
      "2/2 [==============================] - 0s 3ms/step - loss: 28.5932 - mae: 28.5932\n",
      "Epoch 4/100\n",
      "2/2 [==============================] - 0s 5ms/step - loss: 15.9014 - mae: 15.9014\n",
      "Epoch 5/100\n",
      "2/2 [==============================] - 0s 3ms/step - loss: 21.9681 - mae: 21.9681\n",
      "Epoch 6/100\n",
      "2/2 [==============================] - 0s 5ms/step - loss: 11.2015 - mae: 11.2015\n",
      "Epoch 7/100\n",
      "2/2 [==============================] - 0s 4ms/step - loss: 12.2550 - mae: 12.2550\n",
      "Epoch 8/100\n",
      "2/2 [==============================] - 0s 3ms/step - loss: 10.9878 - mae: 10.9878\n",
      "Epoch 9/100\n",
      "2/2 [==============================] - 0s 5ms/step - loss: 38.6300 - mae: 38.6300\n",
      "Epoch 10/100\n",
      "2/2 [==============================] - 0s 5ms/step - loss: 26.1184 - mae: 26.1184\n",
      "Epoch 11/100\n",
      "2/2 [==============================] - 0s 4ms/step - loss: 9.4055 - mae: 9.4055\n",
      "Epoch 12/100\n",
      "2/2 [==============================] - 0s 6ms/step - loss: 26.3835 - mae: 26.3835\n",
      "Epoch 13/100\n",
      "2/2 [==============================] - 0s 6ms/step - loss: 14.4441 - mae: 14.4441\n",
      "Epoch 14/100\n",
      "2/2 [==============================] - 0s 3ms/step - loss: 29.8137 - mae: 29.8137\n",
      "Epoch 15/100\n",
      "2/2 [==============================] - 0s 5ms/step - loss: 19.6837 - mae: 19.6837\n",
      "Epoch 16/100\n",
      "2/2 [==============================] - 0s 4ms/step - loss: 9.8382 - mae: 9.8382\n",
      "Epoch 17/100\n",
      "2/2 [==============================] - 0s 4ms/step - loss: 17.6266 - mae: 17.6266\n",
      "Epoch 18/100\n",
      "2/2 [==============================] - 0s 3ms/step - loss: 14.0928 - mae: 14.0928\n",
      "Epoch 19/100\n",
      "2/2 [==============================] - 0s 3ms/step - loss: 13.9313 - mae: 13.9313\n",
      "Epoch 20/100\n",
      "2/2 [==============================] - 0s 4ms/step - loss: 11.2036 - mae: 11.2036\n",
      "Epoch 21/100\n",
      "2/2 [==============================] - 0s 4ms/step - loss: 17.2416 - mae: 17.2416\n",
      "Epoch 22/100\n",
      "2/2 [==============================] - 0s 4ms/step - loss: 15.4784 - mae: 15.4784\n",
      "Epoch 23/100\n",
      "2/2 [==============================] - 0s 4ms/step - loss: 9.2541 - mae: 9.2541\n",
      "Epoch 24/100\n",
      "2/2 [==============================] - 0s 5ms/step - loss: 17.2917 - mae: 17.2917\n",
      "Epoch 25/100\n",
      "2/2 [==============================] - 0s 3ms/step - loss: 15.9621 - mae: 15.9621\n",
      "Epoch 26/100\n",
      "2/2 [==============================] - 0s 4ms/step - loss: 20.9775 - mae: 20.9775\n",
      "Epoch 27/100\n",
      "2/2 [==============================] - 0s 4ms/step - loss: 25.8626 - mae: 25.8626\n",
      "Epoch 28/100\n",
      "2/2 [==============================] - 0s 4ms/step - loss: 18.3745 - mae: 18.3745\n",
      "Epoch 29/100\n",
      "2/2 [==============================] - 0s 5ms/step - loss: 9.2516 - mae: 9.2516\n",
      "Epoch 30/100\n",
      "2/2 [==============================] - 0s 5ms/step - loss: 28.9730 - mae: 28.9730\n",
      "Epoch 31/100\n",
      "2/2 [==============================] - 0s 4ms/step - loss: 52.4644 - mae: 52.4644\n",
      "Epoch 32/100\n",
      "2/2 [==============================] - 0s 6ms/step - loss: 11.8930 - mae: 11.8930\n",
      "Epoch 33/100\n",
      "2/2 [==============================] - 0s 6ms/step - loss: 15.4487 - mae: 15.4487\n",
      "Epoch 34/100\n",
      "2/2 [==============================] - 0s 4ms/step - loss: 12.5674 - mae: 12.5674\n",
      "Epoch 35/100\n",
      "2/2 [==============================] - 0s 5ms/step - loss: 9.1881 - mae: 9.1881\n",
      "Epoch 36/100\n",
      "2/2 [==============================] - 0s 6ms/step - loss: 16.4025 - mae: 16.4025\n",
      "Epoch 37/100\n",
      "2/2 [==============================] - 0s 4ms/step - loss: 11.1145 - mae: 11.1145\n",
      "Epoch 38/100\n",
      "2/2 [==============================] - 0s 5ms/step - loss: 18.2463 - mae: 18.2463\n",
      "Epoch 39/100\n",
      "2/2 [==============================] - 0s 5ms/step - loss: 19.1765 - mae: 19.1765\n",
      "Epoch 40/100\n",
      "2/2 [==============================] - 0s 4ms/step - loss: 20.5675 - mae: 20.5675\n",
      "Epoch 41/100\n",
      "2/2 [==============================] - 0s 5ms/step - loss: 14.7543 - mae: 14.7543\n",
      "Epoch 42/100\n",
      "2/2 [==============================] - 0s 5ms/step - loss: 12.1629 - mae: 12.1629\n",
      "Epoch 43/100\n",
      "2/2 [==============================] - 0s 5ms/step - loss: 10.6842 - mae: 10.6842\n",
      "Epoch 44/100\n",
      "2/2 [==============================] - 0s 4ms/step - loss: 32.0768 - mae: 32.0768\n",
      "Epoch 45/100\n",
      "2/2 [==============================] - 0s 4ms/step - loss: 12.4270 - mae: 12.4270\n",
      "Epoch 46/100\n",
      "2/2 [==============================] - 0s 5ms/step - loss: 17.3648 - mae: 17.3648\n",
      "Epoch 47/100\n",
      "2/2 [==============================] - 0s 4ms/step - loss: 15.8190 - mae: 15.8190\n",
      "Epoch 48/100\n",
      "2/2 [==============================] - 0s 5ms/step - loss: 8.4184 - mae: 8.4184\n",
      "Epoch 49/100\n",
      "2/2 [==============================] - 0s 5ms/step - loss: 14.2762 - mae: 14.2762\n",
      "Epoch 50/100\n",
      "2/2 [==============================] - 0s 5ms/step - loss: 15.2062 - mae: 15.2062\n",
      "Epoch 51/100\n",
      "2/2 [==============================] - 0s 4ms/step - loss: 13.7168 - mae: 13.7168\n",
      "Epoch 52/100\n",
      "2/2 [==============================] - 0s 5ms/step - loss: 18.1292 - mae: 18.1292\n",
      "Epoch 53/100\n",
      "2/2 [==============================] - 0s 8ms/step - loss: 22.8119 - mae: 22.8119\n",
      "Epoch 54/100\n",
      "2/2 [==============================] - 0s 4ms/step - loss: 26.7051 - mae: 26.7051\n",
      "Epoch 55/100\n",
      "2/2 [==============================] - 0s 4ms/step - loss: 26.3278 - mae: 26.3278\n",
      "Epoch 56/100\n",
      "2/2 [==============================] - 0s 2ms/step - loss: 11.3364 - mae: 11.3364\n",
      "Epoch 57/100\n",
      "2/2 [==============================] - 0s 3ms/step - loss: 13.3441 - mae: 13.3441\n",
      "Epoch 58/100\n",
      "2/2 [==============================] - 0s 3ms/step - loss: 9.9423 - mae: 9.9423\n",
      "Epoch 59/100\n",
      "2/2 [==============================] - 0s 6ms/step - loss: 13.8744 - mae: 13.8744\n",
      "Epoch 60/100\n",
      "2/2 [==============================] - 0s 4ms/step - loss: 9.9813 - mae: 9.9813\n",
      "Epoch 61/100\n",
      "2/2 [==============================] - 0s 4ms/step - loss: 14.9209 - mae: 14.9209\n",
      "Epoch 62/100\n",
      "2/2 [==============================] - 0s 7ms/step - loss: 11.8996 - mae: 11.8996\n",
      "Epoch 63/100\n",
      "2/2 [==============================] - 0s 3ms/step - loss: 10.2772 - mae: 10.2772\n",
      "Epoch 64/100\n",
      "2/2 [==============================] - 0s 5ms/step - loss: 23.7653 - mae: 23.7653\n",
      "Epoch 65/100\n",
      "2/2 [==============================] - 0s 4ms/step - loss: 10.4507 - mae: 10.4507\n",
      "Epoch 66/100\n",
      "2/2 [==============================] - 0s 5ms/step - loss: 20.8182 - mae: 20.8182\n",
      "Epoch 67/100\n",
      "2/2 [==============================] - 0s 4ms/step - loss: 10.4171 - mae: 10.4171\n",
      "Epoch 68/100\n",
      "2/2 [==============================] - 0s 3ms/step - loss: 14.0909 - mae: 14.0909\n",
      "Epoch 69/100\n",
      "2/2 [==============================] - 0s 4ms/step - loss: 10.4749 - mae: 10.4749\n",
      "Epoch 70/100\n",
      "2/2 [==============================] - 0s 5ms/step - loss: 12.5382 - mae: 12.5382\n",
      "Epoch 71/100\n",
      "2/2 [==============================] - 0s 4ms/step - loss: 12.9638 - mae: 12.9638\n",
      "Epoch 72/100\n",
      "2/2 [==============================] - 0s 4ms/step - loss: 19.2119 - mae: 19.2119\n",
      "Epoch 73/100\n",
      "2/2 [==============================] - 0s 5ms/step - loss: 11.1011 - mae: 11.1011\n",
      "Epoch 74/100\n",
      "2/2 [==============================] - 0s 3ms/step - loss: 21.2646 - mae: 21.2646\n",
      "Epoch 75/100\n",
      "2/2 [==============================] - 0s 4ms/step - loss: 9.4164 - mae: 9.4164\n",
      "Epoch 76/100\n",
      "2/2 [==============================] - 0s 4ms/step - loss: 12.2279 - mae: 12.2279\n",
      "Epoch 77/100\n",
      "2/2 [==============================] - 0s 3ms/step - loss: 16.1746 - mae: 16.1746\n",
      "Epoch 78/100\n",
      "2/2 [==============================] - 0s 5ms/step - loss: 8.9992 - mae: 8.9992\n",
      "Epoch 79/100\n",
      "2/2 [==============================] - 0s 3ms/step - loss: 29.2791 - mae: 29.2791\n",
      "Epoch 80/100\n",
      "2/2 [==============================] - 0s 4ms/step - loss: 31.7111 - mae: 31.7111\n",
      "Epoch 81/100\n",
      "2/2 [==============================] - 0s 5ms/step - loss: 13.9268 - mae: 13.9268\n",
      "Epoch 82/100\n",
      "2/2 [==============================] - 0s 3ms/step - loss: 15.6850 - mae: 15.6850\n",
      "Epoch 83/100\n",
      "2/2 [==============================] - 0s 5ms/step - loss: 11.1691 - mae: 11.1691\n",
      "Epoch 84/100\n",
      "2/2 [==============================] - 0s 5ms/step - loss: 7.2992 - mae: 7.2992\n",
      "Epoch 85/100\n",
      "2/2 [==============================] - 0s 3ms/step - loss: 15.1109 - mae: 15.1109\n",
      "Epoch 86/100\n",
      "2/2 [==============================] - 0s 4ms/step - loss: 15.4030 - mae: 15.4030\n",
      "Epoch 87/100\n",
      "2/2 [==============================] - 0s 4ms/step - loss: 19.3435 - mae: 19.3435\n",
      "Epoch 88/100\n",
      "2/2 [==============================] - 0s 3ms/step - loss: 29.2109 - mae: 29.2109\n",
      "Epoch 89/100\n",
      "2/2 [==============================] - 0s 5ms/step - loss: 10.0859 - mae: 10.0859\n",
      "Epoch 90/100\n",
      "2/2 [==============================] - 0s 4ms/step - loss: 21.0207 - mae: 21.0207\n",
      "Epoch 91/100\n",
      "2/2 [==============================] - 0s 4ms/step - loss: 10.4517 - mae: 10.4517\n",
      "Epoch 92/100\n",
      "2/2 [==============================] - 0s 5ms/step - loss: 17.9446 - mae: 17.9446\n",
      "Epoch 93/100\n",
      "2/2 [==============================] - 0s 3ms/step - loss: 6.5534 - mae: 6.5534\n",
      "Epoch 94/100\n",
      "2/2 [==============================] - 0s 3ms/step - loss: 11.1080 - mae: 11.1080\n",
      "Epoch 95/100\n",
      "2/2 [==============================] - 0s 5ms/step - loss: 24.3231 - mae: 24.3231\n",
      "Epoch 96/100\n",
      "2/2 [==============================] - 0s 5ms/step - loss: 10.7128 - mae: 10.7128\n",
      "Epoch 97/100\n",
      "2/2 [==============================] - 0s 4ms/step - loss: 15.3243 - mae: 15.3243\n",
      "Epoch 98/100\n",
      "2/2 [==============================] - 0s 6ms/step - loss: 8.2347 - mae: 8.2347\n",
      "Epoch 99/100\n",
      "2/2 [==============================] - 0s 4ms/step - loss: 16.5004 - mae: 16.5004\n",
      "Epoch 100/100\n",
      "2/2 [==============================] - 0s 4ms/step - loss: 14.2819 - mae: 14.2819\n"
     ]
    },
    {
     "data": {
      "text/plain": "<keras.callbacks.History at 0x1b8875a6340>"
     },
     "execution_count": 41,
     "metadata": {},
     "output_type": "execute_result"
    }
   ],
   "source": [
    "# Set random seed\n",
    "tf.random.set_seed(42)\n",
    "\n",
    "model_2 = tf.keras.Sequential([\n",
    "  tf.keras.layers.Dense(10, name=\"hidden_layer\"),\n",
    "  tf.keras.layers.Dense(1, name=\"output_layer\")\n",
    "], name=\"model_2\")\n",
    "\n",
    "# Compile the model\n",
    "model_2.compile(loss=tf.keras.losses.mae,\n",
    "                optimizer=tf.keras.optimizers.SGD(),\n",
    "                metrics=[\"mae\"])\n",
    "\n",
    "model_2.fit(tf.expand_dims(X_train, axis=-1), y_train, epochs=100, verbose=1)"
   ],
   "metadata": {
    "collapsed": false
   }
  },
  {
   "cell_type": "code",
   "execution_count": 42,
   "outputs": [
    {
     "name": "stdout",
     "output_type": "stream",
     "text": [
      "WARNING:tensorflow:6 out of the last 6 calls to <function Model.make_predict_function.<locals>.predict_function at 0x000001B86C43E310> triggered tf.function retracing. Tracing is expensive and the excessive number of tracings could be due to (1) creating @tf.function repeatedly in a loop, (2) passing tensors with different shapes, (3) passing Python objects instead of tensors. For (1), please define your @tf.function outside of the loop. For (2), @tf.function has reduce_retracing=True option that can avoid unnecessary retracing. For (3), please refer to https://www.tensorflow.org/guide/function#controlling_retracing and https://www.tensorflow.org/api_docs/python/tf/function for  more details.\n",
      "1/1 [==============================] - 0s 42ms/step\n"
     ]
    },
    {
     "data": {
      "text/plain": "<Figure size 1000x700 with 1 Axes>",
      "image/png": "[encoded data removed]"
     },
     "metadata": {},
     "output_type": "display_data"
    }
   ],
   "source": [
    "# Make and plot predictions for model_2\n",
    "y_pred_2 = model_2.predict(tf.expand_dims(X_test, axis=-1))\n",
    "plot_predictions(train_data=X_train,\n",
    "                 train_labels=y_train,\n",
    "                 test_data=X_test,\n",
    "                 test_labels=y_test,\n",
    "                 predictions=y_pred_2)"
   ],
   "metadata": {
    "collapsed": false
   }
  },
  {
   "cell_type": "code",
   "execution_count": 43,
   "outputs": [
    {
     "data": {
      "text/plain": "(10.745449, 123.29993)"
     },
     "execution_count": 43,
     "metadata": {},
     "output_type": "execute_result"
    }
   ],
   "source": [
    "# Evaluate model_2\n",
    "mae_2 = mae(y_test, y_pred_2)\n",
    "mse_2 = mse(y_test, y_pred_2)\n",
    "mae_2.numpy(), mse_2.numpy()"
   ],
   "metadata": {
    "collapsed": false
   }
  },
  {
   "cell_type": "code",
   "execution_count": 44,
   "outputs": [
    {
     "name": "stdout",
     "output_type": "stream",
     "text": [
      "Epoch 1/500\n",
      "2/2 [==============================] - 0s 4ms/step - loss: 18.6793 - mae: 18.6793\n",
      "Epoch 2/500\n",
      "2/2 [==============================] - 0s 4ms/step - loss: 21.7285 - mae: 21.7285\n",
      "Epoch 3/500\n",
      "2/2 [==============================] - 0s 6ms/step - loss: 27.6355 - mae: 27.6355\n",
      "Epoch 4/500\n",
      "2/2 [==============================] - 0s 4ms/step - loss: 19.4393 - mae: 19.4393\n",
      "Epoch 5/500\n",
      "2/2 [==============================] - 0s 4ms/step - loss: 13.1534 - mae: 13.1534\n",
      "Epoch 6/500\n",
      "2/2 [==============================] - 0s 7ms/step - loss: 10.6387 - mae: 10.6387\n",
      "Epoch 7/500\n",
      "2/2 [==============================] - 0s 3ms/step - loss: 11.5968 - mae: 11.5968\n",
      "Epoch 8/500\n",
      "2/2 [==============================] - 0s 5ms/step - loss: 11.2186 - mae: 11.2186\n",
      "Epoch 9/500\n",
      "2/2 [==============================] - 0s 6ms/step - loss: 42.1190 - mae: 42.1190\n",
      "Epoch 10/500\n",
      "2/2 [==============================] - 0s 3ms/step - loss: 29.3000 - mae: 29.3000\n",
      "Epoch 11/500\n",
      "2/2 [==============================] - 0s 5ms/step - loss: 7.6934 - mae: 7.6934\n",
      "Epoch 12/500\n",
      "2/2 [==============================] - 0s 4ms/step - loss: 28.5518 - mae: 28.5518\n",
      "Epoch 13/500\n",
      "2/2 [==============================] - 0s 4ms/step - loss: 11.4803 - mae: 11.4803\n",
      "Epoch 14/500\n",
      "2/2 [==============================] - 0s 6ms/step - loss: 30.0792 - mae: 30.0792\n",
      "Epoch 15/500\n",
      "2/2 [==============================] - 0s 4ms/step - loss: 19.8828 - mae: 19.8828\n",
      "Epoch 16/500\n",
      "2/2 [==============================] - 0s 4ms/step - loss: 9.8832 - mae: 9.8832\n",
      "Epoch 17/500\n",
      "2/2 [==============================] - 0s 7ms/step - loss: 17.7604 - mae: 17.7604\n",
      "Epoch 18/500\n",
      "2/2 [==============================] - 0s 5ms/step - loss: 14.2357 - mae: 14.2357\n",
      "Epoch 19/500\n",
      "2/2 [==============================] - 0s 4ms/step - loss: 14.0787 - mae: 14.0787\n",
      "Epoch 20/500\n",
      "2/2 [==============================] - 0s 3ms/step - loss: 11.2609 - mae: 11.2609\n",
      "Epoch 21/500\n",
      "2/2 [==============================] - 0s 4ms/step - loss: 17.4087 - mae: 17.4087\n",
      "Epoch 22/500\n",
      "2/2 [==============================] - 0s 4ms/step - loss: 15.9322 - mae: 15.9322\n",
      "Epoch 23/500\n",
      "2/2 [==============================] - 0s 4ms/step - loss: 9.8466 - mae: 9.8466\n",
      "Epoch 24/500\n",
      "2/2 [==============================] - 0s 5ms/step - loss: 16.4474 - mae: 16.4474\n",
      "Epoch 25/500\n",
      "2/2 [==============================] - 0s 4ms/step - loss: 15.3785 - mae: 15.3785\n",
      "Epoch 26/500\n",
      "2/2 [==============================] - 0s 3ms/step - loss: 20.6033 - mae: 20.6033\n",
      "Epoch 27/500\n",
      "2/2 [==============================] - 0s 4ms/step - loss: 26.2882 - mae: 26.2882\n",
      "Epoch 28/500\n",
      "2/2 [==============================] - 0s 4ms/step - loss: 18.7427 - mae: 18.7427\n",
      "Epoch 29/500\n",
      "2/2 [==============================] - 0s 6ms/step - loss: 9.2500 - mae: 9.2500\n",
      "Epoch 30/500\n",
      "2/2 [==============================] - 0s 4ms/step - loss: 29.3782 - mae: 29.3782\n",
      "Epoch 31/500\n",
      "2/2 [==============================] - 0s 5ms/step - loss: 53.2418 - mae: 53.2418\n",
      "Epoch 32/500\n",
      "2/2 [==============================] - 0s 5ms/step - loss: 12.4064 - mae: 12.4064\n",
      "Epoch 33/500\n",
      "2/2 [==============================] - 0s 3ms/step - loss: 12.2075 - mae: 12.2075\n",
      "Epoch 34/500\n",
      "2/2 [==============================] - 0s 4ms/step - loss: 24.0243 - mae: 24.0243\n",
      "Epoch 35/500\n",
      "2/2 [==============================] - 0s 5ms/step - loss: 12.0123 - mae: 12.0123\n",
      "Epoch 36/500\n",
      "2/2 [==============================] - 0s 4ms/step - loss: 22.3660 - mae: 22.3660\n",
      "Epoch 37/500\n",
      "2/2 [==============================] - 0s 5ms/step - loss: 17.1243 - mae: 17.1243\n",
      "Epoch 38/500\n",
      "2/2 [==============================] - 0s 5ms/step - loss: 10.5755 - mae: 10.5755\n",
      "Epoch 39/500\n",
      "2/2 [==============================] - 0s 5ms/step - loss: 11.0918 - mae: 11.0918\n",
      "Epoch 40/500\n",
      "2/2 [==============================] - 0s 4ms/step - loss: 17.6755 - mae: 17.6755\n",
      "Epoch 41/500\n",
      "2/2 [==============================] - 0s 4ms/step - loss: 10.2714 - mae: 10.2714\n",
      "Epoch 42/500\n",
      "2/2 [==============================] - 0s 4ms/step - loss: 7.1550 - mae: 7.1550\n",
      "Epoch 43/500\n",
      "2/2 [==============================] - 0s 4ms/step - loss: 15.3691 - mae: 15.3691\n",
      "Epoch 44/500\n",
      "2/2 [==============================] - 0s 4ms/step - loss: 25.0934 - mae: 25.0934\n",
      "Epoch 45/500\n",
      "2/2 [==============================] - 0s 4ms/step - loss: 12.1236 - mae: 12.1236\n",
      "Epoch 46/500\n",
      "2/2 [==============================] - 0s 3ms/step - loss: 16.4522 - mae: 16.4522\n",
      "Epoch 47/500\n",
      "2/2 [==============================] - 0s 4ms/step - loss: 14.9449 - mae: 14.9449\n",
      "Epoch 48/500\n",
      "2/2 [==============================] - 0s 4ms/step - loss: 14.1504 - mae: 14.1504\n",
      "Epoch 49/500\n",
      "2/2 [==============================] - 0s 5ms/step - loss: 13.7166 - mae: 13.7166\n",
      "Epoch 50/500\n",
      "2/2 [==============================] - 0s 5ms/step - loss: 12.5927 - mae: 12.5927\n",
      "Epoch 51/500\n",
      "2/2 [==============================] - 0s 5ms/step - loss: 14.6628 - mae: 14.6628\n",
      "Epoch 52/500\n",
      "2/2 [==============================] - 0s 3ms/step - loss: 18.5846 - mae: 18.5846\n",
      "Epoch 53/500\n",
      "2/2 [==============================] - 0s 5ms/step - loss: 23.8546 - mae: 23.8546\n",
      "Epoch 54/500\n",
      "2/2 [==============================] - 0s 4ms/step - loss: 24.1550 - mae: 24.1550\n",
      "Epoch 55/500\n",
      "2/2 [==============================] - 0s 3ms/step - loss: 23.3967 - mae: 23.3967\n",
      "Epoch 56/500\n",
      "2/2 [==============================] - 0s 5ms/step - loss: 10.9611 - mae: 10.9611\n",
      "Epoch 57/500\n",
      "2/2 [==============================] - 0s 4ms/step - loss: 12.8410 - mae: 12.8410\n",
      "Epoch 58/500\n",
      "2/2 [==============================] - 0s 4ms/step - loss: 9.6571 - mae: 9.6571\n",
      "Epoch 59/500\n",
      "2/2 [==============================] - 0s 6ms/step - loss: 12.9927 - mae: 12.9927\n",
      "Epoch 60/500\n",
      "2/2 [==============================] - 0s 4ms/step - loss: 10.6897 - mae: 10.6897\n",
      "Epoch 61/500\n",
      "2/2 [==============================] - 0s 4ms/step - loss: 17.4232 - mae: 17.4232\n",
      "Epoch 62/500\n",
      "2/2 [==============================] - 0s 5ms/step - loss: 10.5984 - mae: 10.5984\n",
      "Epoch 63/500\n",
      "2/2 [==============================] - 0s 4ms/step - loss: 10.4885 - mae: 10.4885\n",
      "Epoch 64/500\n",
      "2/2 [==============================] - 0s 4ms/step - loss: 24.7702 - mae: 24.7702\n",
      "Epoch 65/500\n",
      "2/2 [==============================] - 0s 5ms/step - loss: 10.6730 - mae: 10.6730\n",
      "Epoch 66/500\n",
      "2/2 [==============================] - 0s 4ms/step - loss: 21.7086 - mae: 21.7086\n",
      "Epoch 67/500\n",
      "2/2 [==============================] - 0s 5ms/step - loss: 10.7006 - mae: 10.7006\n",
      "Epoch 68/500\n",
      "2/2 [==============================] - 0s 5ms/step - loss: 10.6325 - mae: 10.6325\n",
      "Epoch 69/500\n",
      "2/2 [==============================] - 0s 5ms/step - loss: 22.5815 - mae: 22.5815\n",
      "Epoch 70/500\n",
      "2/2 [==============================] - 0s 5ms/step - loss: 9.3609 - mae: 9.3609\n",
      "Epoch 71/500\n",
      "2/2 [==============================] - 0s 7ms/step - loss: 15.4815 - mae: 15.4815\n",
      "Epoch 72/500\n",
      "2/2 [==============================] - 0s 4ms/step - loss: 7.0295 - mae: 7.0295\n",
      "Epoch 73/500\n",
      "2/2 [==============================] - 0s 5ms/step - loss: 12.2379 - mae: 12.2379\n",
      "Epoch 74/500\n",
      "2/2 [==============================] - 0s 4ms/step - loss: 17.3928 - mae: 17.3928\n",
      "Epoch 75/500\n",
      "2/2 [==============================] - 0s 4ms/step - loss: 7.2395 - mae: 7.2395\n",
      "Epoch 76/500\n",
      "2/2 [==============================] - 0s 5ms/step - loss: 9.9883 - mae: 9.9883\n",
      "Epoch 77/500\n",
      "2/2 [==============================] - 0s 8ms/step - loss: 21.4544 - mae: 21.4544\n",
      "Epoch 78/500\n",
      "2/2 [==============================] - 0s 6ms/step - loss: 18.8723 - mae: 18.8723\n",
      "Epoch 79/500\n",
      "2/2 [==============================] - 0s 4ms/step - loss: 16.1301 - mae: 16.1301\n",
      "Epoch 80/500\n",
      "2/2 [==============================] - 0s 4ms/step - loss: 23.8755 - mae: 23.8755\n",
      "Epoch 81/500\n",
      "2/2 [==============================] - 0s 5ms/step - loss: 11.1254 - mae: 11.1254\n",
      "Epoch 82/500\n",
      "2/2 [==============================] - 0s 3ms/step - loss: 12.6432 - mae: 12.6432\n",
      "Epoch 83/500\n",
      "2/2 [==============================] - 0s 3ms/step - loss: 17.3811 - mae: 17.3811\n",
      "Epoch 84/500\n",
      "2/2 [==============================] - 0s 4ms/step - loss: 7.2826 - mae: 7.2826\n",
      "Epoch 85/500\n",
      "2/2 [==============================] - 0s 4ms/step - loss: 14.9458 - mae: 14.9458\n",
      "Epoch 86/500\n",
      "2/2 [==============================] - 0s 3ms/step - loss: 15.2754 - mae: 15.2754\n",
      "Epoch 87/500\n",
      "2/2 [==============================] - 0s 3ms/step - loss: 19.0764 - mae: 19.0764\n",
      "Epoch 88/500\n",
      "2/2 [==============================] - 0s 4ms/step - loss: 29.9174 - mae: 29.9174\n",
      "Epoch 89/500\n",
      "2/2 [==============================] - 0s 3ms/step - loss: 10.2162 - mae: 10.2162\n",
      "Epoch 90/500\n",
      "2/2 [==============================] - 0s 3ms/step - loss: 21.5845 - mae: 21.5845\n",
      "Epoch 91/500\n",
      "2/2 [==============================] - 0s 5ms/step - loss: 10.6114 - mae: 10.6114\n",
      "Epoch 92/500\n",
      "2/2 [==============================] - 0s 3ms/step - loss: 18.4404 - mae: 18.4404\n",
      "Epoch 93/500\n",
      "2/2 [==============================] - 0s 5ms/step - loss: 7.4409 - mae: 7.4409\n",
      "Epoch 94/500\n",
      "2/2 [==============================] - 0s 4ms/step - loss: 17.7640 - mae: 17.7640\n",
      "Epoch 95/500\n",
      "2/2 [==============================] - 0s 3ms/step - loss: 11.1445 - mae: 11.1445\n",
      "Epoch 96/500\n",
      "2/2 [==============================] - 0s 6ms/step - loss: 19.4541 - mae: 19.4541\n",
      "Epoch 97/500\n",
      "2/2 [==============================] - 0s 5ms/step - loss: 12.1845 - mae: 12.1845\n",
      "Epoch 98/500\n",
      "2/2 [==============================] - 0s 4ms/step - loss: 11.5867 - mae: 11.5867\n",
      "Epoch 99/500\n",
      "2/2 [==============================] - 0s 5ms/step - loss: 13.8861 - mae: 13.8861\n",
      "Epoch 100/500\n",
      "2/2 [==============================] - 0s 4ms/step - loss: 20.2039 - mae: 20.2039\n",
      "Epoch 101/500\n",
      "2/2 [==============================] - 0s 5ms/step - loss: 11.4613 - mae: 11.4613\n",
      "Epoch 102/500\n",
      "2/2 [==============================] - 0s 6ms/step - loss: 17.4564 - mae: 17.4564\n",
      "Epoch 103/500\n",
      "2/2 [==============================] - 0s 3ms/step - loss: 7.0403 - mae: 7.0403\n",
      "Epoch 104/500\n",
      "2/2 [==============================] - 0s 4ms/step - loss: 23.6154 - mae: 23.6154\n",
      "Epoch 105/500\n",
      "2/2 [==============================] - 0s 6ms/step - loss: 16.8213 - mae: 16.8213\n",
      "Epoch 106/500\n",
      "2/2 [==============================] - 0s 4ms/step - loss: 9.3177 - mae: 9.3177\n",
      "Epoch 107/500\n",
      "2/2 [==============================] - 0s 4ms/step - loss: 25.4158 - mae: 25.4158\n",
      "Epoch 108/500\n",
      "2/2 [==============================] - 0s 4ms/step - loss: 13.4006 - mae: 13.4006\n",
      "Epoch 109/500\n",
      "2/2 [==============================] - 0s 4ms/step - loss: 9.5074 - mae: 9.5074\n",
      "Epoch 110/500\n",
      "2/2 [==============================] - 0s 5ms/step - loss: 9.6594 - mae: 9.6594\n",
      "Epoch 111/500\n",
      "2/2 [==============================] - 0s 5ms/step - loss: 14.5344 - mae: 14.5344\n",
      "Epoch 112/500\n",
      "2/2 [==============================] - 0s 5ms/step - loss: 9.5597 - mae: 9.5597\n",
      "Epoch 113/500\n",
      "2/2 [==============================] - 0s 4ms/step - loss: 17.6909 - mae: 17.6909\n",
      "Epoch 114/500\n",
      "2/2 [==============================] - 0s 4ms/step - loss: 17.0624 - mae: 17.0624\n",
      "Epoch 115/500\n",
      "2/2 [==============================] - 0s 3ms/step - loss: 11.0985 - mae: 11.0985\n",
      "Epoch 116/500\n",
      "2/2 [==============================] - 0s 4ms/step - loss: 23.1343 - mae: 23.1343\n",
      "Epoch 117/500\n",
      "2/2 [==============================] - 0s 4ms/step - loss: 9.5795 - mae: 9.5795\n",
      "Epoch 118/500\n",
      "2/2 [==============================] - 0s 3ms/step - loss: 10.6405 - mae: 10.6405\n",
      "Epoch 119/500\n",
      "2/2 [==============================] - 0s 4ms/step - loss: 8.0487 - mae: 8.0487\n",
      "Epoch 120/500\n",
      "2/2 [==============================] - 0s 3ms/step - loss: 29.4183 - mae: 29.4183\n",
      "Epoch 121/500\n",
      "2/2 [==============================] - 0s 2ms/step - loss: 8.0847 - mae: 8.0847\n",
      "Epoch 122/500\n",
      "2/2 [==============================] - 0s 5ms/step - loss: 28.0772 - mae: 28.0772\n",
      "Epoch 123/500\n",
      "2/2 [==============================] - 0s 5ms/step - loss: 32.6133 - mae: 32.6133\n",
      "Epoch 124/500\n",
      "2/2 [==============================] - 0s 4ms/step - loss: 19.4179 - mae: 19.4179\n",
      "Epoch 125/500\n",
      "2/2 [==============================] - 0s 5ms/step - loss: 9.5488 - mae: 9.5488\n",
      "Epoch 126/500\n",
      "2/2 [==============================] - 0s 4ms/step - loss: 9.6169 - mae: 9.6169\n",
      "Epoch 127/500\n",
      "2/2 [==============================] - 0s 4ms/step - loss: 12.7497 - mae: 12.7497\n",
      "Epoch 128/500\n",
      "2/2 [==============================] - 0s 4ms/step - loss: 12.8439 - mae: 12.8439\n",
      "Epoch 129/500\n",
      "2/2 [==============================] - 0s 4ms/step - loss: 13.9804 - mae: 13.9804\n",
      "Epoch 130/500\n",
      "2/2 [==============================] - 0s 4ms/step - loss: 10.2533 - mae: 10.2533\n",
      "Epoch 131/500\n",
      "2/2 [==============================] - 0s 4ms/step - loss: 21.7528 - mae: 21.7528\n",
      "Epoch 132/500\n",
      "2/2 [==============================] - 0s 3ms/step - loss: 8.2952 - mae: 8.2952\n",
      "Epoch 133/500\n",
      "2/2 [==============================] - 0s 5ms/step - loss: 9.0749 - mae: 9.0749\n",
      "Epoch 134/500\n",
      "2/2 [==============================] - 0s 5ms/step - loss: 16.9344 - mae: 16.9344\n",
      "Epoch 135/500\n",
      "2/2 [==============================] - 0s 4ms/step - loss: 10.6699 - mae: 10.6699\n",
      "Epoch 136/500\n",
      "2/2 [==============================] - 0s 6ms/step - loss: 18.5361 - mae: 18.5361\n",
      "Epoch 137/500\n",
      "2/2 [==============================] - 0s 4ms/step - loss: 23.5324 - mae: 23.5324\n",
      "Epoch 138/500\n",
      "2/2 [==============================] - 0s 6ms/step - loss: 9.2939 - mae: 9.2939\n",
      "Epoch 139/500\n",
      "2/2 [==============================] - 0s 5ms/step - loss: 9.0216 - mae: 9.0216\n",
      "Epoch 140/500\n",
      "2/2 [==============================] - 0s 4ms/step - loss: 16.9810 - mae: 16.9810\n",
      "Epoch 141/500\n",
      "2/2 [==============================] - 0s 4ms/step - loss: 8.3261 - mae: 8.3261\n",
      "Epoch 142/500\n",
      "2/2 [==============================] - 0s 4ms/step - loss: 34.0487 - mae: 34.0487\n",
      "Epoch 143/500\n",
      "2/2 [==============================] - 0s 4ms/step - loss: 23.1085 - mae: 23.1085\n",
      "Epoch 144/500\n",
      "2/2 [==============================] - 0s 4ms/step - loss: 11.3367 - mae: 11.3367\n",
      "Epoch 145/500\n",
      "2/2 [==============================] - 0s 3ms/step - loss: 25.0344 - mae: 25.0344\n",
      "Epoch 146/500\n",
      "2/2 [==============================] - 0s 3ms/step - loss: 11.1585 - mae: 11.1585\n",
      "Epoch 147/500\n",
      "2/2 [==============================] - 0s 6ms/step - loss: 14.0888 - mae: 14.0888\n",
      "Epoch 148/500\n",
      "2/2 [==============================] - 0s 3ms/step - loss: 16.9389 - mae: 16.9389\n",
      "Epoch 149/500\n",
      "2/2 [==============================] - 0s 4ms/step - loss: 9.2519 - mae: 9.2519\n",
      "Epoch 150/500\n",
      "2/2 [==============================] - 0s 5ms/step - loss: 7.9409 - mae: 7.9409\n",
      "Epoch 151/500\n",
      "2/2 [==============================] - 0s 4ms/step - loss: 16.4841 - mae: 16.4841\n",
      "Epoch 152/500\n",
      "2/2 [==============================] - 0s 5ms/step - loss: 9.7980 - mae: 9.7980\n",
      "Epoch 153/500\n",
      "2/2 [==============================] - 0s 5ms/step - loss: 26.8040 - mae: 26.8040\n",
      "Epoch 154/500\n",
      "2/2 [==============================] - 0s 4ms/step - loss: 11.9321 - mae: 11.9321\n",
      "Epoch 155/500\n",
      "2/2 [==============================] - 0s 4ms/step - loss: 15.2965 - mae: 15.2965\n",
      "Epoch 156/500\n",
      "2/2 [==============================] - 0s 5ms/step - loss: 16.6775 - mae: 16.6775\n",
      "Epoch 157/500\n",
      "2/2 [==============================] - 0s 3ms/step - loss: 19.2316 - mae: 19.2316\n",
      "Epoch 158/500\n",
      "2/2 [==============================] - 0s 5ms/step - loss: 8.2470 - mae: 8.2470\n",
      "Epoch 159/500\n",
      "2/2 [==============================] - 0s 4ms/step - loss: 7.9932 - mae: 7.9932\n",
      "Epoch 160/500\n",
      "2/2 [==============================] - 0s 5ms/step - loss: 20.9887 - mae: 20.9887\n",
      "Epoch 161/500\n",
      "2/2 [==============================] - 0s 4ms/step - loss: 23.7215 - mae: 23.7215\n",
      "Epoch 162/500\n",
      "2/2 [==============================] - 0s 4ms/step - loss: 18.6523 - mae: 18.6523\n",
      "Epoch 163/500\n",
      "2/2 [==============================] - 0s 5ms/step - loss: 17.6070 - mae: 17.6070\n",
      "Epoch 164/500\n",
      "2/2 [==============================] - 0s 5ms/step - loss: 11.0420 - mae: 11.0420\n",
      "Epoch 165/500\n",
      "2/2 [==============================] - 0s 5ms/step - loss: 9.6274 - mae: 9.6274\n",
      "Epoch 166/500\n",
      "2/2 [==============================] - 0s 4ms/step - loss: 21.5963 - mae: 21.5963\n",
      "Epoch 167/500\n",
      "2/2 [==============================] - 0s 6ms/step - loss: 26.2802 - mae: 26.2802\n",
      "Epoch 168/500\n",
      "2/2 [==============================] - 0s 4ms/step - loss: 9.8733 - mae: 9.8733\n",
      "Epoch 169/500\n",
      "2/2 [==============================] - 0s 6ms/step - loss: 22.5393 - mae: 22.5393\n",
      "Epoch 170/500\n",
      "2/2 [==============================] - 0s 4ms/step - loss: 10.1651 - mae: 10.1651\n",
      "Epoch 171/500\n",
      "2/2 [==============================] - 0s 4ms/step - loss: 18.0640 - mae: 18.0640\n",
      "Epoch 172/500\n",
      "2/2 [==============================] - 0s 6ms/step - loss: 28.7984 - mae: 28.7984\n",
      "Epoch 173/500\n",
      "2/2 [==============================] - 0s 4ms/step - loss: 16.5038 - mae: 16.5038\n",
      "Epoch 174/500\n",
      "2/2 [==============================] - 0s 5ms/step - loss: 11.2251 - mae: 11.2251\n",
      "Epoch 175/500\n",
      "2/2 [==============================] - 0s 4ms/step - loss: 27.5970 - mae: 27.5970\n",
      "Epoch 176/500\n",
      "2/2 [==============================] - 0s 4ms/step - loss: 8.2750 - mae: 8.2750\n",
      "Epoch 177/500\n",
      "2/2 [==============================] - 0s 4ms/step - loss: 9.2685 - mae: 9.2685\n",
      "Epoch 178/500\n",
      "2/2 [==============================] - 0s 4ms/step - loss: 18.0947 - mae: 18.0947\n",
      "Epoch 179/500\n",
      "2/2 [==============================] - 0s 3ms/step - loss: 10.6290 - mae: 10.6290\n",
      "Epoch 180/500\n",
      "2/2 [==============================] - 0s 5ms/step - loss: 7.9095 - mae: 7.9095\n",
      "Epoch 181/500\n",
      "2/2 [==============================] - 0s 5ms/step - loss: 17.3474 - mae: 17.3474\n",
      "Epoch 182/500\n",
      "2/2 [==============================] - 0s 5ms/step - loss: 11.0032 - mae: 11.0032\n",
      "Epoch 183/500\n",
      "2/2 [==============================] - 0s 4ms/step - loss: 11.6794 - mae: 11.6794\n",
      "Epoch 184/500\n",
      "2/2 [==============================] - 0s 6ms/step - loss: 30.2920 - mae: 30.2920\n",
      "Epoch 185/500\n",
      "2/2 [==============================] - 0s 4ms/step - loss: 8.1915 - mae: 8.1915\n",
      "Epoch 186/500\n",
      "2/2 [==============================] - 0s 4ms/step - loss: 18.6839 - mae: 18.6839\n",
      "Epoch 187/500\n",
      "2/2 [==============================] - 0s 4ms/step - loss: 8.7789 - mae: 8.7789\n",
      "Epoch 188/500\n",
      "2/2 [==============================] - 0s 4ms/step - loss: 23.6668 - mae: 23.6668\n",
      "Epoch 189/500\n",
      "2/2 [==============================] - 0s 6ms/step - loss: 9.4091 - mae: 9.4091\n",
      "Epoch 190/500\n",
      "2/2 [==============================] - 0s 4ms/step - loss: 17.1715 - mae: 17.1715\n",
      "Epoch 191/500\n",
      "2/2 [==============================] - 0s 5ms/step - loss: 8.5719 - mae: 8.5719\n",
      "Epoch 192/500\n",
      "2/2 [==============================] - 0s 3ms/step - loss: 15.1655 - mae: 15.1655\n",
      "Epoch 193/500\n",
      "2/2 [==============================] - 0s 4ms/step - loss: 29.9999 - mae: 29.9999\n",
      "Epoch 194/500\n",
      "2/2 [==============================] - 0s 4ms/step - loss: 9.6085 - mae: 9.6085\n",
      "Epoch 195/500\n",
      "2/2 [==============================] - 0s 5ms/step - loss: 11.9993 - mae: 11.9993\n",
      "Epoch 196/500\n",
      "2/2 [==============================] - 0s 4ms/step - loss: 23.3462 - mae: 23.3462\n",
      "Epoch 197/500\n",
      "2/2 [==============================] - 0s 3ms/step - loss: 18.1524 - mae: 18.1524\n",
      "Epoch 198/500\n",
      "2/2 [==============================] - 0s 4ms/step - loss: 10.8309 - mae: 10.8309\n",
      "Epoch 199/500\n",
      "2/2 [==============================] - 0s 4ms/step - loss: 22.4389 - mae: 22.4389\n",
      "Epoch 200/500\n",
      "2/2 [==============================] - 0s 4ms/step - loss: 17.0865 - mae: 17.0865\n",
      "Epoch 201/500\n",
      "2/2 [==============================] - 0s 5ms/step - loss: 7.3914 - mae: 7.3914\n",
      "Epoch 202/500\n",
      "2/2 [==============================] - 0s 4ms/step - loss: 26.0980 - mae: 26.0980\n",
      "Epoch 203/500\n",
      "2/2 [==============================] - 0s 4ms/step - loss: 13.3799 - mae: 13.3799\n",
      "Epoch 204/500\n",
      "2/2 [==============================] - 0s 4ms/step - loss: 18.4321 - mae: 18.4321\n",
      "Epoch 205/500\n",
      "2/2 [==============================] - 0s 3ms/step - loss: 9.2361 - mae: 9.2361\n",
      "Epoch 206/500\n",
      "2/2 [==============================] - 0s 3ms/step - loss: 10.3269 - mae: 10.3269\n",
      "Epoch 207/500\n",
      "2/2 [==============================] - 0s 3ms/step - loss: 20.6649 - mae: 20.6649\n",
      "Epoch 208/500\n",
      "2/2 [==============================] - 0s 4ms/step - loss: 16.1638 - mae: 16.1638\n",
      "Epoch 209/500\n",
      "2/2 [==============================] - 0s 4ms/step - loss: 14.0690 - mae: 14.0690\n",
      "Epoch 210/500\n",
      "2/2 [==============================] - 0s 3ms/step - loss: 18.9483 - mae: 18.9483\n",
      "Epoch 211/500\n",
      "2/2 [==============================] - 0s 3ms/step - loss: 10.2075 - mae: 10.2075\n",
      "Epoch 212/500\n",
      "2/2 [==============================] - 0s 3ms/step - loss: 19.5424 - mae: 19.5424\n",
      "Epoch 213/500\n",
      "2/2 [==============================] - 0s 5ms/step - loss: 14.7314 - mae: 14.7314\n",
      "Epoch 214/500\n",
      "2/2 [==============================] - 0s 4ms/step - loss: 14.3938 - mae: 14.3938\n",
      "Epoch 215/500\n",
      "2/2 [==============================] - 0s 4ms/step - loss: 22.8937 - mae: 22.8937\n",
      "Epoch 216/500\n",
      "2/2 [==============================] - 0s 5ms/step - loss: 14.3522 - mae: 14.3522\n",
      "Epoch 217/500\n",
      "2/2 [==============================] - 0s 4ms/step - loss: 9.1342 - mae: 9.1342\n",
      "Epoch 218/500\n",
      "2/2 [==============================] - 0s 3ms/step - loss: 11.9460 - mae: 11.9460\n",
      "Epoch 219/500\n",
      "2/2 [==============================] - 0s 4ms/step - loss: 6.7644 - mae: 6.7644\n",
      "Epoch 220/500\n",
      "2/2 [==============================] - 0s 4ms/step - loss: 7.1303 - mae: 7.1303\n",
      "Epoch 221/500\n",
      "2/2 [==============================] - 0s 4ms/step - loss: 38.3432 - mae: 38.3432\n",
      "Epoch 222/500\n",
      "2/2 [==============================] - 0s 4ms/step - loss: 38.3367 - mae: 38.3367\n",
      "Epoch 223/500\n",
      "2/2 [==============================] - 0s 3ms/step - loss: 5.5133 - mae: 5.5133\n",
      "Epoch 224/500\n",
      "2/2 [==============================] - 0s 4ms/step - loss: 15.0395 - mae: 15.0395\n",
      "Epoch 225/500\n",
      "2/2 [==============================] - 0s 4ms/step - loss: 17.1044 - mae: 17.1044\n",
      "Epoch 226/500\n",
      "2/2 [==============================] - 0s 4ms/step - loss: 16.2869 - mae: 16.2869\n",
      "Epoch 227/500\n",
      "2/2 [==============================] - 0s 3ms/step - loss: 16.6377 - mae: 16.6377\n",
      "Epoch 228/500\n",
      "2/2 [==============================] - 0s 4ms/step - loss: 10.0388 - mae: 10.0388\n",
      "Epoch 229/500\n",
      "2/2 [==============================] - 0s 5ms/step - loss: 17.9616 - mae: 17.9616\n",
      "Epoch 230/500\n",
      "2/2 [==============================] - 0s 3ms/step - loss: 15.5621 - mae: 15.5621\n",
      "Epoch 231/500\n",
      "2/2 [==============================] - 0s 4ms/step - loss: 21.0669 - mae: 21.0669\n",
      "Epoch 232/500\n",
      "2/2 [==============================] - 0s 4ms/step - loss: 25.6001 - mae: 25.6001\n",
      "Epoch 233/500\n",
      "2/2 [==============================] - 0s 4ms/step - loss: 16.5803 - mae: 16.5803\n",
      "Epoch 234/500\n",
      "2/2 [==============================] - 0s 3ms/step - loss: 7.3838 - mae: 7.3838\n",
      "Epoch 235/500\n",
      "2/2 [==============================] - 0s 4ms/step - loss: 17.2160 - mae: 17.2160\n",
      "Epoch 236/500\n",
      "2/2 [==============================] - 0s 4ms/step - loss: 7.2490 - mae: 7.2490\n",
      "Epoch 237/500\n",
      "2/2 [==============================] - 0s 5ms/step - loss: 9.3543 - mae: 9.3543\n",
      "Epoch 238/500\n",
      "2/2 [==============================] - 0s 5ms/step - loss: 8.1979 - mae: 8.1979\n",
      "Epoch 239/500\n",
      "2/2 [==============================] - 0s 4ms/step - loss: 17.2182 - mae: 17.2182\n",
      "Epoch 240/500\n",
      "2/2 [==============================] - 0s 4ms/step - loss: 8.9741 - mae: 8.9741\n",
      "Epoch 241/500\n",
      "2/2 [==============================] - 0s 4ms/step - loss: 13.2982 - mae: 13.2982\n",
      "Epoch 242/500\n",
      "2/2 [==============================] - 0s 5ms/step - loss: 8.8778 - mae: 8.8778\n",
      "Epoch 243/500\n",
      "2/2 [==============================] - 0s 3ms/step - loss: 18.9429 - mae: 18.9429\n",
      "Epoch 244/500\n",
      "2/2 [==============================] - 0s 3ms/step - loss: 14.0427 - mae: 14.0427\n",
      "Epoch 245/500\n",
      "2/2 [==============================] - 0s 3ms/step - loss: 14.6723 - mae: 14.6723\n",
      "Epoch 246/500\n",
      "2/2 [==============================] - 0s 5ms/step - loss: 15.8076 - mae: 15.8076\n",
      "Epoch 247/500\n",
      "2/2 [==============================] - 0s 3ms/step - loss: 17.6849 - mae: 17.6849\n",
      "Epoch 248/500\n",
      "2/2 [==============================] - 0s 4ms/step - loss: 13.2430 - mae: 13.2430\n",
      "Epoch 249/500\n",
      "2/2 [==============================] - 0s 3ms/step - loss: 14.5221 - mae: 14.5221\n",
      "Epoch 250/500\n",
      "2/2 [==============================] - 0s 4ms/step - loss: 23.2418 - mae: 23.2418\n",
      "Epoch 251/500\n",
      "2/2 [==============================] - 0s 3ms/step - loss: 9.3435 - mae: 9.3435\n",
      "Epoch 252/500\n",
      "2/2 [==============================] - 0s 5ms/step - loss: 36.6242 - mae: 36.6242\n",
      "Epoch 253/500\n",
      "2/2 [==============================] - 0s 3ms/step - loss: 21.8095 - mae: 21.8095\n",
      "Epoch 254/500\n",
      "2/2 [==============================] - 0s 3ms/step - loss: 7.3243 - mae: 7.3243\n",
      "Epoch 255/500\n",
      "2/2 [==============================] - 0s 4ms/step - loss: 24.6688 - mae: 24.6688\n",
      "Epoch 256/500\n",
      "2/2 [==============================] - 0s 4ms/step - loss: 12.4327 - mae: 12.4327\n",
      "Epoch 257/500\n",
      "2/2 [==============================] - 0s 3ms/step - loss: 10.5954 - mae: 10.5954\n",
      "Epoch 258/500\n",
      "2/2 [==============================] - 0s 4ms/step - loss: 14.1964 - mae: 14.1964\n",
      "Epoch 259/500\n",
      "2/2 [==============================] - 0s 3ms/step - loss: 11.2682 - mae: 11.2682\n",
      "Epoch 260/500\n",
      "2/2 [==============================] - 0s 4ms/step - loss: 31.5675 - mae: 31.5675\n",
      "Epoch 261/500\n",
      "2/2 [==============================] - 0s 3ms/step - loss: 11.1893 - mae: 11.1893\n",
      "Epoch 262/500\n",
      "2/2 [==============================] - 0s 3ms/step - loss: 10.0429 - mae: 10.0429\n",
      "Epoch 263/500\n",
      "2/2 [==============================] - 0s 6ms/step - loss: 8.9585 - mae: 8.9585\n",
      "Epoch 264/500\n",
      "2/2 [==============================] - 0s 3ms/step - loss: 21.4479 - mae: 21.4479\n",
      "Epoch 265/500\n",
      "2/2 [==============================] - 0s 4ms/step - loss: 11.4729 - mae: 11.4729\n",
      "Epoch 266/500\n",
      "2/2 [==============================] - 0s 7ms/step - loss: 13.3152 - mae: 13.3152\n",
      "Epoch 267/500\n",
      "2/2 [==============================] - 0s 4ms/step - loss: 11.0996 - mae: 11.0996\n",
      "Epoch 268/500\n",
      "2/2 [==============================] - 0s 4ms/step - loss: 19.1880 - mae: 19.1880\n",
      "Epoch 269/500\n",
      "2/2 [==============================] - 0s 7ms/step - loss: 40.6149 - mae: 40.6149\n",
      "Epoch 270/500\n",
      "2/2 [==============================] - 0s 4ms/step - loss: 12.8862 - mae: 12.8862\n",
      "Epoch 271/500\n",
      "2/2 [==============================] - 0s 5ms/step - loss: 14.7770 - mae: 14.7770\n",
      "Epoch 272/500\n",
      "2/2 [==============================] - 0s 5ms/step - loss: 28.5297 - mae: 28.5297\n",
      "Epoch 273/500\n",
      "2/2 [==============================] - 0s 4ms/step - loss: 7.3627 - mae: 7.3627\n",
      "Epoch 274/500\n",
      "2/2 [==============================] - 0s 4ms/step - loss: 6.3685 - mae: 6.3685\n",
      "Epoch 275/500\n",
      "2/2 [==============================] - 0s 7ms/step - loss: 36.7986 - mae: 36.7986\n",
      "Epoch 276/500\n",
      "2/2 [==============================] - 0s 4ms/step - loss: 8.2929 - mae: 8.2929\n",
      "Epoch 277/500\n",
      "2/2 [==============================] - 0s 4ms/step - loss: 27.6314 - mae: 27.6314\n",
      "Epoch 278/500\n",
      "2/2 [==============================] - 0s 7ms/step - loss: 10.7023 - mae: 10.7023\n",
      "Epoch 279/500\n",
      "2/2 [==============================] - 0s 4ms/step - loss: 16.1284 - mae: 16.1284\n",
      "Epoch 280/500\n",
      "2/2 [==============================] - 0s 3ms/step - loss: 21.2723 - mae: 21.2723\n",
      "Epoch 281/500\n",
      "2/2 [==============================] - 0s 5ms/step - loss: 23.7061 - mae: 23.7061\n",
      "Epoch 282/500\n",
      "2/2 [==============================] - 0s 4ms/step - loss: 8.2499 - mae: 8.2499\n",
      "Epoch 283/500\n",
      "2/2 [==============================] - 0s 4ms/step - loss: 8.4410 - mae: 8.4410\n",
      "Epoch 284/500\n",
      "2/2 [==============================] - 0s 8ms/step - loss: 26.5355 - mae: 26.5355\n",
      "Epoch 285/500\n",
      "2/2 [==============================] - 0s 4ms/step - loss: 14.1640 - mae: 14.1640\n",
      "Epoch 286/500\n",
      "2/2 [==============================] - 0s 4ms/step - loss: 6.0173 - mae: 6.0173\n",
      "Epoch 287/500\n",
      "2/2 [==============================] - 0s 9ms/step - loss: 18.9937 - mae: 18.9937\n",
      "Epoch 288/500\n",
      "2/2 [==============================] - 0s 6ms/step - loss: 32.8900 - mae: 32.8900\n",
      "Epoch 289/500\n",
      "2/2 [==============================] - 0s 4ms/step - loss: 8.3823 - mae: 8.3823\n",
      "Epoch 290/500\n",
      "2/2 [==============================] - 0s 6ms/step - loss: 16.8741 - mae: 16.8741\n",
      "Epoch 291/500\n",
      "2/2 [==============================] - 0s 2ms/step - loss: 17.2448 - mae: 17.2448\n",
      "Epoch 292/500\n",
      "2/2 [==============================] - 0s 3ms/step - loss: 10.8833 - mae: 10.8833\n",
      "Epoch 293/500\n",
      "2/2 [==============================] - 0s 4ms/step - loss: 14.5738 - mae: 14.5738\n",
      "Epoch 294/500\n",
      "2/2 [==============================] - 0s 3ms/step - loss: 21.8065 - mae: 21.8065\n",
      "Epoch 295/500\n",
      "2/2 [==============================] - 0s 6ms/step - loss: 19.9744 - mae: 19.9744\n",
      "Epoch 296/500\n",
      "2/2 [==============================] - 0s 3ms/step - loss: 7.0109 - mae: 7.0109\n",
      "Epoch 297/500\n",
      "2/2 [==============================] - 0s 5ms/step - loss: 9.0137 - mae: 9.0137\n",
      "Epoch 298/500\n",
      "2/2 [==============================] - 0s 5ms/step - loss: 24.2619 - mae: 24.2619\n",
      "Epoch 299/500\n",
      "2/2 [==============================] - 0s 4ms/step - loss: 17.8672 - mae: 17.8672\n",
      "Epoch 300/500\n",
      "2/2 [==============================] - 0s 3ms/step - loss: 7.0239 - mae: 7.0239\n",
      "Epoch 301/500\n",
      "2/2 [==============================] - 0s 5ms/step - loss: 25.3460 - mae: 25.3460\n",
      "Epoch 302/500\n",
      "2/2 [==============================] - 0s 3ms/step - loss: 9.4610 - mae: 9.4610\n",
      "Epoch 303/500\n",
      "2/2 [==============================] - 0s 4ms/step - loss: 14.4287 - mae: 14.4287\n",
      "Epoch 304/500\n",
      "2/2 [==============================] - 0s 3ms/step - loss: 10.8419 - mae: 10.8419\n",
      "Epoch 305/500\n",
      "2/2 [==============================] - 0s 4ms/step - loss: 12.6573 - mae: 12.6573\n",
      "Epoch 306/500\n",
      "2/2 [==============================] - 0s 5ms/step - loss: 8.2835 - mae: 8.2835\n",
      "Epoch 307/500\n",
      "2/2 [==============================] - 0s 3ms/step - loss: 13.0978 - mae: 13.0978\n",
      "Epoch 308/500\n",
      "2/2 [==============================] - 0s 4ms/step - loss: 8.1456 - mae: 8.1456\n",
      "Epoch 309/500\n",
      "2/2 [==============================] - 0s 3ms/step - loss: 11.7446 - mae: 11.7446\n",
      "Epoch 310/500\n",
      "2/2 [==============================] - 0s 6ms/step - loss: 6.3505 - mae: 6.3505\n",
      "Epoch 311/500\n",
      "2/2 [==============================] - 0s 4ms/step - loss: 4.9859 - mae: 4.9859\n",
      "Epoch 312/500\n",
      "2/2 [==============================] - 0s 4ms/step - loss: 29.2875 - mae: 29.2875\n",
      "Epoch 313/500\n",
      "2/2 [==============================] - 0s 3ms/step - loss: 8.9598 - mae: 8.9598\n",
      "Epoch 314/500\n",
      "2/2 [==============================] - 0s 3ms/step - loss: 6.5070 - mae: 6.5070\n",
      "Epoch 315/500\n",
      "2/2 [==============================] - 0s 6ms/step - loss: 23.9059 - mae: 23.9059\n",
      "Epoch 316/500\n",
      "2/2 [==============================] - 0s 3ms/step - loss: 16.2544 - mae: 16.2544\n",
      "Epoch 317/500\n",
      "2/2 [==============================] - 0s 4ms/step - loss: 20.8909 - mae: 20.8909\n",
      "Epoch 318/500\n",
      "2/2 [==============================] - 0s 4ms/step - loss: 7.8759 - mae: 7.8759\n",
      "Epoch 319/500\n",
      "2/2 [==============================] - 0s 3ms/step - loss: 17.8152 - mae: 17.8152\n",
      "Epoch 320/500\n",
      "2/2 [==============================] - 0s 5ms/step - loss: 10.1331 - mae: 10.1331\n",
      "Epoch 321/500\n",
      "2/2 [==============================] - 0s 3ms/step - loss: 8.2477 - mae: 8.2477\n",
      "Epoch 322/500\n",
      "2/2 [==============================] - 0s 4ms/step - loss: 4.2634 - mae: 4.2634\n",
      "Epoch 323/500\n",
      "2/2 [==============================] - 0s 3ms/step - loss: 14.6698 - mae: 14.6698\n",
      "Epoch 324/500\n",
      "2/2 [==============================] - 0s 3ms/step - loss: 18.8587 - mae: 18.8587\n",
      "Epoch 325/500\n",
      "2/2 [==============================] - 0s 5ms/step - loss: 17.6225 - mae: 17.6225\n",
      "Epoch 326/500\n",
      "2/2 [==============================] - 0s 3ms/step - loss: 23.9803 - mae: 23.9803\n",
      "Epoch 327/500\n",
      "2/2 [==============================] - 0s 6ms/step - loss: 10.3129 - mae: 10.3129\n",
      "Epoch 328/500\n",
      "2/2 [==============================] - 0s 5ms/step - loss: 13.1211 - mae: 13.1211\n",
      "Epoch 329/500\n",
      "2/2 [==============================] - 0s 5ms/step - loss: 15.9801 - mae: 15.9801\n",
      "Epoch 330/500\n",
      "2/2 [==============================] - 0s 4ms/step - loss: 14.3219 - mae: 14.3219\n",
      "Epoch 331/500\n",
      "2/2 [==============================] - 0s 4ms/step - loss: 25.7571 - mae: 25.7571\n",
      "Epoch 332/500\n",
      "2/2 [==============================] - 0s 6ms/step - loss: 17.1812 - mae: 17.1812\n",
      "Epoch 333/500\n",
      "2/2 [==============================] - 0s 4ms/step - loss: 8.4773 - mae: 8.4773\n",
      "Epoch 334/500\n",
      "2/2 [==============================] - 0s 4ms/step - loss: 13.3957 - mae: 13.3957\n",
      "Epoch 335/500\n",
      "2/2 [==============================] - 0s 3ms/step - loss: 13.0634 - mae: 13.0634\n",
      "Epoch 336/500\n",
      "2/2 [==============================] - 0s 3ms/step - loss: 32.5613 - mae: 32.5613\n",
      "Epoch 337/500\n",
      "2/2 [==============================] - 0s 4ms/step - loss: 11.0919 - mae: 11.0919\n",
      "Epoch 338/500\n",
      "2/2 [==============================] - 0s 4ms/step - loss: 20.0678 - mae: 20.0678\n",
      "Epoch 339/500\n",
      "2/2 [==============================] - 0s 4ms/step - loss: 33.9937 - mae: 33.9937\n",
      "Epoch 340/500\n",
      "2/2 [==============================] - 0s 4ms/step - loss: 8.6196 - mae: 8.6196\n",
      "Epoch 341/500\n",
      "2/2 [==============================] - 0s 4ms/step - loss: 21.7056 - mae: 21.7056\n",
      "Epoch 342/500\n",
      "2/2 [==============================] - 0s 5ms/step - loss: 14.0129 - mae: 14.0129\n",
      "Epoch 343/500\n",
      "2/2 [==============================] - 0s 4ms/step - loss: 11.5395 - mae: 11.5395\n",
      "Epoch 344/500\n",
      "2/2 [==============================] - 0s 4ms/step - loss: 10.6526 - mae: 10.6526\n",
      "Epoch 345/500\n",
      "2/2 [==============================] - 0s 6ms/step - loss: 30.8206 - mae: 30.8206\n",
      "Epoch 346/500\n",
      "2/2 [==============================] - 0s 4ms/step - loss: 10.5785 - mae: 10.5785\n",
      "Epoch 347/500\n",
      "2/2 [==============================] - 0s 4ms/step - loss: 25.4355 - mae: 25.4355\n",
      "Epoch 348/500\n",
      "2/2 [==============================] - 0s 4ms/step - loss: 13.5804 - mae: 13.5804\n",
      "Epoch 349/500\n",
      "2/2 [==============================] - 0s 3ms/step - loss: 12.9169 - mae: 12.9169\n",
      "Epoch 350/500\n",
      "2/2 [==============================] - 0s 5ms/step - loss: 15.3520 - mae: 15.3520\n",
      "Epoch 351/500\n",
      "2/2 [==============================] - 0s 4ms/step - loss: 32.8061 - mae: 32.8061\n",
      "Epoch 352/500\n",
      "2/2 [==============================] - 0s 3ms/step - loss: 13.8531 - mae: 13.8531\n",
      "Epoch 353/500\n",
      "2/2 [==============================] - 0s 3ms/step - loss: 15.8603 - mae: 15.8603\n",
      "Epoch 354/500\n",
      "2/2 [==============================] - 0s 4ms/step - loss: 18.9622 - mae: 18.9622\n",
      "Epoch 355/500\n",
      "2/2 [==============================] - 0s 4ms/step - loss: 34.4730 - mae: 34.4730\n",
      "Epoch 356/500\n",
      "2/2 [==============================] - 0s 3ms/step - loss: 8.3147 - mae: 8.3147\n",
      "Epoch 357/500\n",
      "2/2 [==============================] - 0s 4ms/step - loss: 21.9491 - mae: 21.9491\n",
      "Epoch 358/500\n",
      "2/2 [==============================] - 0s 3ms/step - loss: 20.0929 - mae: 20.0929\n",
      "Epoch 359/500\n",
      "2/2 [==============================] - 0s 4ms/step - loss: 11.0207 - mae: 11.0207\n",
      "Epoch 360/500\n",
      "2/2 [==============================] - 0s 5ms/step - loss: 20.2388 - mae: 20.2388\n",
      "Epoch 361/500\n",
      "2/2 [==============================] - 0s 3ms/step - loss: 11.0547 - mae: 11.0547\n",
      "Epoch 362/500\n",
      "2/2 [==============================] - 0s 3ms/step - loss: 6.8066 - mae: 6.8066\n",
      "Epoch 363/500\n",
      "2/2 [==============================] - 0s 3ms/step - loss: 24.0767 - mae: 24.0767\n",
      "Epoch 364/500\n",
      "2/2 [==============================] - 0s 4ms/step - loss: 29.8655 - mae: 29.8655\n",
      "Epoch 365/500\n",
      "2/2 [==============================] - 0s 4ms/step - loss: 8.3671 - mae: 8.3671\n",
      "Epoch 366/500\n",
      "2/2 [==============================] - 0s 4ms/step - loss: 6.0745 - mae: 6.0745\n",
      "Epoch 367/500\n",
      "2/2 [==============================] - 0s 5ms/step - loss: 35.0590 - mae: 35.0590\n",
      "Epoch 368/500\n",
      "2/2 [==============================] - 0s 3ms/step - loss: 7.4184 - mae: 7.4184\n",
      "Epoch 369/500\n",
      "2/2 [==============================] - 0s 4ms/step - loss: 9.6531 - mae: 9.6531\n",
      "Epoch 370/500\n",
      "2/2 [==============================] - 0s 3ms/step - loss: 7.7679 - mae: 7.7679\n",
      "Epoch 371/500\n",
      "2/2 [==============================] - 0s 4ms/step - loss: 20.0149 - mae: 20.0149\n",
      "Epoch 372/500\n",
      "2/2 [==============================] - 0s 3ms/step - loss: 12.5261 - mae: 12.5261\n",
      "Epoch 373/500\n",
      "2/2 [==============================] - 0s 3ms/step - loss: 26.4422 - mae: 26.4422\n",
      "Epoch 374/500\n",
      "2/2 [==============================] - 0s 3ms/step - loss: 9.2155 - mae: 9.2155\n",
      "Epoch 375/500\n",
      "2/2 [==============================] - 0s 3ms/step - loss: 4.8697 - mae: 4.8697\n",
      "Epoch 376/500\n",
      "2/2 [==============================] - 0s 5ms/step - loss: 17.5819 - mae: 17.5819\n",
      "Epoch 377/500\n",
      "2/2 [==============================] - 0s 4ms/step - loss: 14.2686 - mae: 14.2686\n",
      "Epoch 378/500\n",
      "2/2 [==============================] - 0s 3ms/step - loss: 15.9153 - mae: 15.9153\n",
      "Epoch 379/500\n",
      "2/2 [==============================] - 0s 3ms/step - loss: 19.9978 - mae: 19.9978\n",
      "Epoch 380/500\n",
      "2/2 [==============================] - 0s 4ms/step - loss: 36.1231 - mae: 36.1231\n",
      "Epoch 381/500\n",
      "2/2 [==============================] - 0s 4ms/step - loss: 10.2486 - mae: 10.2486\n",
      "Epoch 382/500\n",
      "2/2 [==============================] - 0s 3ms/step - loss: 5.8609 - mae: 5.8609\n",
      "Epoch 383/500\n",
      "2/2 [==============================] - 0s 3ms/step - loss: 14.8593 - mae: 14.8593\n",
      "Epoch 384/500\n",
      "2/2 [==============================] - 0s 5ms/step - loss: 16.1462 - mae: 16.1462\n",
      "Epoch 385/500\n",
      "2/2 [==============================] - 0s 6ms/step - loss: 11.6696 - mae: 11.6696\n",
      "Epoch 386/500\n",
      "2/2 [==============================] - 0s 4ms/step - loss: 20.0719 - mae: 20.0719\n",
      "Epoch 387/500\n",
      "2/2 [==============================] - 0s 3ms/step - loss: 24.0965 - mae: 24.0965\n",
      "Epoch 388/500\n",
      "2/2 [==============================] - 0s 5ms/step - loss: 7.5335 - mae: 7.5335\n",
      "Epoch 389/500\n",
      "2/2 [==============================] - 0s 3ms/step - loss: 14.1989 - mae: 14.1989\n",
      "Epoch 390/500\n",
      "2/2 [==============================] - 0s 3ms/step - loss: 8.2584 - mae: 8.2584\n",
      "Epoch 391/500\n",
      "2/2 [==============================] - 0s 3ms/step - loss: 15.5274 - mae: 15.5274\n",
      "Epoch 392/500\n",
      "2/2 [==============================] - 0s 5ms/step - loss: 17.1723 - mae: 17.1723\n",
      "Epoch 393/500\n",
      "2/2 [==============================] - 0s 3ms/step - loss: 10.5326 - mae: 10.5326\n",
      "Epoch 394/500\n",
      "2/2 [==============================] - 0s 3ms/step - loss: 14.0760 - mae: 14.0760\n",
      "Epoch 395/500\n",
      "2/2 [==============================] - 0s 4ms/step - loss: 28.4420 - mae: 28.4420\n",
      "Epoch 396/500\n",
      "2/2 [==============================] - 0s 3ms/step - loss: 8.4633 - mae: 8.4633\n",
      "Epoch 397/500\n",
      "2/2 [==============================] - 0s 4ms/step - loss: 11.2542 - mae: 11.2542\n",
      "Epoch 398/500\n",
      "2/2 [==============================] - 0s 3ms/step - loss: 6.8698 - mae: 6.8698\n",
      "Epoch 399/500\n",
      "2/2 [==============================] - 0s 6ms/step - loss: 14.1172 - mae: 14.1172\n",
      "Epoch 400/500\n",
      "2/2 [==============================] - 0s 4ms/step - loss: 6.6669 - mae: 6.6669\n",
      "Epoch 401/500\n",
      "2/2 [==============================] - 0s 4ms/step - loss: 7.9692 - mae: 7.9692\n",
      "Epoch 402/500\n",
      "2/2 [==============================] - 0s 6ms/step - loss: 16.4042 - mae: 16.4042\n",
      "Epoch 403/500\n",
      "2/2 [==============================] - 0s 3ms/step - loss: 12.3354 - mae: 12.3354\n",
      "Epoch 404/500\n",
      "2/2 [==============================] - 0s 5ms/step - loss: 22.9277 - mae: 22.9277\n",
      "Epoch 405/500\n",
      "2/2 [==============================] - 0s 5ms/step - loss: 18.1099 - mae: 18.1099\n",
      "Epoch 406/500\n",
      "2/2 [==============================] - 0s 4ms/step - loss: 7.0149 - mae: 7.0149\n",
      "Epoch 407/500\n",
      "2/2 [==============================] - 0s 3ms/step - loss: 12.6443 - mae: 12.6443\n",
      "Epoch 408/500\n",
      "2/2 [==============================] - 0s 4ms/step - loss: 5.6273 - mae: 5.6273\n",
      "Epoch 409/500\n",
      "2/2 [==============================] - 0s 4ms/step - loss: 31.2816 - mae: 31.2816\n",
      "Epoch 410/500\n",
      "2/2 [==============================] - 0s 4ms/step - loss: 9.2197 - mae: 9.2197\n",
      "Epoch 411/500\n",
      "2/2 [==============================] - 0s 4ms/step - loss: 14.8493 - mae: 14.8493\n",
      "Epoch 412/500\n",
      "2/2 [==============================] - 0s 4ms/step - loss: 21.7238 - mae: 21.7238\n",
      "Epoch 413/500\n",
      "2/2 [==============================] - 0s 4ms/step - loss: 12.6266 - mae: 12.6266\n",
      "Epoch 414/500\n",
      "2/2 [==============================] - 0s 3ms/step - loss: 6.0162 - mae: 6.0162\n",
      "Epoch 415/500\n",
      "2/2 [==============================] - 0s 3ms/step - loss: 13.2195 - mae: 13.2195\n",
      "Epoch 416/500\n",
      "2/2 [==============================] - 0s 5ms/step - loss: 27.4243 - mae: 27.4243\n",
      "Epoch 417/500\n",
      "2/2 [==============================] - 0s 3ms/step - loss: 10.6408 - mae: 10.6408\n",
      "Epoch 418/500\n",
      "2/2 [==============================] - 0s 4ms/step - loss: 12.8058 - mae: 12.8058\n",
      "Epoch 419/500\n",
      "2/2 [==============================] - 0s 3ms/step - loss: 15.8560 - mae: 15.8560\n",
      "Epoch 420/500\n",
      "2/2 [==============================] - 0s 4ms/step - loss: 24.7288 - mae: 24.7288\n",
      "Epoch 421/500\n",
      "2/2 [==============================] - 0s 4ms/step - loss: 17.5307 - mae: 17.5307\n",
      "Epoch 422/500\n",
      "2/2 [==============================] - 0s 4ms/step - loss: 8.6773 - mae: 8.6773\n",
      "Epoch 423/500\n",
      "2/2 [==============================] - 0s 5ms/step - loss: 24.9116 - mae: 24.9116\n",
      "Epoch 424/500\n",
      "2/2 [==============================] - 0s 3ms/step - loss: 16.2572 - mae: 16.2572\n",
      "Epoch 425/500\n",
      "2/2 [==============================] - 0s 3ms/step - loss: 7.1042 - mae: 7.1042\n",
      "Epoch 426/500\n",
      "2/2 [==============================] - 0s 3ms/step - loss: 20.3667 - mae: 20.3667\n",
      "Epoch 427/500\n",
      "2/2 [==============================] - 0s 4ms/step - loss: 6.2800 - mae: 6.2800\n",
      "Epoch 428/500\n",
      "2/2 [==============================] - 0s 5ms/step - loss: 13.0441 - mae: 13.0441\n",
      "Epoch 429/500\n",
      "2/2 [==============================] - 0s 3ms/step - loss: 10.8262 - mae: 10.8262\n",
      "Epoch 430/500\n",
      "2/2 [==============================] - 0s 3ms/step - loss: 11.6901 - mae: 11.6901\n",
      "Epoch 431/500\n",
      "2/2 [==============================] - 0s 4ms/step - loss: 7.8604 - mae: 7.8604\n",
      "Epoch 432/500\n",
      "2/2 [==============================] - 0s 3ms/step - loss: 22.1059 - mae: 22.1059\n",
      "Epoch 433/500\n",
      "2/2 [==============================] - 0s 4ms/step - loss: 6.9623 - mae: 6.9623\n",
      "Epoch 434/500\n",
      "2/2 [==============================] - 0s 3ms/step - loss: 32.0115 - mae: 32.0115\n",
      "Epoch 435/500\n",
      "2/2 [==============================] - 0s 3ms/step - loss: 13.0275 - mae: 13.0275\n",
      "Epoch 436/500\n",
      "2/2 [==============================] - 0s 3ms/step - loss: 28.1829 - mae: 28.1829\n",
      "Epoch 437/500\n",
      "2/2 [==============================] - 0s 5ms/step - loss: 3.8233 - mae: 3.8233\n",
      "Epoch 438/500\n",
      "2/2 [==============================] - 0s 3ms/step - loss: 15.0481 - mae: 15.0481\n",
      "Epoch 439/500\n",
      "2/2 [==============================] - 0s 4ms/step - loss: 45.7969 - mae: 45.7969\n",
      "Epoch 440/500\n",
      "2/2 [==============================] - 0s 2ms/step - loss: 26.0384 - mae: 26.0384\n",
      "Epoch 441/500\n",
      "2/2 [==============================] - 0s 3ms/step - loss: 5.8740 - mae: 5.8740\n",
      "Epoch 442/500\n",
      "2/2 [==============================] - 0s 4ms/step - loss: 23.2157 - mae: 23.2157\n",
      "Epoch 443/500\n",
      "2/2 [==============================] - 0s 4ms/step - loss: 6.8746 - mae: 6.8746\n",
      "Epoch 444/500\n",
      "2/2 [==============================] - 0s 4ms/step - loss: 20.8841 - mae: 20.8841\n",
      "Epoch 445/500\n",
      "2/2 [==============================] - 0s 4ms/step - loss: 14.0128 - mae: 14.0128\n",
      "Epoch 446/500\n",
      "2/2 [==============================] - 0s 4ms/step - loss: 16.6874 - mae: 16.6874\n",
      "Epoch 447/500\n",
      "2/2 [==============================] - 0s 3ms/step - loss: 6.7774 - mae: 6.7774\n",
      "Epoch 448/500\n",
      "2/2 [==============================] - 0s 3ms/step - loss: 6.0376 - mae: 6.0376\n",
      "Epoch 449/500\n",
      "2/2 [==============================] - 0s 5ms/step - loss: 15.3883 - mae: 15.3883\n",
      "Epoch 450/500\n",
      "2/2 [==============================] - 0s 3ms/step - loss: 17.9890 - mae: 17.9890\n",
      "Epoch 451/500\n",
      "2/2 [==============================] - 0s 4ms/step - loss: 24.5998 - mae: 24.5998\n",
      "Epoch 452/500\n",
      "2/2 [==============================] - 0s 4ms/step - loss: 28.9937 - mae: 28.9937\n",
      "Epoch 453/500\n",
      "2/2 [==============================] - 0s 4ms/step - loss: 15.6235 - mae: 15.6235\n",
      "Epoch 454/500\n",
      "2/2 [==============================] - 0s 4ms/step - loss: 13.9141 - mae: 13.9141\n",
      "Epoch 455/500\n",
      "2/2 [==============================] - 0s 4ms/step - loss: 7.3758 - mae: 7.3758\n",
      "Epoch 456/500\n",
      "2/2 [==============================] - 0s 4ms/step - loss: 11.8338 - mae: 11.8338\n",
      "Epoch 457/500\n",
      "2/2 [==============================] - 0s 5ms/step - loss: 15.2502 - mae: 15.2502\n",
      "Epoch 458/500\n",
      "2/2 [==============================] - 0s 4ms/step - loss: 16.7695 - mae: 16.7695\n",
      "Epoch 459/500\n",
      "2/2 [==============================] - 0s 5ms/step - loss: 6.2260 - mae: 6.2260\n",
      "Epoch 460/500\n",
      "2/2 [==============================] - 0s 4ms/step - loss: 12.2641 - mae: 12.2641\n",
      "Epoch 461/500\n",
      "2/2 [==============================] - 0s 4ms/step - loss: 12.5547 - mae: 12.5547\n",
      "Epoch 462/500\n",
      "2/2 [==============================] - 0s 4ms/step - loss: 13.3544 - mae: 13.3544\n",
      "Epoch 463/500\n",
      "2/2 [==============================] - 0s 4ms/step - loss: 29.6323 - mae: 29.6323\n",
      "Epoch 464/500\n",
      "2/2 [==============================] - 0s 6ms/step - loss: 3.4327 - mae: 3.4327\n",
      "Epoch 465/500\n",
      "2/2 [==============================] - 0s 5ms/step - loss: 15.2687 - mae: 15.2687\n",
      "Epoch 466/500\n",
      "2/2 [==============================] - 0s 6ms/step - loss: 20.9331 - mae: 20.9331\n",
      "Epoch 467/500\n",
      "2/2 [==============================] - 0s 4ms/step - loss: 30.2526 - mae: 30.2526\n",
      "Epoch 468/500\n",
      "2/2 [==============================] - 0s 4ms/step - loss: 10.5690 - mae: 10.5690\n",
      "Epoch 469/500\n",
      "2/2 [==============================] - 0s 4ms/step - loss: 15.0407 - mae: 15.0407\n",
      "Epoch 470/500\n",
      "2/2 [==============================] - 0s 3ms/step - loss: 6.7071 - mae: 6.7071\n",
      "Epoch 471/500\n",
      "2/2 [==============================] - 0s 5ms/step - loss: 22.8106 - mae: 22.8106\n",
      "Epoch 472/500\n",
      "2/2 [==============================] - 0s 4ms/step - loss: 13.3626 - mae: 13.3626\n",
      "Epoch 473/500\n",
      "2/2 [==============================] - 0s 4ms/step - loss: 15.2687 - mae: 15.2687\n",
      "Epoch 474/500\n",
      "2/2 [==============================] - 0s 4ms/step - loss: 11.7358 - mae: 11.7358\n",
      "Epoch 475/500\n",
      "2/2 [==============================] - 0s 3ms/step - loss: 16.3936 - mae: 16.3936\n",
      "Epoch 476/500\n",
      "2/2 [==============================] - 0s 4ms/step - loss: 13.8742 - mae: 13.8742\n",
      "Epoch 477/500\n",
      "2/2 [==============================] - 0s 4ms/step - loss: 30.6605 - mae: 30.6605\n",
      "Epoch 478/500\n",
      "2/2 [==============================] - 0s 3ms/step - loss: 8.6003 - mae: 8.6003\n",
      "Epoch 479/500\n",
      "2/2 [==============================] - 0s 4ms/step - loss: 10.7430 - mae: 10.7430\n",
      "Epoch 480/500\n",
      "2/2 [==============================] - 0s 3ms/step - loss: 17.9091 - mae: 17.9091\n",
      "Epoch 481/500\n",
      "2/2 [==============================] - 0s 4ms/step - loss: 15.8110 - mae: 15.8110\n",
      "Epoch 482/500\n",
      "2/2 [==============================] - 0s 4ms/step - loss: 21.3157 - mae: 21.3157\n",
      "Epoch 483/500\n",
      "2/2 [==============================] - 0s 4ms/step - loss: 25.3586 - mae: 25.3586\n",
      "Epoch 484/500\n",
      "2/2 [==============================] - 0s 4ms/step - loss: 23.9473 - mae: 23.9473\n",
      "Epoch 485/500\n",
      "2/2 [==============================] - 0s 4ms/step - loss: 5.7544 - mae: 5.7544\n",
      "Epoch 486/500\n",
      "2/2 [==============================] - 0s 6ms/step - loss: 19.9707 - mae: 19.9707\n",
      "Epoch 487/500\n",
      "2/2 [==============================] - 0s 4ms/step - loss: 14.0436 - mae: 14.0436\n",
      "Epoch 488/500\n",
      "2/2 [==============================] - 0s 3ms/step - loss: 30.6157 - mae: 30.6157\n",
      "Epoch 489/500\n",
      "2/2 [==============================] - 0s 4ms/step - loss: 11.9483 - mae: 11.9483\n",
      "Epoch 490/500\n",
      "2/2 [==============================] - 0s 3ms/step - loss: 12.7379 - mae: 12.7379\n",
      "Epoch 491/500\n",
      "2/2 [==============================] - 0s 4ms/step - loss: 23.6233 - mae: 23.6233\n",
      "Epoch 492/500\n",
      "2/2 [==============================] - 0s 3ms/step - loss: 20.5158 - mae: 20.5158\n",
      "Epoch 493/500\n",
      "2/2 [==============================] - 0s 3ms/step - loss: 4.9758 - mae: 4.9758\n",
      "Epoch 494/500\n",
      "2/2 [==============================] - 0s 4ms/step - loss: 12.7763 - mae: 12.7763\n",
      "Epoch 495/500\n",
      "2/2 [==============================] - 0s 3ms/step - loss: 13.3825 - mae: 13.3825\n",
      "Epoch 496/500\n",
      "2/2 [==============================] - 0s 4ms/step - loss: 12.6760 - mae: 12.6760\n",
      "Epoch 497/500\n",
      "2/2 [==============================] - 0s 4ms/step - loss: 17.6231 - mae: 17.6231\n",
      "Epoch 498/500\n",
      "2/2 [==============================] - 0s 4ms/step - loss: 23.5485 - mae: 23.5485\n",
      "Epoch 499/500\n",
      "2/2 [==============================] - 0s 4ms/step - loss: 9.3632 - mae: 9.3632\n",
      "Epoch 500/500\n",
      "2/2 [==============================] - 0s 3ms/step - loss: 14.6284 - mae: 14.6284\n"
     ]
    },
    {
     "data": {
      "text/plain": "<keras.callbacks.History at 0x1ba16e3ce50>"
     },
     "execution_count": 44,
     "metadata": {},
     "output_type": "execute_result"
    }
   ],
   "source": [
    "# Set random seed\n",
    "tf.random.set_seed(42)\n",
    "\n",
    "model_3 = tf.keras.Sequential([\n",
    "  tf.keras.layers.Dense(10, name=\"hidden_layer\"),\n",
    "  tf.keras.layers.Dense(1, name=\"output_layer\")\n",
    "], name=\"model_3\")\n",
    "\n",
    "# Compile the model\n",
    "model_3.compile(loss=tf.keras.losses.mae,\n",
    "                optimizer=tf.keras.optimizers.SGD(),\n",
    "                metrics=[\"mae\"])\n",
    "\n",
    "model_3.fit(tf.expand_dims(X_train, axis=-1), y_train, epochs=500, verbose=1)"
   ],
   "metadata": {
    "collapsed": false
   }
  },
  {
   "cell_type": "code",
   "execution_count": 45,
   "outputs": [
    {
     "name": "stdout",
     "output_type": "stream",
     "text": [
      "1/1 [==============================] - 0s 47ms/step\n"
     ]
    },
    {
     "data": {
      "text/plain": "<Figure size 1000x700 with 1 Axes>",
      "image/png": "[encoded data removed]"
     },
     "metadata": {},
     "output_type": "display_data"
    }
   ],
   "source": [
    "# Make and plot predictions for model_3\n",
    "y_pred_3 = model_3.predict(tf.expand_dims(X_test, axis=-1))\n",
    "plot_predictions(train_data=X_train,\n",
    "                 train_labels=y_train,\n",
    "                 test_data=X_test,\n",
    "                 test_labels=y_test,\n",
    "                 predictions=y_pred_3)"
   ],
   "metadata": {
    "collapsed": false
   }
  },
  {
   "cell_type": "code",
   "execution_count": 46,
   "outputs": [
    {
     "data": {
      "text/plain": "(<tf.Tensor: shape=(), dtype=float32, numpy=68.69657>,\n <tf.Tensor: shape=(), dtype=float32, numpy=4805.69>)"
     },
     "execution_count": 46,
     "metadata": {},
     "output_type": "execute_result"
    }
   ],
   "source": [
    "# Evaluate model_3\n",
    "mae_3 = mae(y_test, y_pred_3)\n",
    "mse_3 = mse(y_test, y_pred_3)\n",
    "mae_3, mse_3"
   ],
   "metadata": {
    "collapsed": false
   }
  },
  {
   "cell_type": "markdown",
   "source": [
    " ?? **Note:** You want to start with small experiments (small models) and make sure they work and then increase their scale when necessary."
   ],
   "metadata": {
    "collapsed": false
   }
  },
  {
   "cell_type": "markdown",
   "source": [
    "## Comparing the results of our experiments\n",
    "\n",
    "We've run a few experiments, let's compare the results."
   ],
   "metadata": {
    "collapsed": false
   }
  },
  {
   "cell_type": "code",
   "execution_count": 47,
   "outputs": [
    {
     "data": {
      "text/plain": "     model        mae          mse\n0  model_1   8.650849    81.358536\n1  model_2  10.745449   123.299927\n2  model_3  68.696571  4805.689941",
      "text/html": "<div>\n<style scoped>\n    .dataframe tbody tr th:only-of-type {\n        vertical-align: middle;\n    }\n\n    .dataframe tbody tr th {\n        vertical-align: top;\n    }\n\n    .dataframe thead th {\n        text-align: right;\n    }\n</style>\n<table border=\"1\" class=\"dataframe\">\n  <thead>\n    <tr style=\"text-align: right;\">\n      <th></th>\n      <th>model</th>\n      <th>mae</th>\n      <th>mse</th>\n    </tr>\n  </thead>\n  <tbody>\n    <tr>\n      <th>0</th>\n      <td>model_1</td>\n      <td>8.650849</td>\n      <td>81.358536</td>\n    </tr>\n    <tr>\n      <th>1</th>\n      <td>model_2</td>\n      <td>10.745449</td>\n      <td>123.299927</td>\n    </tr>\n    <tr>\n      <th>2</th>\n      <td>model_3</td>\n      <td>68.696571</td>\n      <td>4805.689941</td>\n    </tr>\n  </tbody>\n</table>\n</div>"
     },
     "execution_count": 47,
     "metadata": {},
     "output_type": "execute_result"
    }
   ],
   "source": [
    "# Let's compare the results of our experiments\n",
    "import pandas as pd\n",
    "model_results = [[\"model_1\", mae_1.numpy(), mse_1.numpy()],\n",
    "                 [\"model_2\", mae_2.numpy(), mse_2.numpy()],\n",
    "                 [\"model_3\", mae_3.numpy(), mse_3.numpy()]]\n",
    "\n",
    "all_results = pd.DataFrame(model_results, columns=[\"model\", \"mae\", \"mse\"])\n",
    "all_results"
   ],
   "metadata": {
    "collapsed": false
   }
  },
  {
   "cell_type": "code",
   "execution_count": 48,
   "outputs": [
    {
     "name": "stdout",
     "output_type": "stream",
     "text": [
      "Model: \"model_2\"\n",
      "_________________________________________________________________\n",
      " Layer (type)                Output Shape              Param #   \n",
      "=================================================================\n",
      " hidden_layer (Dense)        (None, 10)                20        \n",
      "                                                                 \n",
      " output_layer (Dense)        (None, 1)                 11        \n",
      "                                                                 \n",
      "=================================================================\n",
      "Total params: 31\n",
      "Trainable params: 31\n",
      "Non-trainable params: 0\n",
      "_________________________________________________________________\n"
     ]
    }
   ],
   "source": [
    "model_2.summary()"
   ],
   "metadata": {
    "collapsed": false
   }
  },
  {
   "cell_type": "markdown",
   "source": [
    "?? **Note: ** One of your main goals should be minimizing the time between your experiments. The more experiments you do, the more things you'll figure out which don't work in turn, get closer to figuring out what does work. Remember, machine learning practitioner's motto: \"experiment, experiment, experiment\"."
   ],
   "metadata": {
    "collapsed": false
   }
  },
  {
   "cell_type": "markdown",
   "source": [
    "## Tracking your experiments\n",
    "One really good habit in machine learning modelling is to track the results of your experiments. And when doing so, it can be tedious if you're running lots of experiments.\n",
    "\n",
    "Luckily, there are tools to help us!\n",
    "\n",
    "?? **Resource:** As you build more models, you'll want to look into using:\n",
    "* TensorBoard - a component of the TensorFlow library to help track modelling experiments (we'll see this one later).\n",
    "* Weights & Biases - a tool for tracking all kinds of machine learning experiments (plugs straight into TensorBoard).\n",
    "* Comet.ml - another experiment tracking tool with some nice features."
   ],
   "metadata": {
    "collapsed": false
   }
  },
  {
   "cell_type": "markdown",
   "source": [
    "## Saving our models\n",
    "Saving our models allows us to use them outside of Google Colab (or wherever they were trained) such as in a web application or a mobile app.\n",
    "\n",
    "There are two main formats we can save our model's too:\n",
    "1. The SavedModel format.\n",
    "2. The HDF5 format."
   ],
   "metadata": {
    "collapsed": false
   }
  },
  {
   "cell_type": "code",
   "execution_count": 49,
   "outputs": [
    {
     "name": "stdout",
     "output_type": "stream",
     "text": [
      "INFO:tensorflow:Assets written to: best_model_SavedModel_format\\assets\n"
     ]
    }
   ],
   "source": [
    "# Save model using the SavedModel format\n",
    "model_2.save(\"best_model_SavedModel_format\")"
   ],
   "metadata": {
    "collapsed": false
   }
  },
  {
   "cell_type": "code",
   "execution_count": 50,
   "outputs": [],
   "source": [
    "# Save model using the HDF5 format\n",
    "model_2.save(\"best_model_HDF5_format.h5\")"
   ],
   "metadata": {
    "collapsed": false
   }
  },
  {
   "cell_type": "code",
   "execution_count": 51,
   "outputs": [
    {
     "name": "stdout",
     "output_type": "stream",
     "text": [
      "Model: \"model_2\"\n",
      "_________________________________________________________________\n",
      " Layer (type)                Output Shape              Param #   \n",
      "=================================================================\n",
      " hidden_layer (Dense)        (None, 10)                20        \n",
      "                                                                 \n",
      " output_layer (Dense)        (None, 1)                 11        \n",
      "                                                                 \n",
      "=================================================================\n",
      "Total params: 31\n",
      "Trainable params: 31\n",
      "Non-trainable params: 0\n",
      "_________________________________________________________________\n"
     ]
    }
   ],
   "source": [
    "# Load in the SavedModel format model\n",
    "loaded_saved_model = tf.keras.models.load_model(\"best_model_SavedModel_format\")\n",
    "loaded_saved_model.summary()"
   ],
   "metadata": {
    "collapsed": false
   }
  },
  {
   "cell_type": "code",
   "execution_count": 52,
   "outputs": [
    {
     "name": "stdout",
     "output_type": "stream",
     "text": [
      "1/1 [==============================] - 0s 28ms/step\n",
      "1/1 [==============================] - 0s 48ms/step\n"
     ]
    },
    {
     "data": {
      "text/plain": "array([[ True],\n       [ True],\n       [ True],\n       [ True],\n       [ True],\n       [ True],\n       [ True],\n       [ True],\n       [ True],\n       [ True]])"
     },
     "execution_count": 52,
     "metadata": {},
     "output_type": "execute_result"
    }
   ],
   "source": [
    "# Check if the loaded SavedModel format model's predictions match those of the original model\n",
    "model_2_preds = model_2.predict(tf.expand_dims(X_test, axis=-1))\n",
    "loaded_saved_model_preds = loaded_saved_model.predict(tf.expand_dims(X_test, axis=-1))\n",
    "model_2_preds == loaded_saved_model_preds"
   ],
   "metadata": {
    "collapsed": false
   }
  },
  {
   "cell_type": "code",
   "execution_count": 53,
   "outputs": [
    {
     "name": "stdout",
     "output_type": "stream",
     "text": [
      "Model: \"model_2\"\n",
      "_________________________________________________________________\n",
      " Layer (type)                Output Shape              Param #   \n",
      "=================================================================\n",
      " hidden_layer (Dense)        (None, 10)                20        \n",
      "                                                                 \n",
      " output_layer (Dense)        (None, 1)                 11        \n",
      "                                                                 \n",
      "=================================================================\n",
      "Total params: 31\n",
      "Trainable params: 31\n",
      "Non-trainable params: 0\n",
      "_________________________________________________________________\n"
     ]
    }
   ],
   "source": [
    "# Load in the HDF5 format model\n",
    "loaded_h5_model = tf.keras.models.load_model(\"best_model_HDF5_format.h5\")\n",
    "loaded_h5_model.summary()"
   ],
   "metadata": {
    "collapsed": false
   }
  },
  {
   "cell_type": "code",
   "execution_count": 54,
   "outputs": [
    {
     "name": "stdout",
     "output_type": "stream",
     "text": [
      "1/1 [==============================] - 0s 42ms/step\n"
     ]
    },
    {
     "data": {
      "text/plain": "array([[ True],\n       [ True],\n       [ True],\n       [ True],\n       [ True],\n       [ True],\n       [ True],\n       [ True],\n       [ True],\n       [ True]])"
     },
     "execution_count": 54,
     "metadata": {},
     "output_type": "execute_result"
    }
   ],
   "source": [
    "# Check if the loaded HDF5 format model's predictions match those of the original model\n",
    "loaded_h5_model_preds = loaded_h5_model.predict(tf.expand_dims(X_test, axis=-1))\n",
    "model_2_preds == loaded_h5_model_preds"
   ],
   "metadata": {
    "collapsed": false
   }
  },
  {
   "cell_type": "code",
   "execution_count": 55,
   "outputs": [
    {
     "data": {
      "text/plain": "(<tf.Tensor: shape=(), dtype=float32, numpy=68.69657>,\n <tf.Tensor: shape=(), dtype=float32, numpy=4805.69>)"
     },
     "execution_count": 55,
     "metadata": {},
     "output_type": "execute_result"
    }
   ],
   "source": [
    "# Evaluate model_3\n",
    "mae_3 = mae(y_test, y_pred_3)\n",
    "mse_3 = mse(y_test, y_pred_3)\n",
    "mae_3, mse_3"
   ],
   "metadata": {
    "collapsed": false
   }
  },
  {
   "cell_type": "markdown",
   "source": [
    " ?? **Note:** You want to start with small experiments (small models) and make sure they work and then increase their scale when necessary."
   ],
   "metadata": {
    "collapsed": false
   }
  },
  {
   "cell_type": "markdown",
   "source": [
    "## Comparing the results of our experiments\n",
    "\n",
    "We've run a few experiments, let's compare the results."
   ],
   "metadata": {
    "collapsed": false
   }
  },
  {
   "cell_type": "code",
   "execution_count": 56,
   "outputs": [
    {
     "data": {
      "text/plain": "     model        mae          mse\n0  model_1   8.650849    81.358536\n1  model_2  10.745449   123.299927\n2  model_3  68.696571  4805.689941",
      "text/html": "<div>\n<style scoped>\n    .dataframe tbody tr th:only-of-type {\n        vertical-align: middle;\n    }\n\n    .dataframe tbody tr th {\n        vertical-align: top;\n    }\n\n    .dataframe thead th {\n        text-align: right;\n    }\n</style>\n<table border=\"1\" class=\"dataframe\">\n  <thead>\n    <tr style=\"text-align: right;\">\n      <th></th>\n      <th>model</th>\n      <th>mae</th>\n      <th>mse</th>\n    </tr>\n  </thead>\n  <tbody>\n    <tr>\n      <th>0</th>\n      <td>model_1</td>\n      <td>8.650849</td>\n      <td>81.358536</td>\n    </tr>\n    <tr>\n      <th>1</th>\n      <td>model_2</td>\n      <td>10.745449</td>\n      <td>123.299927</td>\n    </tr>\n    <tr>\n      <th>2</th>\n      <td>model_3</td>\n      <td>68.696571</td>\n      <td>4805.689941</td>\n    </tr>\n  </tbody>\n</table>\n</div>"
     },
     "execution_count": 56,
     "metadata": {},
     "output_type": "execute_result"
    }
   ],
   "source": [
    "# Let's compare the results of our experiments\n",
    "import pandas as pd\n",
    "model_results = [[\"model_1\", mae_1.numpy(), mse_1.numpy()],\n",
    "                 [\"model_2\", mae_2.numpy(), mse_2.numpy()],\n",
    "                 [\"model_3\", mae_3.numpy(), mse_3.numpy()]]\n",
    "\n",
    "all_results = pd.DataFrame(model_results, columns=[\"model\", \"mae\", \"mse\"])\n",
    "all_results"
   ],
   "metadata": {
    "collapsed": false
   }
  },
  {
   "cell_type": "code",
   "execution_count": 57,
   "outputs": [
    {
     "name": "stdout",
     "output_type": "stream",
     "text": [
      "Model: \"model_2\"\n",
      "_________________________________________________________________\n",
      " Layer (type)                Output Shape              Param #   \n",
      "=================================================================\n",
      " hidden_layer (Dense)        (None, 10)                20        \n",
      "                                                                 \n",
      " output_layer (Dense)        (None, 1)                 11        \n",
      "                                                                 \n",
      "=================================================================\n",
      "Total params: 31\n",
      "Trainable params: 31\n",
      "Non-trainable params: 0\n",
      "_________________________________________________________________\n"
     ]
    }
   ],
   "source": [
    "model_2.summary()"
   ],
   "metadata": {
    "collapsed": false
   }
  },
  {
   "cell_type": "markdown",
   "source": [
    "?? **Note: ** One of your main goals should be minimizing the time between your experiments. The more experiments you do, the more things you'll figure out which don't work in turn, get closer to figuring out what does work. Remember, machine learning practitioner's motto: \"experiment, experiment, experiment\"."
   ],
   "metadata": {
    "collapsed": false
   }
  },
  {
   "cell_type": "markdown",
   "source": [
    "## Tracking your experiments\n",
    "One really good habit in machine learning modelling is to track the results of your experiments. And when doing so, it can be tedious if you're running lots of experiments.\n",
    "\n",
    "Luckily, there are tools to help us!\n",
    "\n",
    "?? **Resource:** As you build more models, you'll want to look into using:\n",
    "* TensorBoard - a component of the TensorFlow library to help track modelling experiments (we'll see this one later).\n",
    "* Weights & Biases - a tool for tracking all kinds of machine learning experiments (plugs straight into TensorBoard).\n",
    "* Comet.ml - another experiment tracking tool with some nice features."
   ],
   "metadata": {
    "collapsed": false
   }
  },
  {
   "cell_type": "markdown",
   "source": [
    "## Saving our models\n",
    "Saving our models allows us to use them outside of Google Colab (or wherever they were trained) such as in a web application or a mobile app.\n",
    "\n",
    "There are two main formats we can save our model's too:\n",
    "1. The SavedModel format.\n",
    "2. The HDF5 format."
   ],
   "metadata": {
    "collapsed": false
   }
  },
  {
   "cell_type": "code",
   "execution_count": 58,
   "outputs": [
    {
     "name": "stdout",
     "output_type": "stream",
     "text": [
      "INFO:tensorflow:Assets written to: best_model_SavedModel_format\\assets\n"
     ]
    }
   ],
   "source": [
    "# Save model using the SavedModel format\n",
    "model_2.save(\"best_model_SavedModel_format\")"
   ],
   "metadata": {
    "collapsed": false
   }
  },
  {
   "cell_type": "code",
   "execution_count": 59,
   "outputs": [],
   "source": [
    "# Save model using the HDF5 format\n",
    "model_2.save(\"best_model_HDF5_format.h5\")"
   ],
   "metadata": {
    "collapsed": false
   }
  },
  {
   "cell_type": "code",
   "execution_count": 60,
   "outputs": [
    {
     "name": "stdout",
     "output_type": "stream",
     "text": [
      "Model: \"model_2\"\n",
      "_________________________________________________________________\n",
      " Layer (type)                Output Shape              Param #   \n",
      "=================================================================\n",
      " hidden_layer (Dense)        (None, 10)                20        \n",
      "                                                                 \n",
      " output_layer (Dense)        (None, 1)                 11        \n",
      "                                                                 \n",
      "=================================================================\n",
      "Total params: 31\n",
      "Trainable params: 31\n",
      "Non-trainable params: 0\n",
      "_________________________________________________________________\n"
     ]
    }
   ],
   "source": [
    "# Load in the SavedModel format model\n",
    "loaded_saved_model = tf.keras.models.load_model(\"best_model_SavedModel_format\")\n",
    "loaded_saved_model.summary()"
   ],
   "metadata": {
    "collapsed": false
   }
  },
  {
   "cell_type": "code",
   "execution_count": 61,
   "outputs": [
    {
     "name": "stdout",
     "output_type": "stream",
     "text": [
      "1/1 [==============================] - 0s 22ms/step\n",
      "1/1 [==============================] - 0s 45ms/step\n"
     ]
    },
    {
     "data": {
      "text/plain": "array([[ True],\n       [ True],\n       [ True],\n       [ True],\n       [ True],\n       [ True],\n       [ True],\n       [ True],\n       [ True],\n       [ True]])"
     },
     "execution_count": 61,
     "metadata": {},
     "output_type": "execute_result"
    }
   ],
   "source": [
    "# Check if the loaded SavedModel format model's predictions match those of the original model\n",
    "model_2_preds = model_2.predict(tf.expand_dims(X_test, axis=-1))\n",
    "loaded_saved_model_preds = loaded_saved_model.predict(tf.expand_dims(X_test, axis=-1))\n",
    "model_2_preds == loaded_saved_model_preds"
   ],
   "metadata": {
    "collapsed": false
   }
  },
  {
   "cell_type": "code",
   "execution_count": 62,
   "outputs": [
    {
     "name": "stdout",
     "output_type": "stream",
     "text": [
      "Model: \"model_2\"\n",
      "_________________________________________________________________\n",
      " Layer (type)                Output Shape              Param #   \n",
      "=================================================================\n",
      " hidden_layer (Dense)        (None, 10)                20        \n",
      "                                                                 \n",
      " output_layer (Dense)        (None, 1)                 11        \n",
      "                                                                 \n",
      "=================================================================\n",
      "Total params: 31\n",
      "Trainable params: 31\n",
      "Non-trainable params: 0\n",
      "_________________________________________________________________\n"
     ]
    }
   ],
   "source": [
    "# Load in the HDF5 format model\n",
    "loaded_h5_model = tf.keras.models.load_model(\"best_model_HDF5_format.h5\")\n",
    "loaded_h5_model.summary()"
   ],
   "metadata": {
    "collapsed": false
   }
  },
  {
   "cell_type": "code",
   "execution_count": 63,
   "outputs": [
    {
     "name": "stdout",
     "output_type": "stream",
     "text": [
      "1/1 [==============================] - 0s 44ms/step\n"
     ]
    },
    {
     "data": {
      "text/plain": "array([[ True],\n       [ True],\n       [ True],\n       [ True],\n       [ True],\n       [ True],\n       [ True],\n       [ True],\n       [ True],\n       [ True]])"
     },
     "execution_count": 63,
     "metadata": {},
     "output_type": "execute_result"
    }
   ],
   "source": [
    "# Check if the loaded HDF5 format model's predictions match those of the original model\n",
    "loaded_h5_model_preds = loaded_h5_model.predict(tf.expand_dims(X_test, axis=-1))\n",
    "model_2_preds == loaded_h5_model_preds"
   ],
   "metadata": {
    "collapsed": false
   }
  }
 ],
 "metadata": {
  "kernelspec": {
   "display_name": "Python 3",
   "language": "python",
   "name": "python3"
  },
  "language_info": {
   "codemirror_mode": {
    "name": "ipython",
    "version": 2
   },
   "file_extension": ".py",
   "mimetype": "text/x-python",
   "name": "python",
   "nbconvert_exporter": "python",
   "pygments_lexer": "ipython2",
   "version": "2.7.6"
  }
 },
 "nbformat": 4,
 "nbformat_minor": 0
}
